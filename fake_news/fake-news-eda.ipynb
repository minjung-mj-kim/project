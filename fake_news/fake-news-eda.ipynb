{
 "cells": [
  {
   "cell_type": "markdown",
   "metadata": {},
   "source": []
  },
  {
   "cell_type": "markdown",
   "metadata": {},
   "source": []
  },
  {
   "cell_type": "markdown",
   "metadata": {},
   "source": []
  },
  {
   "cell_type": "markdown",
   "metadata": {},
   "source": [
    "# EDA\n",
    "\n",
    "The goal of this EDA is to find extractable and useful features which can utilize the known characterastics of fake news, as well as to find unexpected features of fake news. There are tons of items to explore. Fun!"
   ]
  },
  {
   "cell_type": "code",
   "execution_count": 1,
   "metadata": {},
   "outputs": [],
   "source": [
    "import pandas as pd\n",
    "import numpy as np\n",
    "import re\n",
    "\n",
    "from nltk.help import upenn_tagset\n",
    "\n",
    "from nltk.tokenize import word_tokenize, sent_tokenize\n",
    "from nltk import pos_tag, RegexpParser\n",
    "from nltk.corpus import stopwords, wordnet\n",
    "from nltk.stem import WordNetLemmatizer\n",
    "from collections import Counter\n",
    "from sklearn.feature_extraction.text import CountVectorizer\n",
    "from sklearn.naive_bayes import MultinomialNB \n",
    "from matplotlib import pyplot as plt\n",
    "import seaborn as sns"
   ]
  },
  {
   "cell_type": "code",
   "execution_count": 2,
   "metadata": {},
   "outputs": [],
   "source": [
    "df0 = pd.read_csv('True.csv')\n",
    "df1 = pd.read_csv('Fake.csv')"
   ]
  },
  {
   "cell_type": "code",
   "execution_count": 3,
   "metadata": {},
   "outputs": [
    {
     "name": "stdout",
     "output_type": "stream",
     "text": [
      "<class 'pandas.core.frame.DataFrame'>\n",
      "RangeIndex: 21417 entries, 0 to 21416\n",
      "Data columns (total 4 columns):\n",
      " #   Column   Non-Null Count  Dtype \n",
      "---  ------   --------------  ----- \n",
      " 0   title    21417 non-null  object\n",
      " 1   text     21417 non-null  object\n",
      " 2   subject  21417 non-null  object\n",
      " 3   date     21417 non-null  object\n",
      "dtypes: object(4)\n",
      "memory usage: 669.4+ KB\n",
      "None\n",
      "<class 'pandas.core.frame.DataFrame'>\n",
      "RangeIndex: 23481 entries, 0 to 23480\n",
      "Data columns (total 4 columns):\n",
      " #   Column   Non-Null Count  Dtype \n",
      "---  ------   --------------  ----- \n",
      " 0   title    23481 non-null  object\n",
      " 1   text     23481 non-null  object\n",
      " 2   subject  23481 non-null  object\n",
      " 3   date     23481 non-null  object\n",
      "dtypes: object(4)\n",
      "memory usage: 733.9+ KB\n",
      "None\n",
      "title      1\n",
      "text       1\n",
      "subject    1\n",
      "date       1\n",
      "dtype: int64\n",
      "title      651\n",
      "text       651\n",
      "subject    651\n",
      "date       651\n",
      "dtype: int64\n",
      "title      0\n",
      "text       0\n",
      "subject    0\n",
      "date       0\n",
      "dtype: int64\n",
      "title      1\n",
      "text       1\n",
      "subject    1\n",
      "date       1\n",
      "dtype: int64\n"
     ]
    }
   ],
   "source": [
    "# Let's check how many valid entries we have\n",
    "\n",
    "df0.drop_duplicate()\n",
    "\n",
    "print(df0.info())\n",
    "print(df1.info())\n",
    "\n",
    "print(df0[df0.text.str.len()<10].count())\n",
    "print(df1[df1.text.str.len()<10].count())\n",
    "print(df0[df0.title.str.len()<10].count())\n",
    "print(df1[df1.title.str.len()<10].count())"
   ]
  },
  {
   "cell_type": "markdown",
   "metadata": {},
   "source": [
    "### Observation 1\n",
    "- Unfortunately, this dataset doesn't contain the name of author. Empty or fake author name could be a strong feature which yield high precition.\n",
    "- 2.8% of fake news **don't have texts**."
   ]
  },
  {
   "cell_type": "code",
   "execution_count": 4,
   "metadata": {
    "scrolled": false
   },
   "outputs": [],
   "source": [
    "# Let's check a few examples of raw data\n",
    "\n",
    "pd.options.display.max_colwidth = 200\n",
    "#print(df0.head(20))\n",
    "#print(df1.head(20))\n",
    "#print('REAL NEWS:\\n',df0.iloc[10][1])\n",
    "#print('FAKE NEWS:\\n',df1.iloc[10][1])"
   ]
  },
  {
   "cell_type": "markdown",
   "metadata": {},
   "source": [
    "### Observation 2\n",
    "- Real news sounds more informative, whereas fake news sounds **gossip**, although it's hard to tell why I feel that way. What's **relevant feature?**\n",
    "- Interesting observation about **names** is that in the real news, they are either \"title+full name\" or \"last name\", whereas in fake news, they are sometimes **just full names without title**.\n",
    "- \"Subject\" column doesn't seem to be useful\n",
    "- From selective example, real news have more **quotations** whereas fake news have more **@** as their **source**."
   ]
  },
  {
   "cell_type": "code",
   "execution_count": 5,
   "metadata": {},
   "outputs": [
    {
     "name": "stdout",
     "output_type": "stream",
     "text": [
      "Average title length in characters\n",
      "Real: 64.667880655554 +- 9.168998728700778\n",
      "Fake: 94.19803245176952 +- 27.184433137131766 \n",
      "\n",
      "Average text length in characters\n",
      "Real: 2383.278517065882 +- 1684.8357303747152\n",
      "Fake: 2547.396235254035 +- 2532.8843992489196 \n",
      "\n",
      "Average title length in number of words\n",
      "Real: 9.954475416725032 +- 1.7007465775244577\n",
      "Fake: 14.732805246795282 +- 4.335099114452772 \n",
      "\n",
      "Average text length in number of words\n",
      "Real: 385.6400989867862 +- 274.00620358361635\n",
      "Fake: 423.1979046888974 +- 408.38889043663846 \n",
      "\n"
     ]
    },
    {
     "data": {
      "image/png": "[encoded data removed]",
      "text/plain": [
       "<Figure size 432x288 with 1 Axes>"
      ]
     },
     "metadata": {
      "needs_background": "light"
     },
     "output_type": "display_data"
    },
    {
     "data": {
      "image/png": "[encoded data removed]",
      "text/plain": [
       "<Figure size 432x288 with 1 Axes>"
      ]
     },
     "metadata": {
      "needs_background": "light"
     },
     "output_type": "display_data"
    }
   ],
   "source": [
    "# Let's check 1. A. lack of information - does fake news has smaller size of text?\n",
    "\n",
    "print(\"Average title length in characters\")\n",
    "print(\"Real:\", df0.title.str.len().mean(),\"+-\",df0.title.str.len().std())\n",
    "print(\"Fake:\", df1.title.str.len().mean(),\"+-\",df1.title.str.len().std(),\"\\n\")\n",
    "\n",
    "print(\"Average text length in characters\")\n",
    "print(\"Real:\", df0.text.str.len().mean(),\"+-\",df0.text.str.len().std())\n",
    "print(\"Fake:\", df1.text.str.len().mean(),\"+-\",df1.text.str.len().std(),\"\\n\")\n",
    "\n",
    "print(\"Average title length in number of words\")\n",
    "print(\"Real:\", df0.title.str.split().str.len().mean(),\"+-\",df0.title.str.split().str.len().std())\n",
    "print(\"Fake:\", df1.title.str.split().str.len().mean(),\"+-\",df1.title.str.split().str.len().std(),\"\\n\")\n",
    "\n",
    "print(\"Average text length in number of words\")\n",
    "print(\"Real:\", df0.text.str.split().str.len().mean(),\"+-\",df0.text.str.split().str.len().std())\n",
    "print(\"Fake:\", df1.text.str.split().str.len().mean(),\"+-\",df1.text.str.split().str.len().std(),\"\\n\")\n",
    "\n",
    "#plt.hist(df0.title.str.len(), alpha=0.5, range=(0,250), bins=50)\n",
    "#plt.hist(df1.title.str.len(), alpha=0.5, range=(0,250), bins=50)\n",
    "#plt.title(\"Title length\")\n",
    "\n",
    "#plt.legend(['Real','Fake']) \n",
    "#plt.show()\n",
    "\n",
    "plt.hist(df0.title.str.split().str.len(), alpha=0.5, range=(0,50), bins=50)\n",
    "plt.hist(df1.title.str.split().str.len(), alpha=0.5, range=(0,50), bins=50)\n",
    "plt.title(\"Title word count\")\n",
    "\n",
    "plt.legend(['Real','Fake']) \n",
    "plt.show()\n",
    "\n",
    "#plt.hist(np.log10(df0.text.str.len()), alpha=0.5, range=(0,5), bins=50)\n",
    "#plt.hist(np.log10(df1.text.str.len()), alpha=0.5, range=(0,5), bins=50)\n",
    "#plt.title(\"Log10(Text length)\")\n",
    "\n",
    "#plt.legend(['Real','Fake']) \n",
    "#plt.show()\n",
    "\n",
    "plt.hist(np.log10(df0.text.str.split().str.len()+1), alpha=0.5, range=(0,4), bins=50)\n",
    "plt.hist(np.log10(df1.text.str.split().str.len()+1), alpha=0.5, range=(0,4), bins=50)\n",
    "plt.title(\"Log10(Text word count)\")\n",
    "\n",
    "plt.legend(['Real','Fake'])\n",
    "plt.show()"
   ]
  },
  {
   "cell_type": "markdown",
   "metadata": {},
   "source": [
    "### Observation 3\n",
    "- I expected that fake news has much fewer text. Indeed, some of fake news have **extreamly short text size**. However, in most of cases, both real and fake news has similar amount of text, although whether they are informative or not is different story. Meanwhile, keep in mind that in this dataset, fake news have collected from website. We don't know what happens if we include social media.\n",
    "- Real news has shorter title length with smaller standard deviation. That's seemingly because **briefness** is necessary for news title. **Long title length** can be a useful feature of fake news.\n",
    "- Real news has **bimodal shape for text word count**. Probably they have two types of news length and authors strictly follow standard word count for each of them."
   ]
  },
  {
   "cell_type": "code",
   "execution_count": 6,
   "metadata": {
    "scrolled": false
   },
   "outputs": [
    {
     "data": {
      "image/png": "[encoded data removed]",
      "text/plain": [
       "<Figure size 432x288 with 1 Axes>"
      ]
     },
     "metadata": {
      "needs_background": "light"
     },
     "output_type": "display_data"
    },
    {
     "data": {
      "image/png": "[encoded data removed]",
      "text/plain": [
       "<Figure size 432x288 with 1 Axes>"
      ]
     },
     "metadata": {
      "needs_background": "light"
     },
     "output_type": "display_data"
    },
    {
     "data": {
      "image/png": "[encoded data removed]",
      "text/plain": [
       "<Figure size 432x288 with 1 Axes>"
      ]
     },
     "metadata": {
      "needs_background": "light"
     },
     "output_type": "display_data"
    },
    {
     "data": {
      "image/png": "[encoded data removed]",
      "text/plain": [
       "<Figure size 432x288 with 1 Axes>"
      ]
     },
     "metadata": {
      "needs_background": "light"
     },
     "output_type": "display_data"
    },
    {
     "data": {
      "image/png": "[encoded data removed]",
      "text/plain": [
       "<Figure size 432x288 with 1 Axes>"
      ]
     },
     "metadata": {
      "needs_background": "light"
     },
     "output_type": "display_data"
    },
    {
     "data": {
      "image/png": "[encoded data removed]",
      "text/plain": [
       "<Figure size 432x288 with 1 Axes>"
      ]
     },
     "metadata": {
      "needs_background": "light"
     },
     "output_type": "display_data"
    },
    {
     "data": {
      "image/png": "[encoded data removed]",
      "text/plain": [
       "<Figure size 432x288 with 1 Axes>"
      ]
     },
     "metadata": {
      "needs_background": "light"
     },
     "output_type": "display_data"
    },
    {
     "data": {
      "image/png": "[encoded data removed]",
      "text/plain": [
       "<Figure size 432x288 with 1 Axes>"
      ]
     },
     "metadata": {
      "needs_background": "light"
     },
     "output_type": "display_data"
    }
   ],
   "source": [
    "# Does fake news have less WH words that describe 5W1H? \n",
    "\n",
    "#n0 = df0.text.str.split().str.len().sum()#df0.text.count()\n",
    "#n1 = df1.text.str.split().str.len().sum()#df1.text.count()\n",
    "\n",
    "plt.hist(df0.text.str.count('who'), alpha=0.5, range=(0,20), bins=20, label='Real')\n",
    "plt.hist(df1.text.str.count('who'), alpha=0.5, range=(0,20), bins=20, label='Fake')\n",
    "plt.title(\"who\")\n",
    "plt.legend() \n",
    "plt.yscale('log')\n",
    "plt.show()\n",
    "\n",
    "plt.hist(df0.text.str.count('when'), alpha=0.5, range=(0,20), bins=20, label='Real')\n",
    "plt.hist(df1.text.str.count('when'), alpha=0.5, range=(0,20), bins=20, label='Fake')\n",
    "plt.title(\"when\")\n",
    "plt.legend() \n",
    "plt.yscale('log')\n",
    "plt.show()\n",
    "\n",
    "plt.hist(df0.text.str.count('where'), alpha=0.5, range=(0,20), bins=20, label='Real')\n",
    "plt.hist(df1.text.str.count('where'), alpha=0.5, range=(0,20), bins=20, label='Fake')\n",
    "plt.title(\"where\")\n",
    "plt.legend() \n",
    "plt.yscale('log')\n",
    "plt.show()\n",
    "\n",
    "plt.hist(df0.text.str.count('what'), alpha=0.5, range=(0,20), bins=20, label='Real')\n",
    "plt.hist(df1.text.str.count('what'), alpha=0.5, range=(0,20), bins=20, label='Fake')\n",
    "plt.title(\"what\")\n",
    "plt.legend() \n",
    "plt.yscale('log')\n",
    "plt.show()\n",
    "\n",
    "plt.hist(df0.text.str.count('how'), alpha=0.5, range=(0,20), bins=20, label='Real')\n",
    "plt.hist(df1.text.str.count('how'), alpha=0.5, range=(0,20), bins=20, label='Fake')\n",
    "plt.title(\"how\")\n",
    "plt.legend() \n",
    "plt.yscale('log')\n",
    "plt.show()\n",
    "\n",
    "plt.hist(df0.text.str.count('why'), alpha=0.5, range=(0,20), bins=20, label='Real')\n",
    "plt.hist(df1.text.str.count('why'), alpha=0.5, range=(0,20), bins=20, label='Fake')\n",
    "plt.title(\"why\")\n",
    "plt.legend() \n",
    "plt.yscale('log')\n",
    "plt.show()\n",
    "\n",
    "plt.hist(df0.text.str.count('\\\"'), alpha=0.5, range=(0,20), bins=20, label='Real')\n",
    "plt.hist(df1.text.str.count('\\\"'), alpha=0.5, range=(0,20), bins=20, label='Fake')\n",
    "plt.title(\"\\\"\")\n",
    "plt.legend() \n",
    "plt.yscale('log')\n",
    "plt.show()\n",
    "\n",
    "plt.hist(df0.text.str.count('@'), alpha=0.5, range=(0,20), bins=20, label='Real')\n",
    "plt.hist(df1.text.str.count('@'), alpha=0.5, range=(0,20), bins=20, label='Fake')\n",
    "plt.title(\"@\")\n",
    "plt.legend() \n",
    "plt.yscale('log')\n",
    "plt.show()\n",
    "\n"
   ]
  },
  {
   "cell_type": "markdown",
   "metadata": {},
   "source": [
    "### Observation 4\n",
    "- Different from what I expected, using WHs words count alone don't look like a strong discriminator.\n",
    "- Fake news use more '@'. It seems that's because fake news quote social media."
   ]
  },
  {
   "cell_type": "code",
   "execution_count": 19,
   "metadata": {},
   "outputs": [],
   "source": [
    "# Brute force word statistics, without text processing, in case frequently used keywords are not an alphabet, etc\n",
    "\n",
    "title0 = df0.sample(1000).title.tolist()\n",
    "title1 = df1.sample(1000).title.tolist()\n",
    "text0 = df0.sample(1000).text.tolist()\n",
    "text1 = df1.sample(1000).text.tolist()\n",
    "\n",
    "def text2words(text):\n",
    "    \n",
    "    words_list = []\n",
    "    \n",
    "    for sentence in text:\n",
    "    \n",
    "        words = word_tokenize(sentence)\n",
    "    \n",
    "        for word in words:\n",
    "            words_list.append(word)\n",
    "\n",
    "    return words_list\n",
    "\n",
    "title0 = text2words(title0)\n",
    "title1 = text2words(title1)\n",
    "text0 = text2words(text0)\n",
    "text1 = text2words(text1)"
   ]
  },
  {
   "cell_type": "code",
   "execution_count": 29,
   "metadata": {
    "scrolled": true
   },
   "outputs": [
    {
     "name": "stdout",
     "output_type": "stream",
     "text": [
      "Title, Real:\n",
      " [('to', 348), ('Trump', 265), (':', 241), (',', 230), ('in', 212), ('U.S.', 190), (\"'s\", 175), ('on', 168), ('of', 145), ('for', 142), (\"'\", 136), ('says', 125), ('House', 75), ('with', 73), ('North', 61), ('as', 53), ('over', 52), ('Korea', 46), ('Russia', 41), ('White', 39), ('vote', 34), ('China', 33), ('Senate', 33), ('Clinton', 32), ('after', 32), ('at', 31), ('from', 31), ('EU', 30), ('bill', 28), ('court', 27), ('new', 26), ('government', 26), ('deal', 26), ('by', 25), ('and', 25), ('probe', 25), ('Obama', 25), ('will', 24), ('talks', 24), ('not', 23), ('State', 23), ('New', 23), ('$', 22), ('U.N.', 22), ('Turkey', 22), ('Syria', 22), ('South', 20), ('Russian', 20), ('against', 20), ('Brexit', 20), ('minister', 20), ('Republican', 19), ('sanctions', 19), ('be', 19), ('-', 18), ('urges', 18), ('plan', 18), ('a', 18), ('Germany', 17), ('tax', 17), ('PM', 17), ('plans', 17), ('back', 17), ('Myanmar', 17), ('meeting', 16), ('governor', 16), ('defense', 16), ('lawmakers', 16), ('police', 16), ('up', 16), ('but', 16), ('leader', 16), ('military', 15), ('president', 15), ('Iran', 15), (\"n't\", 15), ('campaign', 15), ('attack', 15), ('Islamic', 15), ('election', 15), ('no', 15), ('he', 15), ('trade', 14), ('before', 14), ('May', 14), ('calls', 14), ('Korean', 14), ('ban', 14), ('Factbox', 13), ('state', 13), ('parliament', 13), ('million', 13), ('chief', 13), ('aid', 13), ('Britain', 13), ('report', 12), ('Congress', 12), ('Catalan', 12), ('rights', 12), ('Putin', 12), ('border', 12), ('meet', 12), ('Iraq', 12), ('UK', 12), ('the', 12), ('Republicans', 12), ('.', 12), ('is', 12), ('security', 12), ('Kurdish', 12), ('Japan', 12), ('could', 12), ('would', 12), ('poll', 11), ('Democrats', 11), ('official', 11), ('killed', 11), ('attacks', 11), ('Ryan', 11), ('wants', 11), ('Tillerson', 11), ('nuclear', 11), ('into', 11), ('officials', 11), ('Rohingya', 11), ('panel', 11), ('Senator', 11), ('Syrian', 11), ('still', 11), ('Puerto', 11), ('Rico', 11), ('Democratic', 11), ('rules', 11), ('party', 11), ('Democrat', 11), ('Exclusive', 11), ('source', 10), ('stop', 10), ('near', 10), ('allies', 10), ('opposition', 10), ('seek', 10), ('seeks', 10), ('FBI', 10), ('agency', 10), ('healthcare', 10), ('Mexico', 10), ('Court', 10), ('wins', 10), ('out', 10), ('say', 10), ('Top', 10), ('leaders', 10), ('Department', 10), ('defends', 9), ('presidential', 9), ('rule', 9), ('about', 9), ('budget', 9), ('may', 9), ('an', 9), ('army', 9), ('amid', 9), ('Israel', 9), ('Jerusalem', 9), ('wo', 9), ('immigration', 9), ('must', 9), ('should', 9), ('Xi', 9), ('Vietnam', 9), ('ties', 9), ('have', 9), ('vows', 9), ('Supreme', 9), ('has', 9), ('work', 9), ('Merkel', 9), ('push', 9), ('support', 9), ('race', 9), ('case', 9), ('crisis', 9), ('travel', 9), ('funds', 9), ('missile', 9), ('spending', 8), ('charges', 8), ('Libyan', 8), ('policy', 8), ('first', 8), ('billion', 8), ('nominee', 8), ('Canada', 8), ('warns', 8), ('move', 8), ('more', 8), ('top', 8), ('Iraqi', 8), ('sources', 8), ('administration', 8), ('people', 8), ('office', 8), ('sees', 8), ('political', 8), ('kill', 8), ('Washington', 8), ('possible', 8), ('pick', 8), ('Africa', 8), ('two', 8), ('his', 8), ('despite', 8), ('Pakistan', 8), ('visit', 8), ('embassy', 7), ('Egypt', 7), ('RIA', 7), ('reform', 7), ('media', 7), ('debate', 7), ('climate', 7), ('tells', 7), ('war', 7), ('found', 7), ('change', 7), ('London', 7), ('lawyer', 7), ('Czech', 7), ('this', 7), ('emails', 7), ('head', 7), ('Speaker', 7), ('Obamacare', 7), ('summit', 7), ('Kremlin', 7), ('secretary', 7), ('bid', 7), ('three', 7), ('ruling', 7), ('Former', 7), ('prime', 7), ('law', 7), ('troops', 7), ('order', 7), ('Zimbabwe', 7), ('Saudi', 7), ('down', 7), ('Twitter', 6), ('if', 6), ('it', 6), ('use', 6), ('presidency', 6), ('spokesman', 6), ('team', 6), ('oil', 6), ('McCain', 6), ('threat', 6), ('than', 6), ('keep', 6), ('strikes', 6), ('peace', 6), ('NATO', 6), ('speech', 6), ('rejects', 6), ('its', 6), ('ready', 6), ('forces', 6), ('hold', 6), ('Reuters', 6), ('takes', 6), ('test', 6), ('workers', 6), ('coalition', 6), ('investigation', 6), ('Spain', 6), ('Philippine', 6), ('cut', 6), ('refugee', 6), ('hearing', 6), ('review', 6), ('Flynn', 6), ('fight', 6), ('next', 6), ('Pentagon', 6), ('tensions', 6), ('Sudan', 6), ('Yemen', 6), ('decision', 6), ('off', 6), ('France', 6), ('violence', 6), ('Turkish', 6), ('former', 6), ('under', 6), (';', 6), ('Ireland', 6), ('Carolina', 6), ('all', 6), ('York', 6), ('year', 6), ('bomb', 6), ('Kirkuk', 6), ('trial', 6), ('Chinese', 5), ('regional', 5), ('militants', 5), ('toward', 5), ('put', 5), ('seen', 5), ('referendum', 5), ('The', 5), ('April', 5), ('British', 5), ('denies', 5), ('puts', 5), ('judge', 5), ('do', 5), ('American', 5), ('progress', 5), ('city', 5), ('Mexican', 5), ('testify', 5), ('pressure', 5), ('Pence', 5), ('call', 5), ('legislation', 5), ('early', 5), ('cuts', 5), ('or', 5), ('draft', 5), ('strike', 5), ('week', 5), ('suspected', 5), ('arrest', 5), ('line', 5), ('around', 5), ('likely', 5), ('countries', 5), ('Qatar', 5), ('protect', 5), ('group', 5), ('business', 5), ('CEO', 5), ('Monday', 5), ('discuss', 5), ('Three', 5), ('days', 5), ('backs', 5), ('steps', 5), ('U.S', 5), ('intelligence', 5), ('email', 5), ('adviser', 5), ('senators', 5), ('fire', 5), ('lawmaker', 5), ('train', 5), ('public', 5), ('Erdogan', 5), ('speaker', 5), ('watchdog', 5), ('Zealand', 5), ('Governor', 5), ('No', 5), ('big', 5), ('In', 5), ('lead', 5), ('votes', 5), ('air', 5), ('debt', 5), ('ahead', 5), ('appeals', 5), ('aides', 5), ('system', 5), ('foreign', 5), ('behind', 5), ('Illinois', 5), ('opposes', 5), ('?', 5), ('needed', 5), ('same-sex', 5), ('marriage', 5), ('looms', 5), ('senator', 5), ('questions', 5), ('another', 5), ('kills', 5), ('that', 5), ('ambassador', 5), ('dead', 5), ('final', 5), ('accused', 5), ('confirms', 5), ('Macron', 5), ('approves', 5), ('Netanyahu', 5), ('region', 5), ('(', 4), ('31', 4), (')', 4), ('Pelosi', 4), ('step', 4), ('eyes', 4), ('general', 4), ('Friday', 4), ('2', 4), ('bodies', 4), ('UAE', 4), ('drug', 4), ('four', 4), ('At', 4), ('least', 4), ('bank', 4), ('signs', 4), ('aide', 4), ('bail', 4), ('offer', 4), ('drops', 4), ('concerns', 4), ('secure', 4), ('control', 4), ('Babis', 4), ('resolution', 4), ('chemical', 4), ('fraud', 4), ('toll', 4), ('rises', 4), ('can', 4), ('way', 4), ('International', 4), ('Lebanon', 4), ('Facebook', 4), ('Mexicans', 4), ('project', 4), ('visas', 4), ('resigns', 4), ('make', 4), ('Thursday', 4), ('proposes', 4), ('A', 4), ('launches', 4), ('heads', 4), ('last', 4), ('German', 4), ('weighs', 4), ('urge', 4), ('Rubio', 4), ('Middle', 4), ('East', 4), ('diplomatic', 4), ('who', 4), ('curb', 4), ('charged', 4), ('Moore', 4), ('arrested', 4), ('during', 4), ('time', 4), ('Attorney', 4), ('General', 4), ('Tusk', 4), ('long', 4), ('send', 4), ('home', 4), ('graft', 4), ('Russians', 4), ('orders', 4), ('car', 4), ('financial', 4), ('Florida', 4), ('program', 4), ('candidate', 4), ('Sanders', 4), ('senior', 4), ('allegations', 4), ('set', 4), ('comments', 4), ('taxes', 4), ('Brazil', 4), ('quake', 4), ('far-right', 4), ('hits', 4), ('TV', 4), ('chair', 4), ('weeks', 4), ('end', 4), ('detained', 4), ('hopes', 4), ('action', 4), ('congressional', 4), ('criticism', 4), ('now', 4), ('charge', 4), ('illegal', 4), ('yet', 4), ('hit', 4), ('Americans', 4), ('high', 4), ('Air', 4), ('pledges', 4)]\n",
      "Title, Fake:\n",
      " [('’', 551), (':', 336), ('Trump', 314), ('To', 310), ('s', 262), ('VIDEO', 224), ('[', 220), (']', 220), ('The', 204), ('For', 201), ('”', 198), ('“', 183), (',', 174), ('(', 173), (')', 173), ('!', 161), ('In', 147), ('Video', 140), ('A', 130), ('‘', 126), ('Of', 126), ('On', 118), ('And', 96), ('With', 90), ('Is', 88), ('?', 76), ('WATCH', 72), ('Hillary', 70), ('His', 70), ('After', 69), ('By', 63), ('He', 62), ('Just', 60), ('About', 59), ('Obama', 55), ('At', 55), ('t', 51), ('S', 51), ('This', 50), ('That', 49), ('TRUMP', 49), ('and', 44), ('to', 43), ('Her', 41), ('of', 40), ('Who', 40), ('GOP', 39), ('It', 39), ('BREAKING', 38), ('From', 37), ('Him', 36), ('President', 36), ('As', 35), ('Over', 35), ('THE', 35), ('Clinton', 34), ('OBAMA', 33), ('HILLARY', 33), ('the', 32), ('Donald', 32), ('They', 31), ('Was', 31), ('TO', 31), ('You', 30), ('in', 30), ('.', 30), ('#', 30), ('I', 30), ('Why', 29), ('Out', 29), ('Will', 28), ('a', 28), ('Has', 27), ('Are', 27), ('Up', 26), ('Be', 26), ('New', 26), ('Gets', 26), ('Black', 26), ('How', 25), ('White', 25), ('CNN', 25), ('–', 24), ('News', 24), ('We', 23), ('What', 23), ('OF', 23), ('One', 22), ('re', 22), ('House', 22), ('Have', 21), ('$', 20), ('FBI', 20), ('TWEETS', 20), ('Against', 20), ('Democrats', 19), ('Their', 19), ('Off', 19), ('If', 19), ('Court', 18), ('Campaign', 18), ('IN', 18), ('America', 18), ('An', 18), ('Twitter', 18), ('Them', 17), ('During', 17), ('Paul', 17), ('is', 17), ('Liberal', 16), ('Here', 16), ('Says', 16), ('Republicans', 16), ('Man', 16), ('Fake', 16), ('Republican', 16), ('Ryan', 16), ('FOR', 16), ('Supporter', 16), ('Media', 16), ('NEWS', 15), ('Russia', 15), ('Won', 15), ('Plan', 15), ('War', 15), ('Goes', 15), ('IS', 15), ('Make', 15), ('Back', 15), ('AND', 15), ('Shows', 15), ('Woman', 15), ('Than', 14), ('Watch', 14), ('Makes', 14), ('Election', 14), ('Muslim', 14), ('While', 14), ('Wall', 14), ('So', 14), ('Not', 14), ('U.S.', 14), ('Get', 14), ('Gun', 14), ('Into', 14), ('Illegal', 13), ('ONE', 13), ('for', 13), ('Because', 13), ('People', 13), ('Old', 13), ('Big', 13), ('State', 13), ('Supreme', 13), ('CLINTON', 13), ('Supporters', 12), ('No', 12), ('Could', 12), ('Your', 12), ('Should', 12), ('Racist', 12), ('Bernie', 12), ('When', 12), ('THIS', 12), ('Police', 12), ('Border', 12), ('PRESIDENT', 12), ('WHY', 12), ('She', 12), ('Cruz', 12), ('Hilarious', 11), ('Women', 11), ('IMAGES', 11), ('Like', 11), ('Bill', 11), ('IMAGE', 11), ('Lie', 11), ('US', 11), ('Most', 11), ('Room', 11), ('Attack', 11), ('Our', 11), ('School', 11), ('Fox', 11), ('Top', 11), ('Much', 11), ('All', 11), ('Ted', 11), ('NOT', 10), ('See', 10), ('World', 10), ('NEW', 10), ('Left', 10), ('Response', 10), ('First', 10), ('Sanders', 10), ('ON', 10), ('WOW', 10), ('Comey', 10), ('DEMOCRAT', 10), ('Take', 10), ('Did', 10), ('Putin', 10), ('Would', 10), ('with', 10), ('Time', 10), ('Right', 10), ('Under', 10), ('Rally', 10), ('Down', 9), ('Go', 9), ('WITH', 9), ('Senate', 9), ('Live', 9), ('Being', 9), ('MEDIA', 9), ('Got', 9), ('Party', 9), ('Vote', 9), ('not', 9), ('Meeting', 9), ('Russian', 9), ('Had', 9), ('Girl', 9), ('that', 9), ('WHO', 9), ('Change', 9), ('Justice', 9), ('Can', 9), ('BY', 9), ('on', 9), ('Death', 9), ('Actually', 9), ('IT', 9), ('HOW', 9), ('by', 9), ('Reporter', 8), ('John', 8), ('Before', 8), ('Dem', 8), ('Business', 8), ('Help', 8), ('Tweet', 8), ('BLACK', 8), ('Never', 8), ('ISIS', 8), ('ve', 8), ('JUDGE', 8), ('Show', 8), ('FORMER', 8), ('Line', 8), ('Son', 8), ('Truth', 8), ('Day', 8), ('YOU', 8), ('Lying', 8), ('Boiler', 8), ('EP', 8), ('Speech', 8), ('Conservative', 8), ('Now', 8), ('Former', 8), ('Still', 8), ('Calls', 8), ('DEMOCRATS', 8), ('There', 8), ('These', 8), ('Ad', 8), ('Own', 8), ('FAKE', 7), ('Don', 7), ('Question', 7), ('Arrested', 7), ('Real', 7), ('WAS', 7), ('American', 7), ('Cops', 7), ('DOJ', 7), ('ATTACK', 7), ('Governor', 7), ('WHOA', 7), ('WHAT', 7), ('Claims', 7), ('it', 7), ('Democrat', 7), ('Voting', 7), ('BOOM', 7), ('Internet', 7), ('Climate', 7), ('Or', 7), ('States', 7), ('More', 7), ('Saying', 7), ('Ivanka', 7), ('2016', 7), ('THAT', 7), ('Facebook', 7), ('Need', 7), ('Washington', 7), ('Post', 7), ('MORE', 7), ('STATE', 7), ('Colbert', 7), ('Prove', 7), ('Hilariously', 7), ('BRUTAL', 7), ('Report', 7), ('Star', 7), ('Students', 7), ('National', 7), ('Security', 7), ('Trying', 7), ('MUST', 7), ('DETAILS', 7), ('Say', 7), ('MUSLIM', 7), ('ILLEGAL', 7), ('Tweets', 7), ('Do', 7), ('Anti-Trump', 7), ('Win', 7), ('Using', 7), ('Kids', 7), ('Stop', 7), ('Investigation', 7), ('Brilliant', 7), ('Way', 7), ('Caught', 6), ('Aliens', 6), ('Reveals', 6), ('Thinks', 6), ('Ever', 6), ('Jail', 6), ('HILARIOUS', 6), ('FOX', 6), ('Host', 6), ('Race', 6), ('ll', 6), ('Law', 6), ('Reason', 6), ('OUT', 6), ('ABOUT', 6), ('Times', 6), ('Everyone', 6), ('Want', 6), ('TIMES', 6), ('Other', 6), ('City', 6), ('Boy', 6), ('Ban', 6), ('Social', 6), ('USA', 6), ('Collusion', 6), ('Debate', 6), ('Moore', 6), ('Americans', 6), ('Interview', 6), ('Candidate', 6), ('Really', 6), ('Made', 6), ('Give', 6), ('CIA', 6), ('POLL', 6), ('Bundy', 6), ('Family', 6), ('Key', 6), ('Emails', 6), ('DNC', 6), ('AMERICANS', 6), ('Swedish', 6), ('LIVE', 6), ('POLICE', 6), ('Released', 6), ('DOWN', 6), ('Gives', 6), ('Better', 6), ('UP', 6), ('Fund', 6), ('BUSTED', 6), ('Takes', 6), ('SUPPORTERS', 6), ('Message', 6), ('ARE', 6), ('Street', 6), ('Every', 6), ('Know', 6), ('Head', 6), ('Syria', 6), ('Steve', 6), ('Warren', 6), ('DID', 6), ('Political', 6), ('FIRST', 6), ('Dad', 6), ('WOMAN', 6), ('Doesn', 6), ('JUST', 6), ('10', 6), ('Lose', 6), ('Fight', 6), ('Going', 6), ('Break', 6), ('May', 6), ('Absolutely', 6), ('Disturbing', 6), ('Obamacare', 6), ('Votes', 5), ('Went', 5), ('Immigration', 5), ('Tries', 5), ('Hate', 5), ('Asks', 5), ('Believe', 5), ('SO', 5), ('Daughter', 5), ('Words', 5), ('Said', 5), ('Behind', 5), ('Iran', 5), ('WARNS', 5), ('Support', 5), ('Senator', 5), ('BLASTS', 5), ('Texas', 5), ('Popular', 5), ('LOL', 5), ('Killed', 5), ('Tax', 5), ('Cuts', 5), ('Herself', 5), ('U.S', 5), ('SLAMS', 5), ('Told', 5), ('Himself', 5), ('SAY', 5), ('Uses', 5), ('Murder', 5), ('Lies', 5), ('Same', 5), ('are', 5), ('Terror', 5), ('Major', 5), ('Cop', 5), ('Secret', 5), ('BILLION', 5), ('Office', 5), ('you', 5), ('Conservatives', 5), ('Plans', 5), ('Showing', 5), ('Place', 5), ('ONLY', 5), ('Caucus', 5), ('Federal', 5), ('Speaker', 5), ('INSANE', 5), ('Government', 5), ('T', 5), ('m', 5), ('Again', 5), ('REPORT', 5), ('United', 5), ('Member', 5), ('Teen', 5), ('Hits', 5), ('College', 5), ('from', 5), ('Face', 5), ('Tell', 5), ('Employees', 5), ('Us', 5), ('Inauguration', 5), ('NY', 5), ('Story', 5), ('COLLEGE', 5), ('Bad', 5), ('Year', 5), ('Team', 5), ('people', 5), ('2', 5), ('CALL', 5), ('Used', 5), ('Care', 5), ('TV', 5), ('FURIOUS', 5), ('GREAT', 5), ('Voters', 5), ('Something', 5), ('Melania', 5), ('Called', 5), ('Stephen', 5), ('Foundation', 5), ('Releases', 5), ('End', 5), ('this', 5), ('SNL', 5), ('TAKE', 5), ('AMERICA', 5), ('TWO', 5), ('DC', 5)]\n",
      "Text, Real:\n",
      " [('the', 20042), (',', 19350), ('.', 14784), ('to', 11387), ('of', 9538), ('a', 8802), ('and', 8375), ('in', 7954), ('on', 4982), ('said', 4746), ('s', 4645), ('that', 4205), ('for', 3711), ('’', 3341), ('is', 2751), ('The', 2686), ('with', 2563), ('“', 2529), ('”', 2522), ('Trump', 2450), ('was', 2227), ('as', 2204), ('by', 2157), ('he', 2098), ('has', 2092), ('it', 1869), ('from', 1808), ('U.S.', 1771), ('not', 1754), ('(', 1681), (')', 1681), ('his', 1668), ('be', 1666), ('have', 1645), ('would', 1568), ('an', 1473), ('at', 1383), ('-', 1380), ('who', 1313), ('Reuters', 1292), ('are', 1260), ('will', 1254), ('had', 1141), ('its', 969), ('which', 942), ('government', 922), ('been', 865), ('they', 845), ('but', 837), ('after', 835), ('House', 830), ('this', 829), ('were', 825), ('I', 802), ('about', 801), ('President', 781), ('also', 738), ('their', 721), ('United', 712), ('more', 711), ('Republican', 693), ('or', 688), ('people', 671), ('told', 664), ('we', 655), ('could', 620), ('over', 609), ('States', 580), ('against', 573), ('other', 548), ('state', 528), ('Clinton', 521), ('out', 519), ('$', 519), ('percent', 516), ('than', 511), ('It', 508), ('up', 507), ('last', 507), ('election', 502), ('one', 500), ('We', 498), ('some', 497), ('campaign', 495), ('Senate', 487), ('her', 485), ('In', 484), ('two', 484), ('year', 480), ('A', 479), ('Donald', 477), ('she', 472), ('president', 463), ('He', 460), ('new', 460), ('if', 458), ('no', 458), ('can', 457), ('into', 436), ('White', 432)]\n",
      "Text, Fake:\n",
      " [('the', 21394), (',', 21038), ('to', 12612), ('.', 12553), ('of', 10287), ('and', 9519), ('a', 9042), ('in', 6472), ('that', 6316), ('s', 5668), ('is', 4611), ('for', 3768), ('on', 3512), ('Trump', 3014), ('was', 2991), ('he', 2865), ('with', 2712), ('his', 2628), ('it', 2596), (':', 2577), ('as', 2273), ('be', 2121), ('are', 2107), ('by', 2067), ('have', 1926), ('this', 1923), (')', 1882), ('not', 1872), ('(', 1871), ('The', 1852), ('has', 1837), ('who', 1772), ('at', 1716), ('I', 1706), ('t', 1699), ('from', 1689), ('they', 1574), ('an', 1531), ('you', 1472), ('about', 1455), ('their', 1321), ('said', 1311), ('?', 1254), ('we', 1178), ('@', 1098), ('people', 1071), ('will', 1032), ('but', 1028), ('been', 1028), ('or', 1019), ('would', 1013), ('all', 988), ('her', 974), ('out', 962), ('were', 933), ('Obama', 914), ('had', 904), ('what', 890), ('more', 860), ('she', 855), ('can', 854), ('just', 839), ('our', 836), ('one', 823), ('which', 805), ('like', 789), ('up', 784), ('when', 771), ('President', 742), ('if', 730), ('!', 724), ('him', 711), ('It', 711), ('Donald', 711), ('Clinton', 704), ('no', 694), ('so', 686), ('also', 679), ('there', 673), ('He', 653), ('after', 602), ('because', 598), ('than', 596), ('them', 592), ('how', 590), ('other', 584), ('do', 569), ('over', 568), ('Hillary', 561), ('time', 553), ('even', 551), ('into', 544), ('only', 534), ('re', 514), ('some', 499), ('being', 494), ('We', 479), ('any', 470), ('media', 469), ('now', 468)]\n"
     ]
    }
   ],
   "source": [
    "word_counter = Counter(title0)\n",
    "print('Title, Real:\\n',word_counter.most_common(500))\n",
    "\n",
    "word_counter = Counter(title1)\n",
    "print('Title, Fake:\\n',word_counter.most_common(500))\n",
    "\n",
    "word_counter = Counter(text0)\n",
    "print('Text, Real:\\n',word_counter.most_common(100))\n",
    "\n",
    "word_counter = Counter(text1)\n",
    "print('Text, Fake:\\n',word_counter.most_common(100))"
   ]
  },
  {
   "cell_type": "code",
   "execution_count": 69,
   "metadata": {
    "scrolled": false
   },
   "outputs": [],
   "source": [
    "# More stop word at fake news? If so, what kind?\n",
    "# Different in grammar structure?\n",
    "\n",
    "stop_words = set(stopwords.words('english'))\n",
    "\n",
    "#print(stop_words)\n",
    "\n",
    "def gramma_structure(words):\n",
    "    \n",
    "    tags = pos_tag(words)\n",
    "    tags = [item[1] for item in tags]\n",
    "      \n",
    "    stops = [word for word in words if word in stop_words]\n",
    "    means = [word for word in words if word not in stop_words]\n",
    "    \n",
    "    stop_tags = pos_tag(stops)\n",
    "    stop_tags = [item[1] for item in stop_tags]\n",
    "\n",
    "    mean_tags = pos_tag(means)\n",
    "    mean_tags = [item[1] for item in mean_tags]\n",
    "    \n",
    "    \n",
    "    counter_stop = Counter(stops)\n",
    "    \n",
    "    counter_mean = Counter(means)\n",
    "    \n",
    "    counter_tag = Counter(tags)\n",
    "    \n",
    "    counter_stoptag = Counter(stop_tags)\n",
    "    \n",
    "    counter_meantag = Counter(mean_tags)\n",
    "    \n",
    "    stop_fraction = len(stops)/len(words)\n",
    "    \n",
    "    \n",
    "    return counter_stop, counter_mean, counter_tag, counter_stoptag, counter_meantag, stop_fraction\n",
    "\n",
    "\n",
    "grammars = []\n",
    "\n",
    "counter_stop, counter_mean, counter_tag, counter_stoptag, counter_meantag, stop_fraction = gramma_structure(title0)\n",
    "grammars.append([counter_stop, counter_mean, counter_tag, counter_stoptag, counter_meantag, stop_fraction])\n",
    "counter_stop, counter_mean, counter_tag, counter_stoptag, counter_meantag, stop_fraction = gramma_structure(title1)\n",
    "grammars.append([counter_stop, counter_mean, counter_tag, counter_stoptag, counter_meantag, stop_fraction])\n",
    "counter_stop, counter_mean, counter_tag, counter_stoptag, counter_meantag, stop_fraction = gramma_structure(text0)\n",
    "grammars.append([counter_stop, counter_mean, counter_tag, counter_stoptag, counter_meantag, stop_fraction])\n",
    "counter_stop, counter_mean, counter_tag, counter_stoptag, counter_meantag, stop_fraction = gramma_structure(text1)\n",
    "grammars.append([counter_stop, counter_mean, counter_tag, counter_stoptag, counter_meantag, stop_fraction])"
   ]
  },
  {
   "cell_type": "code",
   "execution_count": 68,
   "metadata": {},
   "outputs": [
    {
     "name": "stdout",
     "output_type": "stream",
     "text": [
      "------Stop fraction\n",
      "Real\n",
      " 0\n",
      "Fake\n",
      " 0\n",
      "------Stop words\n",
      "Real\n",
      " [('to', 348), ('in', 212), ('on', 168), ('of', 145), ('for', 142), ('with', 73), ('as', 53), ('over', 52), ('after', 32), ('at', 31), ('from', 31), ('by', 25), ('and', 25), ('will', 24), ('not', 23), ('against', 20), ('be', 19), ('a', 18), ('up', 16), ('but', 16), ('no', 15), ('he', 15), ('before', 14), ('the', 12), ('is', 12), ('into', 11), ('out', 10), ('about', 9), ('an', 9), ('should', 9), ('have', 9), ('has', 9), ('more', 8), ('his', 8), ('this', 7), ('down', 7), ('if', 6), ('it', 6), ('than', 6), ('its', 6), ('off', 6), ('under', 6), ('all', 6), ('do', 5), ('or', 5), ('that', 5), ('can', 4), ('who', 4), ('during', 4), ('now', 4)]\n",
      "Fake\n",
      " [('s', 262), ('t', 51), ('and', 44), ('to', 43), ('of', 40), ('the', 32), ('in', 30), ('a', 28), ('re', 22), ('is', 17), ('for', 13), ('with', 10), ('not', 9), ('that', 9), ('on', 9), ('by', 9), ('ve', 8), ('it', 7), ('ll', 6), ('are', 5), ('you', 5), ('m', 5), ('from', 5), ('this', 5), ('about', 4), ('all', 4), ('be', 4), ('an', 4), ('have', 4), ('at', 4), ('had', 3), ('don', 3), ('has', 3), ('his', 3), ('so', 3), ('she', 3), ('or', 3), ('do', 3), ('we', 2), ('what', 2), ('will', 2), ('more', 2), ('doesn', 2), ('its', 2), ('some', 2), ('my', 2), ('d', 2), ('into', 2), ('as', 2), ('up', 2)]\n",
      "------Non-stop words\n",
      "Real\n",
      " [('Trump', 265), (':', 241), (',', 230), ('U.S.', 190), (\"'s\", 175), (\"'\", 136), ('says', 125), ('House', 75), ('North', 61), ('Korea', 46), ('Russia', 41), ('White', 39), ('vote', 34), ('China', 33), ('Senate', 33), ('Clinton', 32), ('EU', 30), ('bill', 28), ('court', 27), ('new', 26), ('government', 26), ('deal', 26), ('probe', 25), ('Obama', 25), ('talks', 24), ('State', 23), ('New', 23), ('$', 22), ('U.N.', 22), ('Turkey', 22), ('Syria', 22), ('South', 20), ('Russian', 20), ('Brexit', 20), ('minister', 20), ('Republican', 19), ('sanctions', 19), ('-', 18), ('urges', 18), ('plan', 18), ('Germany', 17), ('tax', 17), ('PM', 17), ('plans', 17), ('back', 17), ('Myanmar', 17), ('meeting', 16), ('governor', 16), ('defense', 16), ('lawmakers', 16)]\n",
      "Fake\n",
      " [('’', 551), (':', 336), ('Trump', 314), ('To', 310), ('VIDEO', 224), ('[', 220), (']', 220), ('The', 204), ('For', 201), ('”', 198), ('“', 183), (',', 174), ('(', 173), (')', 173), ('!', 161), ('In', 147), ('Video', 140), ('A', 130), ('‘', 126), ('Of', 126), ('On', 118), ('And', 96), ('With', 90), ('Is', 88), ('?', 76), ('WATCH', 72), ('Hillary', 70), ('His', 70), ('After', 69), ('By', 63), ('He', 62), ('Just', 60), ('About', 59), ('Obama', 55), ('At', 55), ('S', 51), ('This', 50), ('That', 49), ('TRUMP', 49), ('Her', 41), ('Who', 40), ('GOP', 39), ('It', 39), ('BREAKING', 38), ('From', 37), ('Him', 36), ('President', 36), ('As', 35), ('Over', 35), ('THE', 35)]\n",
      "------Stop words tag\n",
      "Real\n",
      " [('IN', 1023), ('TO', 348), ('DT', 80), ('RB', 58), ('CC', 46), ('PRP', 42), ('VB', 41), ('MD', 37), ('VBZ', 24), ('PRP$', 17), ('RP', 16), ('NN', 11), ('VBP', 10), ('JJR', 6), ('VBN', 5), ('WRB', 4), ('WP', 4), ('VBD', 4), ('JJS', 3), ('JJ', 3), ('RBR', 3), ('WDT', 2), ('VBG', 1)]\n",
      "Fake\n",
      " [('NN', 244), ('IN', 138), ('DT', 77), ('JJ', 66), ('CC', 49), ('TO', 43), ('VB', 31), ('VBZ', 29), ('PRP', 21), ('VBD', 15), ('RB', 15), ('VBP', 15), ('PRP$', 9), ('MD', 4), ('PDT', 4), ('WP', 3), ('WDT', 3), ('NNS', 3), ('RBS', 1), ('WRB', 1), ('RBR', 1), ('RP', 1), ('VBN', 1), ('VBG', 1), ('JJR', 1)]\n",
      "------Non-stop words tag\n",
      "Real\n",
      " [('NNP', 2680), ('NN', 2043), ('NNS', 832), ('JJ', 790), ('VBZ', 532), ('POS', 270), (':', 266), ('VBP', 243), (',', 230), ('VBD', 179), ('CD', 164), ('VBG', 146), ('VB', 122), ('RB', 110), ('IN', 90), (\"''\", 64), ('MD', 60), ('NNPS', 55), ('VBN', 44), ('$', 22), ('.', 19), ('JJS', 14), ('DT', 13), ('JJR', 13), ('FW', 6), ('(', 4), (')', 4), ('RBR', 4), ('RP', 4), ('PRP', 4), ('CC', 3), ('WP', 3), ('``', 2), ('WRB', 1), ('SYM', 1), ('RBS', 1), ('UH', 1)]\n",
      "Fake\n",
      " [('NNP', 11166), ('IN', 1139), ('NN', 349), ('DT', 341), (':', 339), ('TO', 314), ('JJ', 306), ('.', 267), ('VBZ', 264), ('PRP', 229), ('VBG', 194), ('VB', 192), ('VBD', 190), (',', 174), ('(', 173), (')', 173), ('CD', 159), ('NNS', 148), ('VBP', 139), ('NNPS', 130), ('RB', 124), ('CC', 109), ('PRP$', 109), ('WRB', 54), ('VBN', 50), ('#', 30), ('WP', 28), ('RP', 27), ('MD', 23), ('$', 21), ('WDT', 15), ('JJR', 12), ('EX', 8), ('JJS', 6), (\"''\", 3), ('FW', 2), ('RBR', 2), ('POS', 2), ('RBS', 2), ('UH', 1), ('PDT', 1)]\n"
     ]
    }
   ],
   "source": [
    "# Title\n",
    "print('------Stop fraction')\n",
    "print('Real\\n',grammars[0][5])\n",
    "print('Fake\\n',grammars[1][5])\n",
    "\n",
    "print('------Stop words')\n",
    "print('Real\\n',grammars[0][0].most_common(50))\n",
    "print('Fake\\n',grammars[1][0].most_common(50))\n",
    "\n",
    "print('------Non-stop words')\n",
    "print('Real\\n',grammars[0][1].most_common(50))\n",
    "print('Fake\\n',grammars[1][1].most_common(50))\n",
    "\n",
    "print('------Stop words tag')\n",
    "print('Real\\n',grammars[0][3].most_common(100))\n",
    "print('Fake\\n',grammars[1][3].most_common(100))\n",
    "\n",
    "print('------Non-stop words tag')\n",
    "print('Real\\n',grammars[0][4].most_common(100))\n",
    "print('Fake\\n',grammars[1][4].most_common(100))"
   ]
  },
  {
   "cell_type": "code",
   "execution_count": null,
   "metadata": {},
   "outputs": [],
   "source": [
    "# Text\n",
    "print('------Stop fraction')\n",
    "print('Real\\n',grammars[2][5])\n",
    "print('Fake\\n',grammars[3][5])\n",
    "\n",
    "print('------Stop words')\n",
    "print('Real\\n',grammars[2][0].most_common(50))\n",
    "print('Fake\\n',grammars[3][0].most_common(50))\n",
    "\n",
    "print('------Non-stop words')\n",
    "print('Real\\n',grammars[2][1].most_common(50))\n",
    "print('Fake\\n',grammars[3][1].most_common(50))\n",
    "\n",
    "print('------Stop words tag')\n",
    "print('Real\\n',grammars[2][3].most_common(100))\n",
    "print('Fake\\n',grammars[3][3].most_common(100))\n",
    "\n",
    "print('------Non-stop words tag')\n",
    "print('Real\\n',grammars[2][4].most_common(100))\n",
    "print('Fake\\n',grammars[3][4].most_common(100))"
   ]
  },
  {
   "cell_type": "code",
   "execution_count": null,
   "metadata": {},
   "outputs": [],
   "source": [
    "\n",
    "sentence = df0.sample(1).title.tolist()[0]\n",
    "\n",
    "\n",
    "print(pos_tag(word_tokenize(sentence)))"
   ]
  },
  {
   "cell_type": "markdown",
   "metadata": {},
   "source": [
    "## Text preprocessing\n",
    "\n",
    "Now we want to explore further with words. To do so, we need to preprocess text first. Let's define useful functions first."
   ]
  },
  {
   "cell_type": "code",
   "execution_count": 9,
   "metadata": {
    "scrolled": true
   },
   "outputs": [
    {
     "name": "stdout",
     "output_type": "stream",
     "text": [
      "[('trump', 15), ('say', 13), ('investigation', 6), ('u_s_', 5), ('mueller', 5), ('trade', 5), ('time', 4), ('know', 3), ('long', 3), ('would', 3), ('interview', 3), ('make', 3), ('base', 3), ('day', 3), ('west', 2), ('palm', 2), ('beach', 2), ('president', 2), ('thursday', 2), ('special', 2), ('counsel', 2), ('election', 2), ('probe', 2), ('last', 2), ('take', 2), ('week', 2), ('team', 2), ('republican', 2), ('russia', 2), ('democrat', 2), ('florida', 2), ('end', 2), ('told', 2), ('country', 2), ('look', 2), ('strong', 2), ('christmas', 2), ('united', 2), ('state', 2), ('north', 2), ('nafta', 2), ('canadian', 2), ('two', 2), ('fla', 1), ('reuters', 1), ('donald', 1), ('believe', 1), ('fairly', 1), ('treat', 1), ('russian', 1)]\n"
     ]
    }
   ],
   "source": [
    "#print(upenn_tagset())\n",
    "\n",
    "# nltk.pos_tag to lemmatizer input\n",
    "def convert_pos(word):\n",
    "    \n",
    "    word_pos = pos_tag([word])\n",
    "    \n",
    "    tag = ''\n",
    "    try:\n",
    "        tag = word_pos[0][1][:2]\n",
    "    except:\n",
    "        tag = 'n'\n",
    "    \n",
    "    if tag == 'JJ':\n",
    "        tag = 'a'\n",
    "    elif tag == 'NN':\n",
    "        tag = 'n'\n",
    "    elif tag == 'RB':\n",
    "        tag = 'r'\n",
    "    elif tag == 'VB':\n",
    "        tag = 'v'\n",
    "    else:\n",
    "        tag = 'n'\n",
    "        \n",
    "    return tag\n",
    "\n",
    "# get lemmatized words\n",
    "def get_root_words(corpus):\n",
    "    \n",
    "    lemmatizer = WordNetLemmatizer()\n",
    "    \n",
    "    word_list = []\n",
    "    sentence_list =[]\n",
    "    \n",
    "    # Sentence tokenize\n",
    "    sentences = sent_tokenize(corpus)\n",
    "\n",
    "    # Stop word removal\n",
    "    stop_words = set(stopwords.words('english'))\n",
    "\n",
    "    \n",
    "    for sentence in sentences:\n",
    "        \n",
    "        # remove non words, keep dots for abbreviation        \n",
    "\n",
    "        if sentence[-1]!='.':\n",
    "            print(sentence)\n",
    "        \n",
    "        else:\n",
    "            sentence = sentence[:-1]\n",
    "\n",
    "\n",
    "        sentence = re.sub('[.]','_',sentence)\n",
    "        sentence = re.sub('\\W+',' ',sentence)\n",
    "        sentence = sentence.lower()\n",
    "    \n",
    "        # word tokenize \n",
    "        words = word_tokenize(sentence)\n",
    "        # remove stop words\n",
    "        words = [word for word in words if word not in stop_words]\n",
    "\n",
    "        # lemmatize\n",
    "        lemmatized = [lemmatizer.lemmatize(word, pos=convert_pos(word)) for word in words] \n",
    "        \n",
    "        sentence_list.append(lemmatized)\n",
    "        \n",
    "        for word in lemmatized:\n",
    "            word_list.append(word)\n",
    "        \n",
    "    return word_list, sentence_list\n",
    "\n",
    "#print(get_root_words(df0.iloc[6][1])) # test\n",
    "\n",
    "word_list, sentence_list = get_root_words(df0.iloc[6][1])\n",
    "\n",
    "#def word_count(word_list):\n",
    "    \n",
    "word_counter = Counter(word_list)\n",
    "    \n",
    "print(word_counter.most_common(50))"
   ]
  },
  {
   "cell_type": "markdown",
   "metadata": {},
   "source": [
    "### "
   ]
  },
  {
   "cell_type": "code",
   "execution_count": 10,
   "metadata": {},
   "outputs": [
    {
     "data": {
      "text/plain": [
       "'cannot'"
      ]
     },
     "execution_count": 10,
     "metadata": {},
     "output_type": "execute_result"
    }
   ],
   "source": [
    "lemmatizer = WordNetLemmatizer()\n",
    "\n",
    "lemmatizer.lemmatize('cannot', pos='n')"
   ]
  },
  {
   "cell_type": "markdown",
   "metadata": {},
   "source": [
    "### Observation 4\n",
    "- Abbreviation cuts"
   ]
  },
  {
   "cell_type": "code",
   "execution_count": 11,
   "metadata": {},
   "outputs": [
    {
     "ename": "NameError",
     "evalue": "name 'df' is not defined",
     "output_type": "error",
     "traceback": [
      "\u001b[0;31m-----------------------------------------------------------------\u001b[0m",
      "\u001b[0;31mNameError\u001b[0m                       Traceback (most recent call last)",
      "\u001b[0;32m<ipython-input-11-57a3023668b7>\u001b[0m in \u001b[0;36m<module>\u001b[0;34m\u001b[0m\n\u001b[1;32m      8\u001b[0m \u001b[0;34m\u001b[0m\u001b[0m\n\u001b[1;32m      9\u001b[0m \u001b[0;31m# Get a random text\u001b[0m\u001b[0;34m\u001b[0m\u001b[0;34m\u001b[0m\u001b[0;34m\u001b[0m\u001b[0m\n\u001b[0;32m---> 10\u001b[0;31m \u001b[0mtext\u001b[0m \u001b[0;34m=\u001b[0m \u001b[0mdf\u001b[0m\u001b[0;34m.\u001b[0m\u001b[0miloc\u001b[0m\u001b[0;34m[\u001b[0m\u001b[0;36m6\u001b[0m\u001b[0;34m]\u001b[0m\u001b[0;34m[\u001b[0m\u001b[0;36m3\u001b[0m\u001b[0;34m]\u001b[0m\u001b[0;34m\u001b[0m\u001b[0;34m\u001b[0m\u001b[0m\n\u001b[0m\u001b[1;32m     11\u001b[0m \u001b[0;34m\u001b[0m\u001b[0m\n\u001b[1;32m     12\u001b[0m \u001b[0mt\u001b[0m \u001b[0;34m=\u001b[0m \u001b[0;34m[\u001b[0m\u001b[0;34m'this is good'\u001b[0m\u001b[0;34m,\u001b[0m \u001b[0;34m'that is good'\u001b[0m\u001b[0;34m,\u001b[0m \u001b[0;34m'good hehe'\u001b[0m\u001b[0;34m,\u001b[0m \u001b[0;34m'this is bad'\u001b[0m\u001b[0;34m,\u001b[0m \u001b[0;34m'that is bad'\u001b[0m\u001b[0;34m,\u001b[0m \u001b[0;34m'bad sucks'\u001b[0m\u001b[0;34m]\u001b[0m\u001b[0;34m\u001b[0m\u001b[0;34m\u001b[0m\u001b[0m\n",
      "\u001b[0;31mNameError\u001b[0m: name 'df' is not defined"
     ]
    }
   ],
   "source": [
    "# Is there any single keywords that repeats a lot?\n",
    "\n",
    "\n",
    "\n",
    "\n",
    "\n",
    "\n",
    "\n",
    "# Get a random text\n",
    "text = df.iloc[6][3]\n",
    "\n",
    "t = ['this is good', 'that is good', 'good hehe', 'this is bad', 'that is bad', 'bad sucks']\n",
    "l = [0, 0, 0, 1, 1, 1]\n",
    "\n",
    "\n",
    "counter = CountVectorizer()\n",
    "counter.fit(t)\n",
    "\n",
    "\n",
    "print(counter.vocabulary_)\n",
    "print(counter.transform(t))\n",
    "\n",
    "\n",
    "    \n",
    "    \n",
    "\n",
    "def chunk_counter(pos_text, abbr='NP', n_chunk=30):\n",
    "\n",
    "    grammar = ''\n",
    "    \n",
    "    if abbr == 'Noun':\n",
    "        grammar = \"Noun: {<NN.*>}\"\n",
    "        \n",
    "    elif abbr == 'Verb':\n",
    "        grammar = \"Verb: {<VB.*>}\"\n",
    "    \n",
    "    elif abbr == 'Adj':\n",
    "        grammar = 'Adj: {<JJ.*>}'\n",
    "        \n",
    "    elif abbr == 'Adv':\n",
    "        grammar = 'Adv: {<RB.*>}'    \n",
    "        \n",
    "    #grammar = \"NP: {<DT>?<JJ>*<NN.*>}\" # noun\n",
    "    #grammar = \"VPa: {<DT>?<JJ>*<NN.*><VB.*><RB.?>?}\"\n",
    "    #grammar = \"VPb: {<VB.*><DT>?<JJ>*<NN><RB.?>?}\" \n",
    "    \n",
    "    else:\n",
    "        print('Incorrect gabbr')\n",
    "        return False\n",
    "\n",
    "        \n",
    "    # Chunk phrases\n",
    "    parser = RegexpParser(grammar)\n",
    "    \n",
    "    chunks = []\n",
    "    \n",
    "    for sentence in pos_text:\n",
    "        \n",
    "        chunk = parser.parse(sentence)\n",
    "        \n",
    "        for subtree in chunk.subtrees(filter=lambda t: t.label() == abbr):\n",
    "            chunks.append(tuple(subtree))\n",
    "        \n",
    "    # Count phrases\n",
    "    counter = Counter()\n",
    "\n",
    "    for chunk in chunks:\n",
    "        counter[chunk] += 1\n",
    "\n",
    "    return counter.most_common(10)\n",
    "\n",
    "print(chunk_counter(pos_text, abbr='Verb'))"
   ]
  },
  {
   "cell_type": "code",
   "execution_count": null,
   "metadata": {
    "scrolled": false
   },
   "outputs": [],
   "source": [
    "vectorizer = CountVectorizer()\n",
    "\n",
    "vectorizer.fit(text)\n",
    "\n",
    "X = vectorizer.transform(text)\n",
    "y = label\n",
    "\n",
    "print(vectorizer.vocabulary_)"
   ]
  },
  {
   "cell_type": "code",
   "execution_count": null,
   "metadata": {},
   "outputs": [],
   "source": [
    "classifier = MultinomialNB()\n",
    "classifier.fit(X,y)"
   ]
  },
  {
   "cell_type": "code",
   "execution_count": null,
   "metadata": {},
   "outputs": [],
   "source": [
    "x = df_read.iloc[100]\n",
    "\n",
    "print(x)\n",
    "\n",
    "classifier.predict_proba(vectorizer.transform([x.content]))\n"
   ]
  },
  {
   "cell_type": "code",
   "execution_count": null,
   "metadata": {
    "scrolled": true
   },
   "outputs": [],
   "source": [
    "\n",
    "\n",
    "def train_test(df0, df1, n_train=100, fake_size=0.5):\n",
    "    \n",
    "    n_fake = int(n_train*fake_size)\n",
    "    n_real = n_train-n_fake\n",
    "    \n",
    "    \n",
    "    # Organize data\n",
    "    \n",
    "    train0, test0 = train_test_split(df0, test_size=0.5)\n",
    "    train1, test1 = train_test_split(df1, test_size=0.5)\n",
    " \n",
    "    train = pd.concat([train0.sample(n=n_train), train1.sample(n=n_train)])    \n",
    "    test = pd.concat([test0.sample(n=n_real), test1.sample(n=n_fake)])\n",
    "    \n",
    "    train_text = train.text.tolist()\n",
    "    train_labels = train.label.tolist()\n",
    "\n",
    "    test_text = test.text.tolist()\n",
    "    test_labels = test.label.tolist()\n",
    "    \n",
    "    \n",
    "    # Training\n",
    "      \n",
    "    counter = CountVectorizer()\n",
    "\n",
    "    counter.fit(train_text+test_text)\n",
    "\n",
    "    train_counts = counter.transform(train_text)\n",
    "    test_counts = counter.transform(test_text)\n",
    "\n",
    "    classifier = MultinomialNB()\n",
    "    classifier.fit(train_counts,train_labels)\n",
    "    \n",
    "    \n",
    "    # Test\n",
    "    predict = classifier.predict(test_counts)\n",
    "\n",
    "    # n: real news, p: fake news\n",
    "    tn, fp, fn, tp = confusion_matrix(test_labels,predict,labels=[0,1]).ravel()\n",
    "    \n",
    "    ac = accuracy_score(test_labels,predict)\n",
    "    pr = precision_score(test_labels,predict)\n",
    "    re = recall_score(test_labels,predict)\n",
    "    f1 = f1_score(test_labels,predict)\n",
    "    \n",
    "    # when real news become target\n",
    "    ipr = tn/(tn+fn)\n",
    "    ire = tn/(tn+fp)\n",
    "    if1 = 2*ipr*ire/(ipr+ire)\n",
    "     \n",
    "    return tn, fp, fn, tp, ac, pr, re, f1, ipr, ire, if1\n",
    "\n",
    "#        tn, fp, fn, tp, ac, pr, re, f1, ipr, ire, if1 = train_test(df0, df1, n_train, fake_size)\n",
    "#        result.append([n_train, fake_size, n_real, n_fake, ac, pr, re, f1, ipr, ire, if1])\n",
    "\n",
    "#print(train_test(df0, df1, 100, 0.5))"
   ]
  },
  {
   "cell_type": "markdown",
   "metadata": {},
   "source": [
    "After playing with the 'chunk_counter' function for a few sentences, I noticed that real news have more specific (you can guess topic based on keywords) and objective terms whereas fake news have more subjective and plain (no idea what's topic based on frequent keywords) terms."
   ]
  }
 ],
 "metadata": {
  "kernelspec": {
   "display_name": "Python 3",
   "language": "python",
   "name": "python3"
  },
  "language_info": {
   "codemirror_mode": {
    "name": "ipython",
    "version": 3
   },
   "file_extension": ".py",
   "mimetype": "text/x-python",
   "name": "python",
   "nbconvert_exporter": "python",
   "pygments_lexer": "ipython3",
   "version": "3.8.5"
  }
 },
 "nbformat": 4,
 "nbformat_minor": 4
}
