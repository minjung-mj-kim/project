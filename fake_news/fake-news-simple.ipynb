{
 "cells": [
  {
   "cell_type": "markdown",
   "metadata": {},
   "source": [
    "# Intro\n",
    "This is a simple initial test of the project."
   ]
  },
  {
   "cell_type": "code",
   "execution_count": 1,
   "metadata": {},
   "outputs": [],
   "source": [
    "import pandas as pd\n",
    "from sklearn.feature_extraction.text import CountVectorizer\n",
    "from sklearn.naive_bayes import MultinomialNB \n",
    "from sklearn.model_selection import train_test_split\n",
    "from sklearn.metrics import confusion_matrix"
   ]
  },
  {
   "cell_type": "code",
   "execution_count": 7,
   "metadata": {},
   "outputs": [],
   "source": [
    "df0 = pd.read_csv('Fake.csv')\n",
    "df1 = pd.read_csv('True.csv')"
   ]
  },
  {
   "cell_type": "code",
   "execution_count": 8,
   "metadata": {},
   "outputs": [
    {
     "name": "stdout",
     "output_type": "stream",
     "text": [
      "<class 'pandas.core.frame.DataFrame'>\n",
      "RangeIndex: 23481 entries, 0 to 23480\n",
      "Data columns (total 4 columns):\n",
      " #   Column   Non-Null Count  Dtype \n",
      "---  ------   --------------  ----- \n",
      " 0   title    23481 non-null  object\n",
      " 1   text     23481 non-null  object\n",
      " 2   subject  23481 non-null  object\n",
      " 3   date     23481 non-null  object\n",
      "dtypes: object(4)\n",
      "memory usage: 733.9+ KB\n",
      "None\n"
     ]
    }
   ],
   "source": [
    "print(df0.info())"
   ]
  },
  {
   "cell_type": "markdown",
   "metadata": {},
   "source": [
    "# Organize data"
   ]
  },
  {
   "cell_type": "code",
   "execution_count": 9,
   "metadata": {},
   "outputs": [],
   "source": [
    "df0['label'] = 0\n",
    "df1['label'] = 1\n",
    "\n",
    "df = pd.concat([df0.iloc[:5000], df1.iloc[:5000]])\n",
    "\n",
    "train, test = train_test_split(df, test_size=0.2, random_state=42)\n",
    "\n",
    "\n",
    "train_text = train.text.tolist()\n",
    "train_labels = train.label.tolist()\n",
    "\n",
    "test_text = test.text.tolist()\n",
    "test_labels = test.label.tolist()"
   ]
  },
  {
   "cell_type": "markdown",
   "metadata": {},
   "source": [
    "# Training"
   ]
  },
  {
   "cell_type": "code",
   "execution_count": 10,
   "metadata": {
    "scrolled": false
   },
   "outputs": [
    {
     "data": {
      "text/plain": [
       "MultinomialNB()"
      ]
     },
     "execution_count": 10,
     "metadata": {},
     "output_type": "execute_result"
    }
   ],
   "source": [
    "counter = CountVectorizer()\n",
    "\n",
    "counter.fit(train_text+test_text)\n",
    "\n",
    "train_counts = counter.transform(train_text)\n",
    "test_counts = counter.transform(test_text)\n",
    "\n",
    "#print(counter.vocabulary_)\n",
    "\n",
    "classifier = MultinomialNB()\n",
    "classifier.fit(train_counts,train_labels)"
   ]
  },
  {
   "cell_type": "markdown",
   "metadata": {},
   "source": [
    "# Test"
   ]
  },
  {
   "cell_type": "code",
   "execution_count": 12,
   "metadata": {},
   "outputs": [
    {
     "name": "stdout",
     "output_type": "stream",
     "text": [
      "Score =  0.9795\n",
      "[0 1]\n",
      "987 25 16 972\n",
      "precision= 0.9749247743229689\n"
     ]
    }
   ],
   "source": [
    "print(\"Score = \",classifier.score(test_counts, test_labels))\n",
    "\n",
    "predict = classifier.predict(test_counts)\n",
    "\n",
    "print(classifier.classes_)\n",
    "\n",
    "# n: real news, p: fake news\n",
    "tn, fp, fn, tp = confusion_matrix(test_labels,predict,labels=[0,1]).ravel()\n",
    "\n",
    "print(tn, fp, fn, tp)\n",
    "print('precision=',tp/(tp+fp))"
   ]
  },
  {
   "cell_type": "markdown",
   "metadata": {},
   "source": [
    "# Conclusion"
   ]
  },
  {
   "cell_type": "markdown",
   "metadata": {},
   "source": [
    "**Surprisingly, simple naive bayse classifier show 98% of accuracy of fake news classification.**\n",
    "However, let's think harder about the most important goal of this classification.\n",
    "The most dangerous outcome of fake news is that people believe **fake news as real** and be agitated to do dangerous action, such as to refuse vaccination, cause violance, veto sustainability, etc.\n",
    "In other word, it's important to keep **precision of real news as high as possible**.\n",
    "Here, the **precision is 97.5%**, where **only the half of the data are fake news**.\n",
    "**In real life, there are tons more fake news, which will drop this precision rate**.\n",
    "Therefore, in the next project, I'm try to make **a stronger filter**."
   ]
  }
 ],
 "metadata": {
  "kernelspec": {
   "display_name": "Python 3",
   "language": "python",
   "name": "python3"
  },
  "language_info": {
   "codemirror_mode": {
    "name": "ipython",
    "version": 3
   },
   "file_extension": ".py",
   "mimetype": "text/x-python",
   "name": "python",
   "nbconvert_exporter": "python",
   "pygments_lexer": "ipython3",
   "version": "3.8.5"
  }
 },
 "nbformat": 4,
 "nbformat_minor": 4
}
