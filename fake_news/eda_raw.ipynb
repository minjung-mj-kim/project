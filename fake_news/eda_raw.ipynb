{
 "cells": [
  {
   "cell_type": "code",
   "execution_count": 1,
   "id": "c2ce0693",
   "metadata": {},
   "outputs": [],
   "source": [
    "from freq_utils import *\n",
    "\n",
    "from collections import Counter\n",
    "\n",
    "pd.options.display.max_colwidth = 200"
   ]
  },
  {
   "cell_type": "code",
   "execution_count": 2,
   "id": "a9e0a8e5",
   "metadata": {},
   "outputs": [],
   "source": [
    "df0 = pd.read_csv('True.csv')\n",
    "df1 = pd.read_csv('Fake.csv')"
   ]
  },
  {
   "cell_type": "markdown",
   "id": "dfc90691",
   "metadata": {},
   "source": [
    "# Take a first look"
   ]
  },
  {
   "cell_type": "code",
   "execution_count": 3,
   "id": "42262442",
   "metadata": {},
   "outputs": [
    {
     "name": "stdout",
     "output_type": "stream",
     "text": [
      "<class 'pandas.core.frame.DataFrame'>\n",
      "RangeIndex: 21417 entries, 0 to 21416\n",
      "Data columns (total 4 columns):\n",
      " #   Column   Non-Null Count  Dtype \n",
      "---  ------   --------------  ----- \n",
      " 0   title    21417 non-null  object\n",
      " 1   text     21417 non-null  object\n",
      " 2   subject  21417 non-null  object\n",
      " 3   date     21417 non-null  object\n",
      "dtypes: object(4)\n",
      "memory usage: 669.4+ KB\n",
      "None\n",
      "<class 'pandas.core.frame.DataFrame'>\n",
      "RangeIndex: 23481 entries, 0 to 23480\n",
      "Data columns (total 4 columns):\n",
      " #   Column   Non-Null Count  Dtype \n",
      "---  ------   --------------  ----- \n",
      " 0   title    23481 non-null  object\n",
      " 1   text     23481 non-null  object\n",
      " 2   subject  23481 non-null  object\n",
      " 3   date     23481 non-null  object\n",
      "dtypes: object(4)\n",
      "memory usage: 733.9+ KB\n",
      "None\n",
      "\n",
      "Real example =========== \n",
      "                                                                                   title  \\\n",
      "15143                            EU and Iran defend nuclear deal, under fire from Trump   \n",
      "4911              Proposed cuts to State Dept. budget worry House Foreign Affairs chair   \n",
      "3738                             U.S. cyber bill would shift power away from spy agency   \n",
      "2966                   Two faces of Maine politics show rifts in state Republican party   \n",
      "4804   Exclusive: Tillerson plans to skip NATO meeting, visit Russia in April - sources   \n",
      "\n",
      "                                                                                                                                                                                                          text  \\\n",
      "15143  SAMARKAND, Uzbekistan (Reuters) - Senior officials from the European Union and Iran spoke up on Friday in defense of the agreement limiting Tehran s nuclear program, as the pact comes under heavy ...   \n",
      "4911   WASHINGTON (Reuters) - The Republican head of the Foreign Affairs Committee in the U.S. House of Representatives said on Thursday he was worried about the Trump administration’s proposal to deeply...   \n",
      "3738   WASHINGTON (Reuters) - A bill proposed in Congress on Wednesday would require the U.S. National Security Agency to inform representatives of other government agencies about security holes it finds...   \n",
      "2966   (Reuters) - Maine’s two most prominent Republicans grabbed headlines this week with political moves that were widely different in style and substance, which some insiders said could risk the party...   \n",
      "4804   WASHINGTON (Reuters) - U.S. Secretary of State Rex Tillerson plans to skip a meeting with NATO foreign ministers next month in order to stay home for a visit by China’s president and will go to Ru...   \n",
      "\n",
      "            subject                date  \n",
      "15143     worldnews  November 10, 2017   \n",
      "4911   politicsNews     March 16, 2017   \n",
      "3738   politicsNews       May 17, 2017   \n",
      "2966   politicsNews      June 29, 2017   \n",
      "4804   politicsNews     March 21, 2017   \n",
      "\n",
      "Fake example =========== \n",
      "                                                                                                   title  \\\n",
      "1854             Bill O’Reilly’s Show Bizarrely Cut Short In Wake Of Advertisers’ Mass Exodus (DETAILS)   \n",
      "1752               Trump Just Shamed Our Country Yet AGAIN With His Latest Diplomacy Disaster (DETAILS)   \n",
      "1486                   Ex-FBI Tears Trump To Pieces, Wonders ‘Who’s In Charge of This Country?’ (VIDEO)   \n",
      "9917                         Sarah Sanders Blasts Hillary Clinton’s Excuses for Losing to Trump [Video]   \n",
      "17439  [Video] MONTEL WILLIAMS BROUGHT TO TEARS OVER TREATMENT OF US MARINE JAILED IN IRAN #FreeAmirNow   \n",
      "\n",
      "                                                                                                                                                                                                          text  \\\n",
      "1854   The New York Times recently published a bombshell story about the culture of sexual harassment at Fox News, and their star host, Bill O Reilly, is at the center of it. The Times story says that O ...   \n",
      "1752   Donald Trump has made a fine art of p*ssing off other world leaders. Thanks to our fearless orange tweeter-in-chief, Colombia s government is now furious with us too.According to Colombia Reports,...   \n",
      "1486   All Americans, and indeed the entire world, should be very afraid of what is going on with Donald Trump s presidency. Many people have voiced those concerns publicly, and one of them is former FBI...   \n",
      "9917   Sarah Sanders is at it again At the 22:29 point in the video below she s asked:  Could you point us to a couple specific accusations in the book that you believe are factually incorrect?  Her answ...   \n",
      "17439   Find out how many are going to sign up to go to war when we keep doing this to those who protect us.              Montel WilliamsMontel Williams got emotions during his appearance on Greta Van Su...   \n",
      "\n",
      "               subject            date  \n",
      "1854              News   April 7, 2017  \n",
      "1752              News  April 18, 2017  \n",
      "1486              News    May 12, 2017  \n",
      "9917          politics    Sep 13, 2017  \n",
      "17439  Government News    Apr 10, 2015  \n"
     ]
    }
   ],
   "source": [
    "# Duplication is wrong here\n",
    "df0.drop_duplicates()\n",
    "df1.drop_duplicates()\n",
    "\n",
    "print(df0.info())\n",
    "print(df1.info())\n",
    "\n",
    "print('\\nReal example =========== \\n',df0.sample(5, random_state=10))\n",
    "print('\\nFake example =========== \\n',df1.sample(5, random_state=10))"
   ]
  },
  {
   "cell_type": "markdown",
   "id": "5b2236a3",
   "metadata": {},
   "source": [
    "### Note\n",
    "- Balanced dataset, nearly 20k for each classification\n",
    "- No null\n",
    "- Subject and date won't be used for classification based on text \n",
    "\n",
    "### Findings\n",
    "#### Title\n",
    "- Length: real news title is **shorter** than fake news\n",
    "- Tone, wordings: real news is **informative and concise** whereas fake news sounds **gossip** and contains **click bite** (e.g. \"DETAILS\", \"VIDEO\", full name of a person)\n",
    "- Format: fake news has extra **upper cases**, probably to catch attention\n",
    "\n",
    "#### Text (contents)\n",
    "- Real news starts with source, **\"Location (Reuters)\"**. This part should be removed in order not to introduce bias when genalize this model out of Reuter news.\n",
    "\n",
    "### To consider in preprocessing (1)\n",
    "- **Upper** case (mind **abbreviation**, such as \"U.S.\" shouldn't become \"us\")\n",
    "- Remove **news identifing** text, such as \"(Reuters)\"\n",
    "- Noise\n",
    "- Consider replacing **click bait tags** (e.g. \"[Watch]\") to **one unifying tag**"
   ]
  },
  {
   "cell_type": "code",
   "execution_count": 4,
   "id": "bd42a9fa",
   "metadata": {},
   "outputs": [],
   "source": [
    "# drop columns not in use\n",
    "df0.drop(['subject','date'], axis=1, inplace=True)\n",
    "df1.drop(['subject','date'], axis=1, inplace=True)"
   ]
  },
  {
   "cell_type": "markdown",
   "id": "518d9120",
   "metadata": {},
   "source": [
    "# Take a closer look of a few raw data samples"
   ]
  },
  {
   "cell_type": "code",
   "execution_count": 5,
   "id": "3fd1b7f0",
   "metadata": {},
   "outputs": [
    {
     "name": "stdout",
     "output_type": "stream",
     "text": [
      "\n",
      "Real title example =========== \n",
      " [\"Europe rights watchdog says Turkey's emergency laws go too far\"\n",
      " 'Exclusive: Trump targets illegal immigrants who were given reprieves from deportation by Obama'\n",
      " 'At G20 summit, Trump pledges $639 million in aid to four countries'\n",
      " \"Ex-Christie associates lose bid for new trial in 'Bridgegate' case\"\n",
      " \"Young blacks more open to Bernie Sanders' White House bid\"\n",
      " 'New York attorney general says will sue over Obamacare repeal'\n",
      " 'Indonesian parliament speaker quits amid graft investigation'\n",
      " 'Spanish lender Sabadell to transfer legal base to Alicante - spokeswoman'\n",
      " 'House speaker tells Trump healthcare bill lacks votes: CNN'\n",
      " 'Britain says expects most EU citizens can stay after Brexit'\n",
      " 'Trump pressures Lockheed, says told Boeing to price out fighter aircraft'\n",
      " 'Mexico says president Pena Nieto to meet Trump on Wednesday'\n",
      " 'Trump handling of security information at Mar-a-Lago queried by House panel'\n",
      " \"Transport minister doesn't think Britain will leave EU without a deal\"\n",
      " 'Factbox: Short list of potential picks for Trump administration'\n",
      " \"EU's Tusk appealed to Rajoy to avoid escalation in Catalonia\"\n",
      " 'Britain to limit acid sales after steep rise in assaults'\n",
      " \"Hawaii issues first challenge to Trump's new travel ban\"\n",
      " \"Graft probe into Mexico president's ally poses tricky challenge ahead of elections\"\n",
      " \"Co-leader of Germany's far-right AfD to quit in major blow\"]\n",
      "\n",
      "Fake title example =========== \n",
      " ['ABOUT HILLARY’S COUGH: We Discovered The Secret To Why She Keeps Coughing [Video]'\n",
      " 'BREAKING: OBAMACARE REPEAL Clears First Hurdle…Dems Get Snarky'\n",
      " '‘SLEEPY’ JUSTICE GINSBURG: Excites Crowd By Saying She’d Back Abolition Of The Electoral College [Video]'\n",
      " ' WATCH: Kellyanne Conway Very Upset Hillary Clinton Is Not Doing Trump’s Job'\n",
      " ' GOP Gives Trump The Middle Finger, Prepares To Launch Probe Into Russia'\n",
      " ' Trump Displays Incredible Ignorance Yet Again — Claims Credit For Term Coined Over A Hundred Years Ago'\n",
      " ' Anthony Bourdain Reveals The ‘ONE Good Thing’ About Trump And It’s HILARIOUS'\n",
      " 'TRUMP HITS BACK After Cowgirl Congresswoman Trashes Him Over Words Said to Grieving Widow'\n",
      " 'MEDIA DOWNPLAYS Attack By Unhinged Neighbor On Senator Rand Paul…’Minor Injuries’ Not So Minor'\n",
      " ' Why This Attorney General Is Going After Trump For ‘Fraud’'\n",
      " '(VIDEO) DONALD TRUMP: “NOT BEHOLDEN TO ANYONE”'\n",
      " 'Billionaire ‘Bilderberger’ David Rockefeller dead at 101'\n",
      " ' Ben & Jerry’s Ice Cream Founders Get Arrested At U.S. Capitol'\n",
      " 'JUST IN: RAND PAUL ASSAULTED By Democrat Doctor…Here’s What We Know About The Attacker'\n",
      " ' Watch Hillary’s Reaction When Security Tries To Kick Shirtless Male Supporters Out Of Her Rally'\n",
      " 'ANGRY Venezuelans CHASE Their President…Bang On Pots And Yell [Video]'\n",
      " 'JUST IN: NYC TERRORIST Allegedly Entered U.S. On NY Democrat Senator Chuck Schumer’s ‘DIVERSITY VISA” Program'\n",
      " ' Leslie Knope Writes Powerful, Heartbreaking Letter To America That EVERYONE Should Read'\n",
      " ' Chris Cuomo SLAMS Trump For Promising “A Lot Of Things That Can’t Be Done” In Energy Speech (VIDEO)'\n",
      " ' Elijah Cummings Made Sure The GOP Is Well Aware They’re Hypocritical A**holes Regarding Flint']\n",
      "\n",
      "Real text example =========== \n",
      " ['WASHINGTON (Reuters) - U.S. President Barack Obama met with two Northern Ireland leaders and commended them on the progress being made towards peace, the White House said on Wednesday. Obama dropped by a meeting on Tuesday between Vice President Joe Biden, Northern Ireland First Minister Arlene Foster and deputy First Minister Martin McGuinness, the White House said in a statement. Obama and Biden\\xa0urged the ministers to move forward with implementation of the Stormont House Agreement of December 2014 and the Fresh Start Agreement of November 2015, the statement said. '\n",
      " 'SEOUL (Reuters) - If South Korea develops nuclear weapons in response to North Korea’s fourth nuclear test it would be breaking its “promise” with the world, South Korean President Park Geun-hye said on Wednesday. South Korea is in discussion with China regarding a draft U.N. Security Resolution in response to North Korea’s January 6 nuclear test, Park said in response to a question at an annual news conference. ']\n",
      "\n",
      "Fake text example =========== \n",
      " ['The owner of the Ringling Bar, located south of White Sulphur Springs, is standing behind his Facebook post that criticizes NFL players who take a knee during the national anthem to protest police brutality. The post was made on the Ringling Bar s Facebook page Tuesday night and has since received hundreds of comments and shares. The post reads:  The Ringling Bar will no longer show any NFL games. This will allow us to air the PBR, Rodeo and NASCAR events whose competitors are true Americans! Sorry for any inconvenience. Ringling Bar Co-owner Kurt Bekemans, who grew up in the Paradise Valley, published the post and said he doesn t care if the post turns some customers away. Seriously, I would not care if non-Americans didn t patronize the place,  said Bekemans.  I d like to speak for rural America: I bet you wouldn t see any farmers or ranchers in our whole country take a knee such as these guys do, I bet you couldn t find one. They appreciate what our great nation has given them and I think that s the least you could do to give thanks to our country is stand for the flag and the anthem. As of Wednesday morning, a majority of the comments were in support of the bar. We all love ya for this, I ll be by with as many people I can round up!!  said one commenter.Another person was critical, writing:  Ha Ha of course NASCAR is not protesting the treatment of minority s because they don t care about them!!! Read more: krtv'\n",
      " 'Governor Kasich:  What Mr Trump needs to understood that the real jobs come in the downstream, not in the upstream. And that s where we re going to get our jobs. In Ohio it was diversified. And little falsehoods, things sir, they really don t work when it comes to the truth. I m suggesting you can t ship 11 million people out of this country.  Donald Trump:  I ve made tens of thousands of jobs. I ve built an unbelievable company worth billions and billions of dollars. I don t have to listen to this man.  ']\n"
     ]
    }
   ],
   "source": [
    "print('\\nReal title example =========== \\n',df0.sample(20, random_state=42).title.to_numpy())\n",
    "print('\\nFake title example =========== \\n',df1.sample(20, random_state=42).title.to_numpy())\n",
    "\n",
    "print('\\nReal text example =========== \\n',df0.sample(2, random_state=30).text.to_numpy())\n",
    "print('\\nFake text example =========== \\n',df1.sample(2, random_state=30).text.to_numpy())"
   ]
  },
  {
   "cell_type": "markdown",
   "id": "aa7ea2a6",
   "metadata": {},
   "source": [
    "### Findings\n",
    "- Some fake news title has a **slang** replaced with **star** charactors partially.\n",
    "- Fake news **text** sounds redundunt.\n",
    "- Real and fake news looks different in **grammar structure**, but it is hard to describe how different they are."
   ]
  },
  {
   "cell_type": "markdown",
   "id": "35282a93",
   "metadata": {},
   "source": [
    "# Text length"
   ]
  },
  {
   "cell_type": "code",
   "execution_count": 6,
   "id": "286de6ca",
   "metadata": {},
   "outputs": [
    {
     "data": {
      "image/png": "[encoded data removed]",
      "text/plain": [
       "<Figure size 432x288 with 1 Axes>"
      ]
     },
     "metadata": {
      "needs_background": "light"
     },
     "output_type": "display_data"
    },
    {
     "data": {
      "image/png": "[encoded data removed]",
      "text/plain": [
       "<Figure size 432x288 with 1 Axes>"
      ]
     },
     "metadata": {
      "needs_background": "light"
     },
     "output_type": "display_data"
    }
   ],
   "source": [
    "plt.hist(df0.title.str.split().str.len(), alpha=0.5, range=(0,50), bins=50)\n",
    "plt.hist(df1.title.str.split().str.len(), alpha=0.5, range=(0,50), bins=50)\n",
    "plt.title(\"Title word count\")\n",
    "\n",
    "plt.legend(['Real','Fake']) \n",
    "plt.show()\n",
    "\n",
    "plt.hist(np.log10(df0.text.str.split().str.len()+1), alpha=0.5, range=(0,4), bins=50)\n",
    "plt.hist(np.log10(df1.text.str.split().str.len()+1), alpha=0.5, range=(0,4), bins=50)\n",
    "plt.title(\"Log10(Text word count)\")\n",
    "\n",
    "plt.legend(['Real','Fake'])\n",
    "plt.show()"
   ]
  },
  {
   "cell_type": "markdown",
   "id": "af55dd88",
   "metadata": {},
   "source": [
    "### Findings\n",
    "- As notices with raw data examples, fake news has **longer title**.\n",
    "- Real news contents are written in either around 100 or 400 words, whereas fake news has larger spectrum.\n",
    "- Some fake news has **few or zero words** in titles and text. Let's take a look what that means."
   ]
  },
  {
   "cell_type": "code",
   "execution_count": 7,
   "id": "8079ef05",
   "metadata": {},
   "outputs": [],
   "source": [
    "df0_few_title = df0[df0.title.str.split().str.len()<3]\n",
    "df1_few_title = df1[df1.title.str.split().str.len()<3]\n",
    "\n",
    "df0_few_text = df0[df0.text.str.split().str.len()<20]\n",
    "df1_few_text = df1[df1.text.str.split().str.len()<20]"
   ]
  },
  {
   "cell_type": "code",
   "execution_count": 8,
   "id": "128344e3",
   "metadata": {},
   "outputs": [
    {
     "name": "stdout",
     "output_type": "stream",
     "text": [
      "News with title < 3 words, real: 0\n",
      "News with title < 3 words, fake: 10\n",
      "News with text < 6 words, real: 1\n",
      "News with text < 6 words, fake: 1130\n"
     ]
    }
   ],
   "source": [
    "print('News with title < 3 words, real:',len(df0_few_title))\n",
    "print('News with title < 3 words, fake:',len(df1_few_title))\n",
    "print('News with text < 6 words, real:',len(df0_few_text))\n",
    "print('News with text < 6 words, fake:',len(df1_few_text))"
   ]
  },
  {
   "cell_type": "code",
   "execution_count": 9,
   "id": "b21fbf25",
   "metadata": {},
   "outputs": [
    {
     "name": "stdout",
     "output_type": "stream",
     "text": [
      "Empty title examples, fake news\n",
      "\n",
      "[['https://100percentfedup.com/served-roy-moore-vietnamletter-veteran-sets-record-straight-honorable-decent-respectable-patriotic-commander-soldier/'\n",
      "  'https://100percentfedup.com/served-roy-moore-vietnamletter-veteran-sets-record-straight-honorable-decent-respectable-patriotic-commander-soldier/']\n",
      " ['https://100percentfedup.com/video-hillary-asked-about-trump-i-just-want-to-eat-some-pie/'\n",
      "  'https://100percentfedup.com/video-hillary-asked-about-trump-i-just-want-to-eat-some-pie/']\n",
      " ['https://100percentfedup.com/12-yr-old-black-conservative-whose-video-to-obama-went-viral-do-you-really-love-america-receives-death-threats-from-left/'\n",
      "  'https://100percentfedup.com/12-yr-old-black-conservative-whose-video-to-obama-went-viral-do-you-really-love-america-receives-death-threats-from-left/']\n",
      " ['https://fedup.wpengine.com/wp-content/uploads/2015/04/hillarystreetart.jpg'\n",
      "  'https://fedup.wpengine.com/wp-content/uploads/2015/04/hillarystreetart.jpg']\n",
      " ['https://fedup.wpengine.com/wp-content/uploads/2015/04/entitled.jpg'\n",
      "  'https://fedup.wpengine.com/wp-content/uploads/2015/04/entitled.jpg']\n",
      " ['https://fedup.wpengine.com/wp-content/uploads/2015/04/hillarystreetart.jpg'\n",
      "  'https://fedup.wpengine.com/wp-content/uploads/2015/04/hillarystreetart.jpg']\n",
      " ['https://fedup.wpengine.com/wp-content/uploads/2015/04/entitled.jpg'\n",
      "  'https://fedup.wpengine.com/wp-content/uploads/2015/04/entitled.jpg']\n",
      " ['Homepage'\n",
      "  '[vc_row][vc_column width= 1/1 ][td_block_trending_now limit= 5 ][td_block_big_grid sort= featured ][/vc_column][/vc_row][vc_row] [vc_column width= 2/3 ][td_block_5 limit= 24  custom_title= HOT OFF THE PRESS!  td_filter_default_txt= All  ajax_pagination= load_more  border_top= no_border_top ] [/vc_column][vc_column width= 1/3 ][vc_widget_sidebar sidebar_id= td-default ][/vc_column] [/vc_row][vc_row][vc_column width= 1/1 ][td_block_14 limit= 3  custom_title= EVEN MORE NEWS  td_filter_default_txt= All  ajax_pagination= next_prev  header_color= #288abf ][/vc_column] [/vc_row]']\n",
      " ['https://fedup.wpengine.com/wp-content/uploads/2015/04/hillarystreetart.jpg'\n",
      "  'https://fedup.wpengine.com/wp-content/uploads/2015/04/hillarystreetart.jpg']\n",
      " ['https://fedup.wpengine.com/wp-content/uploads/2015/04/entitled.jpg'\n",
      "  'https://fedup.wpengine.com/wp-content/uploads/2015/04/entitled.jpg']]\n",
      "Empty text examples, real news\n",
      "\n",
      "[' ']\n",
      "Empty text examples, fake news\n",
      "\n",
      "[' ' ' ' ' ' 'Enjoy:'\n",
      " 'The liberal pundits are pretty frustrated by the Clinton campaign and it shows: '\n",
      " ' ' ' ' ' ' ' '\n",
      " 'Wow! This is so epic and truthful! Bravo Bill O Reilly! ' ' '\n",
      " 'CAN YOU DO IT? WE D LOVE TO KNOW WHAT SURPRISED YOU. Via: Playbuzz'\n",
      " 'https://www.youtube.com/watch?v=RRPSCqkAJgk'\n",
      " 'FREE STUFF! Bernie Sanders is their guy ugh! ' ' ' ' '\n",
      " 'Narcissist isn t a strong enough word to describe this twisted little man '\n",
      " ' ' ' ' ' ' ' '\n",
      " 'LANGUAGE WARNING! A woman at Walmart gets into it with a guy who was paying with Food Stamps: '\n",
      " 'Take that you filthy animals!'\n",
      " 'https://www.youtube.com/watch?v=31MRqr9ydUU' ' '\n",
      " 'This is hysterical! I could add a few ways to use her book:  ' ' '\n",
      " 'Wow! America is hungry for a real leader. America, this is what leadership looks like https://youtu.be/JCXpkAPQvhk'\n",
      " 'He also dodges the question of sanctuary cities:' ' ']\n"
     ]
    }
   ],
   "source": [
    "print('Empty title examples, fake news\\n')\n",
    "print(df1_few_title.to_numpy())\n",
    "\n",
    "print('Empty text examples, real news\\n')\n",
    "print(df0_few_text.text.to_numpy())\n",
    "\n",
    "print('Empty text examples, fake news\\n')\n",
    "print(df1_few_text.text.sample(30, random_state=20).to_numpy())"
   ]
  },
  {
   "cell_type": "markdown",
   "id": "3fa98eff",
   "metadata": {},
   "source": [
    "### Findings\n",
    "- Fake news is **noiser**.\n",
    "- **No real news has empty title**\n",
    "- Fake news with empty/short titles have web addresses as their titles. It looks like an impropper cleaning of web scrapping data.\n",
    "- Only one real news has few words in text, with graphic content.\n",
    "- A lot of short fake news composed of **social media sources**.\n",
    "\n",
    "\n",
    "### To consider in preprocessings (2)\n",
    "- Drop rows with **website titles**\n",
    "- Drop one real news **graphic content**\n",
    "- **Tag digital source**\n",
    "- **Tag numbers**\n",
    "- Remove special character after digital source and number tagging."
   ]
  },
  {
   "cell_type": "code",
   "execution_count": 10,
   "id": "1d4910e6",
   "metadata": {},
   "outputs": [],
   "source": [
    "df1 = df1[df1.title.str.split().str.len()>2]\n",
    "df0 = df0[df0.text.str.split().str.len()>19]"
   ]
  },
  {
   "cell_type": "markdown",
   "id": "27808a7f",
   "metadata": {},
   "source": [
    "# Frequent words - Unigram\n",
    "Before text preprocess, let's take a look of frequent words in raw data."
   ]
  },
  {
   "cell_type": "code",
   "execution_count": 11,
   "id": "3cb95533",
   "metadata": {},
   "outputs": [],
   "source": [
    "title0 = df0.sample(1000, random_state=9).title.tolist()\n",
    "title1 = df1.sample(1000, random_state=9).title.tolist()\n",
    "text0 = df0.sample(1000, random_state=9).text.tolist()\n",
    "text1 = df1.sample(1000, random_state=9).text.tolist()"
   ]
  },
  {
   "cell_type": "code",
   "execution_count": 12,
   "id": "04036628",
   "metadata": {},
   "outputs": [
    {
     "name": "stdout",
     "output_type": "stream",
     "text": [
      "\n",
      "\n",
      "Most common words in title, real:\n",
      " [(('to',), 357), (('in',), 190), (('U.S.',), 184), (('Trump',), 183), (('on',), 165), (('of',), 143), (('for',), 141), (('says',), 139), (('with',), 62), (('House',), 61), (('at',), 52), (('over',), 49), (('North',), 48), (('as',), 43), (('after',), 42), (('Korea',), 42), (('White',), 38), (('a',), 36), (('China',), 35), (('from',), 34), (('be',), 32), (('not',), 31), (('Senate',), 31), (('by',), 31), (('and',), 30), (('new',), 30), (('will',), 28), (('U.N.',), 28), (('South',), 27), (('Clinton',), 27), (('the',), 26), (('tax',), 26), (('Russia',), 26), (('calls',), 26), ((\"Trump's\",), 24), (('talks',), 23), (('court',), 22), (('Iran',), 22), (('Congress',), 22), (('Factbox:',), 21), (('Brexit',), 21), (('Republican',), 21), (('president',), 21), (('is',), 20), (('vote',), 20), (('government',), 20), (('opposition',), 20), (('against',), 19), (('ban',), 19), (('party',), 19), (('PM',), 19), (('deal',), 19), (('Obama',), 18), (('EU',), 18), (('nuclear',), 17), (('bill',), 17), (('Supreme',), 17), (('Court',), 17), (('Syria',), 17), (('leader',), 16), (('minister',), 16), (('election',), 16), (('military',), 15), (('official',), 15), (('Democrats',), 15), (('may',), 15), (('attack',), 14), (('meet',), 14), (('would',), 14), (('Syrian',), 14), (('Russian',), 14), (('Myanmar',), 14), (('police',), 14), (('border',), 14), (('FBI',), 13), (('sanctions',), 13), (('up',), 13), (('Trump,',), 13), (('Tillerson',), 13), (('German',), 13), (('Senator',), 13), (('more',), 13), (('plan',), 13), (('Puerto',), 12), (('-',), 12), (('say',), 12), (('State',), 12), (('rights',), 12), (('probe',), 12), (('healthcare',), 11), (('some',), 11), (('Rico',), 11), (('policy',), 11), (('aid',), 11), (('could',), 11), (('coalition',), 11), (('ahead',), 11), (('urges',), 11), (('U.S.,',), 11), (('poll',), 11), (('Korean',), 11), (('it',), 11), (('Mexico',), 11), (('security',), 11), (('lead',), 10), (('travel',), 10), (('administration',), 10), (('seeks',), 10), (('nominee',), 10), (('law',), 10), (('still',), 10), (('cut',), 10), (('killed',), 10), (('case',), 10), (('former',), 10), (('Saudi',), 10), (('two',), 10), (('but',), 10), (('presidential',), 10), (('New',), 10), (('first',), 10), (('seek',), 10), (('health',), 10), (('Republicans',), 10), (('has',), 10), (('officials',), 10), (('lawmakers',), 10), (('out',), 10), (('Islamic',), 10), (('down',), 10), (('rule',), 10), (('UK',), 10), (('sources',), 9), (('push',), 9), (('he',), 9), (('charges',), 9), (('strikes',), 9), (('bid',), 9), (('take',), 9), (('oil',), 9), (('Turkey',), 9), (('British',), 9), (('if',), 9), (('state',), 9), (('French',), 9), (('into',), 9), (('parliament',), 9), (('Democratic',), 9), (('should',), 9), (('about',), 9), (('attacks',), 9), (('Obamacare',), 9), (('visit',), 9), (('report',), 9), (('rules',), 9), (('who',), 8), (('Venezuela',), 8), (('can',), 8), (('corruption',), 8), (('his',), 8), (('meeting',), 8), (('presidency',), 8), (('leaders',), 8), (('week',), 8), (('sees',), 8), (('no',), 8), (('pressure',), 8), (('million',), 8), (('source',), 8), (('top',), 8), (('Germany',), 8), (('defense',), 8), ((\"China's\",), 8), (('political',), 8), (('air',), 8), (('governor',), 8), (('peace',), 8), (('next',), 8), (('office',), 8), (('Catalan',), 8), (('Jerusalem',), 8), (('wall',), 8), (('chief',), 8), (('Putin',), 8), (('want',), 8), (('ruling',), 7), (('judge',), 7), (('immigration',), 7), (('Zimbabwe',), 7), (('finance',), 7), (('discuss',), 7), (('under',), 7), (('Egypt',), 7), (('foreign',), 7), (('Kenya',), 7), (('orders',), 7), (('transition',), 7), (('this',), 7), (('The',), 7), (('Irma',), 7), (('media',), 7), (('secretary',), 7), (('race',), 7), (('pick',), 7), (('tells',), 7), (('France',), 7), (('No',), 7), (('hopes',), 7), (('see',), 7), (('hold',), 7), (('President',), 7), (('forces',), 7), (('panel',), 7), (('kill',), 7), (('wants',), 7), (('Britain',), 7), (('defends',), 7), (('despite',), 7), (('London',), 7), (('fire',), 7), (('back',), 7), (('amid',), 7), (('Rohingya',), 7), (('crisis',), 7), (('than',), 7), (('reform',), 7), (('Comey',), 7), (('Pakistan',), 6), (('move',), 6), (('make',), 6), (('team',), 6), (('consider',), 6), (('Ryan',), 6), (('years',), 6), (('turn',), 6), (('set',), 6), ((\"Syria's\",), 6), (('Iraqi',), 6), (('Florida',), 6), (('Macron',), 6), (('power',), 6), (('people',), 6), (('Xi',), 6), (('warns',), 6), (('off',), 6), (('Afghan',), 6), (('end',), 6), (('candidate',), 6), (('national',), 6), (('Democrat',), 6), (('aimed',), 6), ((\"Obama's\",), 6), (('refugees',), 6), (('claims',), 6), ((\"Lebanon's\",), 6), (('business',), 6), (('Sanders',), 6), (('approves',), 6), (('denies',), 6), (('dead',), 6), (('senator',), 6), (('ties',), 6), (('missing',), 6), (('key',), 6), (('that',), 6), (('Moscow',), 6), (('trade',), 6), (('win',), 6), (('picks',), 6), (('Iraq',), 5), (('son',), 5), (('Thursday',), 5), (('ask',), 5), (('refugee',), 5), (('decision',), 5), (('ambassador',), 5), (('Flynn',), 5), (('high',), 5), (('Former',), 5), (('face',), 5), (('Speaker',), 5), (('asks',), 5), (('kills',), 5), ((\"UK's\",), 5), (('May',), 5), (('Japan',), 5), (('army',), 5), (('general',), 5), (('Kurdish',), 5), (('Key',), 5), (('progress',), 5), (('seen',), 5), (('fight',), 5), (('Cruz',), 5), (('women',), 5), (('economic',), 5), (('have',), 5), (('Party',), 5), (('Reuters/Ipsos',), 5), (('Raqqa',), 5), (('nominate',), 5), (('Kerry',), 5), (('wins',), 5), (('during',), 5), (('lawmaker',), 5), (('considering',), 5), (('Yemen',), 5), (('head',), 5), (('Rubio',), 5), (('December',), 5), (('challenge',), 5), (('Twitter',), 5), (('Pence',), 5), (('effort',), 5), (('CNN',), 5), (('Exclusive:',), 5), (('Irish',), 5), (('agency',), 5), (('its',), 5), (('trial',), 5), (('work',), 5), (('missile',), 5), (('appeals',), 5), (('NFL',), 5), (('impact',), 5), ((\"president's\",), 5), (('support',), 5), (('change',), 5), ((\"Clinton's\",), 5), (('near',), 5), (('least',), 5), (('gets',), 5), (('prosecutor',), 5), (('must',), 5), (('launch',), 5), (('urge',), 5), (('backs',), 5), ((\"'not\",), 5), (('Two',), 5), (('Canada',), 5), (('independence',), 5), (('Department',), 5), (('debate',), 5), ((\"Africa's\",), 5), (('investigation',), 5), (('targets',), 5), ((\"Korea's\",), 5), (('Zuma',), 5), (('jets',), 5), (('convention',), 5), (('comments',), 5), (('airport',), 5), (('McCain',), 5), (('Catalonia',), 5), (('peninsula',), 5), (('between',), 5), (('Garland',), 4), (('order',), 4), (('delayed',), 4), (('faces',), 4), (('News',), 4), (('companies',), 4), (('three',), 4), (('militants',), 4), (('arrested',), 4), (('democracy',), 4), (('concerns',), 4), (('Abe',), 4), (('was',), 4), (('Monday',), 4), (('shut',), 4), (('tension',), 4), (('interview',), 4), (('they',), 4), (('presses',), 4), (('step',), 4), (('re-election',), 4), (('attorney',), 4), (('again',), 4), (('Taiwan',), 4), (('war',), 4), (('suspends',), 4), (('meets',), 4), (('do',), 4), (('deal:',), 4), (('TV',), 4), (('spokesman',), 4), (('public',), 4), (('adviser',), 4), (('Washington',), 4), (('War',), 4), (('California',), 4), (('clear',), 4), (('Americans',), 4), (('gun',), 4), (('Korea,',), 4), (('overhaul',), 4), (('early',), 4), (('possible',), 4), (('misconduct',), 4), (('What',), 4), (('Hariri',), 4), (('her',), 4), (('campaign',), 4), (('West',), 4), (('Clinton,',), 4), (('open',), 4), (('In',), 4), (('states',), 4), (('returns',), 4), (('likely',), 4), (('human',), 4), (('plays',), 4), (('Philippines',), 4), (('deadly',), 4), (('eyes',), 4), (('rejects',), 4), ((\"Brazil's\",), 4), (('climate',), 4), (('NAFTA',), 4), (('hit',), 4), ((\"'very\",), 4), (('stop',), 4), (('voting',), 4), (('before',), 4), (('Turkish',), 4), (('reports',), 4), (('tough',), 4), (('board',), 4), (('Three',), 4), (('NATO',), 4), (('Vatican',), 4), (('expects',), 4), ((\"Spain's\",), 4), (('review',), 4), (('Fed',), 4), (('boost',), 4), (('embassy',), 4), (('leave',), 4), (('protesters',), 4), (('groups',), 4), (('keep',), 4), (('Brazil',), 4), (('special',), 4), (('looks',), 4), (('East',), 4), (('Israel',), 4), (('man',), 4), (('plans',), 4), ((\"Britain's\",), 4), (('rally',), 4), (('African',), 4), (('chair',), 4), (('through',), 4), (('Mattis',), 4), (('civilians',), 4), (('gas',), 4), (('inquiry',), 4), (('vows',), 4), ((\"Treasury's\",), 4), (('arrest',), 4), (('job',), 4), (('Indian',), 4), (('pushes',), 3), (('coal',), 3), (('right',), 3), (('takes',), 3), (('cause',), 3), (('until',), 3), (('committee',), 3), (('senators',), 3), ((\"won't\",), 3), (('Bush',), 3), (('allow',), 3), (('full',), 3), (('campaigns',), 3), (('Day',), 3), (('Amid',), 3), (('return',), 3), (('trip',), 3), (('Mugabe',), 3), (('Schaeuble',), 3), (('test',), 3), (('Bangladesh',), 3), (('insurance',), 3), (('rate',), 3), (('group',), 3), (('Iranian',), 3), (('left',), 3), (('plants',), 3), (('Hurricane',), 3), (('Europe',), 3), (('boss',), 3), (('social',), 3), (('militant',), 3), (('regulation',), 3), (('king',), 3), (('drive',), 3), (('overseas',), 3), (('base',), 3)]\n",
      "\n",
      "\n",
      "Most common words in title, fake:\n",
      " [(('To',), 330), (('Trump',), 251), (('The',), 173), (('For',), 166), (('In',), 151), (('Of',), 149), (('A',), 145), (('On',), 128), (('[Video]',), 127), (('(VIDEO)',), 103), (('And',), 99), (('[VIDEO]',), 93), (('With',), 86), (('Is',), 83), (('About',), 62), (('His',), 60), (('After',), 58), (('Who',), 57), (('Trump’s',), 55), (('Hillary',), 53), (('to',), 50), (('By',), 49), (('Just',), 48), (('At',), 46), (('WATCH:',), 45), (('and',), 43), (('Over',), 43), (('He',), 43), (('This',), 41), (('New',), 38), (('From',), 37), (('Her',), 36), (('Obama',), 36), (('of',), 36), (('Was',), 36), (('TO',), 35), (('TRUMP',), 35), (('That',), 35), (('Why',), 34), (('OF',), 34), (('Has',), 34), (('THE',), 32), (('President',), 32), (('the',), 32), (('You',), 31), (('Are',), 31), (('As',), 31), (('It',), 30), (('Donald',), 30), (('Will',), 30), (('Clinton',), 29), (('Him',), 29), (('–',), 29), (('Black',), 28), (('Out',), 27), (('BREAKING:',), 26), (('AND',), 25), (('for',), 25), (('Against',), 25), (('OBAMA',), 25), (('Have',), 25), (('Republicans',), 25), (('in',), 25), (('What',), 24), (('How',), 24), (('FOR',), 24), (('FBI',), 23), (('U.S.',), 22), (('Their',), 22), (('Be',), 22), (('Gets',), 21), (('White',), 21), (('Says',), 21), (('Not',), 20), (('a',), 20), (('WOW!',), 20), (('Up',), 20), (('Vote',), 19), (('If',), 19), (('Goes',), 19), (('IN',), 19), (('America',), 19), (('House',), 19), (('GOP',), 19), (('News',), 19), (('She',), 18), (('They',), 18), (('Media',), 18), (('US',), 18), (('CNN',), 18), (('Like',), 18), (('Election',), 18), (('Make',), 17), (('When',), 17), (('It’s',), 17), (('Down',), 16), (('HILLARY',), 16), (('Muslim',), 16), (('Calls',), 16), (('ON',), 16), (('NOT',), 15), (('Get',), 15), (('Way',), 15), (('on',), 15), (('Gives',), 15), (('WATCH',), 15), (('An',), 15), (('Back',), 15), (('Bernie',), 14), (('Racist',), 14), (('During',), 14), (('He’s',), 14), (('Supporter',), 14), (('IS',), 14), (('OBAMA’S',), 14), (('Into',), 13), (('All',), 13), (('Most',), 13), (('(DETAILS)',), 13), (('Them',), 13), (('Tells',), 13), (('Watch',), 13), (('Makes',), 13), (('Your',), 13), (('MUSLIM',), 13), (('But',), 13), (('One',), 13), (('Attack',), 13), (('I',), 13), (('Trump:',), 13), (('Go',), 12), (('BLACK',), 12), (('CLINTON',), 12), (('Twitter',), 12), (('Russian',), 12), (('Response',), 12), (('Than',), 12), (('OUT',), 12), (('Should',), 12), (('Got',), 12), (('Supporters',), 12), (('Caught',), 12), (('THIS',), 12), (('Voters',), 12), (('Want',), 12), (('Could',), 12), (('Campaign',), 12), (('Obama’s',), 11), (('Sanders',), 11), (('Man',), 11), (('Off',), 11), (('Does',), 11), (('Senate',), 11), (('Threatens',), 11), (('Won’t',), 11), (('Americans',), 11), (('(TWEETS)',), 11), (('“I',), 11), (('Women',), 11), (('State',), 11), (('Takes',), 11), (('Bill',), 11), (('Here’s',), 10), (('We',), 10), (('Don’t',), 10), (('NEW',), 10), (('is',), 10), (('May',), 10), (('Fox',), 10), (('Hillary’s',), 10), (('Republican',), 10), (('Police',), 10), (('Russia',), 10), (('are',), 10), (('BREAKING',), 10), (('MSNBC',), 10), (('Support',), 10), (('People',), 10), (('Because',), 10), (('Press',), 10), (('No',), 9), (('with',), 9), (('Or',), 9), (('Comey',), 9), (('So',), 9), (('Money',), 9), (('Video',), 9), (('FORMER',), 9), (('Senator',), 9), (('HOW',), 9), (('Rally',), 9), (('Day',), 9), (('you',), 9), (('More',), 9), (('my',), 9), (('WAR',), 9), (('FOX',), 9), (('War',), 9), (('John',), 9), (('Democrats',), 9), (('Show',), 9), (('HILLARY’S',), 9), (('Asked',), 9), (('Government',), 9), (('Woman',), 9), (('Use',), 8), (('Did',), 8), (('Win',), 8), (('Students',), 8), (('IT',), 8), (('Himself',), 8), (('Host',), 8), (('Secret',), 8), (('Liberal',), 8), (('Going',), 8), (('Answer',), 8), (('Our',), 8), (('Working',), 8), (('Can’t',), 8), (('Only',), 8), (('Take',), 8), (('Speech',), 8), (('Party',), 8), (('Major',), 8), (('Anti-Trump',), 8), (('Democrat',), 8), (('(IMAGE)',), 8), (('Gun',), 8), (('Fake',), 8), (('Would',), 7), (('Leftist',), 7), (('VIDEO:',), 7), (('VIDEO',), 7), (('Yet',), 7), (('BILL',), 7), (('LOL!',), 7), (('MEDIA',), 7), (('DOJ',), 7), (('Said',), 7), (('Million',), 7), (('Do',), 7), (('Give',), 7), (('as',), 7), (('Paul',), 7), (('Family',), 7), (('Former',), 7), (('Cruz',), 7), (('Great',), 7), (('Left',), 7), (('Found',), 7), (('List',), 7), (('Under',), 7), (('Tweet',), 7), (('Calling',), 7), (('Hilarious',), 7), (('DOWN',), 7), (('Used',), 7), (('Truth',), 7), (('School',), 7), (('States',), 7), (('World',), 7), (('Being',), 7), (('Now',), 7), (('Reporter',), 7), (('NEWS',), 7), (('George',), 7), (('Court',), 7), (('Terrorists',), 7), (('Law',), 7), (('Border',), 7), (('Wall',), 7), (('Sexual',), 6), (('Bathroom',), 6), (('Facebook',), 6), (('Post',), 6), (('Puts',), 6), (('F*ck',), 6), (('Shut',), 6), (('Candidate',), 6), (('Asks',), 6), (('BOOM!',), 6), (('Kellyanne',), 6), (('Conway',), 6), (('Crazy',), 6), (('ISIS',), 6), (('Time',), 6), (('Ban',), 6), (('Lie',), 6), (('Meeting',), 6), (('Tries',), 6), (('REPUBLICAN',), 6), (('RADICAL',), 6), (('RACIST',), 6), (('Security',), 6), (('AS',), 6), (('Nominee',), 6), (('Conservative',), 6), (('UN',), 6), (('Before',), 6), (('Friend',), 6), (('Team',), 6), (('RNC',), 6), (('CIA',), 6), (('Episode',), 6), (('WIRE:',), 6), (('McCain',), 6), (('“If',), 6), (('Ted',), 6), (('(TWEET)',), 6), (('Can',), 6), (('I’m',), 6), (('NEWS:',), 6), (('Sean',), 6), (('Political',), 6), (('Huge',), 6), (('Rant',), 6), (('Debate',), 6), (('WHY',), 6), (('Jeff',), 6), (('Terrorist',), 6), (('MUST',), 6), (('Syria',), 6), (('Democratic',), 6), (('Shocking',), 6), (('Illegal',), 6), (('Dems',), 6), (('Help',), 6), (('Death',), 6), (('Investigation',), 6), (('Hammers',), 6), (('Really',), 6), (('ANTI-TRUMP',), 6), (('at',), 6), (('Poll',), 6), (('Trump,',), 6), (('Story',), 6), (('Some',), 6), (('Pay',), 6), (('Federal',), 6), (('Called',), 6), (('Best',), 6), (('Office',), 6), (('REPORT:',), 6), (('YOU',), 6), (('NFL',), 6), (('Street',), 6), (('Letter',), 6), (('First',), 6), (('Cop',), 6), (('Congress',), 6), (('Right',), 6), (('Might',), 6), (('Lives',), 5), (('Were',), 5), (('HUGE',), 5), (('Giving',), 5), (('Possible',), 5), (('Refuses',), 5), (('Virginia',), 5), (('Made',), 5), (('Needs',), 5), (('Head',), 5), (('Editor',), 5), (('Flag',), 5), (('Congressman',), 5), (('WH',), 5), (('Putin',), 5), (('CALLS',), 5), (('Wrong',), 5), (('Terror',), 5), (('Praise',), 5), (('Stage',), 5), (('Voter',), 5), (('Own',), 5), (('GA',), 5), (('Been',), 5), (('Look',), 5), (('Texas',), 5), (('Year',), 5), (('Even',), 5), (('Plan',), 5), (('James',), 5), (('Director',), 5), (('Michael',), 5), (('Inauguration',), 5), (('American',), 5), (('BLASTS',), 5), (('SUNDAY',), 5), (('Say',), 5), (('Comments',), 5), (('not',), 5), (('Country',), 5), (('Dangerous',), 5), (('Cops',), 5), (('Ivanka',), 5), (('Obamacare',), 5), (('Close',), 5), (('Photo',), 5), (('Owner',), 5), (('Epic',), 5), (('SANDERS',), 5), (('CA',), 5), (('IRAN',), 5), (('Shows',), 5), (('Sex',), 5), (('Getting',), 5), (('Statement',), 5), (('Reveals',), 5), (('Email',), 5), (('SPEECH',), 5), (('Son',), 5), (('DNC',), 5), (('Where',), 5), (('‘The',), 5), (('Conference',), 5), (('MILLION',), 5), (('BE',), 5), (('Middle',), 5), (('IF',), 5), (('HERE’S',), 5), (('Leader',), 5), (('North',), 5), (('Hollywood',), 5), (('Probe',), 5), (('Crowd',), 5), (('JUDGE',), 5), (('have',), 5), (('City',), 5), (('Taxpayer',), 5), (('Action',), 5), (('Mexico',), 5), (('POLICE',), 5), (('Class',), 5), (('March',), 5), (('Through',), 5), (('Fire',), 5), (('Fight',), 5), (('Insane',), 5), (('Voted',), 5), (('Clinton’s',), 5), (('Job',), 5), (('TERRORIST',), 5), (('4',), 5), (('Same',), 5), (('Free',), 5), (('#BlackLivesMatter',), 5), (('Behind',), 5), (('Activist',), 5), (('Full',), 5), (('Race',), 5), (('Last',), 5), (('Supreme',), 5), (('Carson',), 5), (('Report',), 5), (('Its',), 5), (('Room',), 5), (('Mayor',), 4), (('Force',), 4), (('Religion',), 4), (('Transgender',), 4), (('Anyone',), 4), (('Protesters',), 4), (('Release',), 4), (('Lame',), 4), (('America’s',), 4), (('WHITE',), 4), (('Cuts',), 4), (('NYC',), 4), (('Campus',), 4), (('Undercover',), 4), (('Need',), 4), (('Stop',), 4), (('Small',), 4), (('Lying',), 4), (('Muslims',), 4), (('WHO',), 4), (('Fraud',), 4), (('Effort',), 4), (('Group',), 4), (('Presidential',), 4), (('AWESOME!',), 4), (('GENERAL',), 4), (('Threat',), 4), (('DESTROYED',), 4), (('Thing',), 4), (('Too',), 4), (('Running',), 4), (('Nation',), 4), (('TAKE',), 4), (('DC',), 4), (('They’re',), 4), (('TREY',), 4), (('GOWDY',), 4), (('WHAT',), 4), (('Proves',), 4), (('Arrested',), 4), (('Service',), 4), (('VP',), 4), (('Attend',), 4), (('Intelligence',), 4)]\n",
      "\n",
      "\n",
      "Most common words in text, real:\n",
      " [(('the',), 19757), (('to',), 11259), (('of',), 9476), (('a',), 8594), (('and',), 8527), (('in',), 7958), (('on',), 4864), (('that',), 3746), (('for',), 3699), (('said',), 3285), (('is',), 2579), (('The',), 2553), (('with',), 2468), (('was',), 2260), (('by',), 2173), (('has',), 2161), (('s',), 2126), (('as',), 2018), (('he',), 1973), (('U.S.',), 1850), (('from',), 1833), (('have',), 1673), (('not',), 1594), (('his',), 1567), (('be',), 1546), (('it',), 1523), (('Trump',), 1469), (('an',), 1466), (('-',), 1432), (('would',), 1414), (('at',), 1356), (('who',), 1257), (('will',), 1245), (('had',), 1242), (('are',), 1210), (('said.',), 1052), (('(Reuters)',), 993), (('its',), 985), (('which',), 967), (('been',), 933), (('were',), 867), (('but',), 805), (('after',), 805), (('President',), 801), (('they',), 787), (('United',), 781), (('their',), 771), (('more',), 758), (('this',), 727), (('about',), 722), (('told',), 703), (('also',), 697), (('government',), 693), (('or',), 680), (('over',), 625), (('Republican',), 582), (('House',), 569), (('last',), 558), (('could',), 554), (('people',), 550), (('than',), 521), (('other',), 501), (('against',), 499), (('we',), 490), (('former',), 483), (('some',), 479), (('In',), 465), (('I',), 463), (('Trump’s',), 462), (('Donald',), 451), (('two',), 447), (('new',), 444), (('one',), 440), (('out',), 439), (('He',), 439), (('no',), 437), (('when',), 431), (('up',), 426), (('her',), 426), (('A',), 425), (('she',), 420), (('into',), 419), (('States',), 418), (('North',), 412), (('first',), 405), (('military',), 397), (('It',), 389), (('Democratic',), 388), (('between',), 387), (('including',), 384), (('any',), 380), (('state',), 379), (('if',), 369), (('did',), 367), (('all',), 367), (('presidential',), 365), (('political',), 361), (('president',), 357), (('since',), 357), (('White',), 351)]\n"
     ]
    },
    {
     "name": "stdout",
     "output_type": "stream",
     "text": [
      "\n",
      "\n",
      "Most common words in text, fake:\n",
      " [(('the',), 20280), (('to',), 12223), (('of',), 9983), (('and',), 9422), (('a',), 8769), (('in',), 6434), (('that',), 5964), (('s',), 5465), (('is',), 4611), (('for',), 3838), (('on',), 3169), (('Trump',), 2777), (('was',), 2741), (('he',), 2582), (('with',), 2579), (('his',), 2395), (('it',), 2290), (('as',), 2184), (('by',), 2070), (('be',), 2039), (('are',), 1924), (('have',), 1829), (('this',), 1825), (('not',), 1756), (('who',), 1747), (('has',), 1727), (('I',), 1711), (('The',), 1670), (('t',), 1641), (('from',), 1599), (('they',), 1545), (('at',), 1512), (('an',), 1428), (('you',), 1373), (('about',), 1344), (('their',), 1215), (('we',), 1089), (('or',), 1019), (('but',), 1015), (('will',), 1008), (('been',), 986), (('would',), 969), (('said',), 946), (('all',), 908), (('were',), 874), (('people',), 858), (('her',), 834), (('out',), 833), (('what',), 814), (('Donald',), 811), (('she',), 785), (('one',), 785), (('more',), 775), (('can',), 766), (('like',), 749), (('just',), 727), (('had',), 721), (('when',), 718), (('our',), 716), (('which',), 709), (('It',), 701), (('Obama',), 688), (('if',), 670), (('so',), 653), (('also',), 646), (('no',), 643), (('up',), 625), (('Clinton',), 624), (('than',), 598), (('because',), 585), (('President',), 582), (('He',), 576), (('after',), 568), (('This',), 567), (('there',), 562), (('into',), 552), (('Hillary',), 548), (('any',), 539), (('do',), 519), (('only',), 518), (('even',), 515), (('other',), 514), (('over',), 503), (('We',), 501), (('how',), 497), (('them',), 483), (('being',), 479), (('him',), 477), (('re',), 475), (('should',), 474), (('its',), 473), (('against',), 468), (('American',), 435), (('some',), 420), (('going',), 418), (('In',), 416), (('told',), 412), (('time',), 408), (('your',), 398), (('could',), 393)]\n"
     ]
    }
   ],
   "source": [
    "uni_title_real = ngram_tokenizer(title0, n=1)\n",
    "uni_title_fake = ngram_tokenizer(title1, n=1)\n",
    "uni_text_real = ngram_tokenizer(text0, n=1)\n",
    "uni_text_fake = ngram_tokenizer(text1, n=1)\n",
    "\n",
    "word_counter = Counter(uni_title_real)\n",
    "print('\\n\\nMost common words in title, real:\\n',word_counter.most_common(500))\n",
    "\n",
    "word_counter = Counter(uni_title_fake)\n",
    "print('\\n\\nMost common words in title, fake:\\n',word_counter.most_common(500))\n",
    "\n",
    "word_counter = Counter(uni_text_real)\n",
    "print('\\n\\nMost common words in text, real:\\n',word_counter.most_common(100))\n",
    "\n",
    "word_counter = Counter(uni_text_fake)\n",
    "print('\\n\\nMost common words in text, fake:\\n',word_counter.most_common(100))"
   ]
  },
  {
   "cell_type": "markdown",
   "id": "a08a52d0",
   "metadata": {},
   "source": [
    "### Findings\n",
    "Following interesting features were found in fake news:\n",
    "- **\"Video\"** is one of the most frequent title words\n",
    "- **Various special charactors** in title\n",
    "- **Exclamation** marks (!, ?) are frequently used, which make fake news sounds **emotional**.\n",
    "- **First names** occurs frequently, which is not preferred in real news to be concise. \n",
    "- A lot of **\"@\"** in text, probably they spread fake news by **quoting social media**, like a **rumor** is generated by quoting other person.\n",
    "\n",
    "### To consider in preprocessings\n",
    "- Handling **noise, like \"'s\", \"n't\"**, without loss of meanings.\n",
    "- Tag words with **\"\\*\"** charactor (probably a slang, which is not used in real news)\n",
    "- Capical letters: a little headache about proper noun\n",
    "    - \"U.S.\" or \"U.N.\" shouldn't be \"us\" or \"un\" by removing special characters and lower case.\n",
    "        - Solution: **\"U.S.\", \"U.N.\" -> \"u_s_\", \"u_n_\"**\n",
    "    - EU, PM, UK: two charactor words. Should lengthen them.\n",
    "        - Solution: **\"EU\" -> e_u_**\n",
    "    - Change meaning if lower cased: North, South, House, White, State, May ...\n",
    "        - Context matter. Attention model might work if trained, however, not a first thing to do now.\n",
    "        - Solution: For now, change frequent words of them manualy. **House -> house_**\n",
    "- Change **\"-\" as a space** because it connects two words and you want to keep them spaced.\n",
    "- Remove other **special charactor**.\n",
    "- Remove **stop words**\n",
    "\n",
    "\n",
    "\n"
   ]
  },
  {
   "cell_type": "markdown",
   "id": "03d24414",
   "metadata": {},
   "source": [
    "# Frequent words - n Gram"
   ]
  },
  {
   "cell_type": "code",
   "execution_count": 13,
   "id": "189f2512",
   "metadata": {
    "scrolled": true
   },
   "outputs": [
    {
     "name": "stdout",
     "output_type": "stream",
     "text": [
      "Bigram =============================\n",
      "\n",
      "\n",
      "\n",
      "Most common words in title, real:\n",
      " [(('White', 'House'), 36), (('North', 'Korea'), 32), (('Supreme', 'Court'), 17), (('Trump', 'to'), 16), (('calls', 'for'), 12), (('Puerto', 'Rico'), 11), (('to', 'be'), 10), (('to', 'meet'), 10), (('South', 'Korea'), 9), (('Trump', 'says'), 9), (('says', 'U.S.'), 8), (('travel', 'ban'), 8), (('Trump', 'administration'), 8), (('ahead', 'of'), 8), (('Islamic', 'State'), 8), (('of', 'Trump'), 8), (('for', 'U.S.'), 7), (('in', 'U.S.'), 7), (('to', 'hold'), 7), (('to', 'lead'), 7), (('on', 'North'), 7), (('says', 'he'), 6), (('House', 'says'), 6), (('North', 'Korean'), 6), (('Iran', 'nuclear'), 6), (('aimed', 'at'), 6), (('Trump', 'on'), 6), (('U.S.', 'lawmakers'), 6), (('U.S.', 'Senate'), 6), (('will', 'not'), 5), (('China', 'says'), 5), (('to', 'discuss'), 5), (('to', 'U.S.'), 5), (('House', 'Speaker'), 5), (('in', 'Syria'), 5), (('China', 'to'), 5), (('Reuters/Ipsos', 'poll'), 5), (('to', 'nominate'), 5), (('of', 'state'), 5), (('U.S.', 'health'), 5), (('nuclear', 'deal'), 5), (('to', 'Trump'), 5), (('of', 'U.S.'), 5), (('Senator', 'McCain'), 5), (('U.S.', 'sanctions'), 4), (('Trump', 'travel'), 4), (('on', 'Trump'), 4), (('finance', 'minister'), 4), (('corruption', 'charges'), 4), (('high', 'court'), 4), (('U.S.', 'House'), 4), (('Speaker', 'Ryan'), 4), (('ruling', 'party'), 4), (('says', 'Trump'), 4), (('Russia', 'says'), 4), (('killed', 'in'), 4), (('Tillerson', 'says'), 4), (('says', 'will'), 4), (('aid', 'to'), 4), ((\"China's\", 'Xi'), 4), (('will', 'be'), 4), (('in', 'Russia'), 4), (('hopes', 'for'), 4), (('official', 'says'), 4), (('vote', 'on'), 4), (('with', 'Russian'), 4), (('on', 'Twitter'), 4), (('meeting', 'with'), 4), (('next', 'week'), 4), (('human', 'rights'), 4), (('says', 'it'), 4), (('plays', 'down'), 4), (('U.S.', 'to'), 4), (('deal', 'on'), 4), (('at', 'least'), 4), (('at', 'U.N.'), 4), (('Obama', 'to'), 4), (('to', 'make'), 4), (('U.S.', 'Congress'), 4), (('to', 'visit'), 4), (('South', 'African'), 4), (('on', 'U.S.'), 4), (('air', 'strikes'), 4), (('Trump', 'would'), 4), (('South', \"Africa's\"), 4), (('Korean', 'peninsula'), 4), (('tax', 'reform'), 4), (('to', 'military'), 3), (('to', 'push'), 3), (('talks', 'with'), 3), (('House', 'tax'), 3), (('tax', 'bill'), 3), (('administration', 'to'), 3), (('Court', 'nominee'), 3), (('after', 'U.S.'), 3), (('to', 'allow'), 3), (('in', 'the'), 3), (('this', 'week'), 3), (('Hurricane', 'Irma'), 3), (('social', 'media'), 3), (('could', 'be'), 3), (('Factbox:', 'Trump'), 3), (('is', 'not'), 3), (('Xi', 'says'), 3), (('case', 'of'), 3), (('new', 'U.S.'), 3), (('calls', 'Trump'), 3), (('new', 'sanctions'), 3), (('U.S.', 'lawmaker'), 3), (('bill', 'to'), 3), (('meet', 'on'), 3), (('House', 'bid'), 3), (('end', 'of'), 3), (('to', 'face'), 3), (('U.S.', 'energy'), 3), (('North', 'Korea,'), 3), (('Iran', 'says'), 3), (('ban', 'on'), 3), (('What', 'a'), 3), (('a', 'President'), 3), (('would', 'do'), 3), ((\"Lebanon's\", 'Hariri'), 3), (('The', 'Trump'), 3), (('Trump', 'presidency'), 3), (('presidency', 'on'), 3), (('not', 'a'), 3), (('meet', 'with'), 3), (('Irish', 'border'), 3), (('with', 'North'), 3), (('State', 'claims'), 3), (('says', 'its'), 3), (('to', 'see'), 3), (('working', 'with'), 3), (('pick', 'for'), 3), (('France', 'to'), 3), (('Trump', 'defends'), 3), (('Red', 'Cross'), 3), (('attack', 'on'), 3), (('Korea', 'says'), 3), (('climate', 'change'), 3), (('in', 'new'), 3), (('NAFTA', 'talks'), 3), (('as', 'Trump'), 3), (('hit', 'by'), 3), (('South', 'China'), 3), (('China', 'Sea'), 3), (('PM', 'May'), 3), (('committed', 'to'), 3), (('down', 'on'), 3), (('on', 'Jerusalem'), 3), (('urge', 'Trump'), 3), (('willing', 'to'), 3), (('U.S.', 'senator'), 3), (('border', 'wall'), 3), (('ahead', 'with'), 3), (('say', 'they'), 3), (('government', 'shutdown'), 3), (('attorney', 'general'), 3), (('to', 'seek'), 3), (('for', 'new'), 3), (('over', 'Trump'), 3), (('U.S.', 'Supreme'), 3), (('Brexit', 'transition'), 3), (('Korea', 'to'), 3), (('plans', 'to'), 3), (('with', 'Russia'), 3), (('Congress', 'to'), 3), (('should', 'be'), 3), (('foreign', 'minister'), 3), (('may', 'be'), 3), (('U.S.', 'election'), 3), (('to', 'stop'), 3), (('Brexit', 'deal'), 3), (('opposition', 'says'), 3), (('on', 'Brexit'), 3), (('to', 'rule'), 3), (('to', 'boost'), 3), (('corporate', 'tax'), 3), (('investigation', 'of'), 3), (('President', 'Trump'), 3), (('healthcare', 'vote'), 3), (('at', 'Republican'), 3), (('with', 'U.S.'), 3), (('Russia', 'probe'), 3), (('want', 'to'), 3), (('South', \"Korea's\"), 3), ((\"Korea's\", 'Moon'), 3), (('Syria', 'talks'), 3), (('fired', 'at'), 3), (('in', 'Myanmar'), 3), (('not', 'to'), 3), (('Ryan', 'says'), 3), (('in', 'North'), 3), (('comments', 'to'), 3), (('attack', 'in'), 3), (('leader', 'says'), 3), (('more', 'than'), 3), (('U.S.', 'attack'), 2), (('pushes', 'for'), 2), (('vow', 'to'), 2), (('Venezuela', 'to'), 2), (('Hong', 'Kong'), 2), (('Iraq', 'says'), 2), (('Ivory', 'Coast'), 2), (('with', 'Trump'), 2), (('Trump', 'immigration'), 2), ((\"Trump's\", 'team'), 2), (('for', 'his'), 2), (('did', 'not'), 2), (('Russia', 'calls'), 2), (('strikes', 'on'), 2), (('Egypt', 'says'), 2), (('Factbox:', \"Trump's\"), 2), (('U.S.', 'high'), 2), (('Ahead', 'of'), 2), (('says', \"he's\"), 2), (('to', 'buy'), 2), (('Court', 'to'), 2), (('Kenya', 'election'), 2), (('Trump', 'expected'), 2), (('expected', 'to'), 2), ((\"UK's\", 'May'), 2), (('take', 'the'), 2), (('Brexit', 'divorce'), 2), (('Japan', 'PM'), 2), (('says', 'to'), 2), (('to', 'decide'), 2), (('vote', 'this'), 2), (('week', 'to'), 2), ((\"Zimbabwe's\", 'Mugabe'), 2), (('to', \"Syria's\"), 2), (('-', 'at'), 2), (('to', 'the'), 2), (('in', 'Bangladesh'), 2), (('government', 'to'), 2), (('on', 'Monday'), 2), (('Key', 'House'), 2), (('House', 'Republican'), 2), (('on', 'healthcare'), 2), (('Zimbabwe', 'court'), 2), (('court', 'postpones'), 2), (('case', 'to'), 2), (('companies', 'to'), 2), (('to', 'block'), 2), (('U.S.,', 'Russia'), 2), (('Russia', 'can'), 2), (('Saudi', 'king'), 2), (('request', 'for'), 2), (('in', 'Germany'), 2), (('would', 'be'), 2), (('bid', 'for'), 2), (('by', 'Trump,'), 2), (('secretary', 'of'), 2), (('U.S.', 'ambassador'), 2), (('killed', 'as'), 2), (('New', 'Jersey'), 2), (('to', 'five'), 2), (('five', 'years'), 2), (('in', 'case'), 2), (('Trump', 'taps'), 2), (('health', 'secretary'), 2), (('for', 'president'), 2), (('Republicans', 'to'), 2), (('tax', 'cut'), 2), (('meets', 'with'), 2), (('sanctions', 'after'), 2), (('after', 'North'), 2), (('Korea', 'nuclear'), 2), (('nuclear', 'test'), 2), (('Trump', 'criticizes'), 2), (('officials', 'say'), 2), (('hurt', 'U.S.'), 2), (('nuclear', 'deal:'), 2), (('New', 'Hampshire'), 2), (('Pakistan', 'orders'), 2), (('crackdown', 'on'), 2), (('aims', 'to'), 2), (('in', 'Congress'), 2), (('to', 'scrap'), 2), (('to', 'sell'), 2), (('public', 'lands'), 2), (('Trump', 'considering'), 2), (('Washington', 'Post'), 2), (('EU', 'parliament'), 2), (('says', 'North'), 2), (('German', 'parliament'), 2), (('U.N.', 'warns'), 2), (('drops', 'out'), 2), (('at', 'end'), 2), (('candidate', 'for'), 2), (('of', 'Islamic'), 2), (('to', 'ban'), 2), (('to', 'North'), 2), (('try', 'to'), 2), (('2018', 'race'), 2), (('Democrat', 'says'), 2), (('says', 'China'), 2), (('Syrian', 'refugees'), 2), (('U.S.', 'Treasury,'), 2), (('concerned', 'over'), 2), (('call', 'with'), 2), (('decades', 'of'), 2), (('Republican', 'presidential'), 2), (('on', 'Feb.'), 2), (('P.M.', 'EST'), 2), (('as', 'it'), 2), (('Donald', 'Trump'), 2), (('House', 'panel'), 2), (('attacks', 'on'), 2), (('to', 'attend'), 2), (('Indonesian', 'police'), 2), (('U.S.', 'asks'), 2), (('in', \"Syria's\"), 2), (('to', 'cut'), 2), (('North', 'Korea:'), 2), (('House', 'official'), 2), (('president', 'says'), 2), (('rule', 'on'), 2), (('on', 'security'), 2), (('vie', 'for'), 2), ((\"France's\", 'Macron'), 2), (('tells', 'Trump'), 2), (('news', 'agency'), 2), (('Pope', 'says'), 2), ((\"Trump's\", 'pick'), 2), (('Britain', 'and'), 2), (('UK', 'PM'), 2), (('PM', \"May's\"), 2), (('open', 'to'), 2), (('step', 'up'), 2), (('up', 'defense'), 2), (('Senate', 'approves'), 2), (('to', 'host'), 2), (('it', 'will'), 2), (('Catalan', 'separatists'), 2), (('sanctions', 'on'), 2), (('Clinton', 'leads'), 2), (('leads', 'Trump'), 2), (('Trump', 'by'), 2), (('after', 'Democratic'), 2), (('visit', 'to'), 2), (('signals', 'support'), 2), (('support', 'for'), 2), (('U.S.', 'recognition'), 2), (('recognition', 'of'), 2), (('of', 'Jerusalem'), 2), (('Jerusalem', 'as'), 2), (('U.S.', 'defense'), 2), (('charges', 'against'), 2), (('Trump', 'team'), 2), (('U.S.', 'Republicans'), 2), (('on', 'first'), 2), (('Obama', 'says'), 2), (('to', 'turn'), 2), (('in', 'Virginia'), 2), (('to', 'deal'), 2), (('nuclear', 'weapons'), 2), (('Senate', 'to'), 2), (('to', 'act'), 2), (('McConnell', 'says'), 2), (('Hillary', 'Clinton'), 2), (('Clinton', 'in'), 2), (('of', 'plotting'), 2), (('British', 'PM'), 2), (('May', 'to'), 2), (('in', 'June'), 2), (('prosecutor', 'says'), 2), (('by', 'Obama'), 2), (('Clinton,', 'Sanders'), 2), (('during', 'anthem'), 2), (('U.S.', 'Navy'), 2), (('German', 'coalition'), 2), (('Trump', 'move'), 2), (('move', 'on'), 2), (('for', 'Puerto'), 2), (('police', 'officer'), 2), (('U.S.', 'says'), 2), (('Rohingya', 'crisis'), 2), (('U.N.', 'rights'), 2), (('to', 'talk'), 2), (('senator', 'says'), 2), (('trip', 'to'), 2), (('to', 'Cuba'), 2), (('Rico', 'debt'), 2), (('debt', 'crisis'), 2), (('oversight', 'board'), 2), (('Court', 'justice'), 2), (('Three', 'people'), 2), (('decision', 'on'), 2), (('plan', 'has'), 2), (('party', 'congress'), 2), (('EU', 'Commission'), 2), (('Senate', 'confirms'), 2), (('five-year', 'term'), 2), (('Cruz', 'White'), 2), (('to', 'raise'), 2), (('to', 'Dec.'), 2), (('review', 'of'), 2), (('independence', 'vote'), 2), (('seeks', 'to'), 2), (('to', 'extend'), 2), ((\"president's\", 'rule'), 2), (('Support', 'for'), 2), (('Democrats', 'seek'), 2), (('probe', 'of'), 2), (('seek', 're-election'), 2), (('in', 'eastern'), 2), (('of', 'coalition'), 2), (('president', 'to'), 2), (('Trump', 'at'), 2), (('Islamic', 'State,'), 2), (('State', 'Department'), 2), (('in', 'China'), 2), (('for', 'wall'), 2), (('Trump', 'talks'), 2), (('to', 'keep'), 2), (('Obamacare', 'subsidies'), 2), (('to', 'leave'), 2), ((\"Syria's\", 'Raqqa'), 2), (('trying', 'to'), 2), (('general', 'to'), 2), (('on', 'independence'), 2), (('effort', 'to'), 2), (('healthcare', 'overhaul'), 2), (('U.S.', 'will'), 2), (('for', 'a'), 2), (('set', 'to'), 2), (('more', 'men'), 2), (('refuge', 'in'), 2), (('national', 'security'), 2), (('Senate', 'Republicans'), 2), (('condemnation', 'of'), 2), (('veto', 'of'), 2), (('to', 'close'), 2), (('in', 'corruption'), 2), (('corruption', 'case'), 2), (('looks', 'to'), 2), (('with', 'Iran'), 2), (('leader', 'calls'), 2), (('calls', 'on'), 2), (('U.S.', 'policy'), 2), (('government', 'source'), 2), (('out', 'of'), 2), (('pleads', 'guilty'), 2), (('of', 'Clinton'), 2), (('of', 'crisis'), 2), (('Iraqi', 'PM'), 2), (('case', 'for'), 2), (('U.S.', 'regulation'), 2), (('shoot', 'dead'), 2), (('police', 'say'), 2), (('in', 'Florida,'), 2), (('leader', 'who'), 2), (('North', \"Korea's\"), 2), (('opposed', 'to'), 2), (('with', 'Trump,'), 2), (('appeals', 'court'), 2), (('deal', 'if'), 2), (('Northern', 'Ireland'), 2), (('Homeland', 'Security'), 2), (('U.S.', 'states'), 2), (('people', 'with'), 2), (('Venezuela', 'opposition'), 2), (('urge', 'U.S.'), 2), (('Argentina', 'says'), 2), (('detected,', 'likely'), 2), (('likely', 'from'), 2), (('from', 'missing'), 2), (('missing', 'submarine'), 2), (('U.S.', 'military'), 2), (('military', 'aid'), 2), (('Russia', 'denies'), 2), (('civilians', 'in'), 2), (('in', 'air'), 2), (('challenge', 'to'), 2), (('seeks', 'investigation'), 2), (('on', 'Tuesday'), 2), (('to', 'announce'), 2), (('Factbox:', 'Build'), 2), (('Build', 'a'), 2), (('a', 'giant'), 2), (('giant', 'wall,'), 2), (('wall,', 'cut'), 2), (('cut', 'Education'), 2), (('Education', 'Department.'), 2), (('Department.', 'What'), 2), (('to', 'name'), 2), (('at', 'risk'), 2), (('ambassador', 'over'), 2), (('Trump', 'nominee'), 2), (('Trump', 'could'), 2), (('Republican', 'convention'), 2), (('health', 'bill'), 2), (('Trump', 'win'), 2), (('Comey', 'to'), 2), (('Republicans', 'want'), 2), (('Myanmar', 'army'), 2), ((\"Peru's\", 'Kuczynski'), 2), (('Bangladesh,', 'Myanmar'), 2), (('longer', 'than'), 2)]\n",
      "\n",
      "\n",
      "Most common words in title, fake:\n",
      " [(('Donald', 'Trump'), 22), (('In', 'The'), 13), (('Trump', 'Supporter'), 13), (('President', 'Trump'), 13), (('White', 'House'), 12), (('Trump', 'Is'), 12), (('Of', 'The'), 11), (('Hillary', 'Clinton'), 10), (('Bernie', 'Sanders'), 10), (('To', 'The'), 9), (('Trump', 'Just'), 7), (('The', 'Most'), 7), (('Going', 'To'), 7), (('Republicans', 'For'), 7), (('Trump', 'For'), 7), (('And', 'It’s'), 7), (('With', 'A'), 7), (('On', 'The'), 7), (('For', 'Trump'), 7), (('Tries', 'To'), 6), (('Fox', 'News'), 6), (('For', 'Hillary'), 6), (('Is', 'A'), 6), (('Ted', 'Cruz'), 6), (('A', 'New'), 6), (('Trump', 'And'), 6), (('Of', 'Trump’s'), 6), (('Want', 'To'), 6), (('Vote', 'For'), 6), (('Trump', 'In'), 6), (('To', 'A'), 6), (('Trump', '(VIDEO)'), 6), (('For', 'The'), 5), (('Shut', 'Down'), 5), (('To', 'Make'), 5), (('On', 'Trump'), 5), (('Kellyanne', 'Conway'), 5), (('On', 'Twitter'), 5), (('Against', 'Trump'), 5), (('Trump', '[Video]'), 5), (('Response', 'To'), 5), (('Muslim', 'Ban'), 5), (('Trump', 'After'), 5), (('His', 'Own'), 5), (('To', 'Trump'), 5), (('And', 'Gets'), 5), (('FBI', 'Director'), 5), (('–', 'SUNDAY'), 5), (('SUNDAY', 'WIRE:'), 5), (('Is', 'The'), 5), (('He', 'Was'), 5), (('Trump', 'Supporters'), 5), (('Truth', 'About'), 5), (('This', 'Is'), 5), (('Press', 'Conference'), 5), (('News', 'For'), 5), (('Supreme', 'Court'), 5), (('To', 'Use'), 4), (('To', 'Get'), 4), (('Need', 'To'), 4), (('The', 'White'), 4), (('Goes', 'After'), 4), (('TREY', 'GOWDY'), 4), (('Of', 'Trump'), 4), (('To', 'Him'), 4), (('BREAKING', 'NEWS:'), 4), (('Why', 'He'), 4), (('Has', 'A'), 4), (('War', 'On'), 4), (('To', 'Take'), 4), (('A', 'Major'), 4), (('United', 'States'), 4), (('In', 'Their'), 4), (('As', 'A'), 4), (('MSNBC', 'Host'), 4), (('Don’t', 'Want'), 4), (('Trying', 'To'), 4), (('New', 'Poll'), 4), (('Forced', 'To'), 4), (('The', 'World'), 4), (('Trump', 'With'), 4), (('After', 'He'), 4), (('In', 'A'), 4), (('JUDGE', 'JEANINE'), 4), (('As', 'Trump'), 4), (('At', 'A'), 4), (('Black', 'Lives'), 4), (('On', 'His'), 4), (('New', 'York'), 4), (('RACE', 'WAR'), 4), (('Attack', 'On'), 4), (('President', 'Obama'), 4), (('The', 'GOP'), 4), (('Just', 'Got'), 4), (('Like', 'A'), 4), (('It', 'Was'), 4), (('In', 'His'), 4), (('To', 'Be'), 4), (('Caught', 'On'), 4), (('Boiler', 'Room'), 4), (('After', 'She'), 3), (('Transgender', 'Bathroom'), 3), (('Bathroom', 'Decree'), 3), (('Facebook', 'Post'), 3), (('A', 'HUGE'), 3), (('Leftist', 'Media'), 3), (('West', 'Virginia'), 3), (('Just', 'Made'), 3), (('Attempt', 'To'), 3), (('BILL', 'CLINTON'), 3), (('to', 'the'), 3), (('Watch', 'This'), 3), (('To', 'Stop'), 3), (('At', 'Trump'), 3), (('In', 'US'), 3), (('Off', 'Stage'), 3), (('Voter', 'Fraud'), 3), (('Effort', 'To'), 3), (('Here’s', 'What'), 3), (('On', 'Black'), 3), (('May', 'Have'), 3), (('Trump', 'Tries'), 3), (('Trump', 'Has'), 3), (('And', 'Trump'), 3), (('Running', 'For'), 3), (('To', 'Give'), 3), (('Will', 'Make'), 3), (('Republicans', 'To'), 3), (('To', 'His'), 3), (('PRESIDENT', 'TRUMP'), 3), (('Jay', 'Dyer'), 3), (('Susan', 'Rice'), 3), (('Most', 'Dangerous'), 3), (('Was', 'A'), 3), (('TOMI', 'LAHREN'), 3), (('Trump', '[VIDEO]'), 3), (('WAR', 'ON'), 3), (('For', 'His'), 3), (('When', 'He'), 3), (('Lied', 'About'), 3), (('Jeff', 'Sessions'), 3), (('And', 'It'), 3), (('This', 'One'), 3), (('Trump', 'Jr.'), 3), (('MUST', 'WATCH'), 3), (('FOR', 'TRUMP'), 3), (('Trump', 'Gets'), 3), (('By', 'A'), 3), (('BERNIE', 'SANDERS'), 3), (('“I', 'don’t'), 3), (('To', 'Go'), 3), (('F*ck', 'Himself'), 3), (('Just', 'Told'), 3), (('For', 'President'), 3), (('HILLARY', 'CLINTON'), 3), (('To', 'Help'), 3), (('The', 'United'), 3), (('President', 'Trump’s'), 3), (('Trump', 'To'), 3), (('Ron', 'Paul'), 3), (('‘Fake', 'News’'), 3), (('Him', 'On'), 3), (('Donald', 'Trump,'), 3), (('Who', 'Said'), 3), (('About', 'Trump'), 3), (('The', 'Middle'), 3), (('Nancy', 'Pelosi'), 3), (('On', 'Him'), 3), (('Gets', 'His'), 3), (('His', 'A**'), 3), (('A**', 'Handed'), 3), (('Handed', 'To'), 3), (('BLACK', 'LIVES'), 3), (('LIVES', 'MATTER'), 3), (('For', 'Trump’s'), 3), (('James', 'Comey'), 3), (('She', 'Was'), 3), (('Over', 'Russian'), 3), (('Money', 'To'), 3), (('Was', 'Born'), 3), (('Lives', 'Matter'), 3), (('Donald', 'Trump’s'), 3), (('Planned', 'Parenthood'), 3), (('Way', 'To'), 3), (('List', 'Of'), 3), (('York', 'Times'), 3), (('To', 'Fight'), 3), (('Fight', 'Back'), 3), (('WATCH:', 'Trump'), 3), (('Trump', 'A'), 3), (('Hillary', 'Clinton’s'), 3), (('TRUMP', 'SUPPORTER'), 3), (('America', 'Great'), 3), (('Question', 'About'), 3), (('For', 'Her'), 3), (('To', 'Vote'), 3), (('The', 'Same'), 3), (('On', 'Trip'), 3), (('going', 'to'), 3), (('Women’s', 'March'), 3), (('Refuses', 'To'), 3), (('To', 'Wear'), 3), (('To', 'See'), 3), (('Paul', 'Ryan'), 3), (('Responds', 'To'), 3), (('Trump', 'Fan'), 3), (('Out', 'Of'), 3), (('OBAMA’S', 'WAR'), 3), (('in', 'the'), 3), (('OBAMA', 'AND'), 3), (('Border', 'Wall'), 3), (('Secretary', 'Of'), 3), (('Of', 'State'), 3), (('To', 'Have'), 3), (('Be', 'A'), 3), (('Jake', 'Tapper'), 3), (('Under', 'Trump'), 3), (('Why', 'Trump'), 3), (('To', 'Destroy'), 3), (('Video', 'Of'), 3), (('Right', 'To'), 3), (('Trump', 'Will'), 3), (('Should', 'Be'), 3), (('Stock', 'Market'), 3), (('In', 'Trump’s'), 3), (('Credit', 'For'), 3), (('Here’s', 'Why'), 3), (('Trump', 'Over'), 3), (('Plans', 'To'), 3), (('If', 'You'), 3), (('Vote', 'In'), 3), (('Professor', 'Who'), 3), (('Helping', 'To'), 2), (('Sexual', 'Harassment'), 2), (('To', 'Force'), 2), (('STUNNING', 'BETRAYAL!'), 2), (('BETRAYAL!', '43'), 2), (('43', 'REPUBLICANS,'), 2), (('REPUBLICANS,', 'In'), 2), (('In', 'Dark'), 2), (('Dark', 'Of'), 2), (('Of', 'Night'), 2), (('Night', 'Vote'), 2), (('Vote', 'To'), 2), (('To', 'Approve'), 2), (('Approve', 'Obama’s'), 2), (('Obama’s', 'Transgender'), 2), (('And', 'Hypocrisy'), 2), (('F*ck', 'You'), 2), (('Giving', 'A'), 2), (('TO', 'THE'), 2), (('U.S.', 'To'), 2), (('Freak', 'Out'), 2), (('Trump', 'Win'), 2), (('VIRAL', 'VIDEO:'), 2), (('Hillary', 'Is'), 2), (('Candidate', 'Is'), 2), (('BLACK', 'RADIO'), 2), (('To', 'Tie'), 2), (('Asks', 'If'), 2), (('If', 'She'), 2), (('Firing', 'Comey'), 2), (('Over', 'His'), 2), (('And', 'Hillary'), 2), (('They', 'Don’t'), 2), (('IN', 'HIS'), 2), (('Clinton', 'and'), 2), (('NEW', 'YORK'), 2), (('YORK', 'TIMES'), 2), (('Bias', 'Against'), 2), (('To', 'Trump’s'), 2), (('Trump’s', 'Muslim'), 2), (('Get', 'Into'), 2), (('CNN', 'Host'), 2), (('CALLS', 'OUT'), 2), (('Watch', 'What'), 2), (('What', 'Happens'), 2), (('Happens', 'When'), 2), (('When', 'A'), 2), (('The', 'Wrong'), 2), (('Religion', 'Of'), 2), (('ERIC', 'HOLDER'), 2), (('IN', 'A'), 2), (('IN', 'THE'), 2), (('SPEAKER', 'SCHEDULED'), 2), (('SCHEDULED', 'TO'), 2), (('TO', 'Praise'), 2), (('Praise', 'Hillary'), 2), (('Hillary', 'Totally'), 2), (('Totally', 'Trashes'), 2), (('Trashes', 'Her…Taken'), 2), (('Her…Taken', 'Off'), 2), (('Stage', 'By'), 2), (('By', 'Security'), 2), (('Security', '[Video]'), 2), (('Way', 'Possible'), 2), (('Stop', 'Trump'), 2), (('Trump', 'Ends'), 2), (('Just', 'Like'), 2), (('Elizabeth', 'Warren'), 2), (('To', 'Defend'), 2), (('To', 'Explain'), 2), (('ATTORNEY', 'GENERAL'), 2), (('THE', 'FBI'), 2), (('A', 'Terror'), 2), (('Worse', 'Than'), 2), (('What', 'He'), 2), (('He', 'Said'), 2), (('Gets', 'DESTROYED'), 2), (('DESTROYED', 'On'), 2), (('Author', 'Of'), 2), (('SAY', 'WHAT?'), 2), (('Obama', 'Gives'), 2), (('Plan', 'To'), 2), (('WATCH:', 'Fox'), 2), (('Think', 'President'), 2), (('TO', 'RUN'), 2), (('After', 'They'), 2), (('They', 'Got'), 2), (('BOOM!', 'WATCH'), 2), (('Comey', 'In'), 2), (('as', 'a'), 2), (('for', 'the'), 2), (('of', 'the'), 2), (('Michael', 'Brown'), 2), (('Try', 'To'), 2), (('Secret', 'Service'), 2), (('Trump', 'Transition'), 2), (('Transition', 'Team'), 2), (('Inauguration', '(VIDEO)'), 2), (('Foreign', 'Policy'), 2), (('Means', 'For'), 2), (('Hillary', 'Supporters'), 2), (('OFF', 'On'), 2), (('To', 'Kill'), 2), (('The', 'Media'), 2), (('Episode', '#199'), 2), (('#199', '–'), 2), (('WIRE:', '‘Trigger'), 2), (('‘Trigger', 'Warning:'), 2), (('Warning:', 'ID'), 2), (('ID', 'Politics’'), 2), (('Politics’', 'with'), 2), (('with', 'Gilad'), 2), (('Gilad', 'Atzmon'), 2), (('Atzmon', 'and'), 2), (('and', 'Jay'), 2), (('Flag', 'In'), 2), (('When', 'They'), 2), (('CHRIS', 'MATTHEWS'), 2), (('MUSLIM', 'MAYOR'), 2), (('“If', 'you'), 2), (('ILLEGAL', 'ALIENS'), 2), (('Trump', 'Threatens'), 2), (('Him', '(TWEET)'), 2), (('For', 'Not'), 2), (('ADMITS', 'To'), 2), (('Defense', 'Of'), 2), (('Has', 'PERFECT'), 2), (('PERFECT', 'Response'), 2), (('FOR', 'HILLARY:'), 2), (('Black', 'Man'), 2), (('Political', 'Correctness'), 2), (('Ivanka', 'Trump'), 2), (('Trump', 'On'), 2), (('The', 'Left'), 2), (('THE', 'BENGHAZI'), 2), (('BENGHAZI', 'LIARS'), 2), (('LIARS', 'Are'), 2), (('Are', 'Back:'), 2), (('Back:', 'Susan'), 2), (('Rice', 'And'), 2), (('And', 'Adam'), 2), (('Adam', 'Schiff'), 2), (('Schiff', 'Are'), 2), (('Are', 'Once'), 2), (('Once', 'Again'), 2), (('Again', 'Caught'), 2), (('Caught', 'In'), 2), (('In', 'Another'), 2), (('Another', 'Huge'), 2), (('Huge', 'Scandal…Only'), 2), (('Scandal…Only', 'This'), 2), (('This', 'Time'), 2), (('Time', 'Their'), 2), (('Their', 'Target'), 2), (('Target', 'Is'), 2), (('Is', 'President'), 2), (('MICHELLE', 'OBAMA'), 2), (('Come', 'To'), 2), (('Election', 'Loss'), 2), (('When', 'Hillary'), 2), (('The', 'News'), 2), (('About', 'Her'), 2), (('Hillary', '(VIDEO)'), 2), (('THE', 'MEDIA'), 2), (('Trump', 'At'), 2), (('Tucker', 'Carlson'), 2), (('Senator', 'Jeff'), 2), (('Found', 'With'), 2), (('Look', 'Who'), 2), (('Heated', 'Debate'), 2), (('Debate', 'With'), 2), (('Under', 'President'), 2), (('It', 'Will'), 2), (('Is', 'To'), 2), (('Family', 'Of'), 2), (('Photo', 'With'), 2), (('To', 'Obama'), 2), (('After', 'Meeting'), 2), (('And', 'Other'), 2), (('About', 'Trump’s'), 2), (('Working', 'Together'), 2), (('Want', 'You'), 2), (('You', 'to'), 2), (('Back', 'To'), 2), (('John', 'McCain'), 2), (('The', 'Senate'), 2), (('And', 'His'), 2), (('Dan', 'Rather'), 2), (('For', 'Calling'), 2), (('know', 'what'), 2), (('‘America', 'First’'), 2), (('WATCH', 'This'), 2), (('Says', 'She'), 2), (('She', 'Could'), 2), (('Why', 'Is'), 2), (('CNN', 'Anchor'), 2), (('Go', 'F*ck'), 2), (('Left', 'Is'), 2), (('Lying', 'About'), 2), (('Water', 'Crisis'), 2), (('Jeff', 'Sessions’'), 2), (('Star', 'Makes'), 2), (('It’s', 'Perfect'), 2), (('Sanders', 'Just'), 2), (('Possible', 'Way'), 2), (('Way', '(VIDEO)'), 2), (('To', 'Prove'), 2), (('OF', 'OBAMA’S'), 2), (('Their', 'Country'), 2), (('The', 'Truth'), 2), (('Shocking', 'Number'), 2), (('Number', 'Of'), 2), (('Illegal', 'Aliens'), 2), (('Arrested', 'For'), 2), (('Sex', 'With'), 2), (('Trump', 'to'), 2), (('Makes', 'Shocking'), 2), (('RIPS', 'Republicans'), 2), (('BOILER', 'ROOM'), 2), (('ROOM', '–'), 2), (('–', 'EP'), 2), (('Bye', 'Bye'), 2), (('Message', 'To'), 2), (('So', 'He'), 2), (('Her', 'Into'), 2), (('TIED', 'TO'), 2), (('House', 'To'), 2), (('Trump', 'Was'), 2), (('On', 'A'), 2), (('By', 'FBI'), 2), (('FBI', 'For'), 2), (('The', 'Democratic'), 2), (('Democratic', 'Nominee'), 2), (('Voter', 'Suppression'), 2), (('That', 'Will'), 2), (('From', 'The'), 2), (('Year', 'Old'), 2), (('The', 'Air'), 2), (('Talking', 'About'), 2), (('Sanders', 'Supporters'), 2), (('Asked', 'If'), 2), (('Hillary', 'If'), 2), (('Told', 'Trump'), 2), (('Women', 'and'), 2), (('Takes', 'A'), 2), (('ANTI-TRUMP', 'PROTESTERS'), 2), (('Rally', '[Video]'), 2), (('of', 'Mainstream'), 2), (('FORMER', 'U.S.'), 2), (('U.S.', 'ATTORNEY:'), 2), (('FBI', 'DIRECTOR'), 2), (('Of', 'Hillary’s'), 2), (('For', 'Asking'), 2), (('Woman', 'On'), 2), (('Is', 'Working'), 2), (('Opinion', 'Of'), 2), (('Trump,', 'This'), 2), (('Sean', 'Hannity'), 2), (('About', 'It'), 2), (('Henningsen', 'on'), 2), (('Alec', 'Baldwin'), 2), (('RUN', 'FOR'), 2), (('Out', 'To'), 2), (('Down', 'The'), 2), (('Of', 'Clinton'), 2), (('TO', 'BE'), 2), (('Middle', 'Of'), 2), (('Church', 'Service'), 2)]\n",
      "\n",
      "\n",
      "Most common words in text, real:\n",
      " [(('of', 'the'), 2162), (('in', 'the'), 1863), (('(Reuters)', '-'), 993), (('to', 'the'), 986), (('on', 'the'), 763), (('for', 'the'), 740), (('in', 'a'), 719), (('the', 'United'), 650), (('and', 'the'), 598), (('with', 'the'), 509), (('by', 'the'), 499), (('said', 'on'), 496), (('the', 'U.S.'), 492), (('at', 'the'), 463), (('that', 'the'), 454), (('to', 'be'), 430), (('said', 'the'), 429), (('of', 'a'), 426), (('from', 'the'), 417), (('United', 'States'), 415), (('said', 'in'), 360), (('as', 'a'), 347), (('to', 'a'), 334), (('has', 'been'), 317), (('did', 'not'), 295), (('White', 'House'), 294), (('will', 'be'), 285), (('according', 'to'), 284), (('WASHINGTON', '(Reuters)'), 283), (('Donald', 'Trump'), 279), (('for', 'a'), 272), (('said', 'he'), 268), (('President', 'Donald'), 265), (('more', 'than'), 260), (('would', 'be'), 241), (('have', 'been'), 234), (('is', 'a'), 232), (('he', 'said.'), 225), (('had', 'been'), 214), (('as', 'the'), 210), (('it', 'was'), 207), (('over', 'the'), 201), (('after', 'the'), 199), (('the', 'first'), 197), (('one', 'of'), 195), (('on', 'Wednesday'), 195), (('on', 'Monday'), 190), (('and', 'a'), 189), (('on', 'Tuesday'), 187), (('on', 'a'), 185), (('-', 'The'), 181), (('the', 'White'), 181), (('the', 'government'), 175), (('on', 'Thursday'), 174), (('with', 'a'), 173), (('at', 'a'), 173), (('that', 'he'), 173), (('North', 'Korea'), 167), (('he', 'was'), 166), (('said', 'it'), 166), (('of', 'his'), 165), (('about', 'the'), 163), (('said.', 'The'), 161), (('he', 'would'), 160), (('Trump', 'has'), 157), (('has', 'said'), 156), (('and', 'other'), 152), (('on', 'Friday'), 150), (('part', 'of'), 149), (('is', 'the'), 149), (('going', 'to'), 148), (('a', 'new'), 142), (('U.S.', 'President'), 141), (('Islamic', 'State'), 141), (('is', 'not'), 136), (('the', 'country'), 136), (('New', 'York'), 136), (('during', 'the'), 135), (('was', 'a'), 132), (('a', 'statement'), 132), (('of', 'its'), 127), (('-', 'U.S.'), 126), (('said', 'that'), 126), (('in', 'an'), 126), (('to', 'take'), 125), (('expected', 'to'), 124), (('out', 'of'), 124), (('by', 'a'), 123), (('it', 'is'), 121), (('President', 'Barack'), 120), (('and', 'that'), 119), (('between', 'the'), 118), (('that', 'it'), 118), (('it', 'would'), 116), (('due', 'to'), 115), (('Prime', 'Minister'), 115), (('to', 'make'), 114), (('he', 'had'), 113), (('the', 'Republican'), 113), (('to', 'have'), 112)]\n"
     ]
    },
    {
     "name": "stdout",
     "output_type": "stream",
     "text": [
      "\n",
      "\n",
      "Most common words in text, fake:\n",
      " [(('of', 'the'), 2241), (('in', 'the'), 1481), (('to', 'the'), 1136), (('on', 'the'), 750), (('to', 'be'), 683), (('that', 'the'), 650), (('for', 'the'), 613), (('Trump', 's'), 565), (('and', 'the'), 558), (('Donald', 'Trump'), 525), (('is', 'a'), 459), (('at', 'the'), 451), (('with', 'the'), 447), (('it', 's'), 436), (('in', 'a'), 433), (('of', 'a'), 431), (('by', 'the'), 399), (('from', 'the'), 397), (('as', 'a'), 390), (('don', 't'), 372), (('that', 'he'), 345), (('has', 'been'), 343), (('is', 'the'), 311), (('going', 'to'), 290), (('the', 'United'), 290), (('It', 's'), 288), (('have', 'been'), 277), (('he', 's'), 269), (('about', 'the'), 264), (('he', 'was'), 259), (('to', 'a'), 258), (('with', 'a'), 247), (('image', 'via'), 246), (('Hillary', 'Clinton'), 244), (('s', 'a'), 233), (('for', 'a'), 233), (('one', 'of'), 232), (('would', 'be'), 229), (('will', 'be'), 228), (('doesn', 't'), 227), (('and', 'his'), 226), (('as', 'the'), 223), (('White', 'House'), 216), (('of', 'his'), 214), (('is', 'not'), 214), (('out', 'of'), 210), (('the', 'White'), 209), (('according', 'to'), 207), (('was', 'a'), 205), (('want', 'to'), 203), (('I', 'm'), 202), (('that', 's'), 200), (('didn', 't'), 200), (('This', 'is'), 199), (('United', 'States'), 189), (('it', 'was'), 187), (('to', 'do'), 184), (('that', 'they'), 181), (('Trump', 'is'), 181), (('it', 'is'), 177), (('s', 'not'), 175), (('New', 'York'), 174), (('to', 'make'), 173), (('more', 'than'), 171), (('have', 'a'), 171), (('the', 'U.S.'), 170), (('and', 'that'), 166), (('and', 'a'), 163), (('part', 'of'), 163), (('to', 'get'), 161), (('into', 'the'), 161), (('to', 'have'), 161), (('this', 'is'), 159), (('trying', 'to'), 159), (('should', 'be'), 157), (('the', 'same'), 157), (('that', 'Trump'), 155), (('they', 'are'), 153), (('the', 'most'), 151), (('that', 'it'), 150), (('s', 'the'), 149), (('the', 'Republican'), 148), (('can', 't'), 147), (('over', 'the'), 146), (('Obama', 's'), 145), (('on', 'a'), 145), (('the', 'first'), 145), (('during', 'the'), 144), (('and', 'it'), 143), (('in', 'his'), 142), (('have', 'to'), 140), (('by', 'a'), 139), (('be', 'a'), 137), (('is', 'that'), 135), (('he', 'is'), 135), (('said', 'that'), 134), (('isn', 't'), 133), (('you', 're'), 132), (('the', 'Trump'), 126), (('the', 'world'), 125)]\n",
      "Trigram =============================\n",
      "\n",
      "\n",
      "\n",
      "Most common words in title, real:\n",
      " [(('White', 'House', 'says'), 6), (('on', 'North', 'Korea'), 6), (('Trump', 'travel', 'ban'), 4), (('House', 'Speaker', 'Ryan'), 4), (('Trump', 'on', 'Twitter'), 4), (('Trump', 'administration', 'to'), 3), (('Supreme', 'Court', 'nominee'), 3), (('Trump', 'to', 'nominate'), 3), (('to', 'meet', 'on'), 3), (('White', 'House', 'bid'), 3), (('Iran', 'nuclear', 'deal'), 3), (('What', 'a', 'President'), 3), (('The', 'Trump', 'presidency'), 3), (('Trump', 'presidency', 'on'), 3), (('to', 'meet', 'with'), 3), (('Islamic', 'State', 'claims'), 3), (('South', 'Korea', 'says'), 3), (('South', 'China', 'Sea'), 3), (('U.S.', 'Supreme', 'Court'), 3), (('South', \"Korea's\", 'Moon'), 3), (('U.S.', 'high', 'court'), 2), (('Supreme', 'Court', 'to'), 2), (('Trump', 'expected', 'to'), 2), (('Zimbabwe', 'court', 'postpones'), 2), (('secretary', 'of', 'state'), 2), (('to', 'five', 'years'), 2), ((\"China's\", 'Xi', 'says'), 2), (('in', 'case', 'of'), 2), (('U.S.', 'health', 'secretary'), 2), (('after', 'North', 'Korea'), 2), (('North', 'Korea', 'nuclear'), 2), (('Korea', 'nuclear', 'test'), 2), (('Iran', 'nuclear', 'deal:'), 2), (('at', 'end', 'of'), 2), (('of', 'Islamic', 'State'), 2), (('to', 'North', 'Korea'), 2), (('Factbox:', 'Trump', 'on'), 2), (('presidency', 'on', 'Feb.'), 2), (('White', 'House', 'official'), 2), (('says', 'it', 'will'), 2), (('new', 'sanctions', 'on'), 2), (('Clinton', 'leads', 'Trump'), 2), (('leads', 'Trump', 'by'), 2), (('U.S.', 'recognition', 'of'), 2), (('recognition', 'of', 'Jerusalem'), 2), (('of', 'Jerusalem', 'as'), 2), (('corruption', 'charges', 'against'), 2), (('British', 'PM', 'May'), 2), (('of', 'Trump', 'move'), 2), (('Trump', 'move', 'on'), 2), (('for', 'Puerto', 'Rico'), 2), (('U.S.', 'senator', 'says'), 2), (('trip', 'to', 'Cuba'), 2), (('Puerto', 'Rico', 'debt'), 2), (('Rico', 'debt', 'crisis'), 2), (('Supreme', 'Court', 'justice'), 2), (('Cruz', 'White', 'House'), 2), (('urge', 'Trump', 'to'), 2), (('attorney', 'general', 'to'), 2), (('in', 'corruption', 'case'), 2), (('North', 'Korea', 'to'), 2), (('detected,', 'likely', 'from'), 2), (('likely', 'from', 'missing'), 2), (('from', 'missing', 'submarine'), 2), (('in', 'air', 'strikes'), 2), (('seeks', 'investigation', 'of'), 2), (('Factbox:', 'Build', 'a'), 2), (('Build', 'a', 'giant'), 2), (('a', 'giant', 'wall,'), 2), (('giant', 'wall,', 'cut'), 2), (('wall,', 'cut', 'Education'), 2), (('cut', 'Education', 'Department.'), 2), (('Education', 'Department.', 'What'), 2), (('Department.', 'What', 'a'), 2), (('a', 'President', 'Trump'), 2), (('President', 'Trump', 'would'), 2), (('Trump', 'would', 'do'), 2), (('at', 'Republican', 'convention'), 2), (('Republicans', 'want', 'to'), 2), (('U.S.,', 'South', 'Korea'), 2), (('Trump', 'pick', 'for'), 2), (('U.S.', 'judge', 'orders'), 2), (('Democrats', 'in', 'disarray'), 2), (('in', 'disarray', 'on'), 2), (('disarray', 'on', 'eve'), 2), (('on', 'eve', 'of'), 2), (('eve', 'of', 'convention'), 2), (('of', 'convention', 'to'), 2), (('convention', 'to', 'nominate'), 2), (('to', 'nominate', 'Clinton'), 2), (('missiles', 'fired', 'at'), 2), (('fired', 'at', 'Saudi'), 2), (('at', 'Saudi', 'Arabia'), 2), (('Speaker', 'Ryan', 'says'), 2), (('State', 'claims', 'responsibility'), 2), (('claims', 'responsibility', 'for'), 2), (('responsibility', 'for', 'attack'), 2), (('in', 'North', 'Korea'), 2), (('U.S.', \"Treasury's\", 'Mnuchin'), 2), (('says', 'he', 'will'), 2), (('Christmas', 'market', 'attack'), 2), (('Puerto', 'Rico', 'bill'), 2), (('Syrian', 'government', 'forces'), 2), (('China', 'calls', 'for'), 2), (('White', 'House', 'defends'), 2), (('U.S.', 'attack', 'will'), 1), (('attack', 'will', 'not'), 1), (('will', 'not', 'lead'), 1), (('not', 'lead', 'to'), 1), (('lead', 'to', 'military'), 1), (('to', 'military', 'escalation,'), 1), (('military', 'escalation,', 'says'), 1), (('escalation,', 'says', 'pro-Damascus'), 1), (('says', 'pro-Damascus', 'official'), 1), (('Judge', 'Garland', 'not'), 1), (('Garland', 'not', 'interested'), 1), (('not', 'interested', 'in'), 1), (('interested', 'in', 'FBI'), 1), (('in', 'FBI', 'job:'), 1), (('FBI', 'job:', 'sources'), 1), (('Senate', 'leader', 'pushes'), 1), (('leader', 'pushes', 'for'), 1), (('pushes', 'for', 'extension'), 1), (('for', 'extension', 'of'), 1), (('extension', 'of', 'coal'), 1), (('of', 'coal', 'miner'), 1), (('coal', 'miner', 'healthcare'), 1), (('Pakistan', 'raps', 'Trump'), 1), (('raps', 'Trump', 'over'), 1), (('Trump', 'over', 'vow'), 1), (('over', 'vow', 'to'), 1), (('vow', 'to', 'free'), 1), (('to', 'free', 'doctor'), 1), (('free', 'doctor', 'who'), 1), (('doctor', 'who', 'helped'), 1), (('who', 'helped', 'track'), 1), (('helped', 'track', 'bin'), 1), (('track', 'bin', 'Laden'), 1), (('Venezuela', 'says', 'U.S.'), 1), (('says', 'U.S.', 'sanctions'), 1), (('U.S.', 'sanctions', 'designed'), 1), (('sanctions', 'designed', 'to'), 1), (('designed', 'to', 'push'), 1), (('to', 'push', 'Venezuela'), 1), (('push', 'Venezuela', 'to'), 1), (('Venezuela', 'to', 'default'), 1), (('China', 'says', 'part'), 1), (('says', 'part', 'of'), 1), (('part', 'of', 'Hong'), 1), (('of', 'Hong', 'Kong'), 1), (('Hong', 'Kong', 'rail'), 1), (('Kong', 'rail', 'station'), 1), (('rail', 'station', 'to'), 1), (('station', 'to', 'be'), 1), (('to', 'be', 'subject'), 1), (('be', 'subject', 'to'), 1), (('subject', 'to', 'mainland'), 1), (('to', 'mainland', 'laws'), 1), (('Iraq', 'says', 'ruling'), 1), (('says', 'ruling', 'against'), 1), (('ruling', 'against', 'Trump'), 1), (('against', 'Trump', 'travel'), 1), (('travel', 'ban', 'is'), 1), (('ban', 'is', 'move'), 1), (('is', 'move', 'in'), 1), (('move', 'in', 'right'), 1), (('in', 'right', 'direction'), 1), (('Dozens', 'of', 'prisoners'), 1), (('of', 'prisoners', 'on'), 1), (('prisoners', 'on', 'the'), 1), (('on', 'the', 'run'), 1), (('the', 'run', 'in'), 1), (('run', 'in', 'central'), 1), (('in', 'central', 'Ivory'), 1), (('central', 'Ivory', 'Coast'), 1), (('Carson', 'talks', 'with'), 1), (('talks', 'with', 'Trump'), 1), (('with', 'Trump', 'team,'), 1), (('Trump', 'team,', 'says'), 1), (('team,', 'says', 'he'), 1), (('says', 'he', 'can'), 1), (('he', 'can', 'make'), 1), (('can', 'make', \"'inner\"), 1), (('make', \"'inner\", 'cities'), 1), ((\"'inner\", 'cities', \"great'\"), 1), (('Seattle', 'judge', 'grants'), 1), (('judge', 'grants', 'nationwide'), 1), (('grants', 'nationwide', 'temporary'), 1), (('nationwide', 'temporary', 'restraining'), 1), (('temporary', 'restraining', 'order'), 1), (('restraining', 'order', 'on'), 1), (('order', 'on', 'Trump'), 1), (('on', 'Trump', 'immigration'), 1), (('Trump', 'immigration', 'ban'), 1), (('Exiled', 'son', 'of'), 1), (('son', 'of', \"Yemen's\"), 1), (('of', \"Yemen's\", 'Saleh'), 1), ((\"Yemen's\", 'Saleh', 'takes'), 1), (('Saleh', 'takes', 'up'), 1), (('takes', 'up', 'anti-Houthi'), 1), (('up', 'anti-Houthi', 'cause'), 1), (('U.N.', 'nuclear', 'watchdog'), 1), (('nuclear', 'watchdog', 'opens'), 1), (('watchdog', 'opens', 'uranium'), 1), (('opens', 'uranium', 'bank'), 1), (('uranium', 'bank', 'in'), 1), (('bank', 'in', 'Kazakhstan'), 1), (('Release', 'of', 'House'), 1), (('of', 'House', 'tax'), 1), (('House', 'tax', 'bill'), 1), (('tax', 'bill', 'delayed'), 1), (('bill', 'delayed', 'until'), 1), (('delayed', 'until', 'Thursday'), 1), (('Ousted', 'Zimbabwe', 'finance'), 1), (('Zimbabwe', 'finance', 'minister'), 1), (('finance', 'minister', 'Chombo'), 1), (('minister', 'Chombo', 'faces'), 1), (('Chombo', 'faces', 'corruption'), 1), (('faces', 'corruption', 'charges'), 1), (('Democrats', 'ask', 'Trump'), 1), (('ask', 'Trump', 'administration'), 1), (('administration', 'to', 'consult'), 1), (('to', 'consult', 'on'), 1), (('consult', 'on', 'refugee'), 1), (('on', 'refugee', 'decision'), 1), ((\"Trump's\", 'team', 'seeks'), 1), (('team', 'seeks', 'top-secret'), 1), (('seeks', 'top-secret', 'clearance'), 1), (('top-secret', 'clearance', 'for'), 1), (('clearance', 'for', 'his'), 1), (('for', 'his', 'children:'), 1), (('his', 'children:', 'CBS'), 1), (('children:', 'CBS', 'News'), 1), (('For', 'Obama,', 'setbacks'), 1), (('Obama,', 'setbacks', 'from'), 1), (('setbacks', 'from', 'a'), 1), (('from', 'a', 'divided'), 1), (('a', 'divided', 'Supreme'), 1), (('divided', 'Supreme', 'Court'), 1), (('Mexico,', 'Central', 'America'), 1), (('Central', 'America', 'to'), 1), (('America', 'to', 'discuss'), 1), (('to', 'discuss', 'migration'), 1), (('discuss', 'migration', 'under'), 1), (('migration', 'under', 'Trump:'), 1), (('under', 'Trump:', 'ambassador'), 1), (('Flynn', 'did', 'not'), 1), (('did', 'not', 'initially'), 1), (('not', 'initially', 'disclose'), 1), (('initially', 'disclose', 'income'), 1), (('disclose', 'income', 'from'), 1), (('income', 'from', 'Russia-linked'), 1), (('from', 'Russia-linked', 'companies'), 1), (('Judiciary', 'committee', 'senators'), 1), (('committee', 'senators', \"won't\"), 1), (('senators', \"won't\", 'consider'), 1), ((\"won't\", 'consider', 'Obama'), 1), (('consider', 'Obama', 'Supreme'), 1), (('Obama', 'Supreme', 'Court'), 1), (('Russia', 'calls', 'for'), 1), (('calls', 'for', 'emergency'), 1), (('for', 'emergency', 'U.N.'), 1), (('emergency', 'U.N.', 'meeting'), 1), (('U.N.', 'meeting', 'after'), 1), (('meeting', 'after', 'U.S.'), 1), (('after', 'U.S.', 'strikes'), 1), (('U.S.', 'strikes', 'on'), 1), (('strikes', 'on', 'Syria'), 1), (('Egypt', 'says', 'three'), 1), (('says', 'three', 'militants'), 1), (('three', 'militants', 'killed,'), 1), (('militants', 'killed,', '74'), 1), (('killed,', '74', 'arrested'), 1), (('74', 'arrested', 'in'), 1), (('arrested', 'in', 'Sinai'), 1), (('in', 'Sinai', 'raids'), 1), (('Factbox:', \"Trump's\", 'presidency'), 1), ((\"Trump's\", 'presidency', 'prompts'), 1), (('presidency', 'prompts', 'some'), 1), (('prompts', 'some', 'notes'), 1), (('some', 'notes', 'of'), 1), (('notes', 'of', 'caution'), 1), (('of', 'caution', 'from'), 1), (('caution', 'from', 'foreign'), 1), (('from', 'foreign', 'leaders'), 1), (('Puerto', 'Rico', 'takes'), 1), (('Rico', 'takes', 'restructuring'), 1), (('takes', 'restructuring', 'law'), 1), (('restructuring', 'law', 'to'), 1), (('law', 'to', 'U.S.'), 1), (('to', 'U.S.', 'high'), 1), (('Ahead', 'of', 'debate,'), 1), (('of', 'debate,', 'Trump'), 1), (('debate,', 'Trump', 'endorsed'), 1), (('Trump', 'endorsed', 'by'), 1), (('endorsed', 'by', 'some'), 1), (('by', 'some', 'Bush'), 1), (('some', 'Bush', 'alumni'), 1), (('Former', 'Egypt', 'premier'), 1), (('Egypt', 'premier', 'says'), 1), (('premier', 'says', \"he's\"), 1), (('says', \"he's\", \"'fine'\"), 1), ((\"he's\", \"'fine'\", 'and'), 1), ((\"'fine'\", 'and', 'still'), 1), (('and', 'still', 'mulling'), 1), (('still', 'mulling', 'election'), 1), (('mulling', 'election', 'bid'), 1), (('Venezuelans', 'face', 'growing'), 1), (('face', 'growing', 'queues'), 1), (('growing', 'queues', 'to'), 1), (('queues', 'to', 'buy'), 1), (('to', 'buy', 'gasoline'), 1), (('Trump,', 'U.S.', 'House'), 1), (('U.S.', 'House', 'Speaker'), 1), (('Speaker', 'Ryan', 'meet'), 1), (('Ryan', 'meet', 'to'), 1), (('meet', 'to', 'discuss'), 1), (('to', 'discuss', 'policy'), 1), (('White', 'House', 'asks'), 1), (('House', 'asks', 'Supreme'), 1), (('asks', 'Supreme', 'Court'), 1), (('Court', 'to', 'allow'), 1), (('to', 'allow', 'full'), 1), (('allow', 'full', 'travel'), 1), (('full', 'travel', 'ban'), 1), ((\"Mexico's\", 'strongest', 'quake'), 1), (('strongest', 'quake', 'in'), 1), (('quake', 'in', '85'), 1), (('in', '85', 'years'), 1), (('85', 'years', 'kills'), 1), (('years', 'kills', 'dozens'), 1), (('kills', 'dozens', 'in'), 1), (('dozens', 'in', 'the'), 1), (('in', 'the', 'poor'), 1), (('the', 'poor', 'south'), 1), (('Kenya', 'election', 'campaigns'), 1), (('election', 'campaigns', 'turn'), 1), (('campaigns', 'turn', 'personal'), 1), (('turn', 'personal', 'after'), 1), (('personal', 'after', 'court'), 1), (('after', 'court', 'orders'), 1), (('court', 'orders', 'fresh'), 1), (('orders', 'fresh', 'polls'), 1), (('Federal', 'judge', 'limits'), 1), (('judge', 'limits', 'some'), 1), (('limits', 'some', 'Election'), 1), (('some', 'Election', 'Day'), 1), (('Election', 'Day', 'voter'), 1), (('Day', 'voter', 'registration'), 1), (('voter', 'registration', 'in'), 1), (('registration', 'in', 'Illinois'), 1), (('expected', 'to', 'set'), 1), (('to', 'set', 'U.S.'), 1), (('set', 'U.S.', 'refugee'), 1), (('U.S.', 'refugee', 'cap'), 1), (('refugee', 'cap', 'at'), 1), (('cap', 'at', '45,000:'), 1), (('at', '45,000:', 'sources'), 1), (('Instant', 'View:', \"UK's\"), 1), (('View:', \"UK's\", 'May'), 1), ((\"UK's\", 'May', 'calls'), 1), (('May', 'calls', 'for'), 1), (('calls', 'for', 'two-year'), 1), (('for', 'two-year', 'transition'), 1), (('two-year', 'transition', 'after'), 1), (('transition', 'after', 'Brexit'), 1), (('Amid', 'South', 'Korea'), 1), (('South', 'Korea', 'freeze,'), 1), (('Korea', 'freeze,', 'China'), 1), (('freeze,', 'China', 'says'), 1), (('China', 'says', 'cultural'), 1), (('says', 'cultural', 'exchanges'), 1), (('cultural', 'exchanges', 'take'), 1), (('exchanges', 'take', 'the'), 1), (('take', 'the', 'temperature'), 1), (('Factbox:', \"What's\", 'in'), 1), ((\"What's\", 'in', 'the'), 1), (('in', 'the', 'Brexit'), 1), (('the', 'Brexit', 'divorce'), 1), (('Brexit', 'divorce', 'deal?'), 1), (('Senior', 'Tanzania', 'ruling'), 1), (('Tanzania', 'ruling', 'party'), 1), (('ruling', 'party', 'MP'), 1), (('party', 'MP', 'quits,'), 1), (('MP', 'quits,', 'cites'), 1), (('quits,', 'cites', 'democracy'), 1), (('cites', 'democracy', 'concerns'), 1), (('Japan', 'PM', 'Abe'), 1), (('PM', 'Abe', 'says'), 1), (('Abe', 'says', 'to'), 1), (('says', 'to', 'decide'), 1), (('to', 'decide', 'timing'), 1), (('decide', 'timing', 'of'), 1), (('timing', 'of', 'election'), 1), (('of', 'election', 'on'), 1), (('election', 'on', 'return'), 1), (('on', 'return', 'from'), 1), (('return', 'from', 'U.N.'), 1), (('from', 'U.N.', 'trip'), 1), (('US', 'Senate', 'may'), 1), (('Senate', 'may', 'vote'), 1), (('may', 'vote', 'this'), 1), (('vote', 'this', 'week'), 1), (('this', 'week', 'to'), 1), (('week', 'to', 'add'), 1), (('to', 'add', 'penalties'), 1), (('add', 'penalties', 'for'), 1), (('penalties', 'for', 'sex'), 1), (('for', 'sex', 'traffic'), 1), (('sex', 'traffic', 'sites'), 1), (('traffic', 'sites', '-sources'), 1), ((\"Zimbabwe's\", 'Mugabe', 'speech'), 1), (('Mugabe', 'speech', 'was'), 1), (('speech', 'was', 'meant'), 1), (('was', 'meant', 'to'), 1), (('meant', 'to', 'sanitize'), 1), (('to', 'sanitize', 'army'), 1), (('sanitize', 'army', 'intervention:'), 1), (('army', 'intervention:', 'sources'), 1), (('Putin,', 'in', 'telegram'), 1), (('in', 'telegram', 'to'), 1), (('telegram', 'to', \"Syria's\"), 1), (('to', \"Syria's\", 'Assad,'), 1), ((\"Syria's\", 'Assad,', 'hails'), 1), (('Assad,', 'hails', \"'strategic'\"), 1), (('hails', \"'strategic'\", 'Deir'), 1), ((\"'strategic'\", 'Deir', 'al-Zor'), 1), (('Deir', 'al-Zor', 'victory'), 1), (('The', 'economy', 'of'), 1), (('economy', 'of', 'Wolfgang'), 1), (('of', 'Wolfgang', 'Schaeuble'), 1), (('Wolfgang', 'Schaeuble', '-'), 1), (('Schaeuble', '-', 'at'), 1), (('-', 'at', 'a'), 1), (('at', 'a', 'glance'), 1), ((\"'Wave\", 'of', \"humanity'\"), 1), (('of', \"humanity'\", 'puts'), 1), ((\"humanity'\", 'puts', 'aid'), 1), (('puts', 'aid', 'agencies'), 1), (('aid', 'agencies', 'to'), 1), (('agencies', 'to', 'the'), 1), (('to', 'the', 'test'), 1), (('the', 'test', 'in'), 1), (('test', 'in', 'Bangladesh'), 1), ((\"Trump's\", 'cut', 'to'), 1), (('cut', 'to', 'flood'), 1), (('to', 'flood', 'map'), 1), (('flood', 'map', 'program'), 1), (('map', 'program', 'could'), 1), (('program', 'could', 'trigger'), 1), (('could', 'trigger', 'insurance'), 1), (('trigger', 'insurance', 'rate'), 1), (('insurance', 'rate', 'hikes:'), 1), (('rate', 'hikes:', 'group'), 1), (('Fear', 'of', 'Iranian'), 1), (('of', 'Iranian', 'general'), 1), (('Iranian', 'general', 'left'), 1), (('general', 'left', 'Iraqi'), 1), (('left', 'Iraqi', 'Kurdish'), 1), (('Iraqi', 'Kurdish', 'oil'), 1), (('Kurdish', 'oil', 'fields'), 1), (('oil', 'fields', 'deserted'), 1), (('Austrian', 'coalition', 'government'), 1), (('coalition', 'government', 'to'), 1), (('government', 'to', 'be'), 1), (('to', 'be', 'sworn'), 1), (('be', 'sworn', 'in'), 1), (('sworn', 'in', 'on'), 1), (('in', 'on', 'Monday'), 1), (('on', 'Monday', '-'), 1), (('Monday', '-', 'presidency'), 1), (('House', 'says', 'Trump'), 1), (('says', 'Trump', 'did'), 1), (('Trump', 'did', 'not'), 1), (('did', 'not', 'know'), 1), (('not', 'know', 'Flynn'), 1), (('know', 'Flynn', 'was'), 1), (('Flynn', 'was', 'representing'), 1), (('was', 'representing', 'Turkey'), 1), (('Russia', 'says', 'general'), 1), (('says', 'general', 'killed'), 1), (('general', 'killed', 'in'), 1), (('killed', 'in', 'Syria'), 1), (('in', 'Syria', 'held'), 1), (('Syria', 'held', 'senior'), 1), (('held', 'senior', 'post'), 1), (('senior', 'post', 'in'), 1), (('post', 'in', \"Assad's\"), 1), (('in', \"Assad's\", 'army'), 1), (('Florida', 'nuclear', 'plants'), 1), (('nuclear', 'plants', 'to'), 1), (('plants', 'to', 'shut'), 1), (('to', 'shut', 'ahead'), 1), (('shut', 'ahead', 'of'), 1), (('ahead', 'of', 'Hurricane'), 1), (('of', 'Hurricane', 'Irma'), 1), (('Key', 'House', 'Republican'), 1), (('House', 'Republican', 'says'), 1), (('Republican', 'says', 'progress'), 1), (('says', 'progress', 'seen'), 1)]\n",
      "\n",
      "\n",
      "Most common words in title, fake:\n",
      " [(('–', 'SUNDAY', 'WIRE:'), 5), (('The', 'White', 'House'), 4), (('Transgender', 'Bathroom', 'Decree'), 3), (('Against', 'Trump', '[Video]'), 3), (('In', 'The', 'Most'), 3), (('Trump', 'Tries', 'To'), 3), (('President', 'Trump', '[VIDEO]'), 3), (('The', 'United', 'States'), 3), (('Trump', 'After', 'He'), 3), (('Gets', 'His', 'A**'), 3), (('His', 'A**', 'Handed'), 3), (('A**', 'Handed', 'To'), 3), (('Handed', 'To', 'Him'), 3), (('BLACK', 'LIVES', 'MATTER'), 3), (('Black', 'Lives', 'Matter'), 3), (('This', 'Is', 'A'), 3), (('New', 'York', 'Times'), 3), (('To', 'Vote', 'For'), 3), (('Secretary', 'Of', 'State'), 3), (('News', 'For', 'Trump'), 3), (('STUNNING', 'BETRAYAL!', '43'), 2), (('BETRAYAL!', '43', 'REPUBLICANS,'), 2), (('43', 'REPUBLICANS,', 'In'), 2), (('REPUBLICANS,', 'In', 'Dark'), 2), (('In', 'Dark', 'Of'), 2), (('Dark', 'Of', 'Night'), 2), (('Of', 'Night', 'Vote'), 2), (('Night', 'Vote', 'To'), 2), (('Vote', 'To', 'Approve'), 2), (('To', 'Approve', 'Obama’s'), 2), (('Approve', 'Obama’s', 'Transgender'), 2), (('Obama’s', 'Transgender', 'Bathroom'), 2), (('NEW', 'YORK', 'TIMES'), 2), (('Response', 'To', 'Trump’s'), 2), (('Trump’s', 'Muslim', 'Ban'), 2), (('Watch', 'What', 'Happens'), 2), (('What', 'Happens', 'When'), 2), (('Happens', 'When', 'A'), 2), (('SPEAKER', 'SCHEDULED', 'TO'), 2), (('SCHEDULED', 'TO', 'Praise'), 2), (('TO', 'Praise', 'Hillary'), 2), (('Praise', 'Hillary', 'Totally'), 2), (('Hillary', 'Totally', 'Trashes'), 2), (('Totally', 'Trashes', 'Her…Taken'), 2), (('Trashes', 'Her…Taken', 'Off'), 2), (('Her…Taken', 'Off', 'Stage'), 2), (('Off', 'Stage', 'By'), 2), (('Stage', 'By', 'Security'), 2), (('By', 'Security', '[Video]'), 2), (('To', 'Stop', 'Trump'), 2), (('Plan', 'To', 'Use'), 2), (('Trump', 'Transition', 'Team'), 2), (('Episode', '#199', '–'), 2), (('#199', '–', 'SUNDAY'), 2), (('SUNDAY', 'WIRE:', '‘Trigger'), 2), (('WIRE:', '‘Trigger', 'Warning:'), 2), (('‘Trigger', 'Warning:', 'ID'), 2), (('Warning:', 'ID', 'Politics’'), 2), (('ID', 'Politics’', 'with'), 2), (('Politics’', 'with', 'Gilad'), 2), (('with', 'Gilad', 'Atzmon'), 2), (('Gilad', 'Atzmon', 'and'), 2), (('Atzmon', 'and', 'Jay'), 2), (('and', 'Jay', 'Dyer'), 2), (('Has', 'PERFECT', 'Response'), 2), (('THE', 'BENGHAZI', 'LIARS'), 2), (('BENGHAZI', 'LIARS', 'Are'), 2), (('LIARS', 'Are', 'Back:'), 2), (('Are', 'Back:', 'Susan'), 2), (('Back:', 'Susan', 'Rice'), 2), (('Susan', 'Rice', 'And'), 2), (('Rice', 'And', 'Adam'), 2), (('And', 'Adam', 'Schiff'), 2), (('Adam', 'Schiff', 'Are'), 2), (('Schiff', 'Are', 'Once'), 2), (('Are', 'Once', 'Again'), 2), (('Once', 'Again', 'Caught'), 2), (('Again', 'Caught', 'In'), 2), (('Caught', 'In', 'Another'), 2), (('In', 'Another', 'Huge'), 2), (('Another', 'Huge', 'Scandal…Only'), 2), (('Huge', 'Scandal…Only', 'This'), 2), (('Scandal…Only', 'This', 'Time'), 2), (('This', 'Time', 'Their'), 2), (('Time', 'Their', 'Target'), 2), (('Their', 'Target', 'Is'), 2), (('Target', 'Is', 'President'), 2), (('Is', 'President', 'Trump'), 2), (('Trump', 'For', 'His'), 2), (('Heated', 'Debate', 'With'), 2), (('Under', 'President', 'Trump'), 2), (('Want', 'You', 'to'), 2), (('To', 'Go', 'F*ck'), 2), (('Go', 'F*ck', 'Himself'), 2), (('And', 'It’s', 'Perfect'), 2), (('Bernie', 'Sanders', 'Just'), 2), (('Shocking', 'Number', 'Of'), 2), (('BOILER', 'ROOM', '–'), 2), (('White', 'House', 'To'), 2), (('By', 'FBI', 'For'), 2), (('The', 'Democratic', 'Nominee'), 2), (('On', 'The', 'Air'), 2), (('Don’t', 'Want', 'To'), 2), (('Bernie', 'Sanders', 'Supporters'), 2), (('FORMER', 'U.S.', 'ATTORNEY:'), 2), (('Trump,', 'This', 'Is'), 2), (('And', 'Trump', 'Is'), 2), (('In', 'The', 'Middle'), 2), (('The', 'Middle', 'Of'), 2), (('Trump', 'Has', 'A'), 2), (('Has', 'A', 'New'), 2), (('To', 'Him', 'By'), 2), (('In', 'Support', 'Of'), 2), (('Taxpayer', 'Money', 'To'), 2), (('For', 'Donald', 'Trump'), 2), (('To', 'Cover', 'Up'), 2), (('BREAKING:', 'SECRET', 'SERVICE'), 2), (('SECRET', 'SERVICE', 'Takes'), 2), (('SERVICE', 'Takes', 'Action'), 2), (('Takes', 'Action', 'After'), 2), (('Action', 'After', 'White'), 2), (('After', 'White', 'House'), 2), (('White', 'House', 'Intruder'), 2), (('House', 'Intruder', 'Got'), 2), (('Intruder', 'Got', 'too'), 2), (('Got', 'too', 'Close'), 2), (('too', 'Close', 'For'), 2), (('Close', 'For', 'Comfort'), 2), (('For', 'Comfort', '[Video]'), 2), (('POLICE', 'UNION', 'Threatens'), 2), (('UNION', 'Threatens', '49er’s'), 2), (('Threatens', '49er’s', 'With'), 2), (('49er’s', 'With', 'BOYCOTT:'), 2), (('With', 'BOYCOTT:', 'TAKE'), 2), (('BOYCOTT:', 'TAKE', 'ACTION'), 2), (('TAKE', 'ACTION', 'Against'), 2), (('ACTION', 'Against', 'Bench-Warmer'), 2), (('Against', 'Bench-Warmer', 'Kaepernick’s'), 2), (('Bench-Warmer', 'Kaepernick’s', '“Inappropriate'), 2), (('Kaepernick’s', '“Inappropriate', 'Behavior”'), 2), (('“Inappropriate', 'Behavior”', 'Or'), 2), (('Behavior”', 'Or', 'We'), 2), (('Or', 'We', 'May'), 2), (('We', 'May', 'Choose'), 2), (('May', 'Choose', 'To'), 2), (('Choose', 'To', '“Not'), 2), (('To', '“Not', 'Work'), 2), (('“Not', 'Work', 'At'), 2), (('Work', 'At', 'Your'), 2), (('At', 'Your', 'Facilities”'), 2), (('To', 'Fight', 'Back'), 2), (('Terror', 'Attack', 'In'), 2), (('HILLARY’S', 'VP', 'PICK'), 2), (('VP', 'PICK', 'Has'), 2), (('America', 'Great', 'Again”'), 2), (('Donald', 'Trump', 'And'), 2), (('DEMOCRATS', 'PUSH', 'FOR'), 2), (('PUSH', 'FOR', 'BAN'), 2), (('Vote', 'For', 'Trump'), 2), (('His', 'Own', 'Daughter'), 2), (('To', 'Take', 'Back'), 2), (('NOT', 'NEWS:', '[Graphic'), 2), (('NEWS:', '[Graphic', 'Video]'), 2), (('[Graphic', 'Video]', 'Michigan'), 2), (('Video]', 'Michigan', 'Woman'), 2), (('Michigan', 'Woman', 'Runs'), 2), (('Woman', 'Runs', 'Over'), 2), (('Runs', 'Over', 'Rival'), 2), (('Over', 'Rival', 'With'), 2), (('Rival', 'With', 'Car'), 2), (('With', 'Car', 'Following'), 2), (('Car', 'Following', 'Street'), 2), (('Following', 'Street', 'Brawl'), 2), (('Refuses', 'To', 'Wear'), 2), (('OBAMA’S', 'RACE', 'WAR'), 2), (('OBAMA’S', 'WAR', 'ON'), 2), (('WAR', 'ON', 'COPS'), 2), (('ON', 'COPS', 'Takes'), 2), (('COPS', 'Takes', 'Toll'), 2), (('Takes', 'Toll', 'On'), 2), (('Toll', 'On', 'Black'), 2), (('On', 'Black', 'Communities:'), 2), (('Black', 'Communities:', 'Young'), 2), (('Communities:', 'Young', 'Girl'), 2), (('Young', 'Girl', 'Cries'), 2), (('Girl', 'Cries', 'Over'), 2), (('Cries', 'Over', '#BlackLivesMatter'), 2), (('Over', '#BlackLivesMatter', 'Violence'), 2), (('#BlackLivesMatter', 'Violence', 'In'), 2), (('Violence', 'In', 'Her'), 2), (('In', 'Her', 'Milwaukee'), 2), (('Her', 'Milwaukee', 'Neighborhood'), 2), (('Milwaukee', 'Neighborhood', '[VIDEO]'), 2), (('Of', 'The', 'Day'), 2), (('AG', 'Loretta', 'Lynch'), 2), (('Be', 'Secretary', 'Of'), 2), (('Need', 'To', 'Do'), 2), (('Fight', 'Back', 'Against'), 2), (('Sports', 'Bar', 'Owner'), 2), (('Bar', 'Owner', 'Bans'), 2), (('Owner', 'Bans', 'NFL'), 2), (('Bans', 'NFL', 'Games…Will'), 2), (('NFL', 'Games…Will', 'Show'), 2), (('Games…Will', 'Show', 'Only'), 2), (('Show', 'Only', '‘True'), 2), (('Only', '‘True', 'American’'), 2), (('‘True', 'American’', 'Sports:'), 2), (('American’', 'Sports:', '‘I’d'), 2), (('Sports:', '‘I’d', 'like'), 2), (('‘I’d', 'like', 'to'), 2), (('like', 'to', 'speak'), 2), (('to', 'speak', 'for'), 2), (('speak', 'for', 'rural'), 2), (('for', 'rural', 'America’'), 2), (('rural', 'America’', '[Video]'), 2), (('To', 'Fire', 'Mueller'), 2), (('WATCH:', 'Morning', 'Joe'), 2), (('FBI', 'Director', 'James'), 2), (('Director', 'James', 'Comey'), 2), (('Stock', 'Market', 'Crash'), 2), (('DIAMOND', 'AND', 'SILK'), 2), (('HUMAN', 'RIGHTS', 'VIOLATIONS'), 2), (('New', 'Poll', 'Shows'), 2), (('Wake', 'Up', 'In'), 2), (('Make', 'America', 'Great'), 2), (('To', 'Trump', 'Supporters'), 2), (('–', 'And', 'It’s'), 2), (('To', 'Destroy', 'Trump'), 2), (('With', 'Discrimination', 'Against'), 2), (('And', 'Here’s', 'Why'), 2), (('He’s', 'Going', 'To'), 2), (('Takes', 'Credit', 'For'), 2), (('Who', 'Said', 'He'), 2), (('In', 'Wake', 'Of'), 2), (('Is', 'DEVASTATING', 'News'), 2), (('DEVASTATING', 'News', 'For'), 2), (('Trump', 'Supporter', 'For'), 2), (('ACTRESS', 'ACCUSES', 'Weinstein'), 1), (('ACCUSES', 'Weinstein', 'Buddy,'), 1), (('Weinstein', 'Buddy,', 'Actor'), 1), (('Buddy,', 'Actor', 'GEORGE'), 1), (('Actor', 'GEORGE', 'CLOONEY'), 1), (('GEORGE', 'CLOONEY', 'Of'), 1), (('CLOONEY', 'Of', 'Helping'), 1), (('Of', 'Helping', 'To'), 1), (('Helping', 'To', '“Blacklist”'), 1), (('To', '“Blacklist”', 'Her'), 1), (('“Blacklist”', 'Her', 'After'), 1), (('Her', 'After', 'She'), 1), (('After', 'She', 'Reported'), 1), (('She', 'Reported', 'Sexual'), 1), (('Reported', 'Sexual', 'Harassment'), 1), (('Arkansas', 'Mayor', 'To'), 1), (('Mayor', 'To', 'Use'), 1), (('To', 'Use', 'The'), 1), (('Use', 'The', '4th'), 1), (('The', '4th', 'Of'), 1), (('4th', 'Of', 'July'), 1), (('Of', 'July', 'To'), 1), (('July', 'To', 'Force'), 1), (('To', 'Force', 'His'), 1), (('Force', 'His', 'Religion'), 1), (('His', 'Religion', 'Down'), 1), (('Religion', 'Down', 'Everyone’s'), 1), (('Down', 'Everyone’s', 'Throats'), 1), (('UNITED', 'AIRLINES', 'GROUNDED,'), 1), (('AIRLINES', 'GROUNDED,', 'WALL'), 1), (('GROUNDED,', 'WALL', 'STREET'), 1), (('WALL', 'STREET', 'JOURNAL'), 1), (('STREET', 'JOURNAL', 'AND'), 1), (('JOURNAL', 'AND', 'NYSE'), 1), (('AND', 'NYSE', 'SHUT'), 1), (('NYSE', 'SHUT', 'DOWN…All'), 1), (('SHUT', 'DOWN…All', 'Citing'), 1), (('DOWN…All', 'Citing', '“Technical”'), 1), (('Citing', '“Technical”', 'Issues…There’s'), 1), (('“Technical”', 'Issues…There’s', 'No'), 1), (('Issues…There’s', 'No', 'Coincidence…Really?'), 1), (('Brilliant', 'Facebook', 'Post'), 1), (('Facebook', 'Post', 'Puts'), 1), (('Post', 'Puts', 'Idiocy'), 1), (('Puts', 'Idiocy', 'And'), 1), (('Idiocy', 'And', 'Hypocrisy'), 1), (('And', 'Hypocrisy', 'Of'), 1), (('Hypocrisy', 'Of', '‘All'), 1), (('Of', '‘All', 'Lives'), 1), (('‘All', 'Lives', 'Matter’'), 1), (('Lives', 'Matter’', 'Into'), 1), (('Matter’', 'Into', 'Razor-Sharp'), 1), (('Into', 'Razor-Sharp', 'Focus'), 1), (('Here’s', 'Exactly', 'What'), 1), (('Exactly', 'What', 'Would'), 1), (('What', 'Would', 'Happen'), 1), (('Would', 'Happen', 'To'), 1), (('Happen', 'To', 'The'), 1), (('To', 'The', 'Bundy'), 1), (('The', 'Bundy', 'Militia'), 1), (('Bundy', 'Militia', 'If'), 1), (('Militia', 'If', 'They'), 1), (('If', 'They', 'Were'), 1), (('They', 'Were', 'Black'), 1), (('Hillary', 'Clinton', 'Just'), 1), (('Clinton', 'Just', 'Tossed'), 1), (('Just', 'Tossed', 'Charles'), 1), (('Tossed', 'Charles', 'Koch'), 1), (('Charles', 'Koch', 'A'), 1), (('Koch', 'A', 'HUGE'), 1), (('A', 'HUGE', 'F*ck'), 1), (('HUGE', 'F*ck', 'You'), 1), (('F*ck', 'You', 'After'), 1), (('You', 'After', 'Kinda-Sorta-Endorsement'), 1), (('After', 'Kinda-Sorta-Endorsement', '(SCREENSHOTS)'), 1), (('How', 'Is', 'Panama’s'), 1), (('Is', 'Panama’s', '“Migrant'), 1), (('Panama’s', '“Migrant', 'Crisis”'), 1), (('“Migrant', 'Crisis”', 'Giving'), 1), (('Crisis”', 'Giving', 'A'), 1), (('Giving', 'A', 'FREE'), 1), (('A', 'FREE', 'PASS'), 1), (('FREE', 'PASS', 'TO'), 1), (('PASS', 'TO', 'THE'), 1), (('TO', 'THE', 'U.S.'), 1), (('THE', 'U.S.', 'To'), 1), (('U.S.', 'To', 'Anyone'), 1), (('To', 'Anyone', 'From'), 1), (('Anyone', 'From', 'Asia,'), 1), (('From', 'Asia,', 'Cuba,'), 1), (('Asia,', 'Cuba,', 'Africa,'), 1), (('Cuba,', 'Africa,', 'Haiti…When'), 1), (('Africa,', 'Haiti…When', 'Did'), 1), (('Haiti…When', 'Did', 'We'), 1), (('Did', 'We', 'Become'), 1), (('We', 'Become', 'The'), 1), (('Become', 'The', 'World’s'), 1), (('The', 'World’s', 'Dumping'), 1), (('World’s', 'Dumping', 'Ground?'), 1), (('IT’S', 'COME', 'TO'), 1), (('COME', 'TO', 'THIS:'), 1), (('TO', 'THIS:', 'Leftist'), 1), (('THIS:', 'Leftist', 'Media'), 1), (('Leftist', 'Media', 'and'), 1), (('Media', 'and', 'Protesters'), 1), (('and', 'Protesters', 'Go'), 1), (('Protesters', 'Go', 'For'), 1), (('Go', 'For', 'The'), 1), (('For', 'The', 'Jugular'), 1), (('The', 'Jugular', 'In'), 1), (('Jugular', 'In', 'All'), 1), (('In', 'All', 'Out'), 1), (('All', 'Out', 'Freak'), 1), (('Out', 'Freak', 'Out'), 1), (('Freak', 'Out', 'Over'), 1), (('Out', 'Over', 'Possible'), 1), (('Over', 'Possible', 'Trump'), 1), (('Possible', 'Trump', 'Win'), 1), (('Trump', 'Win', 'On'), 1), (('Win', 'On', 'Super'), 1), (('On', 'Super', 'Tuesday'), 1), (('Super', 'Tuesday', '[Video]'), 1), (('ALARMING:', 'NSA', 'Refuses'), 1), (('NSA', 'Refuses', 'to'), 1), (('Refuses', 'to', 'Release'), 1), (('to', 'Release', 'Clinton-Lynch'), 1), (('Release', 'Clinton-Lynch', 'Tarmac'), 1), (('Clinton-Lynch', 'Tarmac', 'Transcript'), 1), (('Tarmac', 'Transcript', 'with'), 1), (('Transcript', 'with', 'Lame'), 1), (('with', 'Lame', 'Excuse'), 1), (('VIRAL', 'VIDEO:', 'Bernie'), 1), (('VIDEO:', 'Bernie', 'Sanders'), 1), (('Bernie', 'Sanders', 'Socialist'), 1), (('Sanders', 'Socialist', 'Gets'), 1), (('Socialist', 'Gets', 'Shut'), 1), (('Gets', 'Shut', 'Down'), 1), (('Shut', 'Down', 'By'), 1), (('Down', 'By', 'Judge'), 1), (('By', 'Judge', 'Judy'), 1), (('WHOA!', 'West', 'Virginia'), 1), (('West', 'Virginia', 'Coal'), 1), (('Virginia', 'Coal', 'Miners'), 1), (('Coal', 'Miners', 'Just'), 1), (('Miners', 'Just', 'Made'), 1), (('Just', 'Made', 'Powerful'), 1), (('Made', 'Powerful', 'VIDEO'), 1), (('Powerful', 'VIDEO', 'To'), 1), (('VIDEO', 'To', 'Make'), 1), (('To', 'Make', 'Sure'), 1), (('Make', 'Sure', 'Hillary'), 1), (('Sure', 'Hillary', 'Is'), 1), (('Hillary', 'Is', 'NOT'), 1), (('Is', 'NOT', 'America’s'), 1), (('NOT', 'America’s', 'Next'), 1), (('America’s', 'Next', 'President'), 1), (('CAN', 'HALLOWEEN', 'TELL'), 1), (('HALLOWEEN', 'TELL', 'US'), 1), (('TELL', 'US', 'WHO’LL'), 1), (('US', 'WHO’LL', 'WIN'), 1), (('WHO’LL', 'WIN', 'THE'), 1), (('WIN', 'THE', 'WHITE'), 1), (('THE', 'WHITE', 'HOUSE?…Guess'), 1), (('WHITE', 'HOUSE?…Guess', 'Which'), 1), (('HOUSE?…Guess', 'Which', 'Candidate'), 1), (('Which', 'Candidate', 'Is'), 1), (('Candidate', 'Is', 'Crushing'), 1), (('Is', 'Crushing', 'It'), 1), (('Crushing', 'It', 'In'), 1), (('It', 'In', 'Sales?'), 1), (('HILLARY', 'PANDERS', 'TO'), 1), (('PANDERS', 'TO', 'BLACK'), 1), (('TO', 'BLACK', 'RADIO'), 1), (('BLACK', 'RADIO', 'HOSTS'), 1), (('RADIO', 'HOSTS', 'In'), 1), (('HOSTS', 'In', 'Attempt'), 1), (('In', 'Attempt', 'To'), 1), (('Attempt', 'To', 'Tie'), 1), (('To', 'Tie', 'Herself'), 1), (('Tie', 'Herself', 'To'), 1), (('Herself', 'To', 'Racist'), 1), (('To', 'Racist', 'Beyonce'), 1), (('Racist', 'Beyonce', 'Song…Host'), 1), (('Beyonce', 'Song…Host', 'Asks'), 1), (('Song…Host', 'Asks', 'If'), 1), (('Asks', 'If', 'She'), 1), (('If', 'She', 'Needs'), 1), (('She', 'Needs', 'Mouth'), 1), (('Needs', 'Mouth', 'To'), 1), (('Mouth', 'To', 'Mouth'), 1), (('To', 'Mouth', 'Or'), 1), (('Mouth', 'Or', 'CPR?'), 1), (('Or', 'CPR?', '[WATCH]'), 1), (('LOU', 'DOBBS:', 'SEAN'), 1), (('DOBBS:', 'SEAN', 'SPICER'), 1), (('SEAN', 'SPICER', 'On'), 1), (('SPICER', 'On', 'Trump'), 1), (('On', 'Trump', 'Firing'), 1), (('Trump', 'Firing', 'Comey'), 1), (('Firing', 'Comey', '[Video]'), 1), (('Trump', 'Just', 'Made'), 1), (('Just', 'Made', 'His'), 1), (('Made', 'His', '2'), 1), (('His', '2', 'Most'), 1), (('2', 'Most', 'DUNDERHEADED'), 1), (('Most', 'DUNDERHEADED', 'Moves'), 1), (('DUNDERHEADED', 'Moves', 'Yet'), 1), (('Moves', 'Yet', 'After'), 1), (('Yet', 'After', 'Firing'), 1), (('After', 'Firing', 'Comey'), 1), (('Firing', 'Comey', '(DETAILS)'), 1), (('UH', 'OH!', 'BILL'), 1), (('OH!', 'BILL', 'CLINTON'), 1), (('BILL', 'CLINTON', 'Unloads'), 1), (('CLINTON', 'Unloads', 'On'), 1), (('Unloads', 'On', 'Obama!'), 1), (('On', 'Obama!', '[Video]'), 1), (('BOOM!', 'TRUMP', 'Holds'), 1), (('TRUMP', 'Holds', '“DISHONEST'), 1), (('Holds', '“DISHONEST', 'MEDIA”'), 1), (('“DISHONEST', 'MEDIA”', 'Accountable'), 1), (('MEDIA”', 'Accountable', ':'), 1), (('Accountable', ':', 'NBC'), 1), ((':', 'NBC', 'Cuts'), 1), (('NBC', 'Cuts', '9'), 1), (('Cuts', '9', 'Minutes'), 1), (('9', 'Minutes', 'From'), 1), (('Minutes', 'From', 'Kellyanne'), 1), (('From', 'Kellyanne', 'Conway'), 1), (('Kellyanne', 'Conway', 'Interview…Trump'), 1), (('Conway', 'Interview…Trump', 'EXPOSES'), 1), (('Interview…Trump', 'EXPOSES', 'Them'), 1), (('EXPOSES', 'Them', 'On'), 1), (('Them', 'On', 'Twitter'), 1), (('On', 'Twitter', '[VIDEO]'), 1), (('USA', 'Today', 'Smacks'), 1), (('Today', 'Smacks', 'Trump'), 1), (('Smacks', 'Trump', 'Upside'), 1), (('Trump', 'Upside', 'The'), 1), (('Upside', 'The', 'Head'), 1), (('The', 'Head', 'Over'), 1), (('Head', 'Over', 'His'), 1), (('Over', 'His', 'Crazy'), 1), (('His', 'Crazy', 'Idea'), 1), (('Crazy', 'Idea', 'That'), 1), (('Idea', 'That', 'Obama'), 1), (('That', 'Obama', 'And'), 1), (('Obama', 'And', 'Hillary'), 1), (('And', 'Hillary', 'Helped'), 1), (('Hillary', 'Helped', 'ISIS'), 1), (('LOL!', 'NYC', 'COLLEGE'), 1), (('NYC', 'COLLEGE', 'Tells'), 1), (('COLLEGE', 'Tells', 'NYPD'), 1), (('Tells', 'NYPD', 'To'), 1), (('NYPD', 'To', 'Use'), 1), (('To', 'Use', 'Bathroom'), 1), (('Use', 'Bathroom', 'At'), 1), (('Bathroom', 'At', 'Far'), 1), (('At', 'Far', 'End'), 1), (('Far', 'End', 'Of'), 1), (('End', 'Of', 'Campus'), 1), (('Of', 'Campus', 'With'), 1), (('Campus', 'With', '“Dirty'), 1)]\n",
      "\n",
      "\n",
      "Most common words in text, real:\n",
      " [(('the', 'United', 'States'), 351), (('WASHINGTON', '(Reuters)', '-'), 283), (('said', 'in', 'a'), 244), (('(Reuters)', '-', 'The'), 170), (('President', 'Donald', 'Trump'), 170), (('the', 'White', 'House'), 131), (('(Reuters)', '-', 'U.S.'), 125), (('U.S.', 'President', 'Donald'), 118), (('in', 'the', 'United'), 117), (('one', 'of', 'the'), 109), (('in', 'a', 'statement'), 95), (('in', 'a', 'statement.'), 94), (('the', 'United', 'States.'), 90), (('according', 'to', 'the'), 86), (('the', 'United', 'States,'), 83), (('House', 'of', 'Representatives'), 76), (('(Reuters)', '-', 'A'), 75), (('as', 'well', 'as'), 74), (('of', 'the', 'U.S.'), 73), (('United', 'States', 'and'), 71), (('the', 'end', 'of'), 70), (('is', 'expected', 'to'), 68), (('to', 'the', 'United'), 67), (('said', 'he', 'would'), 67), (('Secretary', 'of', 'State'), 65), (('President', 'Donald', 'Trump’s'), 59), (('said', 'it', 'was'), 59), (('President', 'Barack', 'Obama'), 58), (('the', 'country', 's'), 55), (('The', 'United', 'States'), 54), (('according', 'to', 'a'), 54), (('said', 'on', 'Wednesday'), 53), (('the', 'Nov.', '8'), 51), (('in', 'the', 'U.S.'), 50), (('the', 'first', 'time'), 49), (('as', 'part', 'of'), 49), (('the', 'United', 'Nations'), 47), (('the', 'Trump', 'administration'), 46), (('has', 'said', 'he'), 46), (('member', 'of', 'the'), 45), (('part', 'of', 'the'), 44), (('the', 'European', 'Union'), 44), (('and', 'the', 'United'), 44), (('members', 'of', 'the'), 44), (('some', 'of', 'the'), 43), (('said', 'on', 'Thursday'), 43), (('(Reuters)', '-', 'President'), 42), (('of', 'the', 'United'), 41), (('president', 'of', 'the'), 41), (('head', 'of', 'the'), 41), (('said', 'on', 'Wednesday.'), 41), (('the', 'New', 'York'), 41), (('the', 'Supreme', 'Court'), 41), (('out', 'of', 'the'), 41), (('the', 'number', 'of'), 40), (('a', 'member', 'of'), 40), (('President', 'Barack', 'Obama’s'), 40), (('to', 'be', 'a'), 39), (('a', 'lot', 'of'), 38), (('YORK', '(Reuters)', '-'), 38), (('said', 'in', 'an'), 38), (('The', 'White', 'House'), 38), (('for', 'the', 'first'), 38), (('part', 'of', 'a'), 37), (('said', 'he', 'was'), 37), (('in', 'the', '2016'), 37), (('-', 'U.S.', 'President'), 36), (('with', 'the', 'United'), 35), (('chairman', 'of', 'the'), 35), (('has', 'said', 'the'), 35), (('Russian', 'President', 'Vladimir'), 35), (('said', 'on', 'Friday'), 34), (('of', 'thousands', 'of'), 34), (('LONDON', '(Reuters)', '-'), 34), (('that', 'it', 'was'), 34), (('White', 'House', 'said'), 34), (('said', 'on', 'Thursday.'), 34), (('of', 'State', 'Rex'), 33), (('NEW', 'YORK', '(Reuters)'), 33), (('has', 'been', 'a'), 33), (('said', 'on', 'Monday'), 33), (('on', 'Wednesday', 'that'), 33), (('familiar', 'with', 'the'), 32), (('a', 'statement', 'on'), 32), (('the', 'House', 'of'), 32), (('said', 'he', 'had'), 32), (('between', 'the', 'two'), 32), (('President', 'Vladimir', 'Putin'), 32), (('in', 'order', 'to'), 32), (('-', 'The', 'U.S.'), 31), (('did', 'not', 'respond'), 31), (('U.S.', 'House', 'of'), 31), (('in', 'an', 'interview'), 31), (('more', 'than', 'a'), 31), (('in', 'response', 'to'), 31), (('said', 'it', 'would'), 30), (('in', 'the', 'past'), 30), (('is', 'one', 'of'), 30), (('Prime', 'Minister', 'Theresa'), 30), (('said', 'on', 'Monday.'), 30)]\n"
     ]
    },
    {
     "name": "stdout",
     "output_type": "stream",
     "text": [
      "\n",
      "\n",
      "Most common words in text, fake:\n",
      " [(('the', 'United', 'States'), 162), (('the', 'White', 'House'), 124), (('one', 'of', 'the'), 121), (('Donald', 'Trump', 's'), 117), (('I', 'don', 't'), 106), (('the', 'fact', 'that'), 104), (('Donald', 'J.', 'Trump'), 82), (('of', 'the', 'United'), 75), (('in', 'the', 'United'), 74), (('as', 'well', 'as'), 73), (('a', 'lot', 'of'), 71), (('J.', 'Trump', '(@realDonaldTrump)'), 68), (('21st', 'Century', 'Wire'), 68), (('the', 'New', 'York'), 66), (('in', 'order', 'to'), 66), (('part', 'of', 'the'), 65), (('to', 'be', 'a'), 61), (('New', 'York', 'Times'), 59), (('in', 'front', 'of'), 57), (('and', 'it', 's'), 53), (('according', 'to', 'the'), 53), (('out', 'of', 'the'), 52), (('Hillary', 'Clinton', 's'), 52), (('re', 'going', 'to'), 50), (('said', 'in', 'a'), 50), (('is', 'going', 'to'), 47), (('all', 'of', 'the'), 47), (('it', 'comes', 'to'), 46), (('Black', 'Lives', 'Matter'), 45), (('I', 'm', 'not'), 45), (('Trump', 'and', 'his'), 45), (('going', 'to', 'be'), 44), (('Donald', 'Trump', 'is'), 44), (('AT:', '21st', 'Century'), 43), (('the', 'United', 'States,'), 43), (('the', 'rest', 'of'), 43), (('of', 'the', 'most'), 43), (('some', 'of', 'the'), 43), (('when', 'it', 'comes'), 43), (('that', 'he', 'was'), 42), (('it', 's', 'not'), 42), (('of', 'Trump', 's'), 42), (('it', 's', 'a'), 41), (('to', 'be', 'the'), 41), (('NEWS', 'AT:', '21st'), 41), (('don', 't', 'want'), 41), (('the', 'Obama', 'administration'), 40), (('be', 'able', 'to'), 39), (('that', 'Donald', 'Trump'), 39), (('to', 'say', 'that'), 38), (('don', 't', 'know'), 38), (('to', 'do', 'with'), 38), (('It', 's', 'not'), 38), (('that', 'it', 's'), 37), (('Donald', 'Trump', 'and'), 37), (('t', 'want', 'to'), 36), (('we', 'don', 't'), 36), (('he', 'doesn', 't'), 36), (('the', 'United', 'States.'), 36), (('This', 'is', 'a'), 36), (('members', 'of', 'the'), 35), (('that', 'he', 'is'), 35), (('to', 'make', 'sure'), 35), (('don', 't', 'have'), 35), (('they', 'don', 't'), 34), (('a', 'number', 'of'), 34), (('not', 'going', 'to'), 34), (('the', 'American', 'people'), 34), (('the', 'White', 'House,'), 34), (('in', 'the', 'White'), 33), (('Donald', 'Trump', 'has'), 33), (('President', 'Barack', 'Obama'), 33), (('the', 'Republican', 'Party'), 33), (('the', 'Department', 'of'), 32), (('Here', 's', 'the'), 32), (('there', 'is', 'no'), 32), (('went', 'on', 'to'), 31), (('to', 'vote', 'for'), 31), (('Secretary', 'of', 'State'), 31), (('an', 'interview', 'with'), 31), (('part', 'of', 'a'), 31), (('that', 'they', 'are'), 31), (('of', 'Donald', 'Trump'), 31), (('the', 'White', 'House.'), 31), (('a', 'series', 'of'), 30), (('s', 'going', 'to'), 29), (('via', 'Getty', 'Images'), 29), (('was', 'able', 'to'), 29), (('member', 'of', 'the'), 29), (('s', 'the', 'video'), 29), (('the', 'end', 'of'), 29), (('appears', 'to', 'be'), 29), (('the', 'first', 'time'), 29), (('image', 'via', 'video'), 29), (('in', 'the', 'first'), 29), (('that', 'he', 's'), 28), (('in', 'the', 'U.S.'), 28), (('there', 's', 'a'), 28), (('that', 'Trump', 's'), 28), (('It', 's', 'a'), 28)]\n"
     ]
    }
   ],
   "source": [
    "# bigram\n",
    "bi_title_real = ngram_tokenizer(title0, n=2)\n",
    "bi_title_fake = ngram_tokenizer(title1, n=2)\n",
    "bi_text_real = ngram_tokenizer(text0, n=2)\n",
    "bi_text_fake = ngram_tokenizer(text1, n=2)\n",
    "\n",
    "print('Bigram =============================\\n')\n",
    "\n",
    "word_counter = Counter(bi_title_real)\n",
    "print('\\n\\nMost common words in title, real:\\n',word_counter.most_common(500))\n",
    "\n",
    "word_counter = Counter(bi_title_fake)\n",
    "print('\\n\\nMost common words in title, fake:\\n',word_counter.most_common(500))\n",
    "\n",
    "word_counter = Counter(bi_text_real)\n",
    "print('\\n\\nMost common words in text, real:\\n',word_counter.most_common(100))\n",
    "\n",
    "word_counter = Counter(bi_text_fake)\n",
    "print('\\n\\nMost common words in text, fake:\\n',word_counter.most_common(100))\n",
    "\n",
    "# trigram\n",
    "tri_title_real = ngram_tokenizer(title0, n=3)\n",
    "tri_title_fake = ngram_tokenizer(title1, n=3)\n",
    "tri_text_real = ngram_tokenizer(text0, n=3)\n",
    "tri_text_fake = ngram_tokenizer(text1, n=3)\n",
    "\n",
    "print('Trigram =============================\\n')\n",
    "\n",
    "word_counter = Counter(tri_title_real)\n",
    "print('\\n\\nMost common words in title, real:\\n',word_counter.most_common(500))\n",
    "\n",
    "word_counter = Counter(tri_title_fake)\n",
    "print('\\n\\nMost common words in title, fake:\\n',word_counter.most_common(500))\n",
    "\n",
    "word_counter = Counter(tri_text_real)\n",
    "print('\\n\\nMost common words in text, real:\\n',word_counter.most_common(100))\n",
    "\n",
    "word_counter = Counter(tri_text_fake)\n",
    "print('\\n\\nMost common words in text, fake:\\n',word_counter.most_common(100))"
   ]
  },
  {
   "cell_type": "markdown",
   "id": "ac706bb3",
   "metadata": {},
   "source": [
    "### Findings\n",
    "- Some capital letter headache can be solved by using **bigram**. Bigram can select some of proper nouns combined by two common nouns, such as **White House, North Korea**. "
   ]
  },
  {
   "cell_type": "markdown",
   "id": "fac83902",
   "metadata": {},
   "source": [
    "# Features of strong classification power\n",
    "Some **features** might **occur only** or nearly only in **one class**.\n",
    "This feature might either give an **insight in modeling** or **dangerous bias** of this specific dataset which has to be removed for generalization of the model. Let's take a look."
   ]
  },
  {
   "cell_type": "markdown",
   "id": "2dae0918",
   "metadata": {},
   "source": [
    "### Words that appears (nearly) only in one class."
   ]
  },
  {
   "cell_type": "code",
   "execution_count": 14,
   "id": "77367867",
   "metadata": {},
   "outputs": [
    {
     "name": "stdout",
     "output_type": "stream",
     "text": [
      "Number of title words only in real:  889\n",
      "['says', 'over', 'after', 'Korea', 'China', 'from', 'be', 'new', 'will', 'U.N.', 'South', 'tax', 'calls', \"Trump's\", 'talks', 'court', 'Factbox:', 'Brexit', 'president', 'vote', 'government', 'opposition', 'against', 'ban', 'party', 'PM', 'deal', 'EU', 'nuclear', 'bill', 'leader', 'minister', 'election', 'military', 'official', 'may', 'attack', 'meet', 'would', 'Syrian', 'Myanmar', 'police', 'border', 'sanctions', 'Tillerson', 'German', 'more', 'plan', 'Puerto', '-']\n",
      "Number of title words only in fake:  889\n",
      "['To', 'Of', 'A', 'On', '[Video]', '(VIDEO)', 'And', '[VIDEO]', 'With', 'Is', 'About', 'His', 'Who', 'Trump’s', 'By', 'Just', 'At', 'WATCH:', 'Over', 'He', 'This', 'From', 'Her', 'Was', 'TO', 'TRUMP', 'That', 'Why', 'OF', 'Has', 'THE', 'You', 'Are', 'It', 'Will', 'Him', '–', 'Black', 'Out', 'BREAKING:', 'AND', 'Against', 'OBAMA', 'Have', 'How', 'FOR', 'Their', 'Be', 'Gets', 'Says']\n",
      "Number of text words only in real:  374\n",
      "['-', '(Reuters)', 'Trump’s', 'China', 'WASHINGTON', 'spokesman', 'Reuters', 'South', 'trade', 'Korea', 'Minister', 'European', '“I', 'U.N.', 'sanctions', 'EU', 'senior', 'talks', '“The', 'minister', 'forces', 'month', 'Saudi', 'companies', '...', 'reporters', 'Britain', 'coalition', 'lawmakers', '“We', 'Foreign', 'plans', 'visit', 'oil', 'Nov.', 'efforts', 'Chinese', 'ruling', 'denied', 'Prime', 'missile', 'meet', 'air', 'Tillerson', 'Kim', 'agreement', 'statement.', 'agreed', 'peace', 'Korean']\n",
      "Number of text words only in fake:  374\n",
      "['re', 'your', 'via', 'image', 'video', 'You', 'News', 'doesn', 've', 'actually', 'US', 'black', 'm', 'didn', 'white', 'GOP', 'something', 'Fox', 'anyone', 'fact', 'here', 'Mr.', 'Images', 'story', 'thing', 'll', 'Bill', '&', 'ever', 'nothing', 'isn', 'gun', 'someone', 'things', 'CNN', 'let', 'So', 'What', 'Black', 'sure', 'entire', 'd', 'stand', 'nation', 'anything', 'school', 'that,', 'person', 'racist', 'matter']\n"
     ]
    }
   ],
   "source": [
    "wc = Counter(uni_title_real)\n",
    "freq_title_real = [x[0][0] for x in wc.most_common(1000)]\n",
    "\n",
    "wc = Counter(uni_title_fake)\n",
    "freq_title_fake = [x[0][0] for x in wc.most_common(1000)]\n",
    "\n",
    "wc = Counter(uni_text_real)\n",
    "freq_text_real = [x[0][0] for x in wc.most_common(1000)]\n",
    "\n",
    "wc = Counter(uni_text_fake)\n",
    "freq_text_fake = [x[0][0] for x in wc.most_common(1000)]\n",
    "\n",
    "\n",
    "title_only_in_real = []\n",
    "for x in freq_title_real:\n",
    "    if not x in freq_title_fake:\n",
    "        title_only_in_real.append(x)\n",
    "        \n",
    "title_only_in_fake = []\n",
    "for x in freq_title_fake:\n",
    "    if not x in freq_title_real:\n",
    "        title_only_in_fake.append(x)\n",
    "        \n",
    "text_only_in_real = []\n",
    "for x in freq_text_real:\n",
    "    if not x in freq_text_fake:\n",
    "        text_only_in_real.append(x)\n",
    "        \n",
    "text_only_in_fake = []\n",
    "for x in freq_text_fake:\n",
    "    if not x in freq_text_real:\n",
    "        text_only_in_fake.append(x)\n",
    "        \n",
    "print('Number of title words only in real: ', len(title_only_in_real))\n",
    "\n",
    "print(title_only_in_real[:50])\n",
    "\n",
    "print('Number of title words only in fake: ', len(title_only_in_fake))\n",
    "\n",
    "print(title_only_in_fake[:50])\n",
    "\n",
    "print('Number of text words only in real: ', len(text_only_in_real))\n",
    "\n",
    "print(text_only_in_real[:50])\n",
    "\n",
    "print('Number of text words only in fake: ', len(text_only_in_fake))\n",
    "\n",
    "print(text_only_in_fake[:50])"
   ]
  },
  {
   "cell_type": "markdown",
   "id": "b41efaaa",
   "metadata": {},
   "source": [
    "### Findings\n",
    "- **Title words are surprisingly polarized**, i.e. 89% of words are not overlapping, which explains **why our simple models perform with surprisingly high accuracy**. It turned out that **classification power** mostly comes from **different capitalization rules between real and fake news**. Fake news have too much capitalization, probably to catch attention. We should check this point again after preprocess text.\n",
    "- Some **international** issues words appear only in real news. However, you can't tell if that's because fake news care more about **domestic politics** or this dataset is **biased**."
   ]
  },
  {
   "cell_type": "markdown",
   "id": "54fdd45f",
   "metadata": {},
   "source": [
    "### Same thing for bigram"
   ]
  },
  {
   "cell_type": "code",
   "execution_count": 15,
   "id": "904f29c8",
   "metadata": {},
   "outputs": [
    {
     "name": "stdout",
     "output_type": "stream",
     "text": [
      "Number of title words only in real:  987\n",
      "[('North', 'Korea'), ('calls', 'for'), ('Puerto', 'Rico'), ('to', 'be'), ('to', 'meet'), ('South', 'Korea'), ('Trump', 'says'), ('says', 'U.S.'), ('travel', 'ban'), ('Trump', 'administration'), ('ahead', 'of'), ('Islamic', 'State'), ('for', 'U.S.'), ('in', 'U.S.'), ('to', 'hold'), ('to', 'lead'), ('on', 'North'), ('says', 'he'), ('House', 'says'), ('North', 'Korean'), ('Iran', 'nuclear'), ('aimed', 'at'), ('Trump', 'on'), ('U.S.', 'lawmakers'), ('U.S.', 'Senate'), ('will', 'not'), ('China', 'says'), ('to', 'discuss'), ('to', 'U.S.'), ('House', 'Speaker'), ('China', 'to'), ('Reuters/Ipsos', 'poll'), ('to', 'nominate'), ('of', 'state'), ('U.S.', 'health'), ('nuclear', 'deal'), ('to', 'Trump'), ('of', 'U.S.'), ('Senator', 'McCain'), ('U.S.', 'sanctions'), ('Trump', 'travel'), ('on', 'Trump'), ('finance', 'minister'), ('corruption', 'charges'), ('high', 'court'), ('U.S.', 'House'), ('Speaker', 'Ryan'), ('ruling', 'party'), ('says', 'Trump'), ('Russia', 'says')]\n",
      "Number of title words only in fake:  987\n",
      "[('In', 'The'), ('Trump', 'Supporter'), ('Trump', 'Is'), ('Of', 'The'), ('Bernie', 'Sanders'), ('To', 'The'), ('Trump', 'Just'), ('The', 'Most'), ('Going', 'To'), ('Republicans', 'For'), ('Trump', 'For'), ('And', 'It’s'), ('With', 'A'), ('On', 'The'), ('For', 'Trump'), ('Tries', 'To'), ('Fox', 'News'), ('For', 'Hillary'), ('Is', 'A'), ('Ted', 'Cruz'), ('A', 'New'), ('Trump', 'And'), ('Of', 'Trump’s'), ('Want', 'To'), ('Vote', 'For'), ('Trump', 'In'), ('To', 'A'), ('Trump', '(VIDEO)'), ('For', 'The'), ('Shut', 'Down'), ('To', 'Make'), ('On', 'Trump'), ('Kellyanne', 'Conway'), ('On', 'Twitter'), ('Against', 'Trump'), ('Trump', '[Video]'), ('Response', 'To'), ('Muslim', 'Ban'), ('Trump', 'After'), ('His', 'Own'), ('To', 'Trump'), ('And', 'Gets'), ('FBI', 'Director'), ('–', 'SUNDAY'), ('SUNDAY', 'WIRE:'), ('Is', 'The'), ('He', 'Was'), ('Trump', 'Supporters'), ('Truth', 'About'), ('This', 'Is')]\n",
      "Number of text words only in real:  479\n",
      "[('(Reuters)', '-'), ('said', 'on'), ('WASHINGTON', '(Reuters)'), ('on', 'Wednesday'), ('on', 'Tuesday'), ('-', 'The'), ('on', 'Thursday'), ('North', 'Korea'), ('said.', 'The'), ('has', 'said'), ('on', 'Friday'), ('U.S.', 'President'), ('Islamic', 'State'), ('-', 'U.S.'), ('Prime', 'Minister'), ('House', 'of'), ('a', 'statement.'), ('told', 'reporters'), ('on', 'Sunday'), ('Donald', 'Trump’s'), ('declined', 'to'), ('told', 'Reuters'), ('The', 'U.S.'), ('United', 'Nations'), ('the', 'European'), ('efforts', 'to'), ('is', 'expected'), ('on', 'Monday.'), ('-', 'A'), ('told', 'a'), ('of', 'U.S.'), ('of', 'Representatives'), ('a', 'U.S.'), ('plans', 'to'), ('on', 'Wednesday.'), ('the', 'EU'), ('last', 'week'), ('which', 'has'), ('The', 'United'), ('last', 'month'), ('told', 'Reuters.'), ('it', 'had'), ('on', 'Friday.'), ('on', 'Tuesday.'), ('this', 'week'), ('in', 'recent'), ('secretary', 'of'), ('the', 'military'), ('head', 'of'), ('States', 'and')]\n",
      "Number of text words only in fake:  479\n",
      "[('he', 's'), ('image', 'via'), ('s', 'a'), ('doesn', 't'), ('I', 'm'), ('that', 's'), ('didn', 't'), ('s', 'not'), ('s', 'the'), ('can', 't'), ('Obama', 's'), ('isn', 't'), ('you', 're'), ('That', 's'), ('President', 'Obama'), ('fact', 'that'), ('the', 'fact'), ('President', 'Trump'), ('there', 's'), ('won', 't'), ('Clinton', 's'), ('I', 'don'), ('the', 'media'), ('wasn', 't'), ('they', 're'), ('we', 're'), ('that', 'this'), ('He', 's'), ('because', 'he'), ('If', 'you'), ('the', 'US'), ('t', 'have'), ('the', 'GOP'), ('America', 's'), ('Donald', 'J.'), ('J.', 'Trump'), ('and', 'they'), ('21st', 'Century'), ('Fox', 'News'), ('of', 'these'), ('the', 'video'), ('if', 'you'), ('you', 'can'), ('kind', 'of'), ('like', 'a'), ('I', 'was'), ('like', 'the'), ('the', 'Clinton'), ('on', 'to'), ('vote', 'for')]\n"
     ]
    }
   ],
   "source": [
    "wc = Counter(bi_title_real)\n",
    "freq_title_real = [x[0] for x in wc.most_common(1000)]\n",
    "\n",
    "wc = Counter(bi_title_fake)\n",
    "freq_title_fake = [x[0] for x in wc.most_common(1000)]\n",
    "\n",
    "wc = Counter(bi_text_real)\n",
    "freq_text_real = [x[0] for x in wc.most_common(1000)]\n",
    "\n",
    "wc = Counter(bi_text_fake)\n",
    "freq_text_fake = [x[0] for x in wc.most_common(1000)]\n",
    "\n",
    "\n",
    "title_only_in_real = []\n",
    "for x in freq_title_real:\n",
    "    if not x in freq_title_fake:\n",
    "        title_only_in_real.append(x)\n",
    "        \n",
    "title_only_in_fake = []\n",
    "for x in freq_title_fake:\n",
    "    if not x in freq_title_real:\n",
    "        title_only_in_fake.append(x)\n",
    "        \n",
    "text_only_in_real = []\n",
    "for x in freq_text_real:\n",
    "    if not x in freq_text_fake:\n",
    "        text_only_in_real.append(x)\n",
    "        \n",
    "text_only_in_fake = []\n",
    "for x in freq_text_fake:\n",
    "    if not x in freq_text_real:\n",
    "        text_only_in_fake.append(x)\n",
    "        \n",
    "print('Number of title words only in real: ', len(title_only_in_real))\n",
    "\n",
    "print(title_only_in_real[:50])\n",
    "\n",
    "print('Number of title words only in fake: ', len(title_only_in_fake))\n",
    "\n",
    "print(title_only_in_fake[:50])\n",
    "\n",
    "print('Number of text words only in real: ', len(text_only_in_real))\n",
    "\n",
    "print(text_only_in_real[:50])\n",
    "\n",
    "print('Number of text words only in fake: ', len(text_only_in_fake))\n",
    "\n",
    "print(text_only_in_fake[:50])\n",
    "\n"
   ]
  },
  {
   "cell_type": "markdown",
   "id": "92c76e31",
   "metadata": {},
   "source": [
    "# Conclusion\n",
    "Keeping in mind of our findings, let's preprocess text data then do another EDA with organized data."
   ]
  }
 ],
 "metadata": {
  "kernelspec": {
   "display_name": "Python 3 (ipykernel)",
   "language": "python",
   "name": "python3"
  },
  "language_info": {
   "codemirror_mode": {
    "name": "ipython",
    "version": 3
   },
   "file_extension": ".py",
   "mimetype": "text/x-python",
   "name": "python",
   "nbconvert_exporter": "python",
   "pygments_lexer": "ipython3",
   "version": "3.8.12"
  }
 },
 "nbformat": 4,
 "nbformat_minor": 5
}
