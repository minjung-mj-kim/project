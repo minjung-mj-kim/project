{
 "cells": [
  {
   "cell_type": "code",
   "execution_count": 15,
   "id": "c2ce0693",
   "metadata": {},
   "outputs": [],
   "source": [
    "from freq_utils import *\n",
    "\n",
    "from collections import Counter\n",
    "from nltk import ngrams\n",
    "\n",
    "pd.options.display.max_colwidth = 200"
   ]
  },
  {
   "cell_type": "code",
   "execution_count": 2,
   "id": "a9e0a8e5",
   "metadata": {},
   "outputs": [],
   "source": [
    "df0 = pd.read_csv('data/True.csv')\n",
    "df1 = pd.read_csv('data/Fake.csv')"
   ]
  },
  {
   "cell_type": "markdown",
   "id": "dfc90691",
   "metadata": {},
   "source": [
    "# Take a first look"
   ]
  },
  {
   "cell_type": "code",
   "execution_count": 3,
   "id": "42262442",
   "metadata": {},
   "outputs": [
    {
     "name": "stdout",
     "output_type": "stream",
     "text": [
      "<class 'pandas.core.frame.DataFrame'>\n",
      "RangeIndex: 21417 entries, 0 to 21416\n",
      "Data columns (total 4 columns):\n",
      " #   Column   Non-Null Count  Dtype \n",
      "---  ------   --------------  ----- \n",
      " 0   title    21417 non-null  object\n",
      " 1   text     21417 non-null  object\n",
      " 2   subject  21417 non-null  object\n",
      " 3   date     21417 non-null  object\n",
      "dtypes: object(4)\n",
      "memory usage: 669.4+ KB\n",
      "None\n",
      "<class 'pandas.core.frame.DataFrame'>\n",
      "RangeIndex: 23481 entries, 0 to 23480\n",
      "Data columns (total 4 columns):\n",
      " #   Column   Non-Null Count  Dtype \n",
      "---  ------   --------------  ----- \n",
      " 0   title    23481 non-null  object\n",
      " 1   text     23481 non-null  object\n",
      " 2   subject  23481 non-null  object\n",
      " 3   date     23481 non-null  object\n",
      "dtypes: object(4)\n",
      "memory usage: 733.9+ KB\n",
      "None\n",
      "\n",
      "Real example =========== \n",
      "                                                                                   title  \\\n",
      "15143                            EU and Iran defend nuclear deal, under fire from Trump   \n",
      "4911              Proposed cuts to State Dept. budget worry House Foreign Affairs chair   \n",
      "3738                             U.S. cyber bill would shift power away from spy agency   \n",
      "2966                   Two faces of Maine politics show rifts in state Republican party   \n",
      "4804   Exclusive: Tillerson plans to skip NATO meeting, visit Russia in April - sources   \n",
      "\n",
      "                                                                                                                                                                                                          text  \\\n",
      "15143  SAMARKAND, Uzbekistan (Reuters) - Senior officials from the European Union and Iran spoke up on Friday in defense of the agreement limiting Tehran s nuclear program, as the pact comes under heavy ...   \n",
      "4911   WASHINGTON (Reuters) - The Republican head of the Foreign Affairs Committee in the U.S. House of Representatives said on Thursday he was worried about the Trump administration’s proposal to deeply...   \n",
      "3738   WASHINGTON (Reuters) - A bill proposed in Congress on Wednesday would require the U.S. National Security Agency to inform representatives of other government agencies about security holes it finds...   \n",
      "2966   (Reuters) - Maine’s two most prominent Republicans grabbed headlines this week with political moves that were widely different in style and substance, which some insiders said could risk the party...   \n",
      "4804   WASHINGTON (Reuters) - U.S. Secretary of State Rex Tillerson plans to skip a meeting with NATO foreign ministers next month in order to stay home for a visit by China’s president and will go to Ru...   \n",
      "\n",
      "            subject                date  \n",
      "15143     worldnews  November 10, 2017   \n",
      "4911   politicsNews     March 16, 2017   \n",
      "3738   politicsNews       May 17, 2017   \n",
      "2966   politicsNews      June 29, 2017   \n",
      "4804   politicsNews     March 21, 2017   \n",
      "\n",
      "Fake example =========== \n",
      "                                                                                                   title  \\\n",
      "1854             Bill O’Reilly’s Show Bizarrely Cut Short In Wake Of Advertisers’ Mass Exodus (DETAILS)   \n",
      "1752               Trump Just Shamed Our Country Yet AGAIN With His Latest Diplomacy Disaster (DETAILS)   \n",
      "1486                   Ex-FBI Tears Trump To Pieces, Wonders ‘Who’s In Charge of This Country?’ (VIDEO)   \n",
      "9917                         Sarah Sanders Blasts Hillary Clinton’s Excuses for Losing to Trump [Video]   \n",
      "17439  [Video] MONTEL WILLIAMS BROUGHT TO TEARS OVER TREATMENT OF US MARINE JAILED IN IRAN #FreeAmirNow   \n",
      "\n",
      "                                                                                                                                                                                                          text  \\\n",
      "1854   The New York Times recently published a bombshell story about the culture of sexual harassment at Fox News, and their star host, Bill O Reilly, is at the center of it. The Times story says that O ...   \n",
      "1752   Donald Trump has made a fine art of p*ssing off other world leaders. Thanks to our fearless orange tweeter-in-chief, Colombia s government is now furious with us too.According to Colombia Reports,...   \n",
      "1486   All Americans, and indeed the entire world, should be very afraid of what is going on with Donald Trump s presidency. Many people have voiced those concerns publicly, and one of them is former FBI...   \n",
      "9917   Sarah Sanders is at it again At the 22:29 point in the video below she s asked:  Could you point us to a couple specific accusations in the book that you believe are factually incorrect?  Her answ...   \n",
      "17439   Find out how many are going to sign up to go to war when we keep doing this to those who protect us.              Montel WilliamsMontel Williams got emotions during his appearance on Greta Van Su...   \n",
      "\n",
      "               subject            date  \n",
      "1854              News   April 7, 2017  \n",
      "1752              News  April 18, 2017  \n",
      "1486              News    May 12, 2017  \n",
      "9917          politics    Sep 13, 2017  \n",
      "17439  Government News    Apr 10, 2015  \n"
     ]
    }
   ],
   "source": [
    "# Duplication is wrong here\n",
    "df0.drop_duplicates()\n",
    "df1.drop_duplicates()\n",
    "\n",
    "print(df0.info())\n",
    "print(df1.info())\n",
    "\n",
    "print('\\nReal example =========== \\n',df0.sample(5, random_state=10))\n",
    "print('\\nFake example =========== \\n',df1.sample(5, random_state=10))"
   ]
  },
  {
   "cell_type": "markdown",
   "id": "5b2236a3",
   "metadata": {},
   "source": [
    "### Note\n",
    "- Balanced dataset, nearly 20k for each classification\n",
    "- No null\n",
    "- Subject and date won't be used for classification based on text \n",
    "\n",
    "### Findings\n",
    "#### Title\n",
    "- Length: real news title is **shorter** than fake news\n",
    "- Tone, wordings: real news is **informative and concise** whereas fake news sounds **gossip** and contains **click bite** (e.g. \"DETAILS\", \"VIDEO\", full name of a person)\n",
    "- Format: fake news has extra **upper cases**, probably to catch attention\n",
    "\n",
    "#### Text (contents)\n",
    "- Real news starts with source, **\"Location (Reuters)\"**. This part should be removed in order not to introduce bias when genalize this model out of Reuter news.\n",
    "\n",
    "### To consider in preprocessing (1)\n",
    "- **Upper** case (mind **abbreviation**, such as \"U.S.\" shouldn't become \"us\")\n",
    "- Remove **news identifing** text, such as \"(Reuters)\"\n",
    "- Noise\n",
    "- Consider replacing **click bait tags** (e.g. \"[Watch]\") to **one unifying tag**"
   ]
  },
  {
   "cell_type": "code",
   "execution_count": 4,
   "id": "bd42a9fa",
   "metadata": {},
   "outputs": [],
   "source": [
    "# drop columns not in use\n",
    "df0.drop(['subject','date'], axis=1, inplace=True)\n",
    "df1.drop(['subject','date'], axis=1, inplace=True)"
   ]
  },
  {
   "cell_type": "markdown",
   "id": "518d9120",
   "metadata": {},
   "source": [
    "# Take a closer look of a few raw data samples"
   ]
  },
  {
   "cell_type": "code",
   "execution_count": 5,
   "id": "3fd1b7f0",
   "metadata": {},
   "outputs": [
    {
     "name": "stdout",
     "output_type": "stream",
     "text": [
      "\n",
      "Real title example =========== \n",
      " [\"Europe rights watchdog says Turkey's emergency laws go too far\"\n",
      " 'Exclusive: Trump targets illegal immigrants who were given reprieves from deportation by Obama'\n",
      " 'At G20 summit, Trump pledges $639 million in aid to four countries'\n",
      " \"Ex-Christie associates lose bid for new trial in 'Bridgegate' case\"\n",
      " \"Young blacks more open to Bernie Sanders' White House bid\"\n",
      " 'New York attorney general says will sue over Obamacare repeal'\n",
      " 'Indonesian parliament speaker quits amid graft investigation'\n",
      " 'Spanish lender Sabadell to transfer legal base to Alicante - spokeswoman'\n",
      " 'House speaker tells Trump healthcare bill lacks votes: CNN'\n",
      " 'Britain says expects most EU citizens can stay after Brexit'\n",
      " 'Trump pressures Lockheed, says told Boeing to price out fighter aircraft'\n",
      " 'Mexico says president Pena Nieto to meet Trump on Wednesday'\n",
      " 'Trump handling of security information at Mar-a-Lago queried by House panel'\n",
      " \"Transport minister doesn't think Britain will leave EU without a deal\"\n",
      " 'Factbox: Short list of potential picks for Trump administration'\n",
      " \"EU's Tusk appealed to Rajoy to avoid escalation in Catalonia\"\n",
      " 'Britain to limit acid sales after steep rise in assaults'\n",
      " \"Hawaii issues first challenge to Trump's new travel ban\"\n",
      " \"Graft probe into Mexico president's ally poses tricky challenge ahead of elections\"\n",
      " \"Co-leader of Germany's far-right AfD to quit in major blow\"]\n",
      "\n",
      "Fake title example =========== \n",
      " ['ABOUT HILLARY’S COUGH: We Discovered The Secret To Why She Keeps Coughing [Video]'\n",
      " 'BREAKING: OBAMACARE REPEAL Clears First Hurdle…Dems Get Snarky'\n",
      " '‘SLEEPY’ JUSTICE GINSBURG: Excites Crowd By Saying She’d Back Abolition Of The Electoral College [Video]'\n",
      " ' WATCH: Kellyanne Conway Very Upset Hillary Clinton Is Not Doing Trump’s Job'\n",
      " ' GOP Gives Trump The Middle Finger, Prepares To Launch Probe Into Russia'\n",
      " ' Trump Displays Incredible Ignorance Yet Again — Claims Credit For Term Coined Over A Hundred Years Ago'\n",
      " ' Anthony Bourdain Reveals The ‘ONE Good Thing’ About Trump And It’s HILARIOUS'\n",
      " 'TRUMP HITS BACK After Cowgirl Congresswoman Trashes Him Over Words Said to Grieving Widow'\n",
      " 'MEDIA DOWNPLAYS Attack By Unhinged Neighbor On Senator Rand Paul…’Minor Injuries’ Not So Minor'\n",
      " ' Why This Attorney General Is Going After Trump For ‘Fraud’'\n",
      " '(VIDEO) DONALD TRUMP: “NOT BEHOLDEN TO ANYONE”'\n",
      " 'Billionaire ‘Bilderberger’ David Rockefeller dead at 101'\n",
      " ' Ben & Jerry’s Ice Cream Founders Get Arrested At U.S. Capitol'\n",
      " 'JUST IN: RAND PAUL ASSAULTED By Democrat Doctor…Here’s What We Know About The Attacker'\n",
      " ' Watch Hillary’s Reaction When Security Tries To Kick Shirtless Male Supporters Out Of Her Rally'\n",
      " 'ANGRY Venezuelans CHASE Their President…Bang On Pots And Yell [Video]'\n",
      " 'JUST IN: NYC TERRORIST Allegedly Entered U.S. On NY Democrat Senator Chuck Schumer’s ‘DIVERSITY VISA” Program'\n",
      " ' Leslie Knope Writes Powerful, Heartbreaking Letter To America That EVERYONE Should Read'\n",
      " ' Chris Cuomo SLAMS Trump For Promising “A Lot Of Things That Can’t Be Done” In Energy Speech (VIDEO)'\n",
      " ' Elijah Cummings Made Sure The GOP Is Well Aware They’re Hypocritical A**holes Regarding Flint']\n",
      "\n",
      "Real text example =========== \n",
      " ['WASHINGTON (Reuters) - U.S. President Barack Obama met with two Northern Ireland leaders and commended them on the progress being made towards peace, the White House said on Wednesday. Obama dropped by a meeting on Tuesday between Vice President Joe Biden, Northern Ireland First Minister Arlene Foster and deputy First Minister Martin McGuinness, the White House said in a statement. Obama and Biden\\xa0urged the ministers to move forward with implementation of the Stormont House Agreement of December 2014 and the Fresh Start Agreement of November 2015, the statement said. '\n",
      " 'SEOUL (Reuters) - If South Korea develops nuclear weapons in response to North Korea’s fourth nuclear test it would be breaking its “promise” with the world, South Korean President Park Geun-hye said on Wednesday. South Korea is in discussion with China regarding a draft U.N. Security Resolution in response to North Korea’s January 6 nuclear test, Park said in response to a question at an annual news conference. ']\n",
      "\n",
      "Fake text example =========== \n",
      " ['The owner of the Ringling Bar, located south of White Sulphur Springs, is standing behind his Facebook post that criticizes NFL players who take a knee during the national anthem to protest police brutality. The post was made on the Ringling Bar s Facebook page Tuesday night and has since received hundreds of comments and shares. The post reads:  The Ringling Bar will no longer show any NFL games. This will allow us to air the PBR, Rodeo and NASCAR events whose competitors are true Americans! Sorry for any inconvenience. Ringling Bar Co-owner Kurt Bekemans, who grew up in the Paradise Valley, published the post and said he doesn t care if the post turns some customers away. Seriously, I would not care if non-Americans didn t patronize the place,  said Bekemans.  I d like to speak for rural America: I bet you wouldn t see any farmers or ranchers in our whole country take a knee such as these guys do, I bet you couldn t find one. They appreciate what our great nation has given them and I think that s the least you could do to give thanks to our country is stand for the flag and the anthem. As of Wednesday morning, a majority of the comments were in support of the bar. We all love ya for this, I ll be by with as many people I can round up!!  said one commenter.Another person was critical, writing:  Ha Ha of course NASCAR is not protesting the treatment of minority s because they don t care about them!!! Read more: krtv'\n",
      " 'Governor Kasich:  What Mr Trump needs to understood that the real jobs come in the downstream, not in the upstream. And that s where we re going to get our jobs. In Ohio it was diversified. And little falsehoods, things sir, they really don t work when it comes to the truth. I m suggesting you can t ship 11 million people out of this country.  Donald Trump:  I ve made tens of thousands of jobs. I ve built an unbelievable company worth billions and billions of dollars. I don t have to listen to this man.  ']\n"
     ]
    }
   ],
   "source": [
    "print('\\nReal title example =========== \\n',df0.sample(20, random_state=42).title.to_numpy())\n",
    "print('\\nFake title example =========== \\n',df1.sample(20, random_state=42).title.to_numpy())\n",
    "\n",
    "print('\\nReal text example =========== \\n',df0.sample(2, random_state=30).text.to_numpy())\n",
    "print('\\nFake text example =========== \\n',df1.sample(2, random_state=30).text.to_numpy())"
   ]
  },
  {
   "cell_type": "markdown",
   "id": "aa7ea2a6",
   "metadata": {},
   "source": [
    "### Findings\n",
    "- Some fake news title has a **slang** replaced with **star** charactors partially.\n",
    "- Fake news **text** sounds redundunt.\n",
    "- Real and fake news looks different in **grammar structure**, but it is hard to describe how different they are."
   ]
  },
  {
   "cell_type": "markdown",
   "id": "35282a93",
   "metadata": {},
   "source": [
    "# Text length"
   ]
  },
  {
   "cell_type": "code",
   "execution_count": 6,
   "id": "286de6ca",
   "metadata": {},
   "outputs": [
    {
     "data": {
      "image/png": "[encoded data removed]",
      "text/plain": [
       "<Figure size 432x288 with 1 Axes>"
      ]
     },
     "metadata": {
      "needs_background": "light"
     },
     "output_type": "display_data"
    },
    {
     "data": {
      "image/png": "[encoded data removed]",
      "text/plain": [
       "<Figure size 432x288 with 1 Axes>"
      ]
     },
     "metadata": {
      "needs_background": "light"
     },
     "output_type": "display_data"
    }
   ],
   "source": [
    "plt.hist(df0.title.str.split().str.len(), alpha=0.5, range=(0,50), bins=50)\n",
    "plt.hist(df1.title.str.split().str.len(), alpha=0.5, range=(0,50), bins=50)\n",
    "plt.title(\"Title word count\")\n",
    "\n",
    "plt.legend(['Real','Fake']) \n",
    "plt.show()\n",
    "\n",
    "plt.hist(np.log10(df0.text.str.split().str.len()+1), alpha=0.5, range=(0,4), bins=50)\n",
    "plt.hist(np.log10(df1.text.str.split().str.len()+1), alpha=0.5, range=(0,4), bins=50)\n",
    "plt.title(\"Log10(Text word count)\")\n",
    "\n",
    "plt.legend(['Real','Fake'])\n",
    "plt.show()"
   ]
  },
  {
   "cell_type": "markdown",
   "id": "af55dd88",
   "metadata": {},
   "source": [
    "### Findings\n",
    "- As notices with raw data examples, fake news has **longer title**.\n",
    "- Real news contents are written in either around 100 or 400 words, whereas fake news has larger spectrum.\n",
    "- Some fake news has **few or zero words** in titles and text. Let's take a look what that means."
   ]
  },
  {
   "cell_type": "code",
   "execution_count": 7,
   "id": "8079ef05",
   "metadata": {},
   "outputs": [],
   "source": [
    "df0_few_title = df0[df0.title.str.split().str.len()<3]\n",
    "df1_few_title = df1[df1.title.str.split().str.len()<3]\n",
    "\n",
    "df0_few_text = df0[df0.text.str.split().str.len()<20]\n",
    "df1_few_text = df1[df1.text.str.split().str.len()<20]"
   ]
  },
  {
   "cell_type": "code",
   "execution_count": 8,
   "id": "128344e3",
   "metadata": {},
   "outputs": [
    {
     "name": "stdout",
     "output_type": "stream",
     "text": [
      "News with title < 3 words, real: 0\n",
      "News with title < 3 words, fake: 10\n",
      "News with text < 6 words, real: 1\n",
      "News with text < 6 words, fake: 1130\n"
     ]
    }
   ],
   "source": [
    "print('News with title < 3 words, real:',len(df0_few_title))\n",
    "print('News with title < 3 words, fake:',len(df1_few_title))\n",
    "print('News with text < 6 words, real:',len(df0_few_text))\n",
    "print('News with text < 6 words, fake:',len(df1_few_text))"
   ]
  },
  {
   "cell_type": "code",
   "execution_count": 9,
   "id": "b21fbf25",
   "metadata": {},
   "outputs": [
    {
     "name": "stdout",
     "output_type": "stream",
     "text": [
      "Empty title examples, fake news\n",
      "\n",
      "[['https://100percentfedup.com/served-roy-moore-vietnamletter-veteran-sets-record-straight-honorable-decent-respectable-patriotic-commander-soldier/'\n",
      "  'https://100percentfedup.com/served-roy-moore-vietnamletter-veteran-sets-record-straight-honorable-decent-respectable-patriotic-commander-soldier/']\n",
      " ['https://100percentfedup.com/video-hillary-asked-about-trump-i-just-want-to-eat-some-pie/'\n",
      "  'https://100percentfedup.com/video-hillary-asked-about-trump-i-just-want-to-eat-some-pie/']\n",
      " ['https://100percentfedup.com/12-yr-old-black-conservative-whose-video-to-obama-went-viral-do-you-really-love-america-receives-death-threats-from-left/'\n",
      "  'https://100percentfedup.com/12-yr-old-black-conservative-whose-video-to-obama-went-viral-do-you-really-love-america-receives-death-threats-from-left/']\n",
      " ['https://fedup.wpengine.com/wp-content/uploads/2015/04/hillarystreetart.jpg'\n",
      "  'https://fedup.wpengine.com/wp-content/uploads/2015/04/hillarystreetart.jpg']\n",
      " ['https://fedup.wpengine.com/wp-content/uploads/2015/04/entitled.jpg'\n",
      "  'https://fedup.wpengine.com/wp-content/uploads/2015/04/entitled.jpg']\n",
      " ['https://fedup.wpengine.com/wp-content/uploads/2015/04/hillarystreetart.jpg'\n",
      "  'https://fedup.wpengine.com/wp-content/uploads/2015/04/hillarystreetart.jpg']\n",
      " ['https://fedup.wpengine.com/wp-content/uploads/2015/04/entitled.jpg'\n",
      "  'https://fedup.wpengine.com/wp-content/uploads/2015/04/entitled.jpg']\n",
      " ['Homepage'\n",
      "  '[vc_row][vc_column width= 1/1 ][td_block_trending_now limit= 5 ][td_block_big_grid sort= featured ][/vc_column][/vc_row][vc_row] [vc_column width= 2/3 ][td_block_5 limit= 24  custom_title= HOT OFF THE PRESS!  td_filter_default_txt= All  ajax_pagination= load_more  border_top= no_border_top ] [/vc_column][vc_column width= 1/3 ][vc_widget_sidebar sidebar_id= td-default ][/vc_column] [/vc_row][vc_row][vc_column width= 1/1 ][td_block_14 limit= 3  custom_title= EVEN MORE NEWS  td_filter_default_txt= All  ajax_pagination= next_prev  header_color= #288abf ][/vc_column] [/vc_row]']\n",
      " ['https://fedup.wpengine.com/wp-content/uploads/2015/04/hillarystreetart.jpg'\n",
      "  'https://fedup.wpengine.com/wp-content/uploads/2015/04/hillarystreetart.jpg']\n",
      " ['https://fedup.wpengine.com/wp-content/uploads/2015/04/entitled.jpg'\n",
      "  'https://fedup.wpengine.com/wp-content/uploads/2015/04/entitled.jpg']]\n",
      "Empty text examples, real news\n",
      "\n",
      "[' ']\n",
      "Empty text examples, fake news\n",
      "\n",
      "[' ' ' ' ' ' 'Enjoy:'\n",
      " 'The liberal pundits are pretty frustrated by the Clinton campaign and it shows: '\n",
      " ' ' ' ' ' ' ' '\n",
      " 'Wow! This is so epic and truthful! Bravo Bill O Reilly! ' ' '\n",
      " 'CAN YOU DO IT? WE D LOVE TO KNOW WHAT SURPRISED YOU. Via: Playbuzz'\n",
      " 'https://www.youtube.com/watch?v=RRPSCqkAJgk'\n",
      " 'FREE STUFF! Bernie Sanders is their guy ugh! ' ' ' ' '\n",
      " 'Narcissist isn t a strong enough word to describe this twisted little man '\n",
      " ' ' ' ' ' ' ' '\n",
      " 'LANGUAGE WARNING! A woman at Walmart gets into it with a guy who was paying with Food Stamps: '\n",
      " 'Take that you filthy animals!'\n",
      " 'https://www.youtube.com/watch?v=31MRqr9ydUU' ' '\n",
      " 'This is hysterical! I could add a few ways to use her book:  ' ' '\n",
      " 'Wow! America is hungry for a real leader. America, this is what leadership looks like https://youtu.be/JCXpkAPQvhk'\n",
      " 'He also dodges the question of sanctuary cities:' ' ']\n"
     ]
    }
   ],
   "source": [
    "print('Empty title examples, fake news\\n')\n",
    "print(df1_few_title.to_numpy())\n",
    "\n",
    "print('Empty text examples, real news\\n')\n",
    "print(df0_few_text.text.to_numpy())\n",
    "\n",
    "print('Empty text examples, fake news\\n')\n",
    "print(df1_few_text.text.sample(30, random_state=20).to_numpy())"
   ]
  },
  {
   "cell_type": "markdown",
   "id": "3fa98eff",
   "metadata": {},
   "source": [
    "### Findings\n",
    "- Fake news is **noiser**.\n",
    "- **No real news has empty title**\n",
    "- Fake news with empty/short titles have web addresses as their titles. It looks like an impropper cleaning of web scrapping data.\n",
    "- Only one real news has few words in text, with graphic content.\n",
    "- A lot of short fake news composed of **social media sources**.\n",
    "\n",
    "\n",
    "### To consider in preprocessings (2)\n",
    "- Drop rows with **website titles**\n",
    "- Drop one real news **graphic content**\n",
    "- **Tag digital source**\n",
    "- **Tag numbers**\n",
    "- Remove special character after digital source and number tagging."
   ]
  },
  {
   "cell_type": "code",
   "execution_count": 10,
   "id": "1d4910e6",
   "metadata": {},
   "outputs": [],
   "source": [
    "df1 = df1[df1.title.str.split().str.len()>2]\n",
    "df0 = df0[df0.text.str.split().str.len()>19]"
   ]
  },
  {
   "cell_type": "markdown",
   "id": "27808a7f",
   "metadata": {},
   "source": [
    "# Frequent words - Unigram\n",
    "Before text preprocess, let's take a look of frequent words in raw data."
   ]
  },
  {
   "cell_type": "code",
   "execution_count": 22,
   "id": "3cb95533",
   "metadata": {},
   "outputs": [],
   "source": [
    "def ngram_tokenizer(text, n=1):\n",
    "    words_list = []\n",
    "    for sentence in text:\n",
    "        words = ngrams(sentence.lower().split(), n)\n",
    "        for word in words:\n",
    "            words_list.append(word)\n",
    "    return words_list"
   ]
  },
  {
   "cell_type": "code",
   "execution_count": 23,
   "id": "04036628",
   "metadata": {
    "scrolled": false
   },
   "outputs": [
    {
     "name": "stdout",
     "output_type": "stream",
     "text": [
      "\n",
      "\n",
      "Most common words in title, real:\n",
      " [(('to',), 357), (('in',), 194), (('u.s.',), 184), (('trump',), 183), (('on',), 166), (('for',), 143), (('of',), 143), (('says',), 139), (('with',), 62), (('house',), 61), (('at',), 53), (('over',), 49), (('north',), 48), (('as',), 45), (('after',), 44), (('korea',), 42), (('new',), 40), (('court',), 39), (('a',), 38), (('white',), 38), (('china',), 35), (('from',), 35), (('be',), 33), (('the',), 33), (('not',), 31), (('senate',), 31), (('by',), 31), (('and',), 30), (('will',), 28), (('u.n.',), 28), (('south',), 28), (('president',), 28), (('clinton',), 27), (('tax',), 26), (('russia',), 26), (('calls',), 26), ((\"trump's\",), 24), (('party',), 24), (('congress',), 24), (('talks',), 23), (('factbox:',), 22), (('iran',), 22), (('is',), 21), (('brexit',), 21), (('government',), 21), (('republican',), 21), (('opposition',), 21), (('state',), 21), (('may',), 20), (('vote',), 20), (('against',), 19), (('ban',), 19), (('pm',), 19), (('senator',), 19), (('deal',), 19), (('bill',), 18), (('minister',), 18), (('obama',), 18), (('eu',), 18), (('nuclear',), 17), (('supreme',), 17), (('syria',), 17), (('election',), 17), (('leader',), 16), (('police',), 16), (('military',), 15), (('official',), 15), (('democrats',), 15), (('former',), 15), (('no',), 15), (('two',), 15), (('attack',), 14), (('sanctions',), 14), (('meet',), 14), (('would',), 14), (('syrian',), 14), (('russian',), 14), (('myanmar',), 14), (('border',), 14), (('security',), 14), (('fbi',), 13), (('up',), 13), (('some',), 13), (('ahead',), 13), (('trump,',), 13), (('tillerson',), 13), (('german',), 13), (('rights',), 13), (('more',), 13), (('plan',), 13), (('puerto',), 12), (('-',), 12), (('say',), 12), (('probe',), 12), (('healthcare',), 11), (('rico',), 11), (('policy',), 11), (('aid',), 11), (('could',), 11), (('coalition',), 11), (('key',), 11), (('urges',), 11), (('u.s.,',), 11), (('top',), 11), (('poll',), 11), (('first',), 11), (('korean',), 11), (('health',), 11), (('air',), 11), (('governor',), 11), (('about',), 11), (('it',), 11), (('mexico',), 11), (('lead',), 10), (('push',), 10), (('travel',), 10), (('administration',), 10), (('seeks',), 10), (('nominee',), 10), (('strikes',), 10), (('law',), 10), (('still',), 10), (('amid',), 10), (('cut',), 10), (('killed',), 10), (('case',), 10), (('saudi',), 10), (('but',), 10), (('presidential',), 10), (('seek',), 10), (('republicans',), 10), (('has',), 10), (('officials',), 10), (('lawmakers',), 10), (('out',), 10), (('islamic',), 10), (('down',), 10), (('rule',), 10), (('uk',), 10), (('judge',), 9), (('sources',), 9), (('who',), 9), (('he',), 9), (('charges',), 9), (('presidency',), 9), (('bid',), 9), (('take',), 9), (('oil',), 9), (('turkey',), 9), (('british',), 9), (('if',), 9), (('french',), 9), (('into',), 9), (('parliament',), 9), (('democratic',), 9), (('should',), 9), (('attacks',), 9), (('obamacare',), 9), (('visit',), 9), (('wall',), 9), (('report',), 9), (('rules',), 9), (('venezuela',), 8), (('can',), 8), (('immigration',), 8), (('finance',), 8), (('corruption',), 8), (('his',), 8), (('under',), 8), (('meeting',), 8), (('three',), 8), (('leaders',), 8), (('speaker',), 8), (('week',), 8), (('sees',), 8), (('pressure',), 8), (('million',), 8), (('source',), 8), (('germany',), 8), (('defense',), 8), (('secretary',), 8), (('race',), 8), ((\"china's\",), 8), (('war',), 8), (('political',), 8), (('peace',), 8), (('next',), 8), (('office',), 8), (('despite',), 8), (('catalan',), 8), (('jerusalem',), 8), (('chief',), 8), (('putin',), 8), (('want',), 8), (('ruling',), 7), (('zimbabwe',), 7), (('news',), 7), (('discuss',), 7), (('egypt',), 7), (('foreign',), 7), (('kenya',), 7), (('orders',), 7), (('transition',), 7), (('this',), 7), (('general',), 7), (('irma',), 7), (('media',), 7), (('refugees',), 7), (('pick',), 7), (('tells',), 7), (('france',), 7), (('hopes',), 7), (('see',), 7), (('national',), 7), (('hold',), 7), (('forces',), 7), (('panel',), 7), (('kill',), 7), (('wants',), 7), (('britain',), 7), (('defends',), 7), (('london',), 7), (('fire',), 7), (('support',), 7), (('dead',), 7), (('back',), 7), (('rohingya',), 7), (('crisis',), 7), (('than',), 7), (('reform',), 7), (('comey',), 7), (('pakistan',), 6), (('move',), 6), (('make',), 6), (('team',), 6), (('consider',), 6), (('ryan',), 6), (('years',), 6), (('turn',), 6), (('day',), 6), (('set',), 6), (('army',), 6), ((\"syria's\",), 6), (('iraqi',), 6), (('florida',), 6), (('macron',), 6), (('power',), 6), (('people',), 6), (('attorney',), 6), (('xi',), 6), (('warns',), 6), (('off',), 6), (('head',), 6), (('afghan',), 6), (('end',), 6), (('candidate',), 6), (('democrat',), 6), (('aimed',), 6), ((\"obama's\",), 6), (('claims',), 6), ((\"lebanon's\",), 6), (('business',), 6), (('sanders',), 6), (('trial',), 6), (('approves',), 6), (('denies',), 6), (('ties',), 6), (('missing',), 6), (('man',), 6), (('launch',), 6), (('that',), 6), (('moscow',), 6), (('march',), 6), (('trade',), 6), (('department',), 6), (('win',), 6), (('picks',), 6), (('iraq',), 5), (('son',), 5), (('thursday',), 5), (('ask',), 5), (('refugee',), 5), (('decision',), 5), (('ambassador',), 5), (('flynn',), 5), (('senators',), 5), (('high',), 5), (('face',), 5), (('asks',), 5), (('kills',), 5), ((\"uk's\",), 5), (('japan',), 5), (('kurdish',), 5), (('progress',), 5), (('seen',), 5), (('fight',), 5), (('cruz',), 5), (('women',), 5), (('economic',), 5), (('have',), 5), (('reuters/ipsos',), 5), (('raqqa',), 5), (('nominate',), 5), (('deputy',), 5), (('four',), 5), (('kerry',), 5), (('wins',), 5), (('during',), 5), (('lawmaker',), 5), (('considering',), 5), (('yemen',), 5), (('world',), 5), (('human',), 5), (('rubio',), 5), (('december',), 5), (('commission',), 5), (('challenge',), 5), (('twitter',), 5), (('pence',), 5), (('effort',), 5), (('what',), 5), (('cnn',), 5), (('exclusive:',), 5), (('irish',), 5), (('agency',), 5), (('its',), 5), (('work',), 5), (('missile',), 5), (('appeals',), 5), (('open',), 5), (('nfl',), 5), (('states',), 5), (('impact',), 5), ((\"president's\",), 5), (('change',), 5), ((\"clinton's\",), 5), (('near',), 5), (('least',), 5), (('gets',), 5), (('prosecutor',), 5), (('must',), 5), (('one',), 5), (('before',), 5), (('urge',), 5), (('backs',), 5), ((\"'not\",), 5), (('canada',), 5), (('independence',), 5), (('civilians',), 5), (('protesters',), 5), (('debate',), 5), (('east',), 5), ((\"africa's\",), 5), (('investigation',), 5), (('targets',), 5), ((\"korea's\",), 5), (('zuma',), 5), (('jets',), 5), (('convention',), 5), (('comments',), 5), (('airport',), 5), (('mccain',), 5), (('catalonia',), 5), (('peninsula',), 5), (('between',), 5), (('garland',), 4), (('order',), 4), (('delayed',), 4), (('faces',), 4), (('companies',), 4), (('militants',), 4), (('arrested',), 4), (('federal',), 4), (('democracy',), 4), (('concerns',), 4), (('abe',), 4), (('was',), 4), (('group',), 4), (('monday',), 4), (('shut',), 4), (('tension',), 4), (('interview',), 4), (('king',), 4), (('they',), 4), (('presses',), 4), (('step',), 4), (('far-right',), 4), (('re-election',), 4), (('again',), 4), (('activist',), 4), (('taiwan',), 4), (('suspends',), 4), (('meets',), 4), (('justice',), 4), (('do',), 4), (('deal:',), 4), (('tv',), 4), (('spokesman',), 4), (('public',), 4), (('adviser',), 4), (('washington',), 4), (('pope',), 4), (('california',), 4), (('clear',), 4), (('americans',), 4), (('gun',), 4), (('reforms',), 4), (('korea,',), 4), (('cyber',), 4), (('overhaul',), 4), (('early',), 4), (('possible',), 4), (('rebels',), 4), (('misconduct',), 4), (('hariri',), 4), (('her',), 4), (('campaign',), 4), (('west',), 4), (('clinton,',), 4), (('allegations',), 4), (('cross',), 4), (('returns',), 4), (('likely',), 4), (('plays',), 4), (('philippines',), 4), (('firms',), 4), (('deadly',), 4), (('eyes',), 4), (('rejects',), 4), ((\"brazil's\",), 4), (('climate',), 4), (('nafta',), 4), (('hit',), 4), ((\"'very\",), 4), (('sea',), 4), (('legal',), 4), (('stop',), 4), (('voting',), 4), (('turkish',), 4), (('reports',), 4), (('willing',), 4), (('tough',), 4), (('board',), 4), (('nato',), 4), (('vatican',), 4), (('expects',), 4), ((\"spain's\",), 4), (('review',), 4), (('fed',), 4), (('boost',), 4), (('embassy',), 4), (('leave',), 4), (('groups',), 4), (('keep',), 4), (('brazil',), 4), (('special',), 4), (('looks',), 4), (('israel',), 4), (('plans',), 4), ((\"britain's\",), 4), (('rally',), 4), (('african',), 4), (('chair',), 4), (('through',), 4), (('mattis',), 4), (('gas',), 4), (('inquiry',), 4), (('vows',), 4), ((\"treasury's\",), 4), (('arrest',), 4), (('job',), 4), (('indian',), 4), (('pushes',), 3), (('coal',), 3), (('right',), 3), (('takes',), 3), (('cause',), 3), (('bank',), 3), (('release',), 3), (('until',), 3), (('ousted',), 3), (('committee',), 3), ((\"won't\",), 3), (('bush',), 3), (('allow',), 3), (('full',), 3), (('campaigns',), 3), (('return',), 3), (('trip',), 3), (('mugabe',), 3), (('schaeuble',), 3), (('test',), 3), (('bangladesh',), 3), (('insurance',), 3), (('rate',), 3), (('fear',), 3), (('iranian',), 3), (('left',), 3), (('post',), 3), (('plants',), 3)]\n",
      "\n",
      "\n",
      "Most common words in title, fake:\n",
      " [(('to',), 415), (('trump',), 286), (('the',), 237), (('[video]',), 220), (('of',), 219), (('for',), 215), (('in',), 195), (('and',), 167), (('a',), 165), (('on',), 159), (('is',), 107), (('(video)',), 104), (('with',), 98), (('hillary',), 69), (('about',), 69), (('his',), 66), (('who',), 63), (('after',), 61), (('obama',), 61), (('trump’s',), 58), (('by',), 56), (('at',), 55), (('this',), 54), (('just',), 52), (('new',), 48), (('watch:',), 48), (('you',), 46), (('over',), 45), (('he',), 45), (('are',), 45), (('as',), 44), (('was',), 42), (('clinton',), 41), (('it',), 41), (('black',), 40), (('from',), 40), (('out',), 40), (('not',), 40), (('why',), 40), (('has',), 39), (('her',), 37), (('that',), 37), (('how',), 36), (('president',), 36), (('donald',), 33), (('will',), 33), (('what',), 30), (('have',), 30), (('him',), 30), (('against',), 29), (('muslim',), 29), (('–',), 29), (('watch',), 28), (('news',), 28), (('white',), 27), (('breaking:',), 27), (('be',), 27), (('up',), 26), (('down',), 25), (('obama’s',), 25), (('media',), 25), (('republicans',), 25), (('their',), 25), (('if',), 24), (('gets',), 24), (('fbi',), 23), (('u.s.',), 22), (('house',), 22), (('like',), 22), (('says',), 22), (('us',), 21), (('goes',), 21), (('calls',), 21), (('wow!',), 21), (('vote',), 20), (('they',), 20), (('racist',), 20), (('america',), 20), (('it’s',), 19), (('election',), 19), (('gop',), 19), (('fox',), 19), (('hillary’s',), 19), (('an',), 19), (('she',), 18), (('all',), 18), (('bernie',), 18), (('make',), 18), (('bill',), 18), (('cnn',), 18), (('when',), 18), (('gives',), 18), (('supporter',), 18), (('war',), 18), (('get',), 17), (('one',), 17), (('back',), 17), (('go',), 16), (('sanders',), 16), (('video',), 16), (('or',), 16), (('man',), 16), (('former',), 16), (('than',), 16), (('republican',), 16), (('your',), 16), (('got',), 16), (('trump:',), 16), (('here’s',), 15), (('tells',), 15), (('russian',), 15), (('during',), 15), (('off',), 15), (('way',), 15), (('he’s',), 15), (('police',), 15), (('but',), 15), (('into',), 14), (('them',), 14), (('don’t',), 14), (('should',), 14), (('caught',), 14), (('want',), 14), (('speech',), 14), (('attack',), 14), (('anti-trump',), 14), (('fake',), 14), (('we',), 13), (('most',), 13), (('(details)',), 13), (('makes',), 13), (('supporters',), 13), (('threatens',), 13), (('won’t',), 13), (('americans',), 13), (('women',), 13), (('campaign',), 13), (('i',), 13), (('no',), 12), (('did',), 12), (('comey',), 12), (('twitter',), 12), (('response',), 12), (('senate',), 12), (('million',), 12), (('take',), 12), (('going',), 12), (('does',), 12), (('my',), 12), (('woman',), 12), (('terrorist',), 12), (('voters',), 12), (('democrats',), 12), (('could',), 12), (('people',), 12), (('state',), 12), (('because',), 12), (('huge',), 11), (('secret',), 11), (('senator',), 11), (('may',), 11), (('liberal',), 11), (('john',), 11), (('russia',), 11), (('family',), 11), (('can’t',), 11), (('more',), 11), (('political',), 11), (('breaking',), 11), (('(tweets)',), 11), (('“i',), 11), (('takes',), 11), (('press',), 11), (('george',), 10), (('leftist',), 10), (('win',), 10), (('can',), 10), (('students',), 10), (('host',), 10), (('radical',), 10), (('party',), 10), (('conservative',), 10), (('our',), 10), (('democrat',), 10), (('day',), 10), (('msnbc',), 10), (('show',), 10), (('support',), 10), (('asked',), 10), (('government',), 10), (('reporter',), 10), (('court',), 10), (('wall',), 9), (('lives',), 9), (('free',), 9), (('so',), 9), (('money',), 9), (('time',), 9), (('ban',), 9), (('gun',), 9), (('do',), 9), (('director',), 9), (('rally',), 9), (('blasts',), 9), (('illegal',), 9), (('ted',), 9), (('list',), 9), (('must',), 9), (('tweet',), 9), (('only',), 9), (('truth',), 9), (('major',), 9), (('states',), 9), (('report:',), 9), (('race',), 9), (('mayor',), 8), (('use',), 8), (('shut',), 8), (('facebook',), 8), (('post',), 8), (('would',), 8), (('f*ck',), 8), (('video:',), 8), (('judge',), 8), (('asks',), 8), (('needs',), 8), (('yet',), 8), (('best',), 8), (('himself',), 8), (('too',), 8), (('before',), 8), (('paul',), 8), (('answer',), 8), (('really',), 8), (('cruz',), 8), (('cops',), 8), (('working',), 8), (('left',), 8), (('rips',), 8), (('hilarious',), 8), (('iran',), 8), (('shocking',), 8), (('school',), 8), (('room',), 8), (('death',), 8), (('being',), 8), (('crooked',), 8), (('now',), 8), (('(image)',), 8), (('fight',), 8), (('cop',), 8), (('street',), 7), (('virginia',), 7), (('sean',), 7), (('kellyanne',), 7), (('conway',), 7), (('lol!',), 7), (('flag',), 7), (('lie',), 7), (('security',), 7), (('voter',), 7), (('own',), 7), (('city',), 7), (('jeff',), 7), (('doj',), 7), (('nominee',), 7), (('said',), 7), (('even',), 7), (('say',), 7), (('give',), 7), (('leader',), 7), (('chris',), 7), (('mccain',), 7), (('great',), 7), (('know',), 7), (('found',), 7), (('obamacare',), 7), (('under',), 7), (('calling',), 7), (('epic',), 7), (('democratic',), 7), (('used',), 7), (('dems',), 7), (('hammers',), 7), (('professor',), 7), (('world',), 7), (('son',), 7), (('poll',), 7), (('breaks',), 7), (('destroys',), 7), (('matter',), 7), (('action',), 7), (('terrorists',), 7), (('supreme',), 7), (('first',), 7), (('law',), 7), (('border',), 7), (('sexual',), 6), (('stunning',), 6), (('bathroom',), 6), (('puts',), 6), (('protesters',), 6), (('made',), 6), (('candidate',), 6), (('boom!',), 6), (('head',), 6), (('crazy',), 6), (('isis',), 6), (('college',), 6), (('york',), 6), (('times',), 6), (('congressman',), 6), (('need',), 6), (('real',), 6), (('meeting',), 6), (('sessions',), 6), (('tries',), 6), (('terror',), 6), (('chicago',), 6), (('general',), 6), (('sunday',), 6), (('been',), 6), (('insane',), 6), (('year',), 6), (('un',), 6), (('james',), 6), (('run',), 6), (('islamic',), 6), (('friend',), 6), (('service',), 6), (('team',), 6), (('rnc',), 6), (('american',), 6), (('cia',), 6), (('episode',), 6), (('wire:',), 6), (('“if',), 6), (('(tweet)',), 6), (('i’m',), 6), (('country',), 6), (('news:',), 6), (('admits',), 6), (('bad',), 6), (('rant',), 6), (('debate',), 6), (('close',), 6), (('owner',), 6), (('syria',), 6), (('words',), 6), (('voting',), 6), (('statement',), 6), (('message',), 6), (('help',), 6), (('class',), 6), (('reveals',), 6), (('every',), 6), (('boiler',), 6), (('hollywood',), 6), (('investigation',), 6), (('news’',), 6), (('email',), 6), (('trump,',), 6), (('story',), 6), (('conference',), 6), (('some',), 6), (('pay',), 6), (('federal',), 6), (('name',), 6), (('disgusting',), 6), (('taxpayer',), 6), (('called',), 6), (('through',), 6), (('fire',), 6), (('office',), 6), (('voted',), 6), (('nfl',), 6), (('last',), 6), (('king',), 6), (('letter',), 6), (('its',), 6), (('full',), 6), (('congress',), 6), (('right',), 6), (('ben',), 6), (('might',), 6), (('report',), 6), (('force',), 5), (('united',), 5), (('were',), 5), (('giving',), 5), (('anyone',), 5), (('possible',), 5), (('refuses',), 5), (('viral',), 5), (('editor',), 5), (('attorney',), 5), (('wh',), 5), (('putin',), 5), (('lying',), 5), (('wrong',), 5), (('muslims',), 5), (('praise',), 5), (('stage',), 5), (('fraud',), 5), (('group',), 5), (('ga',), 5), (('guest',), 5), (('look',), 5), (('threat',), 5), (('destroyed',), 5), (('texas',), 5), (('plan',), 5), (('running',), 5), (('nation',), 5), (('think',), 5), (('plans',), 5), (('trey',), 5), (('gowdy',), 5), (('old',), 5), (('polls',), 5), (('michael',), 5), (('boy',), 5), (('inauguration',), 5), (('two',), 5), (('hillary:',), 5), (('blame',), 5), (('comments',), 5), (('dangerous',), 5), (('angry',), 5), (('perfect',), 5), (('away',), 5), (('wearing',), 5), (('ivanka',), 5), (('michelle',), 5), (('thought',), 5), (('tucker',), 5), (('photo',), 5), (('top',), 5), (('videos',), 5), (('doesn’t',), 5), (('see',), 5), (('neighborhood',), 5), (('ca',), 5), (('governor',), 5), (('shows',), 5), (('sex',), 5), (('getting',), 5), (('sarah',), 5), (('bans',), 5), (('finally',), 5), (('violence',), 5), (('trying',), 5), (('illegals',), 5), (('dnc',), 5), (('where',), 5), (('‘the',), 5), (('middle',), 5), (('nancy',), 5), (('speak',), 5), (('hate',), 5), (('north',), 5), (('probe',), 5), (('crowd',), 5), (('reason',), 5), (('demands',), 5), (('runs',), 5), (('mexico',), 5), (('march',), 5), (('cnn’s',), 5), (('lynch',), 5), (('years',), 5), (('rights',), 5), (('clinton’s',), 5), (('job',), 5), (('bar',), 5), (('4',), 5), (('rubio',), 5), (('same',), 5), (('#blacklivesmatter',), 5), (('behind',), 5), (('activist',), 5), (('conservatives',), 5), (('billion',), 5), (('you’re',), 5), (('destroy',), 5), (('carson',), 5), (('kids',), 5), (('joe',), 5), (('releases',), 5), (('men',), 5), (('religion',), 4), (('transgender',), 4), (('come',), 4), (('release',), 4), (('lame',), 4), (('west',), 4), (('america’s',), 4), (('tell',), 4), (('cuts',), 4), (('exposes',), 4)]\n",
      "\n",
      "\n",
      "Most common words in text, real:\n",
      " [(('the',), 22315), (('to',), 11289), (('of',), 9501), (('a',), 9019), (('and',), 8581), (('in',), 8434), (('on',), 4979), (('that',), 3855), (('for',), 3750), (('said',), 3285), (('is',), 2585), (('with',), 2524), (('he',), 2412), (('was',), 2260), (('by',), 2206), (('has',), 2161), (('s',), 2128), (('as',), 2115), (('it',), 1913), (('u.s.',), 1850), (('from',), 1846), (('have',), 1674), (('his',), 1651), (('not',), 1605), (('be',), 1547), (('an',), 1516), (('trump',), 1469), (('at',), 1452), (('-',), 1432), (('would',), 1418), (('who',), 1263), (('will',), 1251), (('had',), 1244), (('are',), 1211), (('president',), 1160), (('but',), 1137), (('said.',), 1052), (('its',), 997), (('(reuters)',), 993), (('which',), 967), (('they',), 938), (('been',), 933), (('after',), 870), (('were',), 867), (('this',), 860), (('united',), 804), (('more',), 794), (('their',), 784), (('we',), 774), (('new',), 763), (('about',), 742), (('government',), 724), (('state',), 712), (('also',), 704), (('told',), 703), (('or',), 681), (('over',), 636), (('house',), 615), (('last',), 603), (('republican',), 582), (('people',), 580), (('some',), 563), (('could',), 554), (('states',), 541), (('other',), 532), (('than',), 521), (('former',), 517), (('she',), 513), (('one',), 502), (('against',), 501), (('when',), 500), (('two',), 490), (('washington',), 477), (('security',), 476), (('no',), 471), (('if',), 467), (('i',), 464), (('trump’s',), 462), (('donald',), 451), (('out',), 442), (('her',), 440), (('north',), 436), (('there',), 435), (('first',), 430), (('up',), 429), (('national',), 423), (('into',), 419), (('democratic',), 418), (('party',), 413), (('military',), 408), (('since',), 408), (('all',), 408), (('court',), 398), (('between',), 394), (('any',), 394), (('including',), 384), (('white',), 381), (('foreign',), 380), (('presidential',), 374), (('did',), 367)]\n",
      "\n",
      "\n",
      "Most common words in text, fake:\n",
      " [(('the',), 22044), (('to',), 12327), (('of',), 10066), (('and',), 9785), (('a',), 9064), (('in',), 6866), (('that',), 6237), (('s',), 5501), (('is',), 4699), (('for',), 3950), (('on',), 3278), (('he',), 3163), (('it',), 3005), (('trump',), 2810), (('was',), 2754), (('with',), 2629), (('his',), 2486), (('this',), 2420), (('as',), 2350), (('by',), 2132), (('be',), 2048), (('are',), 1967), (('they',), 1923), (('not',), 1866), (('have',), 1840), (('who',), 1801), (('has',), 1740), (('i',), 1716), (('t',), 1658), (('from',), 1651), (('you',), 1638), (('we',), 1603), (('at',), 1574), (('an',), 1464), (('about',), 1359), (('but',), 1330), (('their',), 1246), (('or',), 1051), (('will',), 1036), (('been',), 988), (('all',), 983), (('would',), 975), (('she',), 964), (('if',), 962), (('said',), 947), (('what',), 945), (('people',), 901), (('one',), 894), (('were',), 876), (('when',), 870), (('her',), 854), (('more',), 851), (('out',), 840), (('president',), 833), (('donald',), 811), (('just',), 793), (('can',), 791), (('so',), 781), (('like',), 780), (('our',), 780), (('there',), 748), (('had',), 729), (('no',), 722), (('which',), 716), (('obama',), 695), (('after',), 670), (('also',), 653), (('because',), 639), (('up',), 633), (('clinton',), 628), (('new',), 615), (('than',), 604), (('how',), 570), (('do',), 563), (('any',), 561), (('into',), 555), (('hillary',), 552), (('even',), 546), (('white',), 545), (('only',), 536), (('other',), 533), (('over',), 522), (('being',), 490), (('should',), 486), (('them',), 485), (('its',), 480), (('against',), 478), (('him',), 478), (('re',), 478), (('news',), 471), (('some',), 464), (('us',), 461), (('state',), 458), (('time',), 451), (('now',), 448), (('american',), 439), (('don',), 433), (('these',), 429), (('your',), 427), (('going',), 423)]\n"
     ]
    }
   ],
   "source": [
    "uni_title_real = ngram_tokenizer(title0, n=1)\n",
    "uni_title_fake = ngram_tokenizer(title1, n=1)\n",
    "uni_text_real = ngram_tokenizer(text0, n=1)\n",
    "uni_text_fake = ngram_tokenizer(text1, n=1)\n",
    "\n",
    "word_counter = Counter(uni_title_real)\n",
    "print('\\n\\nMost common words in title, real:\\n',word_counter.most_common(500))\n",
    "\n",
    "word_counter = Counter(uni_title_fake)\n",
    "print('\\n\\nMost common words in title, fake:\\n',word_counter.most_common(500))\n",
    "\n",
    "word_counter = Counter(uni_text_real)\n",
    "print('\\n\\nMost common words in text, real:\\n',word_counter.most_common(100))\n",
    "\n",
    "word_counter = Counter(uni_text_fake)\n",
    "print('\\n\\nMost common words in text, fake:\\n',word_counter.most_common(100))"
   ]
  },
  {
   "cell_type": "markdown",
   "id": "a08a52d0",
   "metadata": {},
   "source": [
    "### Findings\n",
    "Following interesting features were found in fake news:\n",
    "- **\"Video\"** is one of the most frequent title words\n",
    "- **Various special charactors** in title\n",
    "- **Exclamation** marks (!, ?) are frequently used, which make fake news sounds **emotional**.\n",
    "- **First names** occurs frequently, which is not preferred in real news to be concise. \n",
    "- A lot of **\"@\"** in text, probably they spread fake news by **quoting social media**, like a **rumor** is generated by quoting other person.\n",
    "\n",
    "### To consider in preprocessings\n",
    "- Handling **noise, like \"'s\", \"n't\"**, without loss of meanings.\n",
    "- Tag words with **\"\\*\"** charactor (probably a slang, which is not used in real news)\n",
    "- Capical letters: a little headache about proper noun\n",
    "    - \"U.S.\" or \"U.N.\" shouldn't be \"us\" or \"un\" by removing special characters and lower case.\n",
    "        - Solution: **\"U.S.\", \"U.N.\" -> \"u_s_\", \"u_n_\"**\n",
    "    - EU, PM, UK: two charactor words. Should lengthen them.\n",
    "        - Solution: **\"EU\" -> e_u_**\n",
    "    - Change meaning if lower cased: North, South, House, White, State, May ...\n",
    "        - Context matter. Attention model might work if trained, however, not a first thing to do now.\n",
    "        - Solution: For now, change frequent words of them manualy. **House -> house_**\n",
    "- Change **\"-\" as a space** because it connects two words and you want to keep them spaced.\n",
    "- Remove other **special charactor**.\n",
    "- Remove **stop words**\n",
    "\n",
    "\n",
    "\n"
   ]
  },
  {
   "cell_type": "markdown",
   "id": "03d24414",
   "metadata": {},
   "source": [
    "# Frequent words - n Gram"
   ]
  },
  {
   "cell_type": "code",
   "execution_count": 24,
   "id": "189f2512",
   "metadata": {
    "scrolled": false
   },
   "outputs": [
    {
     "name": "stdout",
     "output_type": "stream",
     "text": [
      "Bigram =============================\n",
      "\n",
      "\n",
      "\n",
      "Most common words in title, real:\n",
      " [(('white', 'house'), 36), (('north', 'korea'), 32), (('supreme', 'court'), 17), (('trump', 'to'), 16), (('calls', 'for'), 12), (('puerto', 'rico'), 11), (('to', 'be'), 10), (('ahead', 'of'), 10), (('to', 'meet'), 10), (('south', 'korea'), 9), (('trump', 'says'), 9), (('says', 'u.s.'), 8), (('travel', 'ban'), 8), (('trump', 'administration'), 8), (('islamic', 'state'), 8), (('of', 'trump'), 8), (('for', 'u.s.'), 7), (('in', 'u.s.'), 7), (('to', 'hold'), 7), (('to', 'lead'), 7), (('on', 'north'), 7), (('says', 'he'), 6), (('house', 'speaker'), 6), (('house', 'says'), 6), (('north', 'korean'), 6), (('iran', 'nuclear'), 6), (('aimed', 'at'), 6), (('trump', 'on'), 6), (('u.s.', 'lawmakers'), 6), (('u.s.', 'senate'), 6), (('will', 'not'), 5), (('china', 'says'), 5), (('finance', 'minister'), 5), (('to', 'discuss'), 5), (('to', 'u.s.'), 5), (('in', 'syria'), 5), (('china', 'to'), 5), (('reuters/ipsos', 'poll'), 5), (('to', 'nominate'), 5), (('of', 'state'), 5), (('u.s.', 'health'), 5), (('human', 'rights'), 5), (('nuclear', 'deal'), 5), (('to', 'trump'), 5), (('of', 'u.s.'), 5), (('at', 'least'), 5), (('attorney', 'general'), 5), (('senator', 'mccain'), 5), (('u.s.', 'sanctions'), 4), (('trump', 'travel'), 4), (('on', 'trump'), 4), (('corruption', 'charges'), 4), (('court', 'nominee'), 4), (('high', 'court'), 4), (('u.s.', 'house'), 4), (('speaker', 'ryan'), 4), (('ruling', 'party'), 4), (('says', 'trump'), 4), (('russia', 'says'), 4), (('killed', 'in'), 4), (('tillerson', 'says'), 4), (('says', 'will'), 4), (('aid', 'to'), 4), ((\"china's\", 'xi'), 4), (('will', 'be'), 4), (('in', 'russia'), 4), (('hopes', 'for'), 4), (('official', 'says'), 4), (('vote', 'on'), 4), (('with', 'russian'), 4), (('on', 'twitter'), 4), (('meeting', 'with'), 4), (('in', 'new'), 4), (('next', 'week'), 4), (('says', 'it'), 4), (('plays', 'down'), 4), (('support', 'for'), 4), (('u.s.', 'to'), 4), (('deal', 'on'), 4), (('pm', 'may'), 4), (('willing', 'to'), 4), (('u.s.', 'senator'), 4), (('at', 'u.n.'), 4), (('obama', 'to'), 4), (('to', 'make'), 4), (('party', 'congress'), 4), (('u.s.', 'congress'), 4), (('to', 'visit'), 4), (('south', 'african'), 4), (('on', 'u.s.'), 4), (('air', 'strikes'), 4), (('trump', 'would'), 4), (('south', \"africa's\"), 4), (('korean', 'peninsula'), 4), (('tax', 'reform'), 4), (('to', 'military'), 3), (('to', 'push'), 3), (('talks', 'with'), 3), (('house', 'tax'), 3), (('tax', 'bill'), 3), (('administration', 'to'), 3), (('after', 'u.s.'), 3), (('to', 'allow'), 3), (('in', 'the'), 3), (('this', 'week'), 3), (('hurricane', 'irma'), 3), (('social', 'media'), 3), (('could', 'be'), 3), (('factbox:', 'trump'), 3), (('is', 'not'), 3), (('secretary', 'of'), 3), (('xi', 'says'), 3), (('case', 'of'), 3), (('new', 'u.s.'), 3), (('calls', 'trump'), 3), (('new', 'sanctions'), 3), (('u.s.', 'lawmaker'), 3), (('bill', 'to'), 3), (('meet', 'on'), 3), (('house', 'bid'), 3), (('end', 'of'), 3), (('to', 'face'), 3), (('u.s.', 'energy'), 3), (('north', 'korea,'), 3), (('iran', 'says'), 3), (('ban', 'on'), 3), (('what', 'a'), 3), (('a', 'president'), 3), (('would', 'do'), 3), ((\"lebanon's\", 'hariri'), 3), (('the', 'trump'), 3), (('trump', 'presidency'), 3), (('presidency', 'on'), 3), (('not', 'a'), 3), (('meet', 'with'), 3), (('irish', 'border'), 3), (('with', 'north'), 3), (('state', 'claims'), 3), (('says', 'its'), 3), (('to', 'see'), 3), (('working', 'with'), 3), (('pick', 'for'), 3), (('france', 'to'), 3), (('trump', 'defends'), 3), (('red', 'cross'), 3), (('attack', 'on'), 3), (('korea', 'says'), 3), (('climate', 'change'), 3), (('nafta', 'talks'), 3), (('as', 'trump'), 3), (('hit', 'by'), 3), (('south', 'china'), 3), (('china', 'sea'), 3), (('committed', 'to'), 3), (('down', 'on'), 3), (('on', 'jerusalem'), 3), (('urge', 'trump'), 3), (('border', 'wall'), 3), (('ahead', 'with'), 3), (('say', 'they'), 3), (('government', 'shutdown'), 3), (('to', 'seek'), 3), (('for', 'new'), 3), (('over', 'trump'), 3), (('u.s.', 'supreme'), 3), (('brexit', 'transition'), 3), (('korea', 'to'), 3), (('plans', 'to'), 3), (('with', 'russia'), 3), (('congress', 'to'), 3), (('should', 'be'), 3), (('foreign', 'minister'), 3), (('may', 'be'), 3), (('u.s.', 'election'), 3), (('to', 'stop'), 3), (('brexit', 'deal'), 3), (('opposition', 'says'), 3), (('on', 'brexit'), 3), (('to', 'rule'), 3), (('to', 'boost'), 3), (('corporate', 'tax'), 3), (('investigation', 'of'), 3), (('president', 'trump'), 3), (('healthcare', 'vote'), 3), (('at', 'republican'), 3), (('with', 'u.s.'), 3), (('russia', 'probe'), 3), (('want', 'to'), 3), (('south', \"korea's\"), 3), ((\"korea's\", 'moon'), 3), (('syria', 'talks'), 3), (('fired', 'at'), 3), (('in', 'myanmar'), 3), (('not', 'to'), 3), (('ryan', 'says'), 3), (('in', 'north'), 3), (('comments', 'to'), 3), (('attack', 'in'), 3), (('leader', 'says'), 3), (('more', 'than'), 3), (('u.s.', 'attack'), 2), (('pushes', 'for'), 2), (('vow', 'to'), 2), (('venezuela', 'to'), 2), (('part', 'of'), 2), (('hong', 'kong'), 2), (('iraq', 'says'), 2), (('ivory', 'coast'), 2), (('with', 'trump'), 2), (('trump', 'immigration'), 2), ((\"trump's\", 'team'), 2), (('for', 'his'), 2), (('did', 'not'), 2), (('russia', 'calls'), 2), (('strikes', 'on'), 2), (('egypt', 'says'), 2), (('factbox:', \"trump's\"), 2), (('u.s.', 'high'), 2), (('says', \"he's\"), 2), (('to', 'buy'), 2), (('court', 'to'), 2), (('kenya', 'election'), 2), (('federal', 'judge'), 2), (('trump', 'expected'), 2), (('expected', 'to'), 2), ((\"uk's\", 'may'), 2), (('amid', 'south'), 2), (('take', 'the'), 2), (('brexit', 'divorce'), 2), (('japan', 'pm'), 2), (('says', 'to'), 2), (('to', 'decide'), 2), (('vote', 'this'), 2), (('week', 'to'), 2), ((\"zimbabwe's\", 'mugabe'), 2), (('to', \"syria's\"), 2), (('-', 'at'), 2), (('to', 'the'), 2), (('in', 'bangladesh'), 2), (('government', 'to'), 2), (('on', 'monday'), 2), (('key', 'house'), 2), (('house', 'republican'), 2), (('on', 'healthcare'), 2), (('zimbabwe', 'court'), 2), (('court', 'postpones'), 2), (('case', 'to'), 2), (('companies', 'to'), 2), (('to', 'block'), 2), (('u.s.,', 'russia'), 2), (('russia', 'can'), 2), (('saudi', 'king'), 2), (('request', 'for'), 2), (('refugees', 'in'), 2), (('in', 'germany'), 2), (('would', 'be'), 2), (('far-right', 'party'), 2), (('bid', 'for'), 2), (('by', 'trump,'), 2), (('u.s.', 'ambassador'), 2), (('killed', 'as'), 2), (('new', 'jersey'), 2), (('to', 'five'), 2), (('five', 'years'), 2), (('in', 'case'), 2), (('trump', 'taps'), 2), (('health', 'secretary'), 2), (('for', 'president'), 2), (('republicans', 'to'), 2), (('tax', 'cut'), 2), (('meets', 'with'), 2), (('sanctions', 'after'), 2), (('after', 'north'), 2), (('korea', 'nuclear'), 2), (('nuclear', 'test'), 2), (('trump', 'criticizes'), 2), (('officials', 'say'), 2), (('hurt', 'u.s.'), 2), (('nuclear', 'deal:'), 2), (('new', 'hampshire'), 2), (('pakistan', 'orders'), 2), (('crackdown', 'on'), 2), (('aims', 'to'), 2), (('in', 'congress'), 2), (('to', 'scrap'), 2), (('to', 'sell'), 2), (('public', 'lands'), 2), (('trump', 'considering'), 2), (('washington', 'post'), 2), (('eu', 'parliament'), 2), (('says', 'north'), 2), (('german', 'parliament'), 2), (('u.n.', 'warns'), 2), (('drops', 'out'), 2), (('at', 'end'), 2), (('candidate', 'for'), 2), (('thousands', 'of'), 2), (('of', 'islamic'), 2), (('to', 'ban'), 2), (('to', 'north'), 2), (('try', 'to'), 2), (('2018', 'race'), 2), (('democrat', 'says'), 2), (('says', 'china'), 2), (('syrian', 'refugees'), 2), (('u.s.', 'treasury,'), 2), (('concerned', 'over'), 2), (('call', 'with'), 2), (('decades', 'of'), 2), (('republican', 'presidential'), 2), (('on', 'feb.'), 2), (('p.m.', 'est'), 2), (('as', 'it'), 2), (('donald', 'trump'), 2), (('house', 'panel'), 2), (('attacks', 'on'), 2), (('to', 'attend'), 2), (('indonesian', 'police'), 2), (('u.s.', 'asks'), 2), (('strikes', 'kill'), 2), (('in', \"syria's\"), 2), (('to', 'cut'), 2), (('north', 'korea:'), 2), (('house', 'official'), 2), (('president', 'says'), 2), (('rule', 'on'), 2), (('on', 'security'), 2), (('vie', 'for'), 2), (('for', 'world'), 2), ((\"france's\", 'macron'), 2), (('tells', 'trump'), 2), (('news', 'agency'), 2), (('pope', 'says'), 2), ((\"trump's\", 'pick'), 2), (('britain', 'and'), 2), (('uk', 'pm'), 2), (('pm', \"may's\"), 2), (('open', 'to'), 2), (('step', 'up'), 2), (('up', 'defense'), 2), (('senate', 'approves'), 2), (('to', 'host'), 2), (('it', 'will'), 2), (('catalan', 'separatists'), 2), (('sanctions', 'on'), 2), (('clinton', 'leads'), 2), (('leads', 'trump'), 2), (('trump', 'by'), 2), (('after', 'democratic'), 2), (('visit', 'to'), 2), (('signals', 'support'), 2), (('u.s.', 'recognition'), 2), (('recognition', 'of'), 2), (('of', 'jerusalem'), 2), (('jerusalem', 'as'), 2), (('of', 'dead'), 2), (('u.s.', 'defense'), 2), (('charges', 'against'), 2), (('trump', 'team'), 2), (('u.s.', 'republicans'), 2), (('on', 'first'), 2), (('day', 'of'), 2), (('obama', 'says'), 2), (('to', 'turn'), 2), (('in', 'virginia'), 2), (('to', 'deal'), 2), (('nuclear', 'weapons'), 2), (('senate', 'to'), 2), (('to', 'act'), 2), (('mcconnell', 'says'), 2), (('hillary', 'clinton'), 2), (('clinton', 'in'), 2), (('of', 'plotting'), 2), (('british', 'pm'), 2), (('may', 'to'), 2), (('in', 'june'), 2), (('prosecutor', 'says'), 2), (('by', 'obama'), 2), (('clinton,', 'sanders'), 2), (('during', 'anthem'), 2), (('u.s.', 'navy'), 2), (('german', 'coalition'), 2), (('trump', 'move'), 2), (('move', 'on'), 2), (('for', 'puerto'), 2), (('police', 'officer'), 2), (('u.s.', 'says'), 2), (('rohingya', 'crisis'), 2), (('u.n.', 'rights'), 2), (('to', 'talk'), 2), (('senator', 'says'), 2), (('trip', 'to'), 2), (('to', 'cuba'), 2), (('rico', 'debt'), 2), (('debt', 'crisis'), 2), (('oversight', 'board'), 2), (('court', 'justice'), 2), (('three', 'people'), 2), (('decision', 'on'), 2), (('plan', 'has'), 2), (('eu', 'commission'), 2), (('senate', 'confirms'), 2), (('to', 'new'), 2), (('five-year', 'term'), 2), (('cruz', 'white'), 2), (('to', 'raise'), 2), (('to', 'dec.'), 2), (('review', 'of'), 2), (('independence', 'vote'), 2), (('seeks', 'to'), 2), (('to', 'extend'), 2), ((\"president's\", 'rule'), 2), (('democrats', 'seek'), 2), (('probe', 'of'), 2), (('seek', 're-election'), 2), (('in', 'eastern'), 2), (('of', 'coalition'), 2), (('president', 'to'), 2), (('trump', 'at'), 2), (('islamic', 'state,'), 2), (('state', 'department'), 2), (('in', 'china'), 2), (('push', 'for'), 2), (('for', 'wall'), 2), (('trump', 'talks'), 2), (('to', 'keep'), 2), (('obamacare', 'subsidies'), 2), (('to', 'leave'), 2), ((\"syria's\", 'raqqa'), 2), (('trying', 'to'), 2), (('general', 'to'), 2), (('on', 'independence'), 2), (('effort', 'to'), 2), (('healthcare', 'overhaul'), 2), (('u.s.', 'will'), 2), (('for', 'a'), 2), (('set', 'to'), 2), (('more', 'men'), 2), (('refuge', 'in'), 2), (('national', 'security'), 2), (('senate', 'republicans'), 2), (('condemnation', 'of'), 2), (('veto', 'of'), 2), (('to', 'close'), 2), (('in', 'corruption'), 2), (('corruption', 'case'), 2), (('looks', 'to'), 2), (('with', 'iran'), 2), (('leader', 'calls'), 2), (('calls', 'on'), 2), (('u.s.', 'policy'), 2), (('government', 'source'), 2), (('out', 'of'), 2), (('pleads', 'guilty'), 2), (('of', 'clinton'), 2), (('of', 'crisis'), 2), (('iraqi', 'pm'), 2), (('case', 'for'), 2), (('u.s.', 'regulation'), 2), (('shoot', 'dead'), 2), (('police', 'say'), 2), (('in', 'florida,'), 2), (('leader', 'who'), 2), (('north', \"korea's\"), 2), (('opposed', 'to'), 2), (('with', 'trump,'), 2), (('appeals', 'court'), 2), (('court', 'rejects'), 2), (('deal', 'if'), 2), (('northern', 'ireland'), 2), (('homeland', 'security'), 2), (('u.s.', 'states'), 2), (('people', 'with'), 2), (('venezuela', 'opposition'), 2), (('urge', 'u.s.'), 2), (('argentina', 'says'), 2), (('detected,', 'likely'), 2), (('likely', 'from'), 2), (('from', 'missing'), 2), (('missing', 'submarine'), 2), (('u.s.', 'military'), 2), (('military', 'aid'), 2), (('russia', 'denies'), 2), (('civilians', 'in'), 2), (('in', 'air'), 2), (('challenge', 'to'), 2), (('seeks', 'investigation'), 2), (('on', 'tuesday'), 2), (('to', 'announce'), 2), (('factbox:', 'build'), 2), (('build', 'a'), 2), (('a', 'giant'), 2), (('giant', 'wall,'), 2), (('wall,', 'cut'), 2), (('cut', 'education'), 2), (('education', 'department.'), 2), (('department.', 'what'), 2), (('to', 'name'), 2), (('at', 'risk'), 2), (('ambassador', 'over'), 2)]\n",
      "\n",
      "\n",
      "Most common words in title, fake:\n",
      " [(('donald', 'trump'), 24), (('in', 'the'), 19), (('trump', 'supporter'), 17), (('president', 'trump'), 16), (('of', 'the'), 15), (('to', 'the'), 14), (('hillary', 'clinton'), 13), (('bernie', 'sanders'), 13), (('white', 'house'), 13), (('trump', 'is'), 13), (('going', 'to'), 10), (('for', 'trump'), 10), (('on', 'the'), 10), (('trump', '[video]'), 9), (('is', 'a'), 9), (('fox', 'news'), 8), (('war', 'on'), 8), (('trump', 'in'), 8), (('for', 'the'), 7), (('trump', 'just'), 7), (('in', 'a'), 7), (('the', 'most'), 7), (('fbi', 'director'), 7), (('as', 'a'), 7), (('republicans', 'for'), 7), (('ted', 'cruz'), 7), (('trump', 'for'), 7), (('a', 'new'), 7), (('to', 'a'), 7), (('and', 'it’s'), 7), (('with', 'a'), 7), (('trump', 'to'), 7), (('want', 'to'), 7), (('vote', 'for'), 7), (('black', 'lives'), 7), (('supreme', 'court'), 7), (('news', 'for'), 7), (('shut', 'down'), 6), (('to', 'make'), 6), (('on', 'trump'), 6), (('kellyanne', 'conway'), 6), (('in', 'his'), 6), (('new', 'york'), 6), (('to', 'get'), 6), (('trump', 'after'), 6), (('tries', 'to'), 6), (('to', 'trump'), 6), (('for', 'hillary'), 6), (('of', 'trump'), 6), (('is', 'the'), 6), (('to', 'take'), 6), (('trump', 'supporters'), 6), (('trump', 'and'), 6), (('of', 'trump’s'), 6), (('truth', 'about'), 6), (('boiler', 'room'), 6), (('list', 'of'), 6), (('press', 'conference'), 6), (('to', 'be'), 6), (('lives', 'matter'), 6), (('trump', '(video)'), 6), (('to', 'use'), 5), (('hillary', 'is'), 5), (('the', 'white'), 5), (('on', 'twitter'), 5), (('obama', 'and'), 5), (('york', 'times'), 5), (('against', 'trump'), 5), (('response', 'to'), 5), (('muslim', 'ban'), 5), (('watch', 'this'), 5), (('his', 'own'), 5), (('and', 'gets'), 5), (('trey', 'gowdy'), 5), (('caught', 'on'), 5), (('–', 'sunday'), 5), (('sunday', 'wire:'), 5), (('he', 'was'), 5), (('was', 'a'), 5), (('has', 'a'), 5), (('to', 'go'), 5), (('msnbc', 'host'), 5), (('trying', 'to'), 5), (('new', 'poll'), 5), (('this', 'is'), 5), (('to', 'vote'), 5), (('it', 'was'), 5), (('here’s', 'why'), 5), (('like', 'a'), 5), (('should', 'be'), 5), (('to', 'force'), 4), (('a', 'huge'), 4), (('refuses', 'to'), 4), (('west', 'virginia'), 4), (('need', 'to'), 4), (('to', 'stop'), 4), (('in', 'us'), 4), (('voter', 'fraud'), 4), (('here’s', 'what'), 4), (('jeff', 'sessions'), 4), (('how', 'the'), 4), (('goes', 'after'), 4), (('plans', 'to'), 4), (('secret', 'service'), 4), (('trump', 'gets'), 4), (('the', 'media'), 4), (('hundreds', 'of'), 4), (('illegal', 'aliens'), 4), (('to', 'him'), 4), (('breaking', 'news:'), 4), (('admits', 'to'), 4), (('tomi', 'lahren'), 4), (('tucker', 'carlson'), 4), (('why', 'he'), 4), (('this', 'one'), 4), (('tied', 'to'), 4), (('him', 'on'), 4), (('to', 'see'), 4), (('by', 'a'), 4), (('go', 'f*ck'), 4), (('f*ck', 'himself'), 4), (('the', 'truth'), 4), (('a', 'major'), 4), (('united', 'states'), 4), (('in', 'their'), 4), (('don’t', 'want'), 4), (('james', 'comey'), 4), (('forced', 'to'), 4), (('the', 'world'), 4), (('nancy', 'pelosi'), 4), (('trump', 'with'), 4), (('after', 'he'), 4), (('fake', 'news'), 4), (('judge', 'jeanine'), 4), (('as', 'trump'), 4), (('professor', 'who'), 4), (('at', 'a'), 4), (('donald', 'trump’s'), 4), (('on', 'his'), 4), (('planned', 'parenthood'), 4), (('trump', 'will'), 4), (('loretta', 'lynch'), 4), (('to', 'fight'), 4), (('fight', 'back'), 4), (('free', 'speech'), 4), (('race', 'war'), 4), (('are', 'not'), 4), (('bad', 'news'), 4), (('to', 'have'), 4), (('attack', 'on'), 4), (('to', 'wear'), 4), (('paul', 'ryan'), 4), (('president', 'obama'), 4), (('the', 'gop'), 4), (('just', 'got'), 4), (('obama’s', 'war'), 4), (('be', 'a'), 4), (('of', 'a'), 4), (('to', 'destroy'), 4), (('video', 'of'), 4), (('about', 'the'), 4), (('if', 'you'), 4), (('after', 'she'), 3), (('transgender', 'bathroom'), 3), (('bathroom', 'decree'), 3), (('facebook', 'post'), 3), (('how', 'is'), 3), (('come', 'to'), 3), (('leftist', 'media'), 3), (('just', 'made'), 3), (('to', 'black'), 3), (('attempt', 'to'), 3), (('bill', 'clinton'), 3), (('and', 'hillary'), 3), (('up', 'in'), 3), (('clinton', 'and'), 3), (('bias', 'against'), 3), (('at', 'trump'), 3), (('calls', 'out'), 3), (('off', 'stage'), 3), (('effort', 'to'), 3), (('happened', 'to'), 3), (('attorney', 'general'), 3), (('the', 'fbi'), 3), (('on', 'black'), 3), (('may', 'have'), 3), (('worse', 'than'), 3), (('trump', 'tries'), 3), (('trump', 'has'), 3), (('obama', 'gives'), 3), (('plan', 'to'), 3), (('and', 'trump'), 3), (('running', 'for'), 3), (('do', 'you'), 3), (('to', 'give'), 3), (('will', 'make'), 3), (('republicans', 'to'), 3), (('off', 'on'), 3), (('to', 'his'), 3), (('and', 'jay'), 3), (('jay', 'dyer'), 3), (('chris', 'matthews'), 3), (('muslim', 'mayor'), 3), (('you', 'can’t'), 3), (('of', 'illegal'), 3), (('susan', 'rice'), 3), (('most', 'dangerous'), 3), (('for', 'a'), 3), (('black', 'man'), 3), (('trump', 'on'), 3), (('this', 'time'), 3), (('michelle', 'obama'), 3), (('year', 'old'), 3), (('the', 'news'), 3), (('for', 'his'), 3), (('why', 'is'), 3), (('when', 'he'), 3), (('lied', 'about'), 3), (('and', 'it'), 3), (('family', 'of'), 3), (('trump', 'jr.'), 3), (('must', 'watch'), 3), (('for', 'calling'), 3), (('“i', 'don’t'), 3), (('cnn', 'anchor'), 3), (('just', 'told'), 3), (('the', 'best'), 3), (('for', 'president'), 3), (('message', 'to'), 3), (('up', 'for'), 3), (('rips', 'republicans'), 3), (('to', 'help'), 3), (('rip', 'on'), 3), (('trump', 'was'), 3), (('the', 'united'), 3), (('president', 'trump’s'), 3), (('fox', 'news’'), 3), (('talking', 'about'), 3), (('is', 'an'), 3), (('ron', 'paul'), 3), (('‘fake', 'news’'), 3), (('former', 'u.s.'), 3), (('director', 'james'), 3), (('of', 'hillary’s'), 3), (('donald', 'trump,'), 3), (('who', 'said'), 3), (('out', 'to'), 3), (('down', 'the'), 3), (('about', 'trump'), 3), (('up', 'to'), 3), (('million', 'to'), 3), (('the', 'middle'), 3), (('on', 'him'), 3), (('gets', 'his'), 3), (('his', 'a**'), 3), (('a**', 'handed'), 3), (('handed', 'to'), 3), (('here’s', 'how'), 3), (('crooked', 'hillary'), 3), (('for', 'trump’s'), 3), (('support', 'of'), 3), (('she', 'was'), 3), (('over', 'russian'), 3), (('money', 'to'), 3), (('calls', 'for'), 3), (('was', 'born'), 3), (('breaking:', 'secret'), 3), (('violence', 'in'), 3), (('and', 'the'), 3), (('way', 'to'), 3), (('the', 'new'), 3), (('about', 'how'), 3), (('goes', 'viral'), 3), (('a', 'racist'), 3), (('to', 'white'), 3), (('watch:', 'trump'), 3), (('trump', 'a'), 3), (('hillary', 'clinton’s'), 3), (('vp', 'pick'), 3), (('america', 'great'), 3), (('to', 'this'), 3), (('question', 'about'), 3), (('danger', 'of'), 3), (('muslim', 'terrorist'), 3), (('needs', 'to'), 3), (('for', 'her'), 3), (('not', 'to'), 3), (('marco', 'rubio'), 3), (('the', 'same'), 3), (('on', 'trip'), 3), (('women’s', 'march'), 3), (('in', 'front'), 3), (('responds', 'to'), 3), (('trump', 'fan'), 3), (('out', 'of'), 3), (('border', 'wall'), 3), (('secretary', 'of'), 3), (('of', 'state'), 3), (('how', 'to'), 3), (('have', 'a'), 3), (('death', 'of'), 3), (('jake', 'tapper'), 3), (('under', 'trump'), 3), (('why', 'trump'), 3), (('bar', 'owner'), 3), (('shuts', 'down'), 3), (('to', 'fire'), 3), (('right', 'to'), 3), (('back', 'against'), 3), (('stock', 'market'), 3), (('in', 'trump’s'), 3), (('george', 'soros'), 3), (('diamond', 'and'), 3), (('credit', 'for'), 3), (('human', 'rights'), 3), (('trump', 'over'), 3), (('him', 'to'), 3), (('you', 'go'), 3), (('vote', 'in'), 3), (('helping', 'to'), 2), (('sexual', 'harassment'), 2), (('use', 'the'), 2), (('stunning', 'betrayal!'), 2), (('betrayal!', '43'), 2), (('43', 'republicans,'), 2), (('republicans,', 'in'), 2), (('in', 'dark'), 2), (('dark', 'of'), 2), (('of', 'night'), 2), (('night', 'vote'), 2), (('vote', 'to'), 2), (('to', 'approve'), 2), (('approve', 'obama’s'), 2), (('obama’s', 'transgender'), 2), (('wall', 'street'), 2), (('street', 'journal'), 2), (('and', 'hypocrisy'), 2), (('f*ck', 'you'), 2), (('giving', 'a'), 2), (('the', 'u.s.'), 2), (('u.s.', 'to'), 2), (('become', 'the'), 2), (('media', 'and'), 2), (('freak', 'out'), 2), (('trump', 'win'), 2), (('viral', 'video:'), 2), (('virginia', 'coal'), 2), (('coal', 'miners'), 2), (('is', 'not'), 2), (('tell', 'us'), 2), (('candidate', 'is'), 2), (('black', 'radio'), 2), (('to', 'tie'), 2), (('asks', 'if'), 2), (('if', 'she'), 2), (('sean', 'spicer'), 2), (('firing', 'comey'), 2), (('over', 'his'), 2), (('that', 'obama'), 2), (('they', 'don’t'), 2), (('best', 'ever'), 2), (('to', 'trump’s'), 2), (('trump’s', 'muslim'), 2), (('jesse', 'jackson'), 2), (('get', 'into'), 2), (('cnn', 'host'), 2), (('obama', 'is'), 2), (('watch', 'what'), 2), (('what', 'happens'), 2), (('happens', 'when'), 2), (('when', 'a'), 2), (('the', 'wrong'), 2), (('religion', 'of'), 2), (('eric', 'holder'), 2), (('racist', 'who'), 2), (('speaker', 'scheduled'), 2), (('scheduled', 'to'), 2), (('to', 'praise'), 2), (('praise', 'hillary'), 2), (('hillary', 'totally'), 2), (('totally', 'trashes'), 2), (('trashes', 'her…taken'), 2), (('her…taken', 'off'), 2), (('stage', 'by'), 2), (('by', 'security'), 2), (('security', '[video]'), 2), (('way', 'possible'), 2), (('stop', 'trump'), 2), (('trump', 'ends'), 2), (('just', 'like'), 2), (('city', 'of'), 2), (('of', 'chicago'), 2), (('elizabeth', 'warren'), 2), (('to', 'defend'), 2), (('what', 'happened'), 2), (('to', 'explain'), 2), (('a', 'terror'), 2), (('have', 'been'), 2), (('chuck', 'todd'), 2), (('what', 'he'), 2), (('he', 'said'), 2), (('gets', 'destroyed'), 2), (('destroyed', 'on'), 2), (('author', 'of'), 2), (('say', 'what?'), 2), (('watch:', 'fox'), 2), (('for', 're-election'), 2), (('think', 'president'), 2), (('to', 'run'), 2), (('after', 'they'), 2), (('they', 'got'), 2), (('boom!', 'watch'), 2), (('comey', 'in'), 2), (('has', 'come'), 2), (('trial', 'for'), 2), (('michael', 'brown'), 2), (('try', 'to'), 2), (('trump', 'transition'), 2), (('transition', 'team'), 2), (('inauguration', '(video)'), 2), (('foreign', 'policy'), 2), (('means', 'for'), 2), (('hillary', 'supporters'), 2), (('have', 'you'), 2), (('republican', 'senator'), 2), (('decision', 'to'), 2), (('to', 'kill'), 2), (('episode', '#199'), 2), (('#199', '–'), 2), (('wire:', '‘trigger'), 2), (('‘trigger', 'warning:'), 2), (('warning:', 'id'), 2), (('id', 'politics’'), 2), (('politics’', 'with'), 2), (('with', 'gilad'), 2), (('gilad', 'atzmon'), 2), (('atzmon', 'and'), 2), (('flag', 'in'), 2), (('when', 'they'), 2), (('win', 'in'), 2), (('to', 'muslim'), 2), (('“if', 'you'), 2), (('trump', 'threatens'), 2), (('him', '(tweet)'), 2), (('blame', 'trump'), 2), (('for', 'not'), 2), (('threat', 'to'), 2), (('welcome', 'in'), 2), (('defense', 'of'), 2), (('of', 'radical'), 2), (('has', 'perfect'), 2), (('perfect', 'response'), 2), (('for', 'wearing'), 2), (('for', 'hillary:'), 2), (('political', 'correctness'), 2), (('the', 'working'), 2), (('ivanka', 'trump'), 2), (('the', 'left'), 2), (('the', 'benghazi'), 2), (('benghazi', 'liars'), 2), (('liars', 'are'), 2), (('are', 'back:'), 2), (('back:', 'susan'), 2), (('rice', 'and'), 2), (('and', 'adam'), 2), (('adam', 'schiff'), 2), (('schiff', 'are'), 2), (('are', 'once'), 2), (('once', 'again'), 2), (('again', 'caught'), 2), (('caught', 'in'), 2), (('in', 'another'), 2), (('another', 'huge'), 2), (('huge', 'scandal…only'), 2), (('scandal…only', 'this'), 2), (('time', 'their'), 2), (('their', 'target'), 2), (('target', 'is'), 2), (('is', 'president'), 2), (('all', 'the'), 2), (('you', 'know'), 2), (('election', 'loss'), 2), (('on', 'private'), 2), (('when', 'hillary'), 2), (('about', 'her'), 2), (('hillary', '(video)'), 2), (('trump', 'at'), 2), (('senator', 'jeff'), 2), (('found', 'with'), 2), (('look', 'who'), 2), (('heated', 'debate'), 2), (('debate', 'with'), 2), (('under', 'president'), 2), (('appointed', 'by'), 2), (('by', 'obama'), 2), (('there’s', 'a'), 2), (('it', 'will'), 2), (('is', 'to'), 2), (('photo', 'with'), 2), (('to', 'obama'), 2)]\n",
      "\n",
      "\n",
      "Most common words in text, real:\n",
      " [(('of', 'the'), 2172), (('in', 'the'), 1933), (('(reuters)', '-'), 993), (('to', 'the'), 989), (('in', 'a'), 800), (('on', 'the'), 774), (('for', 'the'), 748), (('the', 'united'), 725), (('and', 'the'), 603), (('the', 'u.s.'), 577), (('with', 'the'), 520), (('by', 'the'), 507), (('said', 'on'), 496), (('at', 'the'), 494), (('that', 'the'), 454), (('to', 'be'), 431), (('said', 'the'), 429), (('of', 'a'), 426), (('from', 'the'), 420), (('united', 'states'), 416), (('said', 'in'), 360), (('as', 'a'), 358), (('to', 'a'), 334), (('has', 'been'), 317), (('according', 'to'), 310), (('did', 'not'), 295), (('white', 'house'), 295), (('more', 'than'), 286), (('will', 'be'), 285), (('it', 'was'), 284), (('washington', '(reuters)'), 283), (('donald', 'trump'), 279), (('for', 'a'), 277), (('said', 'he'), 268), (('president', 'donald'), 265), (('would', 'be'), 241), (('have', 'been'), 234), (('is', 'a'), 232), (('he', 'said.'), 225), (('the', 'white'), 220), (('the', 'government'), 215), (('as', 'the'), 214), (('had', 'been'), 214), (('after', 'the'), 214), (('one', 'of'), 213), (('the', 'first'), 210), (('over', 'the'), 208), (('he', 'was'), 207), (('-', 'the'), 204), (('on', 'wednesday'), 196), (('it', 'is'), 196), (('on', 'monday'), 192), (('on', 'tuesday'), 189), (('at', 'a'), 189), (('and', 'a'), 189), (('on', 'a'), 187), (('he', 'would'), 185), (('with', 'a'), 176), (('on', 'thursday'), 176), (('that', 'he'), 173), (('the', 'new'), 172), (('new', 'york'), 171), (('north', 'korea'), 167), (('said', 'it'), 166), (('of', 'his'), 166), (('prime', 'minister'), 164), (('a', 'new'), 163), (('about', 'the'), 163), (('u.s.', 'president'), 162), (('said.', 'the'), 161), (('he', 'said'), 158), (('trump', 'has'), 157), (('in', 'an'), 156), (('has', 'said'), 156), (('secretary', 'of'), 155), (('during', 'the'), 154), (('and', 'other'), 153), (('on', 'friday'), 151), (('part', 'of'), 151), (('is', 'the'), 149), (('going', 'to'), 148), (('the', 'country'), 141), (('islamic', 'state'), 141), (('is', 'not'), 136), (('he', 'has'), 136), (('the', 'trump'), 136), (('a', 'statement'), 134), (('was', 'a'), 132), (('the', 'state'), 131), (('it', 'would'), 128), (('of', 'its'), 127), (('-', 'u.s.'), 126), (('said', 'that'), 126), (('to', 'take'), 126), (('out', 'of'), 125), (('the', 'republican'), 125), (('by', 'a'), 125), (('expected', 'to'), 124), (('the', 'senate'), 123), (('in', 'his'), 122)]\n"
     ]
    },
    {
     "name": "stdout",
     "output_type": "stream",
     "text": [
      "\n",
      "\n",
      "Most common words in text, fake:\n",
      " [(('of', 'the'), 2279), (('in', 'the'), 1568), (('to', 'the'), 1171), (('on', 'the'), 781), (('it', 's'), 728), (('to', 'be'), 688), (('that', 'the'), 656), (('for', 'the'), 634), (('and', 'the'), 583), (('trump', 's'), 567), (('donald', 'trump'), 527), (('at', 'the'), 482), (('in', 'a'), 472), (('with', 'the'), 465), (('is', 'a'), 464), (('of', 'a'), 434), (('as', 'a'), 419), (('by', 'the'), 417), (('from', 'the'), 416), (('don', 't'), 410), (('this', 'is'), 362), (('he', 's'), 362), (('that', 'he'), 346), (('has', 'been'), 344), (('that', 's'), 325), (('is', 'the'), 317), (('the', 'united'), 303), (('he', 'was'), 302), (('going', 'to'), 293), (('according', 'to'), 280), (('it', 'is'), 278), (('have', 'been'), 277), (('about', 'the'), 267), (('to', 'a'), 260), (('one', 'of'), 260), (('it', 'was'), 257), (('image', 'via'), 252), (('with', 'a'), 250), (('hillary', 'clinton'), 244), (('as', 'the'), 243), (('the', 'white'), 243), (('for', 'a'), 236), (('s', 'a'), 234), (('will', 'be'), 231), (('doesn', 't'), 230), (('would', 'be'), 230), (('is', 'not'), 227), (('and', 'his'), 226), (('white', 'house'), 218), (('of', 'his'), 214), (('out', 'of'), 213), (('was', 'a'), 207), (('want', 'to'), 203), (('i', 'm'), 203), (('didn', 't'), 202), (('they', 'are'), 192), (('united', 'states'), 189), (('and', 'that'), 189), (('to', 'do'), 188), (('trump', 'is'), 186), (('the', 'new'), 182), (('that', 'they'), 182), (('to', 'make'), 179), (('more', 'than'), 178), (('the', 'u.s.'), 177), (('new', 'york'), 176), (('s', 'not'), 176), (('have', 'a'), 173), (('the', 'first'), 173), (('the', 'same'), 169), (('s', 'the'), 167), (('if', 'you'), 167), (('part', 'of'), 166), (('and', 'a'), 165), (('into', 'the'), 164), (('the', 'most'), 162), (('to', 'get'), 162), (('trying', 'to'), 162), (('to', 'have'), 162), (('we', 're'), 162), (('he', 'is'), 161), (('you', 're'), 161), (('there', 's'), 159), (('the', 'republican'), 158), (('that', 'trump'), 158), (('and', 'it'), 157), (('should', 'be'), 157), (('over', 'the'), 157), (('during', 'the'), 156), (('in', 'his'), 155), (('all', 'of'), 153), (('that', 'it'), 151), (('can', 't'), 151), (('the', 'state'), 147), (('obama', 's'), 145), (('on', 'a'), 145), (('is', 'that'), 143), (('there', 'is'), 143), (('they', 're'), 141), (('isn', 't'), 140)]\n",
      "Trigram =============================\n",
      "\n",
      "\n",
      "\n",
      "Most common words in title, real:\n",
      " [(('white', 'house', 'says'), 6), (('on', 'north', 'korea'), 6), (('trump', 'travel', 'ban'), 4), (('house', 'speaker', 'ryan'), 4), (('trump', 'on', 'twitter'), 4), (('trump', 'administration', 'to'), 3), (('supreme', 'court', 'nominee'), 3), (('trump', 'to', 'nominate'), 3), (('secretary', 'of', 'state'), 3), (('to', 'meet', 'on'), 3), (('white', 'house', 'bid'), 3), (('iran', 'nuclear', 'deal'), 3), (('what', 'a', 'president'), 3), (('the', 'trump', 'presidency'), 3), (('trump', 'presidency', 'on'), 3), (('to', 'meet', 'with'), 3), (('islamic', 'state', 'claims'), 3), (('south', 'korea', 'says'), 3), (('south', 'china', 'sea'), 3), (('u.s.', 'supreme', 'court'), 3), (('south', \"korea's\", 'moon'), 3), (('u.s.', 'high', 'court'), 2), (('supreme', 'court', 'to'), 2), (('trump', 'expected', 'to'), 2), (('zimbabwe', 'court', 'postpones'), 2), (('to', 'five', 'years'), 2), ((\"china's\", 'xi', 'says'), 2), (('in', 'case', 'of'), 2), (('u.s.', 'health', 'secretary'), 2), (('after', 'north', 'korea'), 2), (('north', 'korea', 'nuclear'), 2), (('korea', 'nuclear', 'test'), 2), (('iran', 'nuclear', 'deal:'), 2), (('at', 'end', 'of'), 2), (('of', 'islamic', 'state'), 2), (('to', 'north', 'korea'), 2), (('factbox:', 'trump', 'on'), 2), (('presidency', 'on', 'feb.'), 2), (('white', 'house', 'official'), 2), (('says', 'it', 'will'), 2), (('new', 'sanctions', 'on'), 2), (('clinton', 'leads', 'trump'), 2), (('leads', 'trump', 'by'), 2), (('u.s.', 'recognition', 'of'), 2), (('recognition', 'of', 'jerusalem'), 2), (('of', 'jerusalem', 'as'), 2), (('corruption', 'charges', 'against'), 2), (('british', 'pm', 'may'), 2), (('ahead', 'of', 'trump'), 2), (('of', 'trump', 'move'), 2), (('trump', 'move', 'on'), 2), (('for', 'puerto', 'rico'), 2), (('u.s.', 'senator', 'says'), 2), (('trip', 'to', 'cuba'), 2), (('puerto', 'rico', 'debt'), 2), (('rico', 'debt', 'crisis'), 2), (('supreme', 'court', 'justice'), 2), (('cruz', 'white', 'house'), 2), (('urge', 'trump', 'to'), 2), (('attorney', 'general', 'to'), 2), (('in', 'corruption', 'case'), 2), (('north', 'korea', 'to'), 2), (('detected,', 'likely', 'from'), 2), (('likely', 'from', 'missing'), 2), (('from', 'missing', 'submarine'), 2), (('in', 'air', 'strikes'), 2), (('seeks', 'investigation', 'of'), 2), (('factbox:', 'build', 'a'), 2), (('build', 'a', 'giant'), 2), (('a', 'giant', 'wall,'), 2), (('giant', 'wall,', 'cut'), 2), (('wall,', 'cut', 'education'), 2), (('cut', 'education', 'department.'), 2), (('education', 'department.', 'what'), 2), (('department.', 'what', 'a'), 2), (('a', 'president', 'trump'), 2), (('president', 'trump', 'would'), 2), (('trump', 'would', 'do'), 2), (('at', 'republican', 'convention'), 2), (('republicans', 'want', 'to'), 2), (('u.s.,', 'south', 'korea'), 2), (('trump', 'pick', 'for'), 2), (('u.s.', 'judge', 'orders'), 2), (('democrats', 'in', 'disarray'), 2), (('in', 'disarray', 'on'), 2), (('disarray', 'on', 'eve'), 2), (('on', 'eve', 'of'), 2), (('eve', 'of', 'convention'), 2), (('of', 'convention', 'to'), 2), (('convention', 'to', 'nominate'), 2), (('to', 'nominate', 'clinton'), 2), (('deputy', 'attorney', 'general'), 2), (('missiles', 'fired', 'at'), 2), (('fired', 'at', 'saudi'), 2), (('at', 'saudi', 'arabia'), 2), (('speaker', 'ryan', 'says'), 2), (('state', 'claims', 'responsibility'), 2), (('claims', 'responsibility', 'for'), 2), (('responsibility', 'for', 'attack'), 2), (('air', 'strike', 'kills'), 2), (('in', 'north', 'korea'), 2), (('u.s.', \"treasury's\", 'mnuchin'), 2), (('says', 'he', 'will'), 2), (('christmas', 'market', 'attack'), 2), (('puerto', 'rico', 'bill'), 2), (('syrian', 'government', 'forces'), 2), (('china', 'calls', 'for'), 2), (('white', 'house', 'defends'), 2), (('u.s.', 'attack', 'will'), 1), (('attack', 'will', 'not'), 1), (('will', 'not', 'lead'), 1), (('not', 'lead', 'to'), 1), (('lead', 'to', 'military'), 1), (('to', 'military', 'escalation,'), 1), (('military', 'escalation,', 'says'), 1), (('escalation,', 'says', 'pro-damascus'), 1), (('says', 'pro-damascus', 'official'), 1), (('judge', 'garland', 'not'), 1), (('garland', 'not', 'interested'), 1), (('not', 'interested', 'in'), 1), (('interested', 'in', 'fbi'), 1), (('in', 'fbi', 'job:'), 1), (('fbi', 'job:', 'sources'), 1), (('senate', 'leader', 'pushes'), 1), (('leader', 'pushes', 'for'), 1), (('pushes', 'for', 'extension'), 1), (('for', 'extension', 'of'), 1), (('extension', 'of', 'coal'), 1), (('of', 'coal', 'miner'), 1), (('coal', 'miner', 'healthcare'), 1), (('pakistan', 'raps', 'trump'), 1), (('raps', 'trump', 'over'), 1), (('trump', 'over', 'vow'), 1), (('over', 'vow', 'to'), 1), (('vow', 'to', 'free'), 1), (('to', 'free', 'doctor'), 1), (('free', 'doctor', 'who'), 1), (('doctor', 'who', 'helped'), 1), (('who', 'helped', 'track'), 1), (('helped', 'track', 'bin'), 1), (('track', 'bin', 'laden'), 1), (('venezuela', 'says', 'u.s.'), 1), (('says', 'u.s.', 'sanctions'), 1), (('u.s.', 'sanctions', 'designed'), 1), (('sanctions', 'designed', 'to'), 1), (('designed', 'to', 'push'), 1), (('to', 'push', 'venezuela'), 1), (('push', 'venezuela', 'to'), 1), (('venezuela', 'to', 'default'), 1), (('china', 'says', 'part'), 1), (('says', 'part', 'of'), 1), (('part', 'of', 'hong'), 1), (('of', 'hong', 'kong'), 1), (('hong', 'kong', 'rail'), 1), (('kong', 'rail', 'station'), 1), (('rail', 'station', 'to'), 1), (('station', 'to', 'be'), 1), (('to', 'be', 'subject'), 1), (('be', 'subject', 'to'), 1), (('subject', 'to', 'mainland'), 1), (('to', 'mainland', 'laws'), 1), (('iraq', 'says', 'ruling'), 1), (('says', 'ruling', 'against'), 1), (('ruling', 'against', 'trump'), 1), (('against', 'trump', 'travel'), 1), (('travel', 'ban', 'is'), 1), (('ban', 'is', 'move'), 1), (('is', 'move', 'in'), 1), (('move', 'in', 'right'), 1), (('in', 'right', 'direction'), 1), (('dozens', 'of', 'prisoners'), 1), (('of', 'prisoners', 'on'), 1), (('prisoners', 'on', 'the'), 1), (('on', 'the', 'run'), 1), (('the', 'run', 'in'), 1), (('run', 'in', 'central'), 1), (('in', 'central', 'ivory'), 1), (('central', 'ivory', 'coast'), 1), (('carson', 'talks', 'with'), 1), (('talks', 'with', 'trump'), 1), (('with', 'trump', 'team,'), 1), (('trump', 'team,', 'says'), 1), (('team,', 'says', 'he'), 1), (('says', 'he', 'can'), 1), (('he', 'can', 'make'), 1), (('can', 'make', \"'inner\"), 1), (('make', \"'inner\", 'cities'), 1), ((\"'inner\", 'cities', \"great'\"), 1), (('seattle', 'judge', 'grants'), 1), (('judge', 'grants', 'nationwide'), 1), (('grants', 'nationwide', 'temporary'), 1), (('nationwide', 'temporary', 'restraining'), 1), (('temporary', 'restraining', 'order'), 1), (('restraining', 'order', 'on'), 1), (('order', 'on', 'trump'), 1), (('on', 'trump', 'immigration'), 1), (('trump', 'immigration', 'ban'), 1), (('exiled', 'son', 'of'), 1), (('son', 'of', \"yemen's\"), 1), (('of', \"yemen's\", 'saleh'), 1), ((\"yemen's\", 'saleh', 'takes'), 1), (('saleh', 'takes', 'up'), 1), (('takes', 'up', 'anti-houthi'), 1), (('up', 'anti-houthi', 'cause'), 1), (('u.n.', 'nuclear', 'watchdog'), 1), (('nuclear', 'watchdog', 'opens'), 1), (('watchdog', 'opens', 'uranium'), 1), (('opens', 'uranium', 'bank'), 1), (('uranium', 'bank', 'in'), 1), (('bank', 'in', 'kazakhstan'), 1), (('release', 'of', 'house'), 1), (('of', 'house', 'tax'), 1), (('house', 'tax', 'bill'), 1), (('tax', 'bill', 'delayed'), 1), (('bill', 'delayed', 'until'), 1), (('delayed', 'until', 'thursday'), 1), (('ousted', 'zimbabwe', 'finance'), 1), (('zimbabwe', 'finance', 'minister'), 1), (('finance', 'minister', 'chombo'), 1), (('minister', 'chombo', 'faces'), 1), (('chombo', 'faces', 'corruption'), 1), (('faces', 'corruption', 'charges'), 1), (('democrats', 'ask', 'trump'), 1), (('ask', 'trump', 'administration'), 1), (('administration', 'to', 'consult'), 1), (('to', 'consult', 'on'), 1), (('consult', 'on', 'refugee'), 1), (('on', 'refugee', 'decision'), 1), ((\"trump's\", 'team', 'seeks'), 1), (('team', 'seeks', 'top-secret'), 1), (('seeks', 'top-secret', 'clearance'), 1), (('top-secret', 'clearance', 'for'), 1), (('clearance', 'for', 'his'), 1), (('for', 'his', 'children:'), 1), (('his', 'children:', 'cbs'), 1), (('children:', 'cbs', 'news'), 1), (('for', 'obama,', 'setbacks'), 1), (('obama,', 'setbacks', 'from'), 1), (('setbacks', 'from', 'a'), 1), (('from', 'a', 'divided'), 1), (('a', 'divided', 'supreme'), 1), (('divided', 'supreme', 'court'), 1), (('mexico,', 'central', 'america'), 1), (('central', 'america', 'to'), 1), (('america', 'to', 'discuss'), 1), (('to', 'discuss', 'migration'), 1), (('discuss', 'migration', 'under'), 1), (('migration', 'under', 'trump:'), 1), (('under', 'trump:', 'ambassador'), 1), (('flynn', 'did', 'not'), 1), (('did', 'not', 'initially'), 1), (('not', 'initially', 'disclose'), 1), (('initially', 'disclose', 'income'), 1), (('disclose', 'income', 'from'), 1), (('income', 'from', 'russia-linked'), 1), (('from', 'russia-linked', 'companies'), 1), (('judiciary', 'committee', 'senators'), 1), (('committee', 'senators', \"won't\"), 1), (('senators', \"won't\", 'consider'), 1), ((\"won't\", 'consider', 'obama'), 1), (('consider', 'obama', 'supreme'), 1), (('obama', 'supreme', 'court'), 1), (('russia', 'calls', 'for'), 1), (('calls', 'for', 'emergency'), 1), (('for', 'emergency', 'u.n.'), 1), (('emergency', 'u.n.', 'meeting'), 1), (('u.n.', 'meeting', 'after'), 1), (('meeting', 'after', 'u.s.'), 1), (('after', 'u.s.', 'strikes'), 1), (('u.s.', 'strikes', 'on'), 1), (('strikes', 'on', 'syria'), 1), (('egypt', 'says', 'three'), 1), (('says', 'three', 'militants'), 1), (('three', 'militants', 'killed,'), 1), (('militants', 'killed,', '74'), 1), (('killed,', '74', 'arrested'), 1), (('74', 'arrested', 'in'), 1), (('arrested', 'in', 'sinai'), 1), (('in', 'sinai', 'raids'), 1), (('factbox:', \"trump's\", 'presidency'), 1), ((\"trump's\", 'presidency', 'prompts'), 1), (('presidency', 'prompts', 'some'), 1), (('prompts', 'some', 'notes'), 1), (('some', 'notes', 'of'), 1), (('notes', 'of', 'caution'), 1), (('of', 'caution', 'from'), 1), (('caution', 'from', 'foreign'), 1), (('from', 'foreign', 'leaders'), 1), (('puerto', 'rico', 'takes'), 1), (('rico', 'takes', 'restructuring'), 1), (('takes', 'restructuring', 'law'), 1), (('restructuring', 'law', 'to'), 1), (('law', 'to', 'u.s.'), 1), (('to', 'u.s.', 'high'), 1), (('ahead', 'of', 'debate,'), 1), (('of', 'debate,', 'trump'), 1), (('debate,', 'trump', 'endorsed'), 1), (('trump', 'endorsed', 'by'), 1), (('endorsed', 'by', 'some'), 1), (('by', 'some', 'bush'), 1), (('some', 'bush', 'alumni'), 1), (('former', 'egypt', 'premier'), 1), (('egypt', 'premier', 'says'), 1), (('premier', 'says', \"he's\"), 1), (('says', \"he's\", \"'fine'\"), 1), ((\"he's\", \"'fine'\", 'and'), 1), ((\"'fine'\", 'and', 'still'), 1), (('and', 'still', 'mulling'), 1), (('still', 'mulling', 'election'), 1), (('mulling', 'election', 'bid'), 1), (('venezuelans', 'face', 'growing'), 1), (('face', 'growing', 'queues'), 1), (('growing', 'queues', 'to'), 1), (('queues', 'to', 'buy'), 1), (('to', 'buy', 'gasoline'), 1), (('trump,', 'u.s.', 'house'), 1), (('u.s.', 'house', 'speaker'), 1), (('speaker', 'ryan', 'meet'), 1), (('ryan', 'meet', 'to'), 1), (('meet', 'to', 'discuss'), 1), (('to', 'discuss', 'policy'), 1), (('white', 'house', 'asks'), 1), (('house', 'asks', 'supreme'), 1), (('asks', 'supreme', 'court'), 1), (('court', 'to', 'allow'), 1), (('to', 'allow', 'full'), 1), (('allow', 'full', 'travel'), 1), (('full', 'travel', 'ban'), 1), ((\"mexico's\", 'strongest', 'quake'), 1), (('strongest', 'quake', 'in'), 1), (('quake', 'in', '85'), 1), (('in', '85', 'years'), 1), (('85', 'years', 'kills'), 1), (('years', 'kills', 'dozens'), 1), (('kills', 'dozens', 'in'), 1), (('dozens', 'in', 'the'), 1), (('in', 'the', 'poor'), 1), (('the', 'poor', 'south'), 1), (('kenya', 'election', 'campaigns'), 1), (('election', 'campaigns', 'turn'), 1), (('campaigns', 'turn', 'personal'), 1), (('turn', 'personal', 'after'), 1), (('personal', 'after', 'court'), 1), (('after', 'court', 'orders'), 1), (('court', 'orders', 'fresh'), 1), (('orders', 'fresh', 'polls'), 1), (('federal', 'judge', 'limits'), 1), (('judge', 'limits', 'some'), 1), (('limits', 'some', 'election'), 1), (('some', 'election', 'day'), 1), (('election', 'day', 'voter'), 1), (('day', 'voter', 'registration'), 1), (('voter', 'registration', 'in'), 1), (('registration', 'in', 'illinois'), 1), (('expected', 'to', 'set'), 1), (('to', 'set', 'u.s.'), 1), (('set', 'u.s.', 'refugee'), 1), (('u.s.', 'refugee', 'cap'), 1), (('refugee', 'cap', 'at'), 1), (('cap', 'at', '45,000:'), 1), (('at', '45,000:', 'sources'), 1), (('instant', 'view:', \"uk's\"), 1), (('view:', \"uk's\", 'may'), 1), ((\"uk's\", 'may', 'calls'), 1), (('may', 'calls', 'for'), 1), (('calls', 'for', 'two-year'), 1), (('for', 'two-year', 'transition'), 1), (('two-year', 'transition', 'after'), 1), (('transition', 'after', 'brexit'), 1), (('amid', 'south', 'korea'), 1), (('south', 'korea', 'freeze,'), 1), (('korea', 'freeze,', 'china'), 1), (('freeze,', 'china', 'says'), 1), (('china', 'says', 'cultural'), 1), (('says', 'cultural', 'exchanges'), 1), (('cultural', 'exchanges', 'take'), 1), (('exchanges', 'take', 'the'), 1), (('take', 'the', 'temperature'), 1), (('factbox:', \"what's\", 'in'), 1), ((\"what's\", 'in', 'the'), 1), (('in', 'the', 'brexit'), 1), (('the', 'brexit', 'divorce'), 1), (('brexit', 'divorce', 'deal?'), 1), (('senior', 'tanzania', 'ruling'), 1), (('tanzania', 'ruling', 'party'), 1), (('ruling', 'party', 'mp'), 1), (('party', 'mp', 'quits,'), 1), (('mp', 'quits,', 'cites'), 1), (('quits,', 'cites', 'democracy'), 1), (('cites', 'democracy', 'concerns'), 1), (('japan', 'pm', 'abe'), 1), (('pm', 'abe', 'says'), 1), (('abe', 'says', 'to'), 1), (('says', 'to', 'decide'), 1), (('to', 'decide', 'timing'), 1), (('decide', 'timing', 'of'), 1), (('timing', 'of', 'election'), 1), (('of', 'election', 'on'), 1), (('election', 'on', 'return'), 1), (('on', 'return', 'from'), 1), (('return', 'from', 'u.n.'), 1), (('from', 'u.n.', 'trip'), 1), (('us', 'senate', 'may'), 1), (('senate', 'may', 'vote'), 1), (('may', 'vote', 'this'), 1), (('vote', 'this', 'week'), 1), (('this', 'week', 'to'), 1), (('week', 'to', 'add'), 1), (('to', 'add', 'penalties'), 1), (('add', 'penalties', 'for'), 1), (('penalties', 'for', 'sex'), 1), (('for', 'sex', 'traffic'), 1), (('sex', 'traffic', 'sites'), 1), (('traffic', 'sites', '-sources'), 1), ((\"zimbabwe's\", 'mugabe', 'speech'), 1), (('mugabe', 'speech', 'was'), 1), (('speech', 'was', 'meant'), 1), (('was', 'meant', 'to'), 1), (('meant', 'to', 'sanitize'), 1), (('to', 'sanitize', 'army'), 1), (('sanitize', 'army', 'intervention:'), 1), (('army', 'intervention:', 'sources'), 1), (('putin,', 'in', 'telegram'), 1), (('in', 'telegram', 'to'), 1), (('telegram', 'to', \"syria's\"), 1), (('to', \"syria's\", 'assad,'), 1), ((\"syria's\", 'assad,', 'hails'), 1), (('assad,', 'hails', \"'strategic'\"), 1), (('hails', \"'strategic'\", 'deir'), 1), ((\"'strategic'\", 'deir', 'al-zor'), 1), (('deir', 'al-zor', 'victory'), 1), (('the', 'economy', 'of'), 1), (('economy', 'of', 'wolfgang'), 1), (('of', 'wolfgang', 'schaeuble'), 1), (('wolfgang', 'schaeuble', '-'), 1), (('schaeuble', '-', 'at'), 1), (('-', 'at', 'a'), 1), (('at', 'a', 'glance'), 1), ((\"'wave\", 'of', \"humanity'\"), 1), (('of', \"humanity'\", 'puts'), 1), ((\"humanity'\", 'puts', 'aid'), 1), (('puts', 'aid', 'agencies'), 1), (('aid', 'agencies', 'to'), 1), (('agencies', 'to', 'the'), 1), (('to', 'the', 'test'), 1), (('the', 'test', 'in'), 1), (('test', 'in', 'bangladesh'), 1), ((\"trump's\", 'cut', 'to'), 1), (('cut', 'to', 'flood'), 1), (('to', 'flood', 'map'), 1), (('flood', 'map', 'program'), 1), (('map', 'program', 'could'), 1), (('program', 'could', 'trigger'), 1), (('could', 'trigger', 'insurance'), 1), (('trigger', 'insurance', 'rate'), 1), (('insurance', 'rate', 'hikes:'), 1), (('rate', 'hikes:', 'group'), 1), (('fear', 'of', 'iranian'), 1), (('of', 'iranian', 'general'), 1), (('iranian', 'general', 'left'), 1), (('general', 'left', 'iraqi'), 1), (('left', 'iraqi', 'kurdish'), 1), (('iraqi', 'kurdish', 'oil'), 1), (('kurdish', 'oil', 'fields'), 1), (('oil', 'fields', 'deserted'), 1), (('austrian', 'coalition', 'government'), 1), (('coalition', 'government', 'to'), 1), (('government', 'to', 'be'), 1), (('to', 'be', 'sworn'), 1), (('be', 'sworn', 'in'), 1), (('sworn', 'in', 'on'), 1), (('in', 'on', 'monday'), 1), (('on', 'monday', '-'), 1), (('monday', '-', 'presidency'), 1), (('house', 'says', 'trump'), 1), (('says', 'trump', 'did'), 1), (('trump', 'did', 'not'), 1), (('did', 'not', 'know'), 1), (('not', 'know', 'flynn'), 1), (('know', 'flynn', 'was'), 1), (('flynn', 'was', 'representing'), 1), (('was', 'representing', 'turkey'), 1), (('russia', 'says', 'general'), 1), (('says', 'general', 'killed'), 1), (('general', 'killed', 'in'), 1), (('killed', 'in', 'syria'), 1), (('in', 'syria', 'held'), 1), (('syria', 'held', 'senior'), 1), (('held', 'senior', 'post'), 1), (('senior', 'post', 'in'), 1), (('post', 'in', \"assad's\"), 1), (('in', \"assad's\", 'army'), 1), (('florida', 'nuclear', 'plants'), 1), (('nuclear', 'plants', 'to'), 1), (('plants', 'to', 'shut'), 1), (('to', 'shut', 'ahead'), 1), (('shut', 'ahead', 'of'), 1), (('ahead', 'of', 'hurricane'), 1), (('of', 'hurricane', 'irma'), 1), (('key', 'house', 'republican'), 1)]\n",
      "\n",
      "\n",
      "Most common words in title, fake:\n",
      " [(('black', 'lives', 'matter'), 6), (('new', 'york', 'times'), 5), (('–', 'sunday', 'wire:'), 5), (('the', 'white', 'house'), 4), (('to', 'go', 'f*ck'), 4), (('go', 'f*ck', 'himself'), 4), (('to', 'vote', 'for'), 4), (('transgender', 'bathroom', 'decree'), 3), (('against', 'trump', '[video]'), 3), (('in', 'the', 'most'), 3), (('trump', 'tries', 'to'), 3), (('president', 'trump', '[video]'), 3), (('the', 'united', 'states'), 3), (('fbi', 'director', 'james'), 3), (('director', 'james', 'comey'), 3), (('trump', 'after', 'he'), 3), (('gets', 'his', 'a**'), 3), (('his', 'a**', 'handed'), 3), (('a**', 'handed', 'to'), 3), (('handed', 'to', 'him'), 3), (('this', 'is', 'a'), 3), (('bad', 'news', 'for'), 3), (('secretary', 'of', 'state'), 3), (('fight', 'back', 'against'), 3), (('news', 'for', 'trump'), 3), (('to', 'use', 'the'), 2), (('stunning', 'betrayal!', '43'), 2), (('betrayal!', '43', 'republicans,'), 2), (('43', 'republicans,', 'in'), 2), (('republicans,', 'in', 'dark'), 2), (('in', 'dark', 'of'), 2), (('dark', 'of', 'night'), 2), (('of', 'night', 'vote'), 2), (('night', 'vote', 'to'), 2), (('vote', 'to', 'approve'), 2), (('to', 'approve', 'obama’s'), 2), (('approve', 'obama’s', 'transgender'), 2), (('obama’s', 'transgender', 'bathroom'), 2), (('wall', 'street', 'journal'), 2), (('west', 'virginia', 'coal'), 2), (('virginia', 'coal', 'miners'), 2), (('response', 'to', 'trump’s'), 2), (('trump’s', 'muslim', 'ban'), 2), (('watch', 'what', 'happens'), 2), (('what', 'happens', 'when'), 2), (('happens', 'when', 'a'), 2), (('speaker', 'scheduled', 'to'), 2), (('scheduled', 'to', 'praise'), 2), (('to', 'praise', 'hillary'), 2), (('praise', 'hillary', 'totally'), 2), (('hillary', 'totally', 'trashes'), 2), (('totally', 'trashes', 'her…taken'), 2), (('trashes', 'her…taken', 'off'), 2), (('her…taken', 'off', 'stage'), 2), (('off', 'stage', 'by'), 2), (('stage', 'by', 'security'), 2), (('by', 'security', '[video]'), 2), (('to', 'stop', 'trump'), 2), (('what', 'happened', 'to'), 2), (('happened', 'to', 'the'), 2), (('plan', 'to', 'use'), 2), (('trump', 'transition', 'team'), 2), (('episode', '#199', '–'), 2), (('#199', '–', 'sunday'), 2), (('sunday', 'wire:', '‘trigger'), 2), (('wire:', '‘trigger', 'warning:'), 2), (('‘trigger', 'warning:', 'id'), 2), (('warning:', 'id', 'politics’'), 2), (('id', 'politics’', 'with'), 2), (('politics’', 'with', 'gilad'), 2), (('with', 'gilad', 'atzmon'), 2), (('gilad', 'atzmon', 'and'), 2), (('atzmon', 'and', 'jay'), 2), (('and', 'jay', 'dyer'), 2), (('of', 'illegal', 'aliens'), 2), (('has', 'perfect', 'response'), 2), (('the', 'benghazi', 'liars'), 2), (('benghazi', 'liars', 'are'), 2), (('liars', 'are', 'back:'), 2), (('are', 'back:', 'susan'), 2), (('back:', 'susan', 'rice'), 2), (('susan', 'rice', 'and'), 2), (('rice', 'and', 'adam'), 2), (('and', 'adam', 'schiff'), 2), (('adam', 'schiff', 'are'), 2), (('schiff', 'are', 'once'), 2), (('are', 'once', 'again'), 2), (('once', 'again', 'caught'), 2), (('again', 'caught', 'in'), 2), (('caught', 'in', 'another'), 2), (('in', 'another', 'huge'), 2), (('another', 'huge', 'scandal…only'), 2), (('huge', 'scandal…only', 'this'), 2), (('scandal…only', 'this', 'time'), 2), (('this', 'time', 'their'), 2), (('time', 'their', 'target'), 2), (('their', 'target', 'is'), 2), (('target', 'is', 'president'), 2), (('is', 'president', 'trump'), 2), (('trump', 'for', 'his'), 2), (('why', 'is', 'the'), 2), (('heated', 'debate', 'with'), 2), (('under', 'president', 'trump'), 2), (('want', 'you', 'to'), 2), (('of', 'kid', 'rock'), 2), (('gets', 'hammered', 'by'), 2), (('and', 'it’s', 'perfect'), 2), (('bernie', 'sanders', 'just'), 2), (('in', 'the', 'best'), 2), (('the', 'truth', 'about'), 2), (('shocking', 'number', 'of'), 2), (('trump', 'supporter', 'rips'), 2), (('boiler', 'room', '–'), 2), (('white', 'house', 'to'), 2), (('by', 'fbi', 'for'), 2), (('the', 'democratic', 'nominee'), 2), (('on', 'the', 'air'), 2), (('don’t', 'want', 'to'), 2), (('bernie', 'sanders', 'supporters'), 2), (('trump', 'to', 'go'), 2), (('former', 'u.s.', 'attorney:'), 2), (('trump,', 'this', 'is'), 2), (('and', 'trump', 'is'), 2), (('press', 'conference', '[video]'), 2), (('in', 'the', 'middle'), 2), (('the', 'middle', 'of'), 2), (('trump', 'has', 'a'), 2), (('has', 'a', 'new'), 2), (('to', 'him', 'by'), 2), (('in', 'support', 'of'), 2), (('taxpayer', 'money', 'to'), 2), (('for', 'donald', 'trump'), 2), (('to', 'cover', 'up'), 2), (('breaking:', 'secret', 'service'), 2), (('secret', 'service', 'takes'), 2), (('service', 'takes', 'action'), 2), (('takes', 'action', 'after'), 2), (('action', 'after', 'white'), 2), (('after', 'white', 'house'), 2), (('white', 'house', 'intruder'), 2), (('house', 'intruder', 'got'), 2), (('intruder', 'got', 'too'), 2), (('got', 'too', 'close'), 2), (('too', 'close', 'for'), 2), (('close', 'for', 'comfort'), 2), (('for', 'comfort', '[video]'), 2), (('police', 'union', 'threatens'), 2), (('union', 'threatens', '49er’s'), 2), (('threatens', '49er’s', 'with'), 2), (('49er’s', 'with', 'boycott:'), 2), (('with', 'boycott:', 'take'), 2), (('boycott:', 'take', 'action'), 2), (('take', 'action', 'against'), 2), (('action', 'against', 'bench-warmer'), 2), (('against', 'bench-warmer', 'kaepernick’s'), 2), (('bench-warmer', 'kaepernick’s', '“inappropriate'), 2), (('kaepernick’s', '“inappropriate', 'behavior”'), 2), (('“inappropriate', 'behavior”', 'or'), 2), (('behavior”', 'or', 'we'), 2), (('or', 'we', 'may'), 2), (('we', 'may', 'choose'), 2), (('may', 'choose', 'to'), 2), (('choose', 'to', '“not'), 2), (('to', '“not', 'work'), 2), (('“not', 'work', 'at'), 2), (('work', 'at', 'your'), 2), (('at', 'your', 'facilities”'), 2), (('to', 'fight', 'back'), 2), (('terror', 'attack', 'in'), 2), (('hillary’s', 'vp', 'pick'), 2), (('vp', 'pick', 'has'), 2), (('america', 'great', 'again”'), 2), (('supreme', 'court', 'nominee'), 2), (('donald', 'trump', 'and'), 2), (('democrats', 'push', 'for'), 2), (('push', 'for', 'ban'), 2), (('vote', 'for', 'trump'), 2), (('his', 'own', 'daughter'), 2), (('going', 'to', 'have'), 2), (('to', 'take', 'back'), 2), (('in', 'front', 'of'), 2), (('not', 'news:', '[graphic'), 2), (('news:', '[graphic', 'video]'), 2), (('[graphic', 'video]', 'michigan'), 2), (('video]', 'michigan', 'woman'), 2), (('michigan', 'woman', 'runs'), 2), (('woman', 'runs', 'over'), 2), (('runs', 'over', 'rival'), 2), (('over', 'rival', 'with'), 2), (('rival', 'with', 'car'), 2), (('with', 'car', 'following'), 2), (('car', 'following', 'street'), 2), (('following', 'street', 'brawl'), 2), (('refuses', 'to', 'wear'), 2), (('obama’s', 'race', 'war'), 2), (('obama’s', 'war', 'on'), 2), (('war', 'on', 'cops'), 2), (('on', 'cops', 'takes'), 2), (('cops', 'takes', 'toll'), 2), (('takes', 'toll', 'on'), 2), (('toll', 'on', 'black'), 2), (('on', 'black', 'communities:'), 2), (('black', 'communities:', 'young'), 2), (('communities:', 'young', 'girl'), 2), (('young', 'girl', 'cries'), 2), (('girl', 'cries', 'over'), 2), (('cries', 'over', '#blacklivesmatter'), 2), (('over', '#blacklivesmatter', 'violence'), 2), (('#blacklivesmatter', 'violence', 'in'), 2), (('violence', 'in', 'her'), 2), (('in', 'her', 'milwaukee'), 2), (('her', 'milwaukee', 'neighborhood'), 2), (('milwaukee', 'neighborhood', '[video]'), 2), (('of', 'the', 'day'), 2), (('i’m', 'going', 'to'), 2), (('new', 'poll', 'is'), 2), (('ag', 'loretta', 'lynch'), 2), (('be', 'secretary', 'of'), 2), (('mock', 'assassination', 'of'), 2), (('need', 'to', 'do'), 2), (('sports', 'bar', 'owner'), 2), (('bar', 'owner', 'bans'), 2), (('owner', 'bans', 'nfl'), 2), (('bans', 'nfl', 'games…will'), 2), (('nfl', 'games…will', 'show'), 2), (('games…will', 'show', 'only'), 2), (('show', 'only', '‘true'), 2), (('only', '‘true', 'american’'), 2), (('‘true', 'american’', 'sports:'), 2), (('american’', 'sports:', '‘i’d'), 2), (('sports:', '‘i’d', 'like'), 2), (('‘i’d', 'like', 'to'), 2), (('like', 'to', 'speak'), 2), (('to', 'speak', 'for'), 2), (('speak', 'for', 'rural'), 2), (('for', 'rural', 'america’'), 2), (('rural', 'america’', '[video]'), 2), (('to', 'fire', 'mueller'), 2), (('watch:', 'morning', 'joe'), 2), (('stock', 'market', 'crash'), 2), (('on', 'trip', 'to'), 2), (('diamond', 'and', 'silk'), 2), (('human', 'rights', 'violations'), 2), (('new', 'poll', 'shows'), 2), (('wake', 'up', 'in'), 2), (('make', 'america', 'great'), 2), (('to', 'trump', 'supporters'), 2), (('–', 'and', 'it’s'), 2), (('to', 'destroy', 'trump'), 2), (('with', 'discrimination', 'against'), 2), (('obama', 'plans', 'to'), 2), (('and', 'here’s', 'why'), 2), (('he’s', 'going', 'to'), 2), (('takes', 'credit', 'for'), 2), (('who', 'said', 'he'), 2), (('tucker', 'carlson', 'embarrasses'), 2), (('in', 'wake', 'of'), 2), (('is', 'devastating', 'news'), 2), (('devastating', 'news', 'for'), 2), (('trump', 'supporter', 'for'), 2), (('london’s', 'new', 'muslim'), 2), (('new', 'muslim', 'mayor'), 2), (('actress', 'accuses', 'weinstein'), 1), (('accuses', 'weinstein', 'buddy,'), 1), (('weinstein', 'buddy,', 'actor'), 1), (('buddy,', 'actor', 'george'), 1), (('actor', 'george', 'clooney'), 1), (('george', 'clooney', 'of'), 1), (('clooney', 'of', 'helping'), 1), (('of', 'helping', 'to'), 1), (('helping', 'to', '“blacklist”'), 1), (('to', '“blacklist”', 'her'), 1), (('“blacklist”', 'her', 'after'), 1), (('her', 'after', 'she'), 1), (('after', 'she', 'reported'), 1), (('she', 'reported', 'sexual'), 1), (('reported', 'sexual', 'harassment'), 1), (('arkansas', 'mayor', 'to'), 1), (('mayor', 'to', 'use'), 1), (('use', 'the', '4th'), 1), (('the', '4th', 'of'), 1), (('4th', 'of', 'july'), 1), (('of', 'july', 'to'), 1), (('july', 'to', 'force'), 1), (('to', 'force', 'his'), 1), (('force', 'his', 'religion'), 1), (('his', 'religion', 'down'), 1), (('religion', 'down', 'everyone’s'), 1), (('down', 'everyone’s', 'throats'), 1), (('united', 'airlines', 'grounded,'), 1), (('airlines', 'grounded,', 'wall'), 1), (('grounded,', 'wall', 'street'), 1), (('street', 'journal', 'and'), 1), (('journal', 'and', 'nyse'), 1), (('and', 'nyse', 'shut'), 1), (('nyse', 'shut', 'down…all'), 1), (('shut', 'down…all', 'citing'), 1), (('down…all', 'citing', '“technical”'), 1), (('citing', '“technical”', 'issues…there’s'), 1), (('“technical”', 'issues…there’s', 'no'), 1), (('issues…there’s', 'no', 'coincidence…really?'), 1), (('brilliant', 'facebook', 'post'), 1), (('facebook', 'post', 'puts'), 1), (('post', 'puts', 'idiocy'), 1), (('puts', 'idiocy', 'and'), 1), (('idiocy', 'and', 'hypocrisy'), 1), (('and', 'hypocrisy', 'of'), 1), (('hypocrisy', 'of', '‘all'), 1), (('of', '‘all', 'lives'), 1), (('‘all', 'lives', 'matter’'), 1), (('lives', 'matter’', 'into'), 1), (('matter’', 'into', 'razor-sharp'), 1), (('into', 'razor-sharp', 'focus'), 1), (('here’s', 'exactly', 'what'), 1), (('exactly', 'what', 'would'), 1), (('what', 'would', 'happen'), 1), (('would', 'happen', 'to'), 1), (('happen', 'to', 'the'), 1), (('to', 'the', 'bundy'), 1), (('the', 'bundy', 'militia'), 1), (('bundy', 'militia', 'if'), 1), (('militia', 'if', 'they'), 1), (('if', 'they', 'were'), 1), (('they', 'were', 'black'), 1), (('hillary', 'clinton', 'just'), 1), (('clinton', 'just', 'tossed'), 1), (('just', 'tossed', 'charles'), 1), (('tossed', 'charles', 'koch'), 1), (('charles', 'koch', 'a'), 1), (('koch', 'a', 'huge'), 1), (('a', 'huge', 'f*ck'), 1), (('huge', 'f*ck', 'you'), 1), (('f*ck', 'you', 'after'), 1), (('you', 'after', 'kinda-sorta-endorsement'), 1), (('after', 'kinda-sorta-endorsement', '(screenshots)'), 1), (('how', 'is', 'panama’s'), 1), (('is', 'panama’s', '“migrant'), 1), (('panama’s', '“migrant', 'crisis”'), 1), (('“migrant', 'crisis”', 'giving'), 1), (('crisis”', 'giving', 'a'), 1), (('giving', 'a', 'free'), 1), (('a', 'free', 'pass'), 1), (('free', 'pass', 'to'), 1), (('pass', 'to', 'the'), 1), (('to', 'the', 'u.s.'), 1), (('the', 'u.s.', 'to'), 1), (('u.s.', 'to', 'anyone'), 1), (('to', 'anyone', 'from'), 1), (('anyone', 'from', 'asia,'), 1), (('from', 'asia,', 'cuba,'), 1), (('asia,', 'cuba,', 'africa,'), 1), (('cuba,', 'africa,', 'haiti…when'), 1), (('africa,', 'haiti…when', 'did'), 1), (('haiti…when', 'did', 'we'), 1), (('did', 'we', 'become'), 1), (('we', 'become', 'the'), 1), (('become', 'the', 'world’s'), 1), (('the', 'world’s', 'dumping'), 1), (('world’s', 'dumping', 'ground?'), 1), (('it’s', 'come', 'to'), 1), (('come', 'to', 'this:'), 1), (('to', 'this:', 'leftist'), 1), (('this:', 'leftist', 'media'), 1), (('leftist', 'media', 'and'), 1), (('media', 'and', 'protesters'), 1), (('and', 'protesters', 'go'), 1), (('protesters', 'go', 'for'), 1), (('go', 'for', 'the'), 1), (('for', 'the', 'jugular'), 1), (('the', 'jugular', 'in'), 1), (('jugular', 'in', 'all'), 1), (('in', 'all', 'out'), 1), (('all', 'out', 'freak'), 1), (('out', 'freak', 'out'), 1), (('freak', 'out', 'over'), 1), (('out', 'over', 'possible'), 1), (('over', 'possible', 'trump'), 1), (('possible', 'trump', 'win'), 1), (('trump', 'win', 'on'), 1), (('win', 'on', 'super'), 1), (('on', 'super', 'tuesday'), 1), (('super', 'tuesday', '[video]'), 1), (('alarming:', 'nsa', 'refuses'), 1), (('nsa', 'refuses', 'to'), 1), (('refuses', 'to', 'release'), 1), (('to', 'release', 'clinton-lynch'), 1), (('release', 'clinton-lynch', 'tarmac'), 1), (('clinton-lynch', 'tarmac', 'transcript'), 1), (('tarmac', 'transcript', 'with'), 1), (('transcript', 'with', 'lame'), 1), (('with', 'lame', 'excuse'), 1), (('viral', 'video:', 'bernie'), 1), (('video:', 'bernie', 'sanders'), 1), (('bernie', 'sanders', 'socialist'), 1), (('sanders', 'socialist', 'gets'), 1), (('socialist', 'gets', 'shut'), 1), (('gets', 'shut', 'down'), 1), (('shut', 'down', 'by'), 1), (('down', 'by', 'judge'), 1), (('by', 'judge', 'judy'), 1), (('whoa!', 'west', 'virginia'), 1), (('coal', 'miners', 'just'), 1), (('miners', 'just', 'made'), 1), (('just', 'made', 'powerful'), 1), (('made', 'powerful', 'video'), 1), (('powerful', 'video', 'to'), 1), (('video', 'to', 'make'), 1), (('to', 'make', 'sure'), 1), (('make', 'sure', 'hillary'), 1), (('sure', 'hillary', 'is'), 1), (('hillary', 'is', 'not'), 1), (('is', 'not', 'america’s'), 1), (('not', 'america’s', 'next'), 1), (('america’s', 'next', 'president'), 1), (('can', 'halloween', 'tell'), 1), (('halloween', 'tell', 'us'), 1), (('tell', 'us', 'who’ll'), 1), (('us', 'who’ll', 'win'), 1), (('who’ll', 'win', 'the'), 1), (('win', 'the', 'white'), 1), (('the', 'white', 'house?…guess'), 1), (('white', 'house?…guess', 'which'), 1), (('house?…guess', 'which', 'candidate'), 1), (('which', 'candidate', 'is'), 1), (('candidate', 'is', 'crushing'), 1), (('is', 'crushing', 'it'), 1), (('crushing', 'it', 'in'), 1), (('it', 'in', 'sales?'), 1), (('hillary', 'panders', 'to'), 1), (('panders', 'to', 'black'), 1), (('to', 'black', 'radio'), 1), (('black', 'radio', 'hosts'), 1), (('radio', 'hosts', 'in'), 1), (('hosts', 'in', 'attempt'), 1), (('in', 'attempt', 'to'), 1), (('attempt', 'to', 'tie'), 1), (('to', 'tie', 'herself'), 1), (('tie', 'herself', 'to'), 1), (('herself', 'to', 'racist'), 1), (('to', 'racist', 'beyonce'), 1), (('racist', 'beyonce', 'song…host'), 1), (('beyonce', 'song…host', 'asks'), 1), (('song…host', 'asks', 'if'), 1), (('asks', 'if', 'she'), 1), (('if', 'she', 'needs'), 1), (('she', 'needs', 'mouth'), 1), (('needs', 'mouth', 'to'), 1), (('mouth', 'to', 'mouth'), 1), (('to', 'mouth', 'or'), 1), (('mouth', 'or', 'cpr?'), 1), (('or', 'cpr?', '[watch]'), 1), (('lou', 'dobbs:', 'sean'), 1), (('dobbs:', 'sean', 'spicer'), 1), (('sean', 'spicer', 'on'), 1), (('spicer', 'on', 'trump'), 1), (('on', 'trump', 'firing'), 1), (('trump', 'firing', 'comey'), 1), (('firing', 'comey', '[video]'), 1), (('trump', 'just', 'made'), 1), (('just', 'made', 'his'), 1), (('made', 'his', '2'), 1), (('his', '2', 'most'), 1), (('2', 'most', 'dunderheaded'), 1), (('most', 'dunderheaded', 'moves'), 1), (('dunderheaded', 'moves', 'yet'), 1), (('moves', 'yet', 'after'), 1), (('yet', 'after', 'firing'), 1), (('after', 'firing', 'comey'), 1), (('firing', 'comey', '(details)'), 1), (('uh', 'oh!', 'bill'), 1), (('oh!', 'bill', 'clinton'), 1), (('bill', 'clinton', 'unloads'), 1), (('clinton', 'unloads', 'on'), 1), (('unloads', 'on', 'obama!'), 1), (('on', 'obama!', '[video]'), 1), (('boom!', 'trump', 'holds'), 1), (('trump', 'holds', '“dishonest'), 1), (('holds', '“dishonest', 'media”'), 1), (('“dishonest', 'media”', 'accountable'), 1), (('media”', 'accountable', ':'), 1), (('accountable', ':', 'nbc'), 1), ((':', 'nbc', 'cuts'), 1), (('nbc', 'cuts', '9'), 1), (('cuts', '9', 'minutes'), 1), (('9', 'minutes', 'from'), 1), (('minutes', 'from', 'kellyanne'), 1), (('from', 'kellyanne', 'conway'), 1), (('kellyanne', 'conway', 'interview…trump'), 1), (('conway', 'interview…trump', 'exposes'), 1), (('interview…trump', 'exposes', 'them'), 1), (('exposes', 'them', 'on'), 1), (('them', 'on', 'twitter'), 1), (('on', 'twitter', '[video]'), 1), (('usa', 'today', 'smacks'), 1), (('today', 'smacks', 'trump'), 1), (('smacks', 'trump', 'upside'), 1), (('trump', 'upside', 'the'), 1), (('upside', 'the', 'head'), 1), (('the', 'head', 'over'), 1), (('head', 'over', 'his'), 1)]\n",
      "\n",
      "\n",
      "Most common words in text, real:\n",
      " [(('the', 'united', 'states'), 406), (('washington', '(reuters)', '-'), 283), (('said', 'in', 'a'), 244), (('(reuters)', '-', 'the'), 170), (('president', 'donald', 'trump'), 170), (('the', 'white', 'house'), 169), (('(reuters)', '-', 'u.s.'), 125), (('one', 'of', 'the'), 123), (('in', 'the', 'united'), 122), (('u.s.', 'president', 'donald'), 118), (('in', 'a', 'statement'), 104), (('according', 'to', 'the'), 98), (('in', 'a', 'statement.'), 94), (('the', 'united', 'states.'), 91), (('secretary', 'of', 'state'), 90), (('the', 'united', 'states,'), 84), (('house', 'of', 'representatives'), 76), (('as', 'well', 'as'), 76), (('(reuters)', '-', 'a'), 75), (('of', 'the', 'u.s.'), 73), (('the', 'end', 'of'), 71), (('united', 'states', 'and'), 71), (('is', 'expected', 'to'), 68), (('to', 'the', 'united'), 67), (('said', 'he', 'would'), 67), (('the', 'trump', 'administration'), 67), (('the', 'united', 'nations'), 64), (('president', 'barack', 'obama'), 59), (('president', 'donald', 'trump’s'), 59), (('according', 'to', 'a'), 59), (('said', 'it', 'was'), 59), (('the', 'country', 's'), 55), (('as', 'part', 'of'), 54), (('the', 'number', 'of'), 53), (('the', 'new', 'york'), 53), (('said', 'on', 'wednesday'), 53), (('the', 'nov.', '8'), 51), (('the', 'european', 'union'), 51), (('in', 'the', 'u.s.'), 50), (('the', 'first', 'time'), 49), (('the', 'supreme', 'court'), 48), (('in', 'an', 'interview'), 47), (('some', 'of', 'the'), 47), (('members', 'of', 'the'), 47), (('has', 'said', 'he'), 46), (('part', 'of', 'the'), 45), (('member', 'of', 'the'), 45), (('a', 'spokesman', 'for'), 44), (('and', 'the', 'united'), 44), (('a', 'lot', 'of'), 43), (('president', 'of', 'the'), 43), (('said', 'on', 'thursday'), 43), (('head', 'of', 'the'), 42), (('out', 'of', 'the'), 42), (('a', 'member', 'of'), 42), (('(reuters)', '-', 'president'), 42), (('of', 'the', 'united'), 41), (('said', 'on', 'wednesday.'), 41), (('for', 'the', 'first'), 41), (('president', 'barack', 'obama’s'), 40), (('there', 'was', 'no'), 39), (('to', 'be', 'a'), 39), (('york', '(reuters)', '-'), 38), (('said', 'in', 'an'), 38), (('in', 'the', '2016'), 38), (('part', 'of', 'a'), 37), (('the', 'head', 'of'), 37), (('said', 'he', 'was'), 37), (('he', 'did', 'not'), 37), (('-', 'u.s.', 'president'), 36), (('the', 'house', 'of'), 35), (('with', 'the', 'united'), 35), (('chairman', 'of', 'the'), 35), (('has', 'said', 'the'), 35), (('russian', 'president', 'vladimir'), 35), (('there', 'is', 'no'), 35), (('said', 'on', 'friday'), 34), (('of', 'thousands', 'of'), 34), (('the', 'u.s.', 'senate'), 34), (('of', 'state', 'rex'), 34), (('a', 'number', 'of'), 34), (('london', '(reuters)', '-'), 34), (('that', 'it', 'was'), 34), (('white', 'house', 'said'), 34), (('u.s.', 'secretary', 'of'), 34), (('said', 'on', 'thursday.'), 34), (('a', 'series', 'of'), 33), (('new', 'york', '(reuters)'), 33), (('has', 'been', 'a'), 33), (('president', 'vladimir', 'putin'), 33), (('said', 'on', 'monday'), 33), (('on', 'wednesday', 'that'), 33), (('in', 'order', 'to'), 33), (('familiar', 'with', 'the'), 32), (('a', 'statement', 'on'), 32), (('in', 'the', 'past'), 32), (('said', 'he', 'had'), 32), (('more', 'than', 'a'), 32), (('between', 'the', 'two'), 32), (('in', 'response', 'to'), 32)]\n"
     ]
    },
    {
     "name": "stdout",
     "output_type": "stream",
     "text": [
      "\n",
      "\n",
      "Most common words in text, fake:\n",
      " [(('the', 'united', 'states'), 174), (('one', 'of', 'the'), 138), (('the', 'white', 'house'), 134), (('donald', 'trump', 's'), 118), (('the', 'fact', 'that'), 113), (('i', 'don', 't'), 107), (('the', 'new', 'york'), 93), (('donald', 'j.', 'trump'), 82), (('according', 'to', 'the'), 82), (('it', 's', 'not'), 81), (('a', 'lot', 'of'), 78), (('in', 'the', 'united'), 75), (('of', 'the', 'united'), 75), (('as', 'well', 'as'), 73), (('in', 'order', 'to'), 70), (('j.', 'trump', '(@realdonaldtrump)'), 70), (('it', 's', 'a'), 69), (('21st', 'century', 'wire'), 68), (('part', 'of', 'the'), 66), (('to', 'be', 'a'), 61), (('new', 'york', 'times'), 60), (('in', 'front', 'of'), 58), (('the', 'obama', 'administration'), 56), (('this', 'is', 'a'), 55), (('and', 'it', 's'), 55), (('out', 'of', 'the'), 53), (('we', 'don', 't'), 52), (('hillary', 'clinton', 's'), 52), (('black', 'lives', 'matter'), 50), (('all', 'of', 'the'), 50), (('re', 'going', 'to'), 50), (('said', 'in', 'a'), 50), (('the', 'republican', 'party'), 50), (('there', 'is', 'no'), 49), (('president', 'of', 'the'), 48), (('some', 'of', 'the'), 48), (('is', 'going', 'to'), 47), (('when', 'it', 'comes'), 47), (('i', 'm', 'not'), 46), (('it', 'comes', 'to'), 46), (('he', 'doesn', 't'), 45), (('donald', 'trump', 'is'), 45), (('trump', 'and', 'his'), 45), (('going', 'to', 'be'), 44), (('there', 's', 'no'), 44), (('this', 'is', 'the'), 44), (('at:', '21st', 'century'), 44), (('the', 'rest', 'of'), 44), (('of', 'the', 'most'), 44), (('that', 'he', 'was'), 43), (('the', 'united', 'states,'), 43), (('they', 'don', 't'), 42), (('there', 's', 'a'), 42), (('that', 's', 'not'), 42), (('of', 'trump', 's'), 42), (('news', 'at:', '21st'), 42), (('to', 'be', 'the'), 41), (('don', 't', 'want'), 41), (('secretary', 'of', 'state'), 40), (('that', 'donald', 'trump'), 40), (('to', 'say', 'that'), 39), (('be', 'able', 'to'), 39), (('don', 't', 'know'), 38), (('that', 'it', 's'), 38), (('here', 's', 'the'), 38), (('in', 'the', 'first'), 38), (('to', 'do', 'with'), 38), (('and', 'that', 's'), 37), (('he', 's', 'a'), 37), (('the', 'american', 'people'), 37), (('the', 'united', 'states.'), 37), (('according', 'to', 'a'), 37), (('donald', 'trump', 'and'), 37), (('a', 'number', 'of'), 36), (('t', 'want', 'to'), 36), (('members', 'of', 'the'), 36), (('to', 'make', 'sure'), 36), (('don', 't', 'have'), 36), (('not', 'going', 'to'), 35), (('the', 'department', 'of'), 35), (('that', 'he', 'is'), 35), (('president', 'barack', 'obama'), 34), (('in', 'the', 'middle'), 34), (('the', 'white', 'house,'), 34), (('we', 're', 'going'), 33), (('in', 'the', 'white'), 33), (('donald', 'trump', 'has'), 33), (('that', 's', 'a'), 32), (('it', 'was', 'a'), 32), (('to', 'vote', 'for'), 32), (('you', 'don', 't'), 32), (('of', 'donald', 'trump'), 32), (('went', 'on', 'to'), 31), (('an', 'interview', 'with'), 31), (('member', 'of', 'the'), 31), (('part', 'of', 'a'), 31), (('it', 's', 'the'), 31), (('that', 'they', 'are'), 31), (('but', 'it', 's'), 31), (('the', 'white', 'house.'), 31)]\n"
     ]
    }
   ],
   "source": [
    "# bigram\n",
    "bi_title_real = ngram_tokenizer(title0, n=2)\n",
    "bi_title_fake = ngram_tokenizer(title1, n=2)\n",
    "bi_text_real = ngram_tokenizer(text0, n=2)\n",
    "bi_text_fake = ngram_tokenizer(text1, n=2)\n",
    "\n",
    "print('Bigram =============================\\n')\n",
    "\n",
    "word_counter = Counter(bi_title_real)\n",
    "print('\\n\\nMost common words in title, real:\\n',word_counter.most_common(500))\n",
    "\n",
    "word_counter = Counter(bi_title_fake)\n",
    "print('\\n\\nMost common words in title, fake:\\n',word_counter.most_common(500))\n",
    "\n",
    "word_counter = Counter(bi_text_real)\n",
    "print('\\n\\nMost common words in text, real:\\n',word_counter.most_common(100))\n",
    "\n",
    "word_counter = Counter(bi_text_fake)\n",
    "print('\\n\\nMost common words in text, fake:\\n',word_counter.most_common(100))\n",
    "\n",
    "# trigram\n",
    "tri_title_real = ngram_tokenizer(title0, n=3)\n",
    "tri_title_fake = ngram_tokenizer(title1, n=3)\n",
    "tri_text_real = ngram_tokenizer(text0, n=3)\n",
    "tri_text_fake = ngram_tokenizer(text1, n=3)\n",
    "\n",
    "print('Trigram =============================\\n')\n",
    "\n",
    "word_counter = Counter(tri_title_real)\n",
    "print('\\n\\nMost common words in title, real:\\n',word_counter.most_common(500))\n",
    "\n",
    "word_counter = Counter(tri_title_fake)\n",
    "print('\\n\\nMost common words in title, fake:\\n',word_counter.most_common(500))\n",
    "\n",
    "word_counter = Counter(tri_text_real)\n",
    "print('\\n\\nMost common words in text, real:\\n',word_counter.most_common(100))\n",
    "\n",
    "word_counter = Counter(tri_text_fake)\n",
    "print('\\n\\nMost common words in text, fake:\\n',word_counter.most_common(100))"
   ]
  },
  {
   "cell_type": "markdown",
   "id": "ac706bb3",
   "metadata": {},
   "source": [
    "### Findings\n",
    "- Some capital letter headache can be solved by using **bigram**. Bigram can select some of proper nouns combined by two common nouns, such as **White House, North Korea**. "
   ]
  },
  {
   "cell_type": "markdown",
   "id": "fac83902",
   "metadata": {},
   "source": [
    "# Features of strong classification power\n",
    "Some **features** might **occur only** or nearly only in **one class**.\n",
    "This feature might either give an **insight in modeling** or **dangerous bias** of this specific dataset which has to be removed for generalization of the model. Let's take a look."
   ]
  },
  {
   "cell_type": "markdown",
   "id": "2dae0918",
   "metadata": {},
   "source": [
    "### Words that appears (nearly) only in one class."
   ]
  },
  {
   "cell_type": "code",
   "execution_count": 25,
   "id": "77367867",
   "metadata": {},
   "outputs": [
    {
     "name": "stdout",
     "output_type": "stream",
     "text": [
      "Number of title words only in real:  641\n",
      "['korea', 'china', 'u.n.', 'south', \"trump's\", 'talks', 'factbox:', 'brexit', 'opposition', 'pm', 'minister', 'eu', 'nuclear', 'sanctions', 'meet', 'myanmar', 'ahead', 'tillerson', 'german', 'puerto', '-', 'rico', 'aid', 'coalition', 'key', 'u.s.,', 'korean', 'health', 'lead', 'travel', 'administration', 'seeks', 'strikes', 'amid', 'cut', 'case', 'seek', 'officials', 'lawmakers', 'rule', 'sources', 'charges', 'presidency', 'bid', 'oil', 'turkey', 'british', 'french', 'parliament', 'visit']\n",
      "Number of title words only in fake:  641\n",
      "['[video]', '(video)', 'trump’s', 'just', 'watch:', 'you', 'black', 'why', 'him', '–', 'watch', 'breaking:', 'obama’s', 'their', 'like', 'us', 'goes', 'wow!', 'racist', 'america', 'it’s', 'gop', 'hillary’s', 'an', 'she', 'bernie', 'when', 'gives', 'supporter', 'get', 'video', 'or', 'your', 'got', 'here’s', 'way', 'he’s', 'them', 'don’t', 'caught', 'speech', 'anti-trump', 'we', 'most', '(details)', 'makes', 'supporters', 'won’t', 'i', 'response']\n",
      "Number of text words only in real:  356\n",
      "['-', '(reuters)', 'trump’s', 'minister', 'china', 'spokesman', 'trade', 'reuters', 'korea', 'european', 'prime', '“i', 'u.n.', 'sanctions', '“the', 'eu', 'forces', 'ministry', 'talks', 'month', 'companies', 'saudi', 'lawmakers', '...', 'coalition', 'reporters', 'britain', 'nations', '“we', 'agreement', 'peace', 'union', 'oil', 'plans', 'efforts', 'nov.', 'chinese', 'ruling', 'denied', 'relations', 'missile', 'tillerson', 'kim', 'statement.', 'agreed', 'korean', 'aid', 'british', 'representative', 'moscow']\n",
      "Number of text words only in fake:  356\n",
      "['re', 'your', 'via', 'image', 'video', 'doesn', 've', 'actually', 'm', 'didn', 'fox', 'anyone', 'something', 'gop', 'images', 'fact', 'mr.', 'story', 'thing', 'ever', 'll', 'isn', '&', 'someone', 'watch', 'things', 'gun', 'nation', 'lives', 'school', 'cnn', 'd', 'sure', 'daily', 'community', 'stand', 'everyone', 'entire', 'anything', 'live', 'that,', 'person', 'racist', 'wasn', 'fake', 'woman', 'tell', 'seems', 'it,', 'hate']\n"
     ]
    }
   ],
   "source": [
    "wc = Counter(uni_title_real)\n",
    "freq_title_real = [x[0][0] for x in wc.most_common(1000)]\n",
    "\n",
    "wc = Counter(uni_title_fake)\n",
    "freq_title_fake = [x[0][0] for x in wc.most_common(1000)]\n",
    "\n",
    "wc = Counter(uni_text_real)\n",
    "freq_text_real = [x[0][0] for x in wc.most_common(1000)]\n",
    "\n",
    "wc = Counter(uni_text_fake)\n",
    "freq_text_fake = [x[0][0] for x in wc.most_common(1000)]\n",
    "\n",
    "\n",
    "title_only_in_real = []\n",
    "for x in freq_title_real:\n",
    "    if not x in freq_title_fake:\n",
    "        title_only_in_real.append(x)\n",
    "        \n",
    "title_only_in_fake = []\n",
    "for x in freq_title_fake:\n",
    "    if not x in freq_title_real:\n",
    "        title_only_in_fake.append(x)\n",
    "        \n",
    "text_only_in_real = []\n",
    "for x in freq_text_real:\n",
    "    if not x in freq_text_fake:\n",
    "        text_only_in_real.append(x)\n",
    "        \n",
    "text_only_in_fake = []\n",
    "for x in freq_text_fake:\n",
    "    if not x in freq_text_real:\n",
    "        text_only_in_fake.append(x)\n",
    "        \n",
    "print('Number of title words only in real: ', len(title_only_in_real))\n",
    "\n",
    "print(title_only_in_real[:50])\n",
    "\n",
    "print('Number of title words only in fake: ', len(title_only_in_fake))\n",
    "\n",
    "print(title_only_in_fake[:50])\n",
    "\n",
    "print('Number of text words only in real: ', len(text_only_in_real))\n",
    "\n",
    "print(text_only_in_real[:50])\n",
    "\n",
    "print('Number of text words only in fake: ', len(text_only_in_fake))\n",
    "\n",
    "print(text_only_in_fake[:50])"
   ]
  },
  {
   "cell_type": "markdown",
   "id": "b41efaaa",
   "metadata": {},
   "source": [
    "### Findings\n",
    "- **Title words are surprisingly polarized**, i.e. 89% of words are not overlapping, which explains **why our simple models perform with surprisingly high accuracy**. It turned out that **classification power** mostly comes from **different capitalization rules between real and fake news**. Fake news have too much capitalization, probably to catch attention. We should check this point again after preprocess text.\n",
    "- Some **international** issues words appear only in real news. However, you can't tell if that's because fake news care more about **domestic politics** or this dataset is **biased**."
   ]
  },
  {
   "cell_type": "markdown",
   "id": "54fdd45f",
   "metadata": {},
   "source": [
    "### Same thing for bigram"
   ]
  },
  {
   "cell_type": "code",
   "execution_count": 26,
   "id": "904f29c8",
   "metadata": {},
   "outputs": [
    {
     "name": "stdout",
     "output_type": "stream",
     "text": [
      "Number of title words only in real:  929\n",
      "[('north', 'korea'), ('puerto', 'rico'), ('ahead', 'of'), ('to', 'meet'), ('south', 'korea'), ('says', 'u.s.'), ('travel', 'ban'), ('trump', 'administration'), ('islamic', 'state'), ('in', 'u.s.'), ('to', 'hold'), ('to', 'lead'), ('on', 'north'), ('says', 'he'), ('house', 'speaker'), ('house', 'says'), ('north', 'korean'), ('iran', 'nuclear'), ('aimed', 'at'), ('u.s.', 'lawmakers'), ('u.s.', 'senate'), ('will', 'not'), ('china', 'says'), ('finance', 'minister'), ('to', 'discuss'), ('to', 'u.s.'), ('china', 'to'), ('reuters/ipsos', 'poll'), ('to', 'nominate'), ('u.s.', 'health'), ('nuclear', 'deal'), ('of', 'u.s.'), ('at', 'least'), ('senator', 'mccain'), ('u.s.', 'sanctions'), ('trump', 'travel'), ('corruption', 'charges'), ('high', 'court'), ('u.s.', 'house'), ('speaker', 'ryan'), ('ruling', 'party'), ('says', 'trump'), ('russia', 'says'), ('tillerson', 'says'), ('says', 'will'), ('aid', 'to'), (\"china's\", 'xi'), ('will', 'be'), ('in', 'russia'), ('hopes', 'for')]\n",
      "Number of title words only in fake:  929\n",
      "[('trump', 'supporter'), ('of', 'the'), ('bernie', 'sanders'), ('trump', 'is'), ('going', 'to'), ('for', 'trump'), ('trump', '[video]'), ('is', 'a'), ('fox', 'news'), ('war', 'on'), ('trump', 'in'), ('for', 'the'), ('trump', 'just'), ('in', 'a'), ('the', 'most'), ('fbi', 'director'), ('as', 'a'), ('republicans', 'for'), ('ted', 'cruz'), ('trump', 'for'), ('a', 'new'), ('to', 'a'), ('and', 'it’s'), ('with', 'a'), ('vote', 'for'), ('black', 'lives'), ('news', 'for'), ('shut', 'down'), ('kellyanne', 'conway'), ('in', 'his'), ('new', 'york'), ('to', 'get'), ('trump', 'after'), ('tries', 'to'), ('for', 'hillary'), ('is', 'the'), ('to', 'take'), ('trump', 'supporters'), ('trump', 'and'), ('of', 'trump’s'), ('truth', 'about'), ('boiler', 'room'), ('list', 'of'), ('press', 'conference'), ('lives', 'matter'), ('trump', '(video)'), ('to', 'use'), ('hillary', 'is'), ('the', 'white'), ('obama', 'and')]\n",
      "Number of text words only in real:  486\n",
      "[('(reuters)', '-'), ('said', 'on'), ('washington', '(reuters)'), ('-', 'the'), ('on', 'wednesday'), ('on', 'tuesday'), ('on', 'thursday'), ('north', 'korea'), ('prime', 'minister'), ('u.s.', 'president'), ('said.', 'the'), ('has', 'said'), ('on', 'friday'), ('islamic', 'state'), ('-', 'u.s.'), ('-', 'a'), ('house', 'of'), ('the', 'european'), ('united', 'nations'), ('on', 'sunday'), ('a', 'statement.'), ('told', 'reporters'), ('a', 'u.s.'), ('donald', 'trump’s'), ('last', 'year'), ('declined', 'to'), ('told', 'reuters'), ('in', 'recent'), ('the', 'eu'), ('efforts', 'to'), ('the', 'military'), ('is', 'expected'), ('on', 'monday.'), ('called', 'for'), ('on', 'tuesday,'), ('last', 'week'), ('of', 'representatives'), ('told', 'a'), ('of', 'u.s.'), ('last', 'month'), ('a', 'senior'), ('plans', 'to'), ('on', 'wednesday.'), ('which', 'has'), ('head', 'of'), ('told', 'reuters.'), ('it', 'had'), ('on', 'friday.'), ('on', 'tuesday.'), ('on', 'saturday')]\n",
      "Number of text words only in fake:  486\n",
      "[('he', 's'), ('that', 's'), ('image', 'via'), ('s', 'a'), ('doesn', 't'), ('i', 'm'), ('didn', 't'), ('s', 'not'), ('s', 'the'), ('if', 'you'), ('you', 're'), ('there', 's'), ('can', 't'), ('obama', 's'), ('they', 're'), ('isn', 't'), ('the', 'fact'), ('president', 'obama'), ('fact', 'that'), ('the', 'media'), ('you', 'can'), ('president', 'trump'), ('won', 't'), ('clinton', 's'), ('i', 'don'), ('wasn', 't'), ('fox', 'news'), ('the', 'us'), ('the', 'gop'), ('that', 'this'), ('she', 's'), ('because', 'he'), ('the', 'video'), ('t', 'have'), ('america', 's'), ('21st', 'century'), ('we', 've'), ('donald', 'j.'), ('j.', 'trump'), ('the', 'clinton'), ('like', 'a'), ('of', 'these'), ('like', 'the'), ('here', 's'), ('kind', 'of'), ('i', 'was'), ('not', 'only'), ('you', 'have'), ('on', 'to'), ('vote', 'for')]\n"
     ]
    }
   ],
   "source": [
    "wc = Counter(bi_title_real)\n",
    "freq_title_real = [x[0] for x in wc.most_common(1000)]\n",
    "\n",
    "wc = Counter(bi_title_fake)\n",
    "freq_title_fake = [x[0] for x in wc.most_common(1000)]\n",
    "\n",
    "wc = Counter(bi_text_real)\n",
    "freq_text_real = [x[0] for x in wc.most_common(1000)]\n",
    "\n",
    "wc = Counter(bi_text_fake)\n",
    "freq_text_fake = [x[0] for x in wc.most_common(1000)]\n",
    "\n",
    "\n",
    "title_only_in_real = []\n",
    "for x in freq_title_real:\n",
    "    if not x in freq_title_fake:\n",
    "        title_only_in_real.append(x)\n",
    "        \n",
    "title_only_in_fake = []\n",
    "for x in freq_title_fake:\n",
    "    if not x in freq_title_real:\n",
    "        title_only_in_fake.append(x)\n",
    "        \n",
    "text_only_in_real = []\n",
    "for x in freq_text_real:\n",
    "    if not x in freq_text_fake:\n",
    "        text_only_in_real.append(x)\n",
    "        \n",
    "text_only_in_fake = []\n",
    "for x in freq_text_fake:\n",
    "    if not x in freq_text_real:\n",
    "        text_only_in_fake.append(x)\n",
    "        \n",
    "print('Number of title words only in real: ', len(title_only_in_real))\n",
    "\n",
    "print(title_only_in_real[:50])\n",
    "\n",
    "print('Number of title words only in fake: ', len(title_only_in_fake))\n",
    "\n",
    "print(title_only_in_fake[:50])\n",
    "\n",
    "print('Number of text words only in real: ', len(text_only_in_real))\n",
    "\n",
    "print(text_only_in_real[:50])\n",
    "\n",
    "print('Number of text words only in fake: ', len(text_only_in_fake))\n",
    "\n",
    "print(text_only_in_fake[:50])\n",
    "\n"
   ]
  },
  {
   "cell_type": "markdown",
   "id": "92c76e31",
   "metadata": {},
   "source": [
    "# Conclusion\n",
    "Keeping in mind of our findings, let's preprocess text data then do another EDA with organized data."
   ]
  }
 ],
 "metadata": {
  "kernelspec": {
   "display_name": "Python 3 (ipykernel)",
   "language": "python",
   "name": "python3"
  },
  "language_info": {
   "codemirror_mode": {
    "name": "ipython",
    "version": 3
   },
   "file_extension": ".py",
   "mimetype": "text/x-python",
   "name": "python",
   "nbconvert_exporter": "python",
   "pygments_lexer": "ipython3",
   "version": "3.8.12"
  }
 },
 "nbformat": 4,
 "nbformat_minor": 5
}
