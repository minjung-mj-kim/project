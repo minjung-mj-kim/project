{
 "cells": [
  {
   "cell_type": "markdown",
   "id": "28e222ba",
   "metadata": {},
   "source": [
    "# Data Cleaning\n",
    "- To prepare dataset after cleaning in order to reduce file size and faster repeated operation.\n",
    "- Check EDA.ipynb for explanation of cleaning items."
   ]
  },
  {
   "cell_type": "code",
   "execution_count": 1,
   "id": "eb8254fb",
   "metadata": {},
   "outputs": [
    {
     "name": "stdout",
     "output_type": "stream",
     "text": [
      "Took 14.811845779418945\n"
     ]
    }
   ],
   "source": [
    "import time\n",
    "import pandas as pd\n",
    "\n",
    "def clean_dataset(fo, fi='data/WELFake_Dataset.csv'):\n",
    "    \n",
    "    begin = time.time()\n",
    "    \n",
    "    df = pd.read_csv(fi)\n",
    "    \n",
    "    ##------ Drop data we don't use \n",
    "    df.dropna(inplace=True)\n",
    "    df.drop_duplicates()\n",
    "    df.drop(['Unnamed: 0'], axis=1, inplace=True) # Unused column\n",
    "\n",
    "    ##------ Reduce memory size\n",
    "    df = df.astype({'label': 'category'})\n",
    "\n",
    "    ##------ Drop rows with too short title or text\n",
    "    ##------ For deployment, entry with this condition will give a warning message\n",
    "\n",
    "    # avoid empty or website address\n",
    "    df = df[(df.label==0)|(df.title.str.split().str.len()>=2)] \n",
    "\n",
    "    # you need at least 5 words to describe who, when, where, what, how (no why for breaking news)\n",
    "    df = df[(df.label==0)|(df.text.str.split().str.len()>=5)] \n",
    "\n",
    "    ##------ Avoid bias\n",
    "\n",
    "    # topic bias\n",
    "    df = df[~df.title.str.contains('Korea|China|Syria|EU|Iran|Brexit|Mexico|Turkey|Saudi')] # real only\n",
    "    df = df[~df.title.str.contains('Wikileaks')] # fake only\n",
    "\n",
    "    # remove journal names\n",
    "    df.replace('- The Onion - America\\'s Finest News Source','',inplace=True) # real news only\n",
    "    df.replace('- The New York Times','',inplace=True) # real news only\n",
    "    df.replace('- Breitbart','',inplace=True) # real news only\n",
    "    df.replace('Factbox:','',inplace=True) # real news only\n",
    "    df.replace('Breaking:','',inplace=True) # fake news only\n",
    "\n",
    "    # clickbait in fake news\n",
    "    df.replace('[^\\s\\w][Vv][Ii][Dd][Ee][Oo][^\\s\\w]','',inplace=True)\n",
    "    df.replace('[^\\s\\w][Ww][Aa][Tt][Cc][Hh][^\\s\\w]','',inplace=True)\n",
    "    df.replace('[^\\s\\w][Ii][Mm][Aa][Gg][Ee][^\\s\\w]','',inplace=True)\n",
    "    df.replace('[^\\s\\w][Dd][Ee][Tt][Aa][Ii][Ll][Ss][^\\s\\w]','',inplace=True)\n",
    "\n",
    "    #  Fake news likely to have them\n",
    "    #df['fuss'] = df.title.str.contains('[Ww][Oo][Ww]!')|df.title.str.contains('[Ll][Oo][Ll]!')\n",
    "    df.replace('[Ww][Oo][Ww]!','',inplace=True)\n",
    "    df.replace('[Ll][Oo][Ll]!','',inplace=True)\n",
    "\n",
    "    # Fake news likely to have it\n",
    "    #df['slang'] = df.title.str.contains('[\\w]+[\\*]+[\\w]+')\n",
    "\n",
    "    # Social media or website address\n",
    "    df.replace('[^\\s]*[\\@]+[^\\s]*','@SocialMediaAccount',inplace=True)\n",
    "    df.replace('[^\\s]*//[^\\s]+[.][^\\s]+','__httpAddr__',inplace=True)\n",
    "    \n",
    "    df.to_csv(fo, index=False)\n",
    "    \n",
    "    end = time.time()\n",
    "    \n",
    "    print('Took',end-begin)\n",
    "\n",
    "clean_dataset('data/cleaned.csv')"
   ]
  }
 ],
 "metadata": {
  "kernelspec": {
   "display_name": "Python 3 (ipykernel)",
   "language": "python",
   "name": "python3"
  },
  "language_info": {
   "codemirror_mode": {
    "name": "ipython",
    "version": 3
   },
   "file_extension": ".py",
   "mimetype": "text/x-python",
   "name": "python",
   "nbconvert_exporter": "python",
   "pygments_lexer": "ipython3",
   "version": "3.8.12"
  }
 },
 "nbformat": 4,
 "nbformat_minor": 5
}
