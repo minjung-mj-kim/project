{
 "cells": [
  {
   "cell_type": "markdown",
   "metadata": {},
   "source": [
    "# Simple manual model\n",
    "- Use EDA findings\n",
    "    - Long title size\n",
    "    - Too many special characters\n",
    "    - Contains click bait\n",
    "    - Contains first name\n",
    "    - Contains slang"
   ]
  },
  {
   "cell_type": "code",
   "execution_count": 6,
   "metadata": {},
   "outputs": [],
   "source": [
    "from freq_utils import *\n",
    "import regex as re\n",
    "from collections import Counter\n",
    "\n",
    "\n",
    "from sklearn.feature_extraction.text import CountVectorizer\n",
    "from sklearn.naive_bayes import MultinomialNB \n",
    "from sklearn.metrics import accuracy_score, precision_recall_fscore_support, precision_score, recall_score, f1_score\n",
    "\n",
    "pd.options.display.max_colwidth = 200"
   ]
  },
  {
   "cell_type": "code",
   "execution_count": 2,
   "metadata": {},
   "outputs": [],
   "source": [
    "df0 = pd.read_csv('data/TrueOrganized.csv')\n",
    "df1 = pd.read_csv('data/FakeOrganized.csv')\n",
    "\n",
    "df0['label']=0\n",
    "df1['label']=1"
   ]
  },
  {
   "cell_type": "markdown",
   "metadata": {},
   "source": [
    "# Train/dev/test split"
   ]
  },
  {
   "cell_type": "code",
   "execution_count": 3,
   "metadata": {},
   "outputs": [],
   "source": [
    "train, dev, test = train_dev_test_split([df0, df1], m=10000, class_column='label', \n",
    "                                        class_balance=True, r_dev=0.2, r_test=0.2, rand_state=42)\n"
   ]
  },
  {
   "cell_type": "markdown",
   "metadata": {},
   "source": [
    "# Examine classification items"
   ]
  },
  {
   "cell_type": "code",
   "execution_count": 5,
   "metadata": {},
   "outputs": [
    {
     "name": "stdout",
     "output_type": "stream",
     "text": [
      "Index(['org_title', 'lower_title', 'cleaned_words', 'cleaned_pos',\n",
      "       'minimal_words', 'label'],\n",
      "      dtype='object')\n"
     ]
    },
    {
     "data": {
      "text/html": [
       "<div>\n",
       "<style scoped>\n",
       "    .dataframe tbody tr th:only-of-type {\n",
       "        vertical-align: middle;\n",
       "    }\n",
       "\n",
       "    .dataframe tbody tr th {\n",
       "        vertical-align: top;\n",
       "    }\n",
       "\n",
       "    .dataframe thead th {\n",
       "        text-align: right;\n",
       "    }\n",
       "</style>\n",
       "<table border=\"1\" class=\"dataframe\">\n",
       "  <thead>\n",
       "    <tr style=\"text-align: right;\">\n",
       "      <th></th>\n",
       "      <th>org_title</th>\n",
       "      <th>lower_title</th>\n",
       "      <th>cleaned_words</th>\n",
       "      <th>cleaned_pos</th>\n",
       "      <th>minimal_words</th>\n",
       "      <th>label</th>\n",
       "    </tr>\n",
       "  </thead>\n",
       "  <tbody>\n",
       "    <tr>\n",
       "      <th>9719</th>\n",
       "      <td>OBAMACARE PRIVACY PRACTICES IN QUESTION AS CRITICS VOICE CONCERNS</td>\n",
       "      <td>obamacare privacy practices in question as critics voice concerns</td>\n",
       "      <td>obamacare privacy practices in question as critics voice concerns</td>\n",
       "      <td>NN NN NNS NN NN IN NNS NN NNS</td>\n",
       "      <td>obamacare privacy practice question critic voice concern</td>\n",
       "      <td>1</td>\n",
       "    </tr>\n",
       "  </tbody>\n",
       "</table>\n",
       "</div>"
      ],
      "text/plain": [
       "                                                              org_title  \\\n",
       "9719  OBAMACARE PRIVACY PRACTICES IN QUESTION AS CRITICS VOICE CONCERNS   \n",
       "\n",
       "                                                            lower_title  \\\n",
       "9719  obamacare privacy practices in question as critics voice concerns   \n",
       "\n",
       "                                                          cleaned_words  \\\n",
       "9719  obamacare privacy practices in question as critics voice concerns   \n",
       "\n",
       "                        cleaned_pos  \\\n",
       "9719  NN NN NNS NN NN IN NNS NN NNS   \n",
       "\n",
       "                                                 minimal_words  label  \n",
       "9719  obamacare privacy practice question critic voice concern      1  "
      ]
     },
     "metadata": {},
     "output_type": "display_data"
    }
   ],
   "source": [
    "display(train.sample(1))"
   ]
  },
  {
   "cell_type": "code",
   "execution_count": 11,
   "metadata": {},
   "outputs": [
    {
     "name": "stdout",
     "output_type": "stream",
     "text": [
      "org_title =*=*=*=*=*=*=*=*=*=*=*=*=*=*=*=*\n",
      "Number of title words only in real:  874\n",
      "['says', 'over', 'after', 'Korea', \"Trump's\", 'tax', 'China', 'bill', 'new', 'U.N.', 'vote', 'EU', 'talks', 'deal', 'against', 'court', 'election', 'calls', 'PM', 'South', 'Factbox:', 'minister', 'government', 'Brexit', 'chief', 'police', '-', 'leader', 'president', 'official', 'sanctions', 'plan', 'probe', 'more', 'military', 'nuclear', 'he', 'up', 'ban', 'urges', 'Saudi', 'no', 'may', 'UK', 'campaign', 'presidential', 'law', 'trade', 'German', 'sources']\n",
      "Number of title words only in fake:  874\n",
      "['To', 'For', 'Of', 'On', '[Video]', '(VIDEO)', '[VIDEO]', 'And', 'Is', 'With', 'His', 'About', 'Trump’s', 'WATCH:', 'Just', 'By', 'From', 'He', 'Who', 'Over', 'THE', 'This', 'TRUMP', 'Her', 'That', 'Him', 'Are', 'TO', 'Be', 'Will', 'GOP', 'Out', 'OF', '–', 'It', 'Was', 'BREAKING:', 'Has', 'You', 'Black', 'Why', 'OBAMA', 'Up', 'Not', 'Gets', 'Against', 'HILLARY', 'Have', 'Says', 'Their']\n",
      "lower_title =*=*=*=*=*=*=*=*=*=*=*=*=*=*=*=*\n",
      "Number of title words only in real:  565\n",
      "[\"trump's\", 'china', 'u.n.', 'eu', 'talks', 'south', 'pm', 'minister', 'factbox:', 'brexit', '-', 'sanctions', 'probe', 'urges', 'lawmakers', 'uk', 'opposition', 'trade', 'german', 'turkey', 'sources', 'myanmar', 'panel', 'budget', 'seeks', 'exclusive:', 'tillerson', 'crisis', 'aid', 'coalition', 'ahead', 'puerto', 'catalan', 'amid', 'seek', 'jerusalem', 'rohingya', 'korean', 'britain', 'discuss', 'reform', 'rico', 'iraq', 'bid', 'speaker', 'turkish', 'parliament', 'missile', 'source', \"china's\"]\n",
      "Number of title words only in fake:  565\n",
      "['[video]', '(video)', 'trump’s', 'just', 'watch:', 'you', 'black', 'why', 'gop', '–', 'obama’s', 'breaking:', 'watch', 'us', 'video', 'their', 'when', 'it’s', '(tweets)', 'hillary’s', 'she', 'america', 'liberal', 'like', 'wow!', 'goes', 'racist', 'them', 'your', 'bernie', 'he’s', 'our', 'won’t', 'we', 'illegal', 'so', 'fake', 'did', 'because', 'don’t', 'old', 'while', 'caught', 'room', 'ted', 'got', 'supporter', 'here’s', 'going', 'john']\n",
      "cleaned_words =*=*=*=*=*=*=*=*=*=*=*=*=*=*=*=*\n",
      "Number of title words only in real:  550\n",
      "[\"'s\", \"'\", 'china', 'eu', 'talks', '_prime_minister_', 'minister', 'south', 'brexit', 'factbox', 'probe', 'turkey', '_u_k_', 'sanctions', 'ex', 'myanmar', 'lawmakers', 'urges', 'trade', 'opposition', 'german', 'sources', 'britain', 'budget', 'tillerson', 'panel', 'japan', 'germany', 'iraq', 'france', 'exclusive', 'aid', 'seeks', 'jerusalem', \"n't\", 'merkel', 'coalition', 'ahead', 'catalan', 'puerto', 'rohingya', 'reform', 'rico', 'amid', 'bid', 'seek', 'macron', 'israel', 'speaker', 'korean']\n",
      "Number of title words only in fake:  550\n",
      "['video', '[', ']', '!', 'watch', 'trump’s', 'just', 'you', 'breaking', 'black', 'why', 'gop', '_mytag_slang_', 'obama’s', 'tweets', 'their', 'when', 'it’s', 'hillary’s', 'she', 'racist', 'liberal', 'like', 'them', 'wow', 'old', 'goes', 'your', 'bernie', 'he’s', 'our', 'host', 'won’t', 'so', 'illegal', 'fake', 'because', 'don’t', 'while', 'caught', 'supporter', 'room', 'hilarious', 'details', 'got', 'ted', 'going', 'here’s', 'john', 'reporter']\n",
      "cleaned_pos =*=*=*=*=*=*=*=*=*=*=*=*=*=*=*=*\n",
      "Number of title words only in real:  2\n",
      "['POS', 'WP$']\n",
      "Number of title words only in fake:  1\n",
      "['RBS']\n",
      "minimal_words =*=*=*=*=*=*=*=*=*=*=*=*=*=*=*=*\n",
      "Number of title words only in real:  511\n",
      "['minister', '_prime_minister_', 'south', 'brexit', 'seek', 'factbox', 'source', 'urge', 'turkey', '_u_k_', 'sanction', 'myanmar', 'trade', 'opposition', 'britain', 'reform', 'panel', 'budget', 'tillerson', 'japan', 'meeting', 'france', 'agency', 'exclusive', 'aid', 'jerusalem', 'catalan', 'missile', 'coalition', 'merkel', 'ahead', 'rohingya', 'puerto', 'korean', 'rico', 'philippine', 'bid', 'discus', 'suspect', 'amid', 'macron', 'zimbabwe', 'parliament', 'test', 'iraqi', 'independence', 'turkish', 'militant', 'ruling', 'peace']\n",
      "Number of title words only in fake:  511\n",
      "['breaking', 'gop', '_mytag_slang_', 'liberal', 'racist', 'lie', 'cop', 'like', 'image', 'old', 'terrorist', 'wow', 'bernie', 'room', 'caught', 'live', 'hilarious', 'ted', 'leftist', 'expose', 'know', 'college', 'john', 'got', 'kid', 'huge', 'truth', 'flag', 'reason', 'isi', 'alien', 'hate', 'paul', 'really', 'story', 'never', 'lol', 'thing', 'matter', 'boiler', 'girl', 'terror', 'mock', 'message', 'even', 'dnc', 'ever', 'rip', 'boom', 'radical']\n"
     ]
    }
   ],
   "source": [
    "for x in df0.columns[:-1]:\n",
    "    print(x,'=*=*=*=*=*=*=*=*=*=*=*=*=*=*=*=*')\n",
    "    words0 = df0[x].str.split().explode().tolist()\n",
    "    words1 = df1[x].str.split().explode().tolist()\n",
    "    \n",
    "    wc = Counter(words0)\n",
    "    freq_word0 = [x[0] for x in wc.most_common(1000)]\n",
    "    #print(freq_word0)\n",
    "\n",
    "    wc = Counter(words1)\n",
    "    freq_word1 = [x[0] for x in wc.most_common(1000)]\n",
    "    #print(freq_word1)\n",
    "\n",
    "    title_only_in_real = []\n",
    "    for x in freq_word0:\n",
    "        if not x in freq_word1:\n",
    "            title_only_in_real.append(x)\n",
    "        \n",
    "    title_only_in_fake = []\n",
    "    for x in freq_word1:\n",
    "        if not x in freq_word0:\n",
    "            title_only_in_fake.append(x)\n",
    "\n",
    "        \n",
    "    print('Number of title words only in real: ', len(title_only_in_real))\n",
    "    print(title_only_in_real[:50])\n",
    "\n",
    "    print('Number of title words only in fake: ', len(title_only_in_fake))\n",
    "    print(title_only_in_fake[:50])\n"
   ]
  },
  {
   "cell_type": "code",
   "execution_count": 12,
   "metadata": {},
   "outputs": [],
   "source": [
    "def simple_Manual(test):\n",
    "    \n",
    "    y_true = test.label.to_numpy()\n",
    "    y_pred = []\n",
    "    \n",
    "    # title size > 20?\n",
    "    y_pred.append( test.apply(lambda row: 1 if len(row['lower_title'].split())> 20 else 0, axis=1).to_numpy() )\n",
    "    # noise > 3 \n",
    "    y_pred.append( test.apply(lambda row: 1 if len(re.findall(re.compile('[^\\s\\w]'), row['lower_title'])) > 5 else 0, axis=1).to_numpy() )\n",
    "    # clickbait, slang, first names\n",
    "    trigger_word = ['_mytag_slang_',\n",
    "                    'donald','obama','hillary','bernie']\n",
    "\n",
    "    for i in range(len(trigger_word)):\n",
    "        y_pred.append( test.minimal_words.str.contains(trigger_word[i]).to_numpy()*1 )\n",
    "\n",
    "    cut_name = ['too_long','noisy','clickbait','slang'] + trigger_word[-4:]\n",
    "\n",
    "    return cut_name, y_true, y_pred"
   ]
  },
  {
   "cell_type": "code",
   "execution_count": 13,
   "metadata": {},
   "outputs": [],
   "source": [
    "cut_name, y_true, y_pred = simple_Manual(test)"
   ]
  },
  {
   "cell_type": "code",
   "execution_count": 14,
   "metadata": {},
   "outputs": [
    {
     "name": "stdout",
     "output_type": "stream",
     "text": [
      "too_long\n",
      "accuracy: 0.542\n",
      "precision: 1.0\n",
      "recall: 0.09306930693069307\n",
      "f1 score: 0.17028985507246375\n",
      "\n",
      "\n",
      "noisy\n",
      "accuracy: 0.5875\n",
      "precision: 0.964824120603015\n",
      "recall: 0.1900990099009901\n",
      "f1 score: 0.3176178660049628\n",
      "\n",
      "\n",
      "clickbait\n",
      "accuracy: 0.5095\n",
      "precision: 1.0\n",
      "recall: 0.028712871287128714\n",
      "f1 score: 0.055822906641000966\n",
      "\n",
      "\n",
      "slang\n",
      "accuracy: 0.5135\n",
      "precision: 0.9512195121951219\n",
      "recall: 0.03861386138613861\n",
      "f1 score: 0.07421503330161751\n",
      "\n",
      "\n",
      "donald\n",
      "accuracy: 0.532\n",
      "precision: 0.7341772151898734\n",
      "recall: 0.11485148514851486\n",
      "f1 score: 0.19863013698630136\n",
      "\n",
      "\n",
      "obama\n",
      "accuracy: 0.541\n",
      "precision: 0.9791666666666666\n",
      "recall: 0.09306930693069307\n",
      "f1 score: 0.16998191681735986\n",
      "\n",
      "\n",
      "hillary\n",
      "accuracy: 0.502\n",
      "precision: 0.9375\n",
      "recall: 0.01485148514851485\n",
      "f1 score: 0.02923976608187134\n",
      "\n",
      "\n"
     ]
    }
   ],
   "source": [
    "\n",
    "for i in range(len(y_pred)):\n",
    "    \n",
    "    #print(type(y_true),type(y_pred[i]))\n",
    "    print(cut_name[i])\n",
    "    print('accuracy:',accuracy_score(y_true, y_pred[i]))\n",
    "    print('precision:',precision_score(y_true, y_pred[i]))\n",
    "    print('recall:',recall_score(y_true, y_pred[i]))\n",
    "    print('f1 score:',f1_score(y_true, y_pred[i]))\n",
    "    print('\\n')"
   ]
  },
  {
   "cell_type": "markdown",
   "metadata": {},
   "source": [
    "# Conclusion\n",
    "\n",
    "- Accuracy is not better than random selection in any case, but precisions are high."
   ]
  },
  {
   "cell_type": "code",
   "execution_count": null,
   "metadata": {},
   "outputs": [],
   "source": []
  }
 ],
 "metadata": {
  "kernelspec": {
   "display_name": "Python 3 (ipykernel)",
   "language": "python",
   "name": "python3"
  },
  "language_info": {
   "codemirror_mode": {
    "name": "ipython",
    "version": 3
   },
   "file_extension": ".py",
   "mimetype": "text/x-python",
   "name": "python",
   "nbconvert_exporter": "python",
   "pygments_lexer": "ipython3",
   "version": "3.8.12"
  }
 },
 "nbformat": 4,
 "nbformat_minor": 4
}
