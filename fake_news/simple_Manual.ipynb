{
 "cells": [
  {
   "cell_type": "markdown",
   "metadata": {},
   "source": [
    "# Simple manual model\n",
    "- Use EDA findings\n",
    "    - Long title size\n",
    "    - Too many special characters\n",
    "    - Contains click bait\n",
    "    - Contains first name\n",
    "    - Contains slang"
   ]
  },
  {
   "cell_type": "code",
   "execution_count": 1,
   "metadata": {},
   "outputs": [],
   "source": [
    "from freq_utils import *\n",
    "import regex as re\n",
    "\n",
    "from sklearn.feature_extraction.text import CountVectorizer\n",
    "from sklearn.naive_bayes import MultinomialNB \n",
    "from sklearn.metrics import accuracy_score, precision_recall_fscore_support, precision_score, recall_score, f1_score\n",
    "\n",
    "pd.options.display.max_colwidth = 200"
   ]
  },
  {
   "cell_type": "code",
   "execution_count": 2,
   "metadata": {},
   "outputs": [],
   "source": [
    "df0 = pd.read_csv('data/TrueOrganized.csv')\n",
    "df1 = pd.read_csv('data/FakeOrganized.csv')\n",
    "\n",
    "df0['label']=0\n",
    "df1['label']=1\n",
    "\n",
    "df0.drop(['title','pos','cleaned_pos'],axis=1,inplace=True)\n",
    "df1.drop(['title','pos','cleaned_pos'],axis=1,inplace=True)"
   ]
  },
  {
   "cell_type": "markdown",
   "metadata": {},
   "source": [
    "# Train/dev/test split"
   ]
  },
  {
   "cell_type": "code",
   "execution_count": 3,
   "metadata": {},
   "outputs": [],
   "source": [
    "train, dev, test = train_dev_test_split([df0, df1], m=40000, class_column='label', \n",
    "                                        class_balance=True, r_dev=0.2, r_test=0.2, rand_state=42)\n"
   ]
  },
  {
   "cell_type": "code",
   "execution_count": 4,
   "metadata": {},
   "outputs": [
    {
     "data": {
      "text/html": [
       "<div>\n",
       "<style scoped>\n",
       "    .dataframe tbody tr th:only-of-type {\n",
       "        vertical-align: middle;\n",
       "    }\n",
       "\n",
       "    .dataframe tbody tr th {\n",
       "        vertical-align: top;\n",
       "    }\n",
       "\n",
       "    .dataframe thead th {\n",
       "        text-align: right;\n",
       "    }\n",
       "</style>\n",
       "<table border=\"1\" class=\"dataframe\">\n",
       "  <thead>\n",
       "    <tr style=\"text-align: right;\">\n",
       "      <th></th>\n",
       "      <th>cleaned_words</th>\n",
       "      <th>minimal_words</th>\n",
       "      <th>org_title</th>\n",
       "      <th>lower_title</th>\n",
       "      <th>label</th>\n",
       "    </tr>\n",
       "  </thead>\n",
       "  <tbody>\n",
       "    <tr>\n",
       "      <th>219</th>\n",
       "      <td>satanists brilliantly troll anti gay baker by requesting a birthday cake for lucifer _mytag_parentheses_</td>\n",
       "      <td>satanist brilliantly troll anti gay baker request birthday cake lucifer _mytag_parentheses_</td>\n",
       "      <td>Satanists Brilliantly Troll Anti-Gay Baker By Requesting A Birthday Cake For Lucifer (VIDEO)</td>\n",
       "      <td>satanists brilliantly troll anti-gay baker by requesting a birthday cake for lucifer (video)</td>\n",
       "      <td>1</td>\n",
       "    </tr>\n",
       "  </tbody>\n",
       "</table>\n",
       "</div>"
      ],
      "text/plain": [
       "                                                                                                cleaned_words  \\\n",
       "219  satanists brilliantly troll anti gay baker by requesting a birthday cake for lucifer _mytag_parentheses_   \n",
       "\n",
       "                                                                                   minimal_words  \\\n",
       "219  satanist brilliantly troll anti gay baker request birthday cake lucifer _mytag_parentheses_   \n",
       "\n",
       "                                                                                         org_title  \\\n",
       "219   Satanists Brilliantly Troll Anti-Gay Baker By Requesting A Birthday Cake For Lucifer (VIDEO)   \n",
       "\n",
       "                                                                                       lower_title  \\\n",
       "219   satanists brilliantly troll anti-gay baker by requesting a birthday cake for lucifer (video)   \n",
       "\n",
       "     label  \n",
       "219      1  "
      ]
     },
     "metadata": {},
     "output_type": "display_data"
    }
   ],
   "source": [
    "display(train.sample(1))"
   ]
  },
  {
   "cell_type": "code",
   "execution_count": 5,
   "metadata": {},
   "outputs": [],
   "source": [
    "def simple_Manual(test):\n",
    "    \n",
    "    y_true = test.label.to_numpy()\n",
    "    y_pred = []\n",
    "    \n",
    "    # title size > 20?\n",
    "    y_pred.append( test.apply(lambda row: 1 if len(row['lower_title'].split())> 20 else 0, axis=1).to_numpy() )\n",
    "    # noise > 3 \n",
    "    y_pred.append( test.apply(lambda row: 1 if len(re.findall(re.compile('[^\\s\\w]'), row['lower_title'])) > 5 else 0, axis=1).to_numpy() )\n",
    "    # clickbait, slang, first names\n",
    "    trigger_word = ['_mytag_parentheses_', '_mytag_slang_',\n",
    "                    'donald','obama','hillary','bernie']\n",
    "\n",
    "    for i in range(len(trigger_word)):\n",
    "        y_pred.append( test.minimal_words.str.contains(trigger_word[i]).to_numpy()*1 )\n",
    "\n",
    "    cut_name = ['too_long','noisy','clickbait','slang'] + trigger_word[-4:]\n",
    "\n",
    "    return cut_name, y_true, y_pred"
   ]
  },
  {
   "cell_type": "code",
   "execution_count": 6,
   "metadata": {},
   "outputs": [],
   "source": [
    "cut_name, y_true, y_pred = simple_Manual(test)"
   ]
  },
  {
   "cell_type": "code",
   "execution_count": 7,
   "metadata": {},
   "outputs": [
    {
     "name": "stdout",
     "output_type": "stream",
     "text": [
      "too_long\n",
      "accuracy: 0.55025\n",
      "precision: 1.0\n",
      "recall: 0.09484276729559749\n",
      "f1 score: 0.17325367647058823\n",
      "\n",
      "\n",
      "noisy\n",
      "accuracy: 0.585875\n",
      "precision: 0.9378306878306878\n",
      "recall: 0.17836477987421384\n",
      "f1 score: 0.299725216656098\n",
      "\n",
      "\n",
      "clickbait\n",
      "accuracy: 0.690875\n",
      "precision: 1.0\n",
      "recall: 0.3778616352201258\n",
      "f1 score: 0.5484754427606353\n",
      "\n",
      "\n",
      "slang\n",
      "accuracy: 0.519\n",
      "precision: 1.0\n",
      "recall: 0.031949685534591196\n",
      "f1 score: 0.06192101413944418\n",
      "\n",
      "\n",
      "donald\n",
      "accuracy: 0.521625\n",
      "precision: 0.9457831325301205\n",
      "recall: 0.03949685534591195\n",
      "f1 score: 0.07582709490461241\n",
      "\n",
      "\n",
      "obama\n",
      "accuracy: 0.54575\n",
      "precision: 0.7651632970451011\n",
      "recall: 0.12377358490566037\n",
      "f1 score: 0.21307925508878303\n",
      "\n",
      "\n",
      "hillary\n",
      "accuracy: 0.549625\n",
      "precision: 0.979381443298969\n",
      "recall: 0.09559748427672957\n",
      "f1 score: 0.17419206967682788\n",
      "\n",
      "\n",
      "bernie\n",
      "accuracy: 0.509625\n",
      "precision: 0.9642857142857143\n",
      "recall: 0.013584905660377358\n",
      "f1 score: 0.026792359216075413\n",
      "\n",
      "\n"
     ]
    }
   ],
   "source": [
    "\n",
    "for i in range(len(y_pred)):\n",
    "    \n",
    "    #print(type(y_true),type(y_pred[i]))\n",
    "    print(cut_name[i])\n",
    "    print('accuracy:',accuracy_score(y_true, y_pred[i]))\n",
    "    print('precision:',precision_score(y_true, y_pred[i]))\n",
    "    print('recall:',recall_score(y_true, y_pred[i]))\n",
    "    print('f1 score:',f1_score(y_true, y_pred[i]))\n",
    "    print('\\n')"
   ]
  },
  {
   "cell_type": "markdown",
   "metadata": {},
   "source": [
    "# Conclusion\n",
    "\n",
    "- Accuracy is not better than random selection in any case, but precisions are high."
   ]
  },
  {
   "cell_type": "code",
   "execution_count": null,
   "metadata": {},
   "outputs": [],
   "source": []
  }
 ],
 "metadata": {
  "kernelspec": {
   "display_name": "Python 3 (ipykernel)",
   "language": "python",
   "name": "python3"
  },
  "language_info": {
   "codemirror_mode": {
    "name": "ipython",
    "version": 3
   },
   "file_extension": ".py",
   "mimetype": "text/x-python",
   "name": "python",
   "nbconvert_exporter": "python",
   "pygments_lexer": "ipython3",
   "version": "3.8.12"
  }
 },
 "nbformat": 4,
 "nbformat_minor": 4
}
