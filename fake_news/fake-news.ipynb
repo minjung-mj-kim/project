{
 "cells": [
  {
   "cell_type": "markdown",
   "metadata": {},
   "source": [
    "# Intro\n",
    "\n",
    "The goal of this project is to develop a **fake news filtering software**.\n",
    "To make such **filters**, I **utilized known features** of fake news as well as **newly identified features** of fake news from the **explorative data analysis with natural language processings**.\n",
    "Then I'll apply those filters on the **naive bayes** machine learning model, which often shows good performance on keyword based document classification. Not only using **the built-in scikit-learn naive bayse model**, which can use **only words in the text**, I'll include **additional probability terms** based on other **non-word features** in order to calculate **the final probability of fake news classification**."
   ]
  },
  {
   "cell_type": "markdown",
   "metadata": {},
   "source": [
    "# Data\n",
    "\n",
    "The dataset is provide by Information Security and Object Technology (ISOT) research lab, University of Victoria.\n",
    "https://www.uvic.ca/engineering/ece/isot/datasets/fake-news/index.php\n",
    "\n",
    "The dataset contains 21k of real news scrapped from \"Reuters.com\" and 24k of fake news collected from different sources, where all of them are flagged as unreliable by Polififact (a fact-checking organization in the USA) and Wikipedia. The coverage of topics are various, yet mostly about politics.\n",
    "\n",
    "Provided dataset are **True.csv** (reuter news) and **Fake.csv** (unreliable news), both have **title, text, subject, and publication date**."
   ]
  },
  {
   "cell_type": "markdown",
   "metadata": {},
   "source": [
    "# Known characteristics of fake news\n",
    "\n",
    "I summarized the judging criteria about credibility of news into three categories.\n",
    "\n",
    "1. Information-wise\n",
    "\n",
    "    1. Lack of information\n",
    "        \n",
    "        1. Lack of necessary information, like 5W1H\n",
    "        2. Lack of context, not the whole truth\n",
    "\n",
    "    2. Not a NEWs\n",
    "    \n",
    "        1. Outdated\n",
    "        \n",
    "    3. Not valuable\n",
    "    \n",
    "        1. Not impactful/important socially\n",
    "        2. Not a rare event\n",
    "        3. Nothing to do with the area where news provider cover\n",
    "        \n",
    "2. Tone\n",
    "\n",
    "    1. Doesn't sounds professional\n",
    "    \n",
    "        1. Contain slangs\n",
    "        2. Vocabularies are not specific\n",
    "    \n",
    "    2. Hateful\n",
    "    \n",
    "        1. Enhance bias or discrimination\n",
    "        2. Provocative\n",
    "        \n",
    "    3. Urgent and Agitative\n",
    "    \n",
    "        1. Make readers to spread this news as much as you can\n",
    "        2. Make reader to act promptly\n",
    "        \n",
    "    4. Joke (or pretend to be a joke)\n",
    "    \n",
    "        1. Make fun of someone/organization/policy\n",
    "        \n",
    "    5. Clickbait\n",
    "\n",
    "        1. The title contains the above\n",
    "\n",
    "3. Source-wise\n",
    "\n",
    "    1. Author\n",
    "    \n",
    "        1. Cannot find the name of author\n",
    "        2. The author is fake\n",
    "        3. The author is not a reliable person/organization\n",
    "        \n",
    "    2. Media/Publishing organization\n",
    "    \n",
    "        1. The media is not reliable of fishy\n",
    "\n",
    "    3. Supporting evidence\n",
    "    \n",
    "        1. The evidence that support the news is not adequate\n",
    "        2. Not provided by a relavant expert or organization"
   ]
  },
  {
   "cell_type": "markdown",
   "metadata": {},
   "source": [
    "# EDA\n",
    "\n",
    "The goal of this EDA is to find extractable and useful features which can utilize the known characterastics of fake news, as well as to find unexpected features of fake news. There are tons of items to explore. Fun!"
   ]
  },
  {
   "cell_type": "code",
   "execution_count": 34,
   "metadata": {},
   "outputs": [],
   "source": [
    "import pandas as pd\n",
    "import numpy as np\n",
    "import re\n",
    "\n",
    "from nltk.help import upenn_tagset\n",
    "\n",
    "from nltk.tokenize import word_tokenize, sent_tokenize\n",
    "from nltk import pos_tag, RegexpParser\n",
    "from nltk.corpus import stopwords, wordnet\n",
    "from nltk.stem import WordNetLemmatizer\n",
    "from collections import Counter\n",
    "from sklearn.feature_extraction.text import CountVectorizer\n",
    "from sklearn.naive_bayes import MultinomialNB \n",
    "from matplotlib import pyplot as plt\n",
    "import seaborn as sns"
   ]
  },
  {
   "cell_type": "code",
   "execution_count": 2,
   "metadata": {},
   "outputs": [],
   "source": [
    "df0 = pd.read_csv('True.csv')\n",
    "df1 = pd.read_csv('Fake.csv')"
   ]
  },
  {
   "cell_type": "code",
   "execution_count": 3,
   "metadata": {},
   "outputs": [
    {
     "name": "stdout",
     "output_type": "stream",
     "text": [
      "<class 'pandas.core.frame.DataFrame'>\n",
      "RangeIndex: 21417 entries, 0 to 21416\n",
      "Data columns (total 4 columns):\n",
      " #   Column   Non-Null Count  Dtype \n",
      "---  ------   --------------  ----- \n",
      " 0   title    21417 non-null  object\n",
      " 1   text     21417 non-null  object\n",
      " 2   subject  21417 non-null  object\n",
      " 3   date     21417 non-null  object\n",
      "dtypes: object(4)\n",
      "memory usage: 669.4+ KB\n",
      "None\n",
      "<class 'pandas.core.frame.DataFrame'>\n",
      "RangeIndex: 23481 entries, 0 to 23480\n",
      "Data columns (total 4 columns):\n",
      " #   Column   Non-Null Count  Dtype \n",
      "---  ------   --------------  ----- \n",
      " 0   title    23481 non-null  object\n",
      " 1   text     23481 non-null  object\n",
      " 2   subject  23481 non-null  object\n",
      " 3   date     23481 non-null  object\n",
      "dtypes: object(4)\n",
      "memory usage: 733.9+ KB\n",
      "None\n",
      "title      1\n",
      "text       1\n",
      "subject    1\n",
      "date       1\n",
      "dtype: int64\n",
      "title      651\n",
      "text       651\n",
      "subject    651\n",
      "date       651\n",
      "dtype: int64\n",
      "title      0\n",
      "text       0\n",
      "subject    0\n",
      "date       0\n",
      "dtype: int64\n",
      "title      1\n",
      "text       1\n",
      "subject    1\n",
      "date       1\n",
      "dtype: int64\n"
     ]
    }
   ],
   "source": [
    "# Let's check how many valid entries we have\n",
    "\n",
    "print(df0.info())\n",
    "print(df1.info())\n",
    "\n",
    "print(df0[df0.text.str.len()<10].count())\n",
    "print(df1[df1.text.str.len()<10].count())\n",
    "print(df0[df0.title.str.len()<10].count())\n",
    "print(df1[df1.title.str.len()<10].count())"
   ]
  },
  {
   "cell_type": "markdown",
   "metadata": {},
   "source": [
    "### Observation 1\n",
    "- Unfortunately, this dataset doesn't contain the name of author. Empty or fake author name could be a strong feature which yield high precition.\n",
    "- 2.8% of fake news **don't have texts**."
   ]
  },
  {
   "cell_type": "code",
   "execution_count": 4,
   "metadata": {
    "scrolled": false
   },
   "outputs": [],
   "source": [
    "# Let's check a few examples of raw data\n",
    "\n",
    "pd.options.display.max_colwidth = 200\n",
    "#print(df0.head(20))\n",
    "#print(df1.head(20))\n",
    "#print(df0.iloc[4][1])"
   ]
  },
  {
   "cell_type": "markdown",
   "metadata": {},
   "source": [
    "### Observation 2\n",
    "- Real news sounds more informative, whereas fake news sounds **gossip**, although it's hard to tell why I feel that way. What's **relevant feature?**\n",
    "- Interesting observation about **names** is that in the real news, they are either \"title+full name\" or \"last name\", whereas in fake news, they are sometimes **just full names without title**.\n",
    "- \"Subject\" column doesn't seem to be useful"
   ]
  },
  {
   "cell_type": "code",
   "execution_count": 5,
   "metadata": {},
   "outputs": [
    {
     "name": "stdout",
     "output_type": "stream",
     "text": [
      "Average title length in characters\n",
      "Real: 64.667880655554 +- 9.168998728700778\n",
      "Fake: 94.19803245176952 +- 27.184433137131766 \n",
      "\n",
      "Average text length in characters\n",
      "Real: 2383.278517065882 +- 1684.8357303747152\n",
      "Fake: 2547.396235254035 +- 2532.8843992489196 \n",
      "\n",
      "Average title length in number of words\n",
      "Real: 9.954475416725032 +- 1.7007465775244577\n",
      "Fake: 14.732805246795282 +- 4.335099114452772 \n",
      "\n",
      "Average text length in number of words\n",
      "Real: 385.6400989867862 +- 274.00620358361635\n",
      "Fake: 423.1979046888974 +- 408.38889043663846 \n",
      "\n"
     ]
    },
    {
     "data": {
      "image/png": "[encoded data removed]",
      "text/plain": [
       "<Figure size 432x288 with 1 Axes>"
      ]
     },
     "metadata": {
      "needs_background": "light"
     },
     "output_type": "display_data"
    },
    {
     "data": {
      "image/png": "[encoded data removed]",
      "text/plain": [
       "<Figure size 432x288 with 1 Axes>"
      ]
     },
     "metadata": {
      "needs_background": "light"
     },
     "output_type": "display_data"
    }
   ],
   "source": [
    "# Let's check 1. A. lack of information - does fake news has smaller size of text?\n",
    "\n",
    "print(\"Average title length in characters\")\n",
    "print(\"Real:\", df0.title.str.len().mean(),\"+-\",df0.title.str.len().std())\n",
    "print(\"Fake:\", df1.title.str.len().mean(),\"+-\",df1.title.str.len().std(),\"\\n\")\n",
    "\n",
    "print(\"Average text length in characters\")\n",
    "print(\"Real:\", df0.text.str.len().mean(),\"+-\",df0.text.str.len().std())\n",
    "print(\"Fake:\", df1.text.str.len().mean(),\"+-\",df1.text.str.len().std(),\"\\n\")\n",
    "\n",
    "print(\"Average title length in number of words\")\n",
    "print(\"Real:\", df0.title.str.split().str.len().mean(),\"+-\",df0.title.str.split().str.len().std())\n",
    "print(\"Fake:\", df1.title.str.split().str.len().mean(),\"+-\",df1.title.str.split().str.len().std(),\"\\n\")\n",
    "\n",
    "print(\"Average text length in number of words\")\n",
    "print(\"Real:\", df0.text.str.split().str.len().mean(),\"+-\",df0.text.str.split().str.len().std())\n",
    "print(\"Fake:\", df1.text.str.split().str.len().mean(),\"+-\",df1.text.str.split().str.len().std(),\"\\n\")\n",
    "\n",
    "#plt.hist(df0.title.str.len(), alpha=0.5, range=(0,250), bins=50)\n",
    "#plt.hist(df1.title.str.len(), alpha=0.5, range=(0,250), bins=50)\n",
    "#plt.title(\"Title length\")\n",
    "\n",
    "#plt.legend(['Real','Fake']) \n",
    "#plt.show()\n",
    "\n",
    "plt.hist(df0.title.str.split().str.len(), alpha=0.5, range=(0,50), bins=50)\n",
    "plt.hist(df1.title.str.split().str.len(), alpha=0.5, range=(0,50), bins=50)\n",
    "plt.title(\"Title word count\")\n",
    "\n",
    "plt.legend(['Real','Fake']) \n",
    "plt.show()\n",
    "\n",
    "#plt.hist(np.log10(df0.text.str.len()), alpha=0.5, range=(0,5), bins=50)\n",
    "#plt.hist(np.log10(df1.text.str.len()), alpha=0.5, range=(0,5), bins=50)\n",
    "#plt.title(\"Log10(Text length)\")\n",
    "\n",
    "#plt.legend(['Real','Fake']) \n",
    "#plt.show()\n",
    "\n",
    "plt.hist(np.log10(df0.text.str.split().str.len()+1), alpha=0.5, range=(0,4), bins=50)\n",
    "plt.hist(np.log10(df1.text.str.split().str.len()+1), alpha=0.5, range=(0,4), bins=50)\n",
    "plt.title(\"Log10(Text word count)\")\n",
    "\n",
    "plt.legend(['Real','Fake']) \n",
    "plt.show()"
   ]
  },
  {
   "cell_type": "markdown",
   "metadata": {},
   "source": [
    "### Observation 3\n",
    "- I expected that fake news has much fewer text. Indeed, some of fake news have **extreamly short text size**. However, in most of cases, both real and fake news has similar amount of text, although whether they are informative or not is different story. Meanwhile, keep in mind that in this dataset, fake news have collected from website. We don't know what happens if we include social media.\n",
    "- Real news has shorter title length with smaller standard deviation. That's seemingly because **briefness** is necessary for news title. **Long title length** can be a useful feature of fake news."
   ]
  },
  {
   "cell_type": "code",
   "execution_count": 68,
   "metadata": {},
   "outputs": [
    {
     "name": "stdout",
     "output_type": "stream",
     "text": [
      "1.455899519073633\n",
      "1.967037178995784 \n",
      "\n",
      "0.4312462062847271\n",
      "0.7682807376176483 \n",
      "\n",
      "0.3293178316290797\n",
      "0.40241045952046334 \n",
      "\n",
      "0.3635429798757996\n",
      "0.9382905327711767 \n",
      "\n",
      "0.5857029462576457\n",
      "1.1370895617733487 \n",
      "\n",
      "0.04673857216230098\n",
      "0.24032196243771559 \n",
      "\n"
     ]
    }
   ],
   "source": [
    "# Does fake news have less WH words that describe 5W1H? \n",
    "\n",
    "n0 = df0.text.count()\n",
    "n1 = df1.text.count()\n",
    "\n",
    "print(df0.text.str.count('who').sum()/n0)\n",
    "print(df1.text.str.count('who').sum()/n1,\"\\n\")\n",
    "print(df0.text.str.count('when').sum()/n0)\n",
    "print(df1.text.str.count('when').sum()/n1,\"\\n\")\n",
    "print(df0.text.str.count('where').sum()/n0)\n",
    "print(df1.text.str.count('where').sum()/n1,\"\\n\")\n",
    "print(df0.text.str.count('what').sum()/n0)\n",
    "print(df1.text.str.count('what').sum()/n1,\"\\n\")\n",
    "print(df0.text.str.count('how').sum()/n0)\n",
    "print(df1.text.str.count('how').sum()/n1,\"\\n\")\n",
    "print(df0.text.str.count('why').sum()/n0)\n",
    "print(df1.text.str.count('why').sum()/n1,\"\\n\")"
   ]
  },
  {
   "cell_type": "markdown",
   "metadata": {},
   "source": [
    "### Observation 4\n",
    "- Different from what I expected, fake news have more WH words."
   ]
  },
  {
   "cell_type": "markdown",
   "metadata": {},
   "source": [
    "## Text preprocessing\n",
    "\n",
    "Now we want to explore further with words. To do so, we need to preprocess text first. Let's define useful functions first."
   ]
  },
  {
   "cell_type": "code",
   "execution_count": 88,
   "metadata": {},
   "outputs": [
    {
     "name": "stdout",
     "output_type": "stream",
     "text": [
      "[['west', 'palm', 'beach', 'fla', 'reuters', 'president', 'donald', 'trump', 'say', 'thursday', 'believe', 'fairly', 'treat', 'special', 'counsel', 'investigation', 'russian', 'meddling', 'u_s_', 'presidential', 'election', 'say', 'know', 'long', 'probe', 'would', 'last'], ['federal', 'investigation', 'hung', 'trump', 'white', 'house', 'since', 'take', 'office', 'almost', 'year', 'ago', 'trump', 'ally', 'recent', 'week', 'accuse', 'team', 'justice', 'department', 'special', 'counsel', 'robert', 'mueller', 'bias', 'republican', 'president'], ['interview', 'new', 'york', 'time', 'trump', 'appear', 'shrug', 'concern', 'investigation', 'prompt', 'u_s_', 'intelligence', 'agency', 'conclusion', 'russia', 'try', 'help', 'trump', 'defeat', 'democrat', 'hillary', 'clinton', 'hack', 'release', 'embarrass', 'email', 'disseminate', 'propaganda'], ['collusion'], ['think', 'go', 'fair', 'trump', 'say', 'time', 'described', '30', 'minute', 'impromptu', 'interview', 'golf', 'club', 'west', 'palm', 'beach', 'florida'], ['mueller', 'charge', 'four', 'trump', 'associate', 'investigation'], ['russia', 'deny', 'interfere', 'u_s_', 'election'], ['u_s_', 'deputy', 'attorney', 'general', 'rod', 'rosenstein', 'say', 'month', 'aware', 'impropriety', 'mueller', 'team'], ['trump', 'lawyer', 'say', 'week', 'expect', 'mueller', 'investigation', 'wrap', 'quickly', 'possibly', 'end', '2017'], ['mueller', 'comment', 'long', 'last'], ['trump', 'told', 'time', 'know', 'long', 'investigation', 'would', 'take'], ['timing', 'wise', 'tell'], ['know', 'say'], ['trump', 'say', 'thought', 'prolong', 'probe', 'make', 'country', 'look', 'bad', 'say', 'energize', 'core', 'supporter'], ['do', 'really', 'angered', 'base', 'make', 'base', 'strong'], ['base', 'strong', 'ever', 'say'], ['interview', 'rare', 'break', 'trump', 'christmas', 'vacation', 'florida'], ['golfed', 'day', 'aside', 'christmas', 'day', 'mainly', 'kept', 'low', 'profile', 'apart', 'occasional', 'flurry', 'tweet'], ['spent', 'one', 'day', 'golfing', 'republican', 'senator', 'david', 'perdue', 'georgia', 'push', 'legislation', 'cap', 'immigration', 'number', 'dinner', 'thursday', 'commerce', 'secretary', 'wilbur', 'ross', 'international', 'trade', 'hawk'], ['trump', 'told', 'time', 'hop', 'work', 'democrat', 'u_s_', 'congress', 'spending', 'plan', 'fix', 'road', 'infrastructure', 'protection', 'group', 'undocumented', 'immigrant', 'brought', 'united', 'state', 'child'], ['trump', 'spoke', 'trade', 'issue', 'say', 'back', 'hard', 'line', 'chinese', 'trade', 'practice', 'hope', 'beijing', 'would', 'pressure', 'north', 'korea', 'end', 'nuclear', 'missile', 'test', 'program'], ['say', 'disappointed', 'result'], ['also', 'complain', 'north', 'american', 'free', 'trade', 'agreement', 'nafta', 'administration', 'attempt', 'renegotiate', 'talk', 'mexico', 'canada'], ['trump', 'say', 'canadian', 'prime', 'minister', 'justin', 'trudeau', 'played', 'importance', 'canadian', 'oil', 'lumber', 'export', 'united', 'state', 'look', 'balance', 'trade', 'two', 'country'], ['make', 'right', 'deal', 'terminate', 'nafta', 'two', 'second'], ['pretty', 'good', 'trump', 'say']]\n"
     ]
    }
   ],
   "source": [
    "#print(upenn_tagset())\n",
    "\n",
    "# nltk.pos_tag to lemmatizer input\n",
    "def convert_pos(word):\n",
    "    \n",
    "    word_pos = pos_tag([word])\n",
    "    \n",
    "    tag = ''\n",
    "    try:\n",
    "        tag = word_pos[0][1][:2]\n",
    "    except:\n",
    "        tag = 'n'\n",
    "    \n",
    "    if tag == 'JJ':\n",
    "        tag = 'a'\n",
    "    elif tag == 'NN':\n",
    "        tag = 'n'\n",
    "    elif tag == 'RB':\n",
    "        tag = 'r'\n",
    "    elif tag == 'VB':\n",
    "        tag = 'v'\n",
    "    else:\n",
    "        tag = 'n'\n",
    "        \n",
    "    return tag\n",
    "\n",
    "# get lemmatized words\n",
    "def get_root_words(corpus):\n",
    "    \n",
    "    lemmatizer = WordNetLemmatizer()\n",
    "    \n",
    "    root_words = []\n",
    "    \n",
    "    # Sentence tokenize\n",
    "    sentences = sent_tokenize(corpus)\n",
    "\n",
    "    # Stop word removal\n",
    "    stop_words = set(stopwords.words('english'))\n",
    "\n",
    "    \n",
    "    for sentence in sentences:\n",
    "        \n",
    "        # remove non words, keep dots for abbreviation        \n",
    "\n",
    "        if sentence[-1]!='.':\n",
    "            print(sentence)\n",
    "        \n",
    "        else:\n",
    "            sentence = sentence[:-1]\n",
    "\n",
    "\n",
    "        sentence = re.sub('[.]','_',sentence)\n",
    "        sentence = re.sub('\\W+',' ',sentence)\n",
    "        sentence = sentence.lower()\n",
    "    \n",
    "        # word tokenize \n",
    "        words = word_tokenize(sentence)\n",
    "        # remove stop words\n",
    "        words = [word for word in words if word not in stop_words]\n",
    "\n",
    "        # lemmatize\n",
    "        lemmatized = [lemmatizer.lemmatize(word, pos=convert_pos(word)) for word in words] \n",
    "        \n",
    "        root_words.append(lemmatized)\n",
    "        \n",
    "    return root_words\n",
    "\n",
    "print(get_root_words(df0.iloc[6][1])) # test"
   ]
  },
  {
   "cell_type": "markdown",
   "metadata": {},
   "source": [
    "### "
   ]
  },
  {
   "cell_type": "code",
   "execution_count": 75,
   "metadata": {},
   "outputs": [
    {
     "data": {
      "text/plain": [
       "'cannot'"
      ]
     },
     "execution_count": 75,
     "metadata": {},
     "output_type": "execute_result"
    }
   ],
   "source": [
    "lemmatizer = WordNetLemmatizer()\n",
    "\n",
    "lemmatizer.lemmatize('cannot', pos='n')"
   ]
  },
  {
   "cell_type": "markdown",
   "metadata": {},
   "source": [
    "### Observation 4\n",
    "- Abbreviation cuts"
   ]
  },
  {
   "cell_type": "code",
   "execution_count": null,
   "metadata": {},
   "outputs": [],
   "source": [
    "# Is there any single keywords that repeats a lot?\n",
    "\n",
    "\n",
    "\n",
    "\n",
    "\n",
    "\n",
    "\n",
    "# Get a random text\n",
    "text = df.iloc[6][3]\n",
    "\n",
    "t = ['this is good', 'that is good', 'good hehe', 'this is bad', 'that is bad', 'bad sucks']\n",
    "l = [0, 0, 0, 1, 1, 1]\n",
    "\n",
    "\n",
    "counter = CountVectorizer()\n",
    "counter.fit(t)\n",
    "\n",
    "\n",
    "print(counter.vocabulary_)\n",
    "print(counter.transform(t))\n",
    "\n",
    "\n",
    "    \n",
    "    \n",
    "\n",
    "def chunk_counter(pos_text, abbr='NP', n_chunk=30):\n",
    "\n",
    "    grammar = ''\n",
    "    \n",
    "    if abbr == 'Noun':\n",
    "        grammar = \"Noun: {<NN.*>}\"\n",
    "        \n",
    "    elif abbr == 'Verb':\n",
    "        grammar = \"Verb: {<VB.*>}\"\n",
    "    \n",
    "    elif abbr == 'Adj':\n",
    "        grammar = 'Adj: {<JJ.*>}'\n",
    "        \n",
    "    elif abbr == 'Adv':\n",
    "        grammar = 'Adv: {<RB.*>}'    \n",
    "        \n",
    "    #grammar = \"NP: {<DT>?<JJ>*<NN.*>}\" # noun\n",
    "    #grammar = \"VPa: {<DT>?<JJ>*<NN.*><VB.*><RB.?>?}\"\n",
    "    #grammar = \"VPb: {<VB.*><DT>?<JJ>*<NN><RB.?>?}\" \n",
    "    \n",
    "    else:\n",
    "        print('Incorrect gabbr')\n",
    "        return False\n",
    "\n",
    "        \n",
    "    # Chunk phrases\n",
    "    parser = RegexpParser(grammar)\n",
    "    \n",
    "    chunks = []\n",
    "    \n",
    "    for sentence in pos_text:\n",
    "        \n",
    "        chunk = parser.parse(sentence)\n",
    "        \n",
    "        for subtree in chunk.subtrees(filter=lambda t: t.label() == abbr):\n",
    "            chunks.append(tuple(subtree))\n",
    "        \n",
    "    # Count phrases\n",
    "    counter = Counter()\n",
    "\n",
    "    for chunk in chunks:\n",
    "        counter[chunk] += 1\n",
    "\n",
    "    return counter.most_common(10)\n",
    "\n",
    "print(chunk_counter(pos_text, abbr='Verb'))"
   ]
  },
  {
   "cell_type": "code",
   "execution_count": null,
   "metadata": {
    "scrolled": false
   },
   "outputs": [],
   "source": [
    "vectorizer = CountVectorizer()\n",
    "\n",
    "vectorizer.fit(text)\n",
    "\n",
    "X = vectorizer.transform(text)\n",
    "y = label\n",
    "\n",
    "print(vectorizer.vocabulary_)"
   ]
  },
  {
   "cell_type": "code",
   "execution_count": null,
   "metadata": {},
   "outputs": [],
   "source": [
    "classifier = MultinomialNB()\n",
    "classifier.fit(X,y)"
   ]
  },
  {
   "cell_type": "code",
   "execution_count": null,
   "metadata": {},
   "outputs": [],
   "source": [
    "x = df_read.iloc[100]\n",
    "\n",
    "print(x)\n",
    "\n",
    "classifier.predict_proba(vectorizer.transform([x.content]))\n"
   ]
  },
  {
   "cell_type": "code",
   "execution_count": null,
   "metadata": {
    "scrolled": true
   },
   "outputs": [],
   "source": [
    "\n",
    "\n",
    "def train_test(df0, df1, n_train=100, fake_size=0.5):\n",
    "    \n",
    "    n_fake = int(n_train*fake_size)\n",
    "    n_real = n_train-n_fake\n",
    "    \n",
    "    \n",
    "    # Organize data\n",
    "    \n",
    "    train0, test0 = train_test_split(df0, test_size=0.5)\n",
    "    train1, test1 = train_test_split(df1, test_size=0.5)\n",
    " \n",
    "    train = pd.concat([train0.sample(n=n_train), train1.sample(n=n_train)])    \n",
    "    test = pd.concat([test0.sample(n=n_real), test1.sample(n=n_fake)])\n",
    "    \n",
    "    train_text = train.text.tolist()\n",
    "    train_labels = train.label.tolist()\n",
    "\n",
    "    test_text = test.text.tolist()\n",
    "    test_labels = test.label.tolist()\n",
    "    \n",
    "    \n",
    "    # Training\n",
    "      \n",
    "    counter = CountVectorizer()\n",
    "\n",
    "    counter.fit(train_text+test_text)\n",
    "\n",
    "    train_counts = counter.transform(train_text)\n",
    "    test_counts = counter.transform(test_text)\n",
    "\n",
    "    classifier = MultinomialNB()\n",
    "    classifier.fit(train_counts,train_labels)\n",
    "    \n",
    "    \n",
    "    # Test\n",
    "    predict = classifier.predict(test_counts)\n",
    "\n",
    "    # n: real news, p: fake news\n",
    "    tn, fp, fn, tp = confusion_matrix(test_labels,predict,labels=[0,1]).ravel()\n",
    "    \n",
    "    ac = accuracy_score(test_labels,predict)\n",
    "    pr = precision_score(test_labels,predict)\n",
    "    re = recall_score(test_labels,predict)\n",
    "    f1 = f1_score(test_labels,predict)\n",
    "    \n",
    "    # when real news become target\n",
    "    ipr = tn/(tn+fn)\n",
    "    ire = tn/(tn+fp)\n",
    "    if1 = 2*ipr*ire/(ipr+ire)\n",
    "     \n",
    "    return tn, fp, fn, tp, ac, pr, re, f1, ipr, ire, if1\n",
    "\n",
    "#        tn, fp, fn, tp, ac, pr, re, f1, ipr, ire, if1 = train_test(df0, df1, n_train, fake_size)\n",
    "#        result.append([n_train, fake_size, n_real, n_fake, ac, pr, re, f1, ipr, ire, if1])\n",
    "\n",
    "#print(train_test(df0, df1, 100, 0.5))"
   ]
  },
  {
   "cell_type": "markdown",
   "metadata": {},
   "source": [
    "After playing with the 'chunk_counter' function for a few sentences, I noticed that real news have more specific (you can guess topic based on keywords) and objective terms whereas fake news have more subjective and plain (no idea what's topic based on frequent keywords) terms."
   ]
  }
 ],
 "metadata": {
  "kernelspec": {
   "display_name": "Python 3",
   "language": "python",
   "name": "python3"
  },
  "language_info": {
   "codemirror_mode": {
    "name": "ipython",
    "version": 3
   },
   "file_extension": ".py",
   "mimetype": "text/x-python",
   "name": "python",
   "nbconvert_exporter": "python",
   "pygments_lexer": "ipython3",
   "version": "3.8.5"
  }
 },
 "nbformat": 4,
 "nbformat_minor": 4
}
