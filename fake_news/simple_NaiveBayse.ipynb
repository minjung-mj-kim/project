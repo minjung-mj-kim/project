{
 "cells": [
  {
   "cell_type": "markdown",
   "metadata": {},
   "source": [
    "# Simple naive bayes model"
   ]
  },
  {
   "cell_type": "code",
   "execution_count": 1,
   "metadata": {},
   "outputs": [],
   "source": [
    "from freq_utils import *\n",
    "\n",
    "from sklearn.feature_extraction.text import CountVectorizer\n",
    "from sklearn.naive_bayes import MultinomialNB \n",
    "from sklearn.metrics import accuracy_score, precision_recall_fscore_support, precision_score, recall_score, f1_score\n",
    "\n",
    "\n",
    "\n",
    "pd.options.display.max_colwidth = 200"
   ]
  },
  {
   "cell_type": "code",
   "execution_count": 2,
   "metadata": {},
   "outputs": [],
   "source": [
    "df0 = pd.read_csv('data/True.csv')\n",
    "df1 = pd.read_csv('data/Fake.csv')"
   ]
  },
  {
   "cell_type": "code",
   "execution_count": 6,
   "metadata": {
    "scrolled": false
   },
   "outputs": [
    {
     "name": "stdout",
     "output_type": "stream",
     "text": [
      "15268                        South Korea's Moon unveils new focus on Southeast Asia\n",
      "8767                      U.S. presidential race tied, Clinton hurt by emails: poll\n",
      "17806    Kenya High Court rules minor candidate should be on ballot for poll re-run\n",
      "18720                               Swiss strip refugee status from Libyan preacher\n",
      "12317               Saudi-backed military alliance to help G5 Sahel fight: minister\n",
      "15711                  Mexico report flags shortcomings in fight against corruption\n",
      "6707                 Trump to unveil Supreme Court pick close to inauguration: aide\n",
      "13496            Yet another North Korean boat found in distress in Japanese waters\n",
      "19384      Roadside bomb kills four in Thailand's troubled south: security official\n",
      "5718                      Iowa moves to cut Medicaid funding for Planned Parenthood\n",
      "Name: title, dtype: object\n",
      "3703                                                                                  BREAKING: Evidence Trump Cheated Leads To MASSIVE Move For Three State Audit\n",
      "12360                                BOOM! LIBERAL COLUMNIST Gets DESTROYED By Tucker Carlson When He Can’t Answer Why He Lied About Senator Jeff Sessions [VIDEO]\n",
      "20921                                An OBAMA “LOW LEVEL OFFENDER” Gets Early Release From Prison: Brutally Murders Woman, Slits Throats of 7, 10 Yr Old Daughters\n",
      "14551                                                                                                                                 BREAKING: TED CRUZ WINS IOWA\n",
      "13014                                                       NOT-SO-SLICK WILLY: Bill Clinton Tries To Joke Around About Hillary’s E-mail Scandal…Not Funny [Video]\n",
      "12924                                                                              GRAB THE POPCORN! Queen Of Corruption DENIED Special Treatment For First Debate\n",
      "19206    BREAKING: IRAN Tests Cruise Missile…Trump WARNS…They’re “Playing with fire…They don’t appreciate how ‘kind’ President Obama was to them. Not Me!” [VIDEO]\n",
      "14080                                                      WHY DECISION LIBERAL JUDGE IN CONNECTICUT Is About To Make Could Be HUGE Threat To Our SECOND AMENDMENT\n",
      "2969                                                              VP Of Trump Transition Team To Dems: ‘Put Your Big Boy Pants On’ And Attend Inauguration (VIDEO)\n",
      "1207                                                                       Here’s A Look At The Obama Administration Scandal From This Point In His Administration\n",
      "Name: title, dtype: object\n"
     ]
    }
   ],
   "source": [
    "print(df0.title.sample(10))\n",
    "print(df1.title.sample(10))"
   ]
  },
  {
   "cell_type": "markdown",
   "metadata": {},
   "source": [
    "# Organize data"
   ]
  },
  {
   "cell_type": "code",
   "execution_count": 3,
   "metadata": {},
   "outputs": [],
   "source": [
    "df0['label'] = 0\n",
    "df1['label'] = 1"
   ]
  },
  {
   "cell_type": "code",
   "execution_count": 4,
   "metadata": {},
   "outputs": [],
   "source": [
    "train, test = train_dev_test_split([df0, df1], m=40000, class_column='label', \n",
    "                                        class_balance=True, r_dev=0, r_test=0.2, rand_state=42)\n",
    "\n",
    "\n",
    "train_title = train.title.str.lower().tolist()\n",
    "train_labels = train.label.tolist()\n",
    "\n",
    "test_title = test.title.str.lower().tolist()\n",
    "test_labels = test.label.tolist()"
   ]
  },
  {
   "cell_type": "markdown",
   "metadata": {},
   "source": [
    "# Train"
   ]
  },
  {
   "cell_type": "code",
   "execution_count": 5,
   "metadata": {},
   "outputs": [
    {
     "data": {
      "text/plain": [
       "MultinomialNB()"
      ]
     },
     "execution_count": 5,
     "metadata": {},
     "output_type": "execute_result"
    }
   ],
   "source": [
    "counter = CountVectorizer()\n",
    "\n",
    "counter.fit(train_title+test_title)\n",
    "\n",
    "train_counts = counter.transform(train_title)\n",
    "test_counts = counter.transform(test_title)\n",
    "\n",
    "#print(counter.vocabulary_)\n",
    "\n",
    "classifier = MultinomialNB()\n",
    "classifier.fit(train_counts,train_labels)"
   ]
  },
  {
   "cell_type": "markdown",
   "metadata": {},
   "source": [
    "# Test"
   ]
  },
  {
   "cell_type": "code",
   "execution_count": 6,
   "metadata": {},
   "outputs": [
    {
     "name": "stdout",
     "output_type": "stream",
     "text": [
      "0.948125\n",
      "0.9430064708810353\n",
      "0.9532075471698114\n",
      "0.9480795696234205\n"
     ]
    }
   ],
   "source": [
    "predict = classifier.predict(test_counts)\n",
    "\n",
    "print(accuracy_score(test_labels, predict))\n",
    "print(precision_score(test_labels, predict))\n",
    "print(recall_score(test_labels, predict))\n",
    "print(f1_score(test_labels, predict))"
   ]
  },
  {
   "cell_type": "markdown",
   "metadata": {},
   "source": [
    "# Conclusion\n",
    "\n",
    "With a simple naive bayes classifier, this model achieved surprisingly high, 95%, accuracy. I would like to explore dataset to see what feature played a key role in classification, whether it was a general feature of fake news or a bias of this specific dataset."
   ]
  }
 ],
 "metadata": {
  "kernelspec": {
   "display_name": "Python 3 (ipykernel)",
   "language": "python",
   "name": "python3"
  },
  "language_info": {
   "codemirror_mode": {
    "name": "ipython",
    "version": 3
   },
   "file_extension": ".py",
   "mimetype": "text/x-python",
   "name": "python",
   "nbconvert_exporter": "python",
   "pygments_lexer": "ipython3",
   "version": "3.8.12"
  }
 },
 "nbformat": 4,
 "nbformat_minor": 4
}
